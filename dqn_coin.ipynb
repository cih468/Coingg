{
 "metadata": {
  "language_info": {
   "codemirror_mode": {
    "name": "ipython",
    "version": 3
   },
   "file_extension": ".py",
   "mimetype": "text/x-python",
   "name": "python",
   "nbconvert_exporter": "python",
   "pygments_lexer": "ipython3",
   "version": "3.8.10"
  },
  "orig_nbformat": 2,
  "kernelspec": {
   "name": "python3",
   "display_name": "Python 3.8.10 64-bit (windows store)"
  },
  "metadata": {
   "interpreter": {
    "hash": "cdbb992e379dc9ba069ff974c97f3018ebf1ebc7da132f363ca84737f7370780"
   }
  },
  "interpreter": {
   "hash": "cdbb992e379dc9ba069ff974c97f3018ebf1ebc7da132f363ca84737f7370780"
  }
 },
 "nbformat": 4,
 "nbformat_minor": 2,
 "cells": [
  {
   "cell_type": "code",
   "execution_count": 1,
   "metadata": {},
   "outputs": [],
   "source": [
    "import warnings\n",
    "warnings.filterwarnings(action='ignore')"
   ]
  },
  {
   "cell_type": "code",
   "execution_count": 2,
   "metadata": {},
   "outputs": [],
   "source": [
    "# !pip install pyjwt==1.6.4\n",
    "import os\n",
    "import jwt\n",
    "import uuid\n",
    "import hashlib\n",
    "from urllib.parse import urlencode\n",
    "import pandas as pd\n",
    "import matplotlib.pyplot as plt\n",
    "import numpy as np\n",
    "import requests\n",
    "import copy"
   ]
  },
  {
   "cell_type": "code",
   "execution_count": 3,
   "metadata": {},
   "outputs": [
    {
     "output_type": "stream",
     "name": "stdout",
     "text": [
      "KRW-BTC\n",
      "KRW-ETH\n",
      "KRW-XRP\n"
     ]
    },
    {
     "output_type": "error",
     "ename": "ValueError",
     "evalue": "Expected object or value",
     "traceback": [
      "\u001b[1;31m---------------------------------------------------------------------------\u001b[0m",
      "\u001b[1;31mValueError\u001b[0m                                Traceback (most recent call last)",
      "\u001b[1;32m<ipython-input-3-e972add49f8c>\u001b[0m in \u001b[0;36m<module>\u001b[1;34m\u001b[0m\n\u001b[0;32m     33\u001b[0m \u001b[1;32mfor\u001b[0m \u001b[0mcoin\u001b[0m \u001b[1;32min\u001b[0m \u001b[0mcoins\u001b[0m\u001b[1;33m:\u001b[0m\u001b[1;33m\u001b[0m\u001b[1;33m\u001b[0m\u001b[0m\n\u001b[0;32m     34\u001b[0m     \u001b[0mprint\u001b[0m\u001b[1;33m(\u001b[0m\u001b[0mcoin\u001b[0m\u001b[1;33m)\u001b[0m\u001b[1;33m\u001b[0m\u001b[1;33m\u001b[0m\u001b[0m\n\u001b[1;32m---> 35\u001b[1;33m     \u001b[0mdf_coin\u001b[0m\u001b[1;33m[\u001b[0m\u001b[0mcoin\u001b[0m\u001b[1;33m]\u001b[0m \u001b[1;33m=\u001b[0m \u001b[0mgetCoinDF\u001b[0m\u001b[1;33m(\u001b[0m\u001b[0mcoin\u001b[0m\u001b[1;33m,\u001b[0m\u001b[1;36m30\u001b[0m\u001b[1;33m,\u001b[0m\u001b[1;36m200\u001b[0m\u001b[1;33m)\u001b[0m\u001b[1;33m\u001b[0m\u001b[1;33m\u001b[0m\u001b[0m\n\u001b[0m\u001b[0;32m     36\u001b[0m \u001b[1;33m\u001b[0m\u001b[0m\n\u001b[0;32m     37\u001b[0m \u001b[0mdf_coin\u001b[0m\u001b[1;33m[\u001b[0m\u001b[1;34m'KRW-ETH'\u001b[0m\u001b[1;33m]\u001b[0m\u001b[1;33m\u001b[0m\u001b[1;33m\u001b[0m\u001b[0m\n",
      "\u001b[1;32m<ipython-input-3-e972add49f8c>\u001b[0m in \u001b[0;36mgetCoinDF\u001b[1;34m(market, timedelta, count)\u001b[0m\n\u001b[0;32m      6\u001b[0m     \u001b[0mresponse\u001b[0m \u001b[1;33m=\u001b[0m \u001b[0mrequests\u001b[0m\u001b[1;33m.\u001b[0m\u001b[0mrequest\u001b[0m\u001b[1;33m(\u001b[0m\u001b[1;34m\"GET\"\u001b[0m\u001b[1;33m,\u001b[0m \u001b[0murl\u001b[0m\u001b[1;33m,\u001b[0m \u001b[0mparams\u001b[0m\u001b[1;33m=\u001b[0m\u001b[0mquery\u001b[0m\u001b[1;33m)\u001b[0m\u001b[1;33m\u001b[0m\u001b[1;33m\u001b[0m\u001b[0m\n\u001b[0;32m      7\u001b[0m \u001b[1;33m\u001b[0m\u001b[0m\n\u001b[1;32m----> 8\u001b[1;33m     \u001b[0mdf\u001b[0m \u001b[1;33m=\u001b[0m \u001b[0mpd\u001b[0m\u001b[1;33m.\u001b[0m\u001b[0mread_json\u001b[0m\u001b[1;33m(\u001b[0m\u001b[0mresponse\u001b[0m\u001b[1;33m.\u001b[0m\u001b[0mtext\u001b[0m\u001b[1;33m)\u001b[0m\u001b[1;33m\u001b[0m\u001b[1;33m\u001b[0m\u001b[0m\n\u001b[0m\u001b[0;32m      9\u001b[0m \u001b[1;33m\u001b[0m\u001b[0m\n\u001b[0;32m     10\u001b[0m     \u001b[1;32mwhile\u001b[0m\u001b[1;33m(\u001b[0m\u001b[0mlen\u001b[0m\u001b[1;33m(\u001b[0m\u001b[0mdf\u001b[0m\u001b[1;33m)\u001b[0m\u001b[1;33m<\u001b[0m\u001b[1;36m1000\u001b[0m\u001b[1;33m)\u001b[0m\u001b[1;33m:\u001b[0m\u001b[1;33m\u001b[0m\u001b[1;33m\u001b[0m\u001b[0m\n",
      "\u001b[1;32m~\\AppData\\Local\\Packages\\PythonSoftwareFoundation.Python.3.8_qbz5n2kfra8p0\\LocalCache\\local-packages\\Python38\\site-packages\\pandas\\util\\_decorators.py\u001b[0m in \u001b[0;36mwrapper\u001b[1;34m(*args, **kwargs)\u001b[0m\n\u001b[0;32m    197\u001b[0m                 \u001b[1;32melse\u001b[0m\u001b[1;33m:\u001b[0m\u001b[1;33m\u001b[0m\u001b[1;33m\u001b[0m\u001b[0m\n\u001b[0;32m    198\u001b[0m                     \u001b[0mkwargs\u001b[0m\u001b[1;33m[\u001b[0m\u001b[0mnew_arg_name\u001b[0m\u001b[1;33m]\u001b[0m \u001b[1;33m=\u001b[0m \u001b[0mnew_arg_value\u001b[0m\u001b[1;33m\u001b[0m\u001b[1;33m\u001b[0m\u001b[0m\n\u001b[1;32m--> 199\u001b[1;33m             \u001b[1;32mreturn\u001b[0m \u001b[0mfunc\u001b[0m\u001b[1;33m(\u001b[0m\u001b[1;33m*\u001b[0m\u001b[0margs\u001b[0m\u001b[1;33m,\u001b[0m \u001b[1;33m**\u001b[0m\u001b[0mkwargs\u001b[0m\u001b[1;33m)\u001b[0m\u001b[1;33m\u001b[0m\u001b[1;33m\u001b[0m\u001b[0m\n\u001b[0m\u001b[0;32m    200\u001b[0m \u001b[1;33m\u001b[0m\u001b[0m\n\u001b[0;32m    201\u001b[0m         \u001b[1;32mreturn\u001b[0m \u001b[0mcast\u001b[0m\u001b[1;33m(\u001b[0m\u001b[0mF\u001b[0m\u001b[1;33m,\u001b[0m \u001b[0mwrapper\u001b[0m\u001b[1;33m)\u001b[0m\u001b[1;33m\u001b[0m\u001b[1;33m\u001b[0m\u001b[0m\n",
      "\u001b[1;32m~\\AppData\\Local\\Packages\\PythonSoftwareFoundation.Python.3.8_qbz5n2kfra8p0\\LocalCache\\local-packages\\Python38\\site-packages\\pandas\\util\\_decorators.py\u001b[0m in \u001b[0;36mwrapper\u001b[1;34m(*args, **kwargs)\u001b[0m\n\u001b[0;32m    297\u001b[0m                 )\n\u001b[0;32m    298\u001b[0m                 \u001b[0mwarnings\u001b[0m\u001b[1;33m.\u001b[0m\u001b[0mwarn\u001b[0m\u001b[1;33m(\u001b[0m\u001b[0mmsg\u001b[0m\u001b[1;33m,\u001b[0m \u001b[0mFutureWarning\u001b[0m\u001b[1;33m,\u001b[0m \u001b[0mstacklevel\u001b[0m\u001b[1;33m=\u001b[0m\u001b[0mstacklevel\u001b[0m\u001b[1;33m)\u001b[0m\u001b[1;33m\u001b[0m\u001b[1;33m\u001b[0m\u001b[0m\n\u001b[1;32m--> 299\u001b[1;33m             \u001b[1;32mreturn\u001b[0m \u001b[0mfunc\u001b[0m\u001b[1;33m(\u001b[0m\u001b[1;33m*\u001b[0m\u001b[0margs\u001b[0m\u001b[1;33m,\u001b[0m \u001b[1;33m**\u001b[0m\u001b[0mkwargs\u001b[0m\u001b[1;33m)\u001b[0m\u001b[1;33m\u001b[0m\u001b[1;33m\u001b[0m\u001b[0m\n\u001b[0m\u001b[0;32m    300\u001b[0m \u001b[1;33m\u001b[0m\u001b[0m\n\u001b[0;32m    301\u001b[0m         \u001b[1;32mreturn\u001b[0m \u001b[0mwrapper\u001b[0m\u001b[1;33m\u001b[0m\u001b[1;33m\u001b[0m\u001b[0m\n",
      "\u001b[1;32m~\\AppData\\Local\\Packages\\PythonSoftwareFoundation.Python.3.8_qbz5n2kfra8p0\\LocalCache\\local-packages\\Python38\\site-packages\\pandas\\io\\json\\_json.py\u001b[0m in \u001b[0;36mread_json\u001b[1;34m(path_or_buf, orient, typ, dtype, convert_axes, convert_dates, keep_default_dates, numpy, precise_float, date_unit, encoding, lines, chunksize, compression, nrows, storage_options)\u001b[0m\n\u001b[0;32m    561\u001b[0m \u001b[1;33m\u001b[0m\u001b[0m\n\u001b[0;32m    562\u001b[0m     \u001b[1;32mwith\u001b[0m \u001b[0mjson_reader\u001b[0m\u001b[1;33m:\u001b[0m\u001b[1;33m\u001b[0m\u001b[1;33m\u001b[0m\u001b[0m\n\u001b[1;32m--> 563\u001b[1;33m         \u001b[1;32mreturn\u001b[0m \u001b[0mjson_reader\u001b[0m\u001b[1;33m.\u001b[0m\u001b[0mread\u001b[0m\u001b[1;33m(\u001b[0m\u001b[1;33m)\u001b[0m\u001b[1;33m\u001b[0m\u001b[1;33m\u001b[0m\u001b[0m\n\u001b[0m\u001b[0;32m    564\u001b[0m \u001b[1;33m\u001b[0m\u001b[0m\n\u001b[0;32m    565\u001b[0m \u001b[1;33m\u001b[0m\u001b[0m\n",
      "\u001b[1;32m~\\AppData\\Local\\Packages\\PythonSoftwareFoundation.Python.3.8_qbz5n2kfra8p0\\LocalCache\\local-packages\\Python38\\site-packages\\pandas\\io\\json\\_json.py\u001b[0m in \u001b[0;36mread\u001b[1;34m(self)\u001b[0m\n\u001b[0;32m    692\u001b[0m                 \u001b[0mobj\u001b[0m \u001b[1;33m=\u001b[0m \u001b[0mself\u001b[0m\u001b[1;33m.\u001b[0m\u001b[0m_get_object_parser\u001b[0m\u001b[1;33m(\u001b[0m\u001b[0mself\u001b[0m\u001b[1;33m.\u001b[0m\u001b[0m_combine_lines\u001b[0m\u001b[1;33m(\u001b[0m\u001b[0mdata_lines\u001b[0m\u001b[1;33m)\u001b[0m\u001b[1;33m)\u001b[0m\u001b[1;33m\u001b[0m\u001b[1;33m\u001b[0m\u001b[0m\n\u001b[0;32m    693\u001b[0m         \u001b[1;32melse\u001b[0m\u001b[1;33m:\u001b[0m\u001b[1;33m\u001b[0m\u001b[1;33m\u001b[0m\u001b[0m\n\u001b[1;32m--> 694\u001b[1;33m             \u001b[0mobj\u001b[0m \u001b[1;33m=\u001b[0m \u001b[0mself\u001b[0m\u001b[1;33m.\u001b[0m\u001b[0m_get_object_parser\u001b[0m\u001b[1;33m(\u001b[0m\u001b[0mself\u001b[0m\u001b[1;33m.\u001b[0m\u001b[0mdata\u001b[0m\u001b[1;33m)\u001b[0m\u001b[1;33m\u001b[0m\u001b[1;33m\u001b[0m\u001b[0m\n\u001b[0m\u001b[0;32m    695\u001b[0m         \u001b[0mself\u001b[0m\u001b[1;33m.\u001b[0m\u001b[0mclose\u001b[0m\u001b[1;33m(\u001b[0m\u001b[1;33m)\u001b[0m\u001b[1;33m\u001b[0m\u001b[1;33m\u001b[0m\u001b[0m\n\u001b[0;32m    696\u001b[0m         \u001b[1;32mreturn\u001b[0m \u001b[0mobj\u001b[0m\u001b[1;33m\u001b[0m\u001b[1;33m\u001b[0m\u001b[0m\n",
      "\u001b[1;32m~\\AppData\\Local\\Packages\\PythonSoftwareFoundation.Python.3.8_qbz5n2kfra8p0\\LocalCache\\local-packages\\Python38\\site-packages\\pandas\\io\\json\\_json.py\u001b[0m in \u001b[0;36m_get_object_parser\u001b[1;34m(self, json)\u001b[0m\n\u001b[0;32m    714\u001b[0m         \u001b[0mobj\u001b[0m \u001b[1;33m=\u001b[0m \u001b[1;32mNone\u001b[0m\u001b[1;33m\u001b[0m\u001b[1;33m\u001b[0m\u001b[0m\n\u001b[0;32m    715\u001b[0m         \u001b[1;32mif\u001b[0m \u001b[0mtyp\u001b[0m \u001b[1;33m==\u001b[0m \u001b[1;34m\"frame\"\u001b[0m\u001b[1;33m:\u001b[0m\u001b[1;33m\u001b[0m\u001b[1;33m\u001b[0m\u001b[0m\n\u001b[1;32m--> 716\u001b[1;33m             \u001b[0mobj\u001b[0m \u001b[1;33m=\u001b[0m \u001b[0mFrameParser\u001b[0m\u001b[1;33m(\u001b[0m\u001b[0mjson\u001b[0m\u001b[1;33m,\u001b[0m \u001b[1;33m**\u001b[0m\u001b[0mkwargs\u001b[0m\u001b[1;33m)\u001b[0m\u001b[1;33m.\u001b[0m\u001b[0mparse\u001b[0m\u001b[1;33m(\u001b[0m\u001b[1;33m)\u001b[0m\u001b[1;33m\u001b[0m\u001b[1;33m\u001b[0m\u001b[0m\n\u001b[0m\u001b[0;32m    717\u001b[0m \u001b[1;33m\u001b[0m\u001b[0m\n\u001b[0;32m    718\u001b[0m         \u001b[1;32mif\u001b[0m \u001b[0mtyp\u001b[0m \u001b[1;33m==\u001b[0m \u001b[1;34m\"series\"\u001b[0m \u001b[1;32mor\u001b[0m \u001b[0mobj\u001b[0m \u001b[1;32mis\u001b[0m \u001b[1;32mNone\u001b[0m\u001b[1;33m:\u001b[0m\u001b[1;33m\u001b[0m\u001b[1;33m\u001b[0m\u001b[0m\n",
      "\u001b[1;32m~\\AppData\\Local\\Packages\\PythonSoftwareFoundation.Python.3.8_qbz5n2kfra8p0\\LocalCache\\local-packages\\Python38\\site-packages\\pandas\\io\\json\\_json.py\u001b[0m in \u001b[0;36mparse\u001b[1;34m(self)\u001b[0m\n\u001b[0;32m    829\u001b[0m \u001b[1;33m\u001b[0m\u001b[0m\n\u001b[0;32m    830\u001b[0m         \u001b[1;32melse\u001b[0m\u001b[1;33m:\u001b[0m\u001b[1;33m\u001b[0m\u001b[1;33m\u001b[0m\u001b[0m\n\u001b[1;32m--> 831\u001b[1;33m             \u001b[0mself\u001b[0m\u001b[1;33m.\u001b[0m\u001b[0m_parse_no_numpy\u001b[0m\u001b[1;33m(\u001b[0m\u001b[1;33m)\u001b[0m\u001b[1;33m\u001b[0m\u001b[1;33m\u001b[0m\u001b[0m\n\u001b[0m\u001b[0;32m    832\u001b[0m \u001b[1;33m\u001b[0m\u001b[0m\n\u001b[0;32m    833\u001b[0m         \u001b[1;32mif\u001b[0m \u001b[0mself\u001b[0m\u001b[1;33m.\u001b[0m\u001b[0mobj\u001b[0m \u001b[1;32mis\u001b[0m \u001b[1;32mNone\u001b[0m\u001b[1;33m:\u001b[0m\u001b[1;33m\u001b[0m\u001b[1;33m\u001b[0m\u001b[0m\n",
      "\u001b[1;32m~\\AppData\\Local\\Packages\\PythonSoftwareFoundation.Python.3.8_qbz5n2kfra8p0\\LocalCache\\local-packages\\Python38\\site-packages\\pandas\\io\\json\\_json.py\u001b[0m in \u001b[0;36m_parse_no_numpy\u001b[1;34m(self)\u001b[0m\n\u001b[0;32m   1077\u001b[0m         \u001b[1;32mif\u001b[0m \u001b[0morient\u001b[0m \u001b[1;33m==\u001b[0m \u001b[1;34m\"columns\"\u001b[0m\u001b[1;33m:\u001b[0m\u001b[1;33m\u001b[0m\u001b[1;33m\u001b[0m\u001b[0m\n\u001b[0;32m   1078\u001b[0m             self.obj = DataFrame(\n\u001b[1;32m-> 1079\u001b[1;33m                 \u001b[0mloads\u001b[0m\u001b[1;33m(\u001b[0m\u001b[0mjson\u001b[0m\u001b[1;33m,\u001b[0m \u001b[0mprecise_float\u001b[0m\u001b[1;33m=\u001b[0m\u001b[0mself\u001b[0m\u001b[1;33m.\u001b[0m\u001b[0mprecise_float\u001b[0m\u001b[1;33m)\u001b[0m\u001b[1;33m,\u001b[0m \u001b[0mdtype\u001b[0m\u001b[1;33m=\u001b[0m\u001b[1;32mNone\u001b[0m\u001b[1;33m\u001b[0m\u001b[1;33m\u001b[0m\u001b[0m\n\u001b[0m\u001b[0;32m   1080\u001b[0m             )\n\u001b[0;32m   1081\u001b[0m         \u001b[1;32melif\u001b[0m \u001b[0morient\u001b[0m \u001b[1;33m==\u001b[0m \u001b[1;34m\"split\"\u001b[0m\u001b[1;33m:\u001b[0m\u001b[1;33m\u001b[0m\u001b[1;33m\u001b[0m\u001b[0m\n",
      "\u001b[1;31mValueError\u001b[0m: Expected object or value"
     ]
    }
   ],
   "source": [
    "coins = ['KRW-BTC','KRW-ETH','KRW-XRP']\n",
    "#coins = ['KRW-ETH']\n",
    "df_coin = {}\n",
    "for coin in coins:\n",
    "    print(coin)\n",
    "    df_coin[coin] = getCoinDF(coin,30,200)\n",
    "  \n",
    "df_coin['KRW-ETH']"
   ]
  },
  {
   "cell_type": "code",
   "execution_count": 81,
   "metadata": {},
   "outputs": [
    {
     "output_type": "execute_result",
     "data": {
      "text/plain": [
       "     index   market candle_date_time_utc candle_date_time_kst  opening_price  \\\n",
       "0      999  KRW-ETH  2021-05-10T21:00:00  2021-05-11T06:00:00        5049000   \n",
       "1      998  KRW-ETH  2021-05-10T21:30:00  2021-05-11T06:30:00        5068000   \n",
       "2      997  KRW-ETH  2021-05-10T22:00:00  2021-05-11T07:00:00        5147000   \n",
       "3      996  KRW-ETH  2021-05-10T22:30:00  2021-05-11T07:30:00        5150000   \n",
       "4      995  KRW-ETH  2021-05-10T23:00:00  2021-05-11T08:00:00        5140000   \n",
       "..     ...      ...                  ...                  ...            ...   \n",
       "995      4  KRW-ETH  2021-05-31T12:30:00  2021-05-31T21:30:00        3003000   \n",
       "996      3  KRW-ETH  2021-05-31T13:00:00  2021-05-31T22:00:00        2985000   \n",
       "997      2  KRW-ETH  2021-05-31T13:30:00  2021-05-31T22:30:00        3010000   \n",
       "998      1  KRW-ETH  2021-05-31T14:00:00  2021-05-31T23:00:00        2980000   \n",
       "999      0  KRW-ETH  2021-05-31T14:30:00  2021-05-31T23:30:00        2969000   \n",
       "\n",
       "     high_price  low_price  trade_price               timestamp  \\\n",
       "0       5115000    4995000      5064000 2021-05-10 21:30:00.138   \n",
       "1       5170000    5023000      5147000 2021-05-10 22:00:00.287   \n",
       "2       5200000    5112000      5150000 2021-05-10 22:29:59.988   \n",
       "3       5155000    5097000      5138000 2021-05-10 22:59:59.088   \n",
       "4       5141000    4950000      4976000 2021-05-10 23:30:00.461   \n",
       "..          ...        ...          ...                     ...   \n",
       "995     3004000    2960000      2985000 2021-05-31 12:59:58.492   \n",
       "996     3027000    2968000      3011000 2021-05-31 13:29:58.487   \n",
       "997     3015000    2970000      2979000 2021-05-31 13:59:56.968   \n",
       "998     2991000    2946000      2969000 2021-05-31 14:29:59.779   \n",
       "999     2975000    2969000      2975000 2021-05-31 14:31:34.431   \n",
       "\n",
       "     candle_acc_trade_price  candle_acc_trade_volume  unit  \n",
       "0              4.550917e+10              8978.386773    30  \n",
       "1              4.322203e+10              8490.874198    30  \n",
       "2              4.094357e+10              7925.304005    30  \n",
       "3              2.979543e+10              5814.918994    30  \n",
       "4              6.211992e+10             12326.948811    30  \n",
       "..                      ...                      ...   ...  \n",
       "995            3.256290e+10             10934.905259    30  \n",
       "996            2.010353e+10              6708.953051    30  \n",
       "997            1.852639e+10              6197.938155    30  \n",
       "998            1.850617e+10              6237.424095    30  \n",
       "999            3.820921e+08               128.581247    30  \n",
       "\n",
       "[1000 rows x 12 columns]"
      ],
      "text/html": "<div>\n<style scoped>\n    .dataframe tbody tr th:only-of-type {\n        vertical-align: middle;\n    }\n\n    .dataframe tbody tr th {\n        vertical-align: top;\n    }\n\n    .dataframe thead th {\n        text-align: right;\n    }\n</style>\n<table border=\"1\" class=\"dataframe\">\n  <thead>\n    <tr style=\"text-align: right;\">\n      <th></th>\n      <th>index</th>\n      <th>market</th>\n      <th>candle_date_time_utc</th>\n      <th>candle_date_time_kst</th>\n      <th>opening_price</th>\n      <th>high_price</th>\n      <th>low_price</th>\n      <th>trade_price</th>\n      <th>timestamp</th>\n      <th>candle_acc_trade_price</th>\n      <th>candle_acc_trade_volume</th>\n      <th>unit</th>\n    </tr>\n  </thead>\n  <tbody>\n    <tr>\n      <th>0</th>\n      <td>999</td>\n      <td>KRW-ETH</td>\n      <td>2021-05-10T21:00:00</td>\n      <td>2021-05-11T06:00:00</td>\n      <td>5049000</td>\n      <td>5115000</td>\n      <td>4995000</td>\n      <td>5064000</td>\n      <td>2021-05-10 21:30:00.138</td>\n      <td>4.550917e+10</td>\n      <td>8978.386773</td>\n      <td>30</td>\n    </tr>\n    <tr>\n      <th>1</th>\n      <td>998</td>\n      <td>KRW-ETH</td>\n      <td>2021-05-10T21:30:00</td>\n      <td>2021-05-11T06:30:00</td>\n      <td>5068000</td>\n      <td>5170000</td>\n      <td>5023000</td>\n      <td>5147000</td>\n      <td>2021-05-10 22:00:00.287</td>\n      <td>4.322203e+10</td>\n      <td>8490.874198</td>\n      <td>30</td>\n    </tr>\n    <tr>\n      <th>2</th>\n      <td>997</td>\n      <td>KRW-ETH</td>\n      <td>2021-05-10T22:00:00</td>\n      <td>2021-05-11T07:00:00</td>\n      <td>5147000</td>\n      <td>5200000</td>\n      <td>5112000</td>\n      <td>5150000</td>\n      <td>2021-05-10 22:29:59.988</td>\n      <td>4.094357e+10</td>\n      <td>7925.304005</td>\n      <td>30</td>\n    </tr>\n    <tr>\n      <th>3</th>\n      <td>996</td>\n      <td>KRW-ETH</td>\n      <td>2021-05-10T22:30:00</td>\n      <td>2021-05-11T07:30:00</td>\n      <td>5150000</td>\n      <td>5155000</td>\n      <td>5097000</td>\n      <td>5138000</td>\n      <td>2021-05-10 22:59:59.088</td>\n      <td>2.979543e+10</td>\n      <td>5814.918994</td>\n      <td>30</td>\n    </tr>\n    <tr>\n      <th>4</th>\n      <td>995</td>\n      <td>KRW-ETH</td>\n      <td>2021-05-10T23:00:00</td>\n      <td>2021-05-11T08:00:00</td>\n      <td>5140000</td>\n      <td>5141000</td>\n      <td>4950000</td>\n      <td>4976000</td>\n      <td>2021-05-10 23:30:00.461</td>\n      <td>6.211992e+10</td>\n      <td>12326.948811</td>\n      <td>30</td>\n    </tr>\n    <tr>\n      <th>...</th>\n      <td>...</td>\n      <td>...</td>\n      <td>...</td>\n      <td>...</td>\n      <td>...</td>\n      <td>...</td>\n      <td>...</td>\n      <td>...</td>\n      <td>...</td>\n      <td>...</td>\n      <td>...</td>\n      <td>...</td>\n    </tr>\n    <tr>\n      <th>995</th>\n      <td>4</td>\n      <td>KRW-ETH</td>\n      <td>2021-05-31T12:30:00</td>\n      <td>2021-05-31T21:30:00</td>\n      <td>3003000</td>\n      <td>3004000</td>\n      <td>2960000</td>\n      <td>2985000</td>\n      <td>2021-05-31 12:59:58.492</td>\n      <td>3.256290e+10</td>\n      <td>10934.905259</td>\n      <td>30</td>\n    </tr>\n    <tr>\n      <th>996</th>\n      <td>3</td>\n      <td>KRW-ETH</td>\n      <td>2021-05-31T13:00:00</td>\n      <td>2021-05-31T22:00:00</td>\n      <td>2985000</td>\n      <td>3027000</td>\n      <td>2968000</td>\n      <td>3011000</td>\n      <td>2021-05-31 13:29:58.487</td>\n      <td>2.010353e+10</td>\n      <td>6708.953051</td>\n      <td>30</td>\n    </tr>\n    <tr>\n      <th>997</th>\n      <td>2</td>\n      <td>KRW-ETH</td>\n      <td>2021-05-31T13:30:00</td>\n      <td>2021-05-31T22:30:00</td>\n      <td>3010000</td>\n      <td>3015000</td>\n      <td>2970000</td>\n      <td>2979000</td>\n      <td>2021-05-31 13:59:56.968</td>\n      <td>1.852639e+10</td>\n      <td>6197.938155</td>\n      <td>30</td>\n    </tr>\n    <tr>\n      <th>998</th>\n      <td>1</td>\n      <td>KRW-ETH</td>\n      <td>2021-05-31T14:00:00</td>\n      <td>2021-05-31T23:00:00</td>\n      <td>2980000</td>\n      <td>2991000</td>\n      <td>2946000</td>\n      <td>2969000</td>\n      <td>2021-05-31 14:29:59.779</td>\n      <td>1.850617e+10</td>\n      <td>6237.424095</td>\n      <td>30</td>\n    </tr>\n    <tr>\n      <th>999</th>\n      <td>0</td>\n      <td>KRW-ETH</td>\n      <td>2021-05-31T14:30:00</td>\n      <td>2021-05-31T23:30:00</td>\n      <td>2969000</td>\n      <td>2975000</td>\n      <td>2969000</td>\n      <td>2975000</td>\n      <td>2021-05-31 14:31:34.431</td>\n      <td>3.820921e+08</td>\n      <td>128.581247</td>\n      <td>30</td>\n    </tr>\n  </tbody>\n</table>\n<p>1000 rows × 12 columns</p>\n</div>"
     },
     "metadata": {},
     "execution_count": 81
    }
   ],
   "source": [
    "coin_name = 'KRW-ETH'\n",
    "df = df_coin[coin_name]\n",
    "df = df.loc[::-1,:]\n",
    "df = df.reset_index()\n",
    "df"
   ]
  },
  {
   "cell_type": "code",
   "execution_count": 105,
   "metadata": {},
   "outputs": [
    {
     "output_type": "execute_result",
     "data": {
      "text/plain": [
       "     opening_price  opening_price_bef  opening_price_after     diff    diff2  \\\n",
       "0          5049000                0.0            5068000.0      0.0      0.0   \n",
       "1          5068000          5049000.0            5147000.0  19000.0      0.0   \n",
       "2          5147000          5068000.0            5150000.0  79000.0  19000.0   \n",
       "3          5150000          5147000.0            5140000.0   3000.0  79000.0   \n",
       "4          5140000          5150000.0            4980000.0 -10000.0   3000.0   \n",
       "..             ...                ...                  ...      ...      ...   \n",
       "995        3003000          3003000.0            2985000.0      0.0 -49000.0   \n",
       "996        2985000          3003000.0            3010000.0 -18000.0      0.0   \n",
       "997        3010000          2985000.0            2980000.0  25000.0 -18000.0   \n",
       "998        2980000          3010000.0            2969000.0 -30000.0  25000.0   \n",
       "999        2969000          2980000.0                  0.0 -11000.0 -30000.0   \n",
       "\n",
       "     diff_after  diff_up  \n",
       "0       19000.0        1  \n",
       "1       79000.0        1  \n",
       "2        3000.0        1  \n",
       "3      -10000.0        1  \n",
       "4     -160000.0        0  \n",
       "..          ...      ...  \n",
       "995    -18000.0        0  \n",
       "996     25000.0        0  \n",
       "997    -30000.0        0  \n",
       "998    -11000.0        0  \n",
       "999         0.0        0  \n",
       "\n",
       "[1000 rows x 7 columns]"
      ],
      "text/html": "<div>\n<style scoped>\n    .dataframe tbody tr th:only-of-type {\n        vertical-align: middle;\n    }\n\n    .dataframe tbody tr th {\n        vertical-align: top;\n    }\n\n    .dataframe thead th {\n        text-align: right;\n    }\n</style>\n<table border=\"1\" class=\"dataframe\">\n  <thead>\n    <tr style=\"text-align: right;\">\n      <th></th>\n      <th>opening_price</th>\n      <th>opening_price_bef</th>\n      <th>opening_price_after</th>\n      <th>diff</th>\n      <th>diff2</th>\n      <th>diff_after</th>\n      <th>diff_up</th>\n    </tr>\n  </thead>\n  <tbody>\n    <tr>\n      <th>0</th>\n      <td>5049000</td>\n      <td>0.0</td>\n      <td>5068000.0</td>\n      <td>0.0</td>\n      <td>0.0</td>\n      <td>19000.0</td>\n      <td>1</td>\n    </tr>\n    <tr>\n      <th>1</th>\n      <td>5068000</td>\n      <td>5049000.0</td>\n      <td>5147000.0</td>\n      <td>19000.0</td>\n      <td>0.0</td>\n      <td>79000.0</td>\n      <td>1</td>\n    </tr>\n    <tr>\n      <th>2</th>\n      <td>5147000</td>\n      <td>5068000.0</td>\n      <td>5150000.0</td>\n      <td>79000.0</td>\n      <td>19000.0</td>\n      <td>3000.0</td>\n      <td>1</td>\n    </tr>\n    <tr>\n      <th>3</th>\n      <td>5150000</td>\n      <td>5147000.0</td>\n      <td>5140000.0</td>\n      <td>3000.0</td>\n      <td>79000.0</td>\n      <td>-10000.0</td>\n      <td>1</td>\n    </tr>\n    <tr>\n      <th>4</th>\n      <td>5140000</td>\n      <td>5150000.0</td>\n      <td>4980000.0</td>\n      <td>-10000.0</td>\n      <td>3000.0</td>\n      <td>-160000.0</td>\n      <td>0</td>\n    </tr>\n    <tr>\n      <th>...</th>\n      <td>...</td>\n      <td>...</td>\n      <td>...</td>\n      <td>...</td>\n      <td>...</td>\n      <td>...</td>\n      <td>...</td>\n    </tr>\n    <tr>\n      <th>995</th>\n      <td>3003000</td>\n      <td>3003000.0</td>\n      <td>2985000.0</td>\n      <td>0.0</td>\n      <td>-49000.0</td>\n      <td>-18000.0</td>\n      <td>0</td>\n    </tr>\n    <tr>\n      <th>996</th>\n      <td>2985000</td>\n      <td>3003000.0</td>\n      <td>3010000.0</td>\n      <td>-18000.0</td>\n      <td>0.0</td>\n      <td>25000.0</td>\n      <td>0</td>\n    </tr>\n    <tr>\n      <th>997</th>\n      <td>3010000</td>\n      <td>2985000.0</td>\n      <td>2980000.0</td>\n      <td>25000.0</td>\n      <td>-18000.0</td>\n      <td>-30000.0</td>\n      <td>0</td>\n    </tr>\n    <tr>\n      <th>998</th>\n      <td>2980000</td>\n      <td>3010000.0</td>\n      <td>2969000.0</td>\n      <td>-30000.0</td>\n      <td>25000.0</td>\n      <td>-11000.0</td>\n      <td>0</td>\n    </tr>\n    <tr>\n      <th>999</th>\n      <td>2969000</td>\n      <td>2980000.0</td>\n      <td>0.0</td>\n      <td>-11000.0</td>\n      <td>-30000.0</td>\n      <td>0.0</td>\n      <td>0</td>\n    </tr>\n  </tbody>\n</table>\n<p>1000 rows × 7 columns</p>\n</div>"
     },
     "metadata": {},
     "execution_count": 105
    }
   ],
   "source": [
    "df['opening_price_bef'] = df['opening_price'].shift(1)\n",
    "df['opening_price_bef2'] = df['opening_price'].shift(2)\n",
    "df['opening_price_after'] = df['opening_price'].shift(-1)\n",
    "df['diff'] = df['opening_price']-df['opening_price_bef']\n",
    "df['diff2'] = df['opening_price_bef']-df['opening_price_bef2']\n",
    "df['diff_after'] = df['opening_price_after']-df['opening_price']\n",
    "df.fillna(0,inplace=True)\n",
    "df['diff_up'] = df.apply(lambda x : 1 if x['diff']>=0 and x['diff2']>=0 else 0,axis=1)\n",
    "df[['opening_price','opening_price_bef','opening_price_after','diff','diff2','diff_after','diff_up']]"
   ]
  },
  {
   "cell_type": "code",
   "execution_count": 104,
   "metadata": {},
   "outputs": [
    {
     "output_type": "execute_result",
     "data": {
      "text/plain": [
       "          diff_after\n",
       "diff_up             \n",
       "0       -1400.000000\n",
       "1       -4356.521739"
      ],
      "text/html": "<div>\n<style scoped>\n    .dataframe tbody tr th:only-of-type {\n        vertical-align: middle;\n    }\n\n    .dataframe tbody tr th {\n        vertical-align: top;\n    }\n\n    .dataframe thead th {\n        text-align: right;\n    }\n</style>\n<table border=\"1\" class=\"dataframe\">\n  <thead>\n    <tr style=\"text-align: right;\">\n      <th></th>\n      <th>diff_after</th>\n    </tr>\n    <tr>\n      <th>diff_up</th>\n      <th></th>\n    </tr>\n  </thead>\n  <tbody>\n    <tr>\n      <th>0</th>\n      <td>-1400.000000</td>\n    </tr>\n    <tr>\n      <th>1</th>\n      <td>-4356.521739</td>\n    </tr>\n  </tbody>\n</table>\n</div>"
     },
     "metadata": {},
     "execution_count": 104
    }
   ],
   "source": [
    "df[['diff_up','diff_after']].groupby(['diff_up']).mean()"
   ]
  },
  {
   "cell_type": "code",
   "execution_count": 87,
   "metadata": {
    "tags": []
   },
   "outputs": [
    {
     "output_type": "stream",
     "name": "stdout",
     "text": [
      "968549.3864727891\n"
     ]
    }
   ],
   "source": [
    "money = 1000000\n",
    "stock = 0\n",
    "write = []\n",
    "\n",
    "for i in range(len(df)):\n",
    "    diff = df['diff'].loc[i]\n",
    "    if diff<0:\n",
    "        if money>1:\n",
    "            stock += money/df['opening_price'].loc[i]\n",
    "            money = 0\n",
    "            continue\n",
    "\n",
    "    if stock>0:\n",
    "        money += df['opening_price'].loc[i]*stock\n",
    "        stock = 0\n",
    "        continue\n",
    "\n",
    "    # if diff>0:\n",
    "    #     if stock>0:\n",
    "    #         money += df['opening_price'].loc[i]*stock\n",
    "    #         stock = 0\n",
    "\n",
    "    write.append(money+stock*df['opening_price'].loc[i])\n",
    "\n",
    "print(money+stock*df['opening_price'].loc[i])\n",
    "#write[:10]"
   ]
  },
  {
   "source": [
    "## tf agent 이용한 PPO 모델 사용"
   ],
   "cell_type": "markdown",
   "metadata": {}
  },
  {
   "cell_type": "code",
   "execution_count": 5,
   "metadata": {},
   "outputs": [],
   "source": [
    "# import os\n",
    "# from datetime import datetime\n",
    "# from collections import deque\n",
    "# import numpy as np\n",
    "\n",
    "# base_pwd = \"C://Users/cih46/Desktop/bit\"\n",
    "\n",
    "# def Write_to_file(Date, net_worth, filename='{}.txt'.format(datetime.now().strftime(\"%m_%d_%H_%M_%S\"))):\n",
    "#     for i in net_worth: \n",
    "#         Date += \" {}\".format(i)\n",
    "#     #print(Date)\n",
    "#     if not os.path.exists('logs'):\n",
    "#         os.makedirs('logs')\n",
    "#     file = open(base_pwd+\"/logs/\"+filename, 'a+')\n",
    "#     file.write(Date+\"\\n\")\n",
    "#     file.close()"
   ]
  },
  {
   "cell_type": "code",
   "execution_count": 6,
   "metadata": {},
   "outputs": [
    {
     "output_type": "execute_result",
     "data": {
      "text/plain": [
       "                    Date     Open     High      Low    Close       Volume\n",
       "0    2021-04-28T01:30:00  3087000  3100000  3069000  3073000  1655.638545\n",
       "1    2021-04-28T02:00:00  3073000  3087000  3055000  3077000  1555.382445\n",
       "2    2021-04-28T02:30:00  3080000  3094000  3076000  3088000   570.217042\n",
       "3    2021-04-28T03:00:00  3088000  3089000  3071000  3078000   271.719260\n",
       "4    2021-04-28T03:30:00  3079000  3091000  3076000  3090000   246.889809\n",
       "..                   ...      ...      ...      ...      ...          ...\n",
       "995  2021-05-18T17:00:00  4287000  4319000  4283000  4310000  4529.736673\n",
       "996  2021-05-18T17:30:00  4310000  4310000  4250000  4255000  4884.569741\n",
       "997  2021-05-18T18:00:00  4261000  4273000  4208000  4232000  4408.915316\n",
       "998  2021-05-18T18:30:00  4232000  4254000  4225000  4248000  2636.969311\n",
       "999  2021-05-18T19:00:00  4249000  4280000  4223000  4258000  2455.837537\n",
       "\n",
       "[1000 rows x 6 columns]"
      ],
      "text/html": "<div>\n<style scoped>\n    .dataframe tbody tr th:only-of-type {\n        vertical-align: middle;\n    }\n\n    .dataframe tbody tr th {\n        vertical-align: top;\n    }\n\n    .dataframe thead th {\n        text-align: right;\n    }\n</style>\n<table border=\"1\" class=\"dataframe\">\n  <thead>\n    <tr style=\"text-align: right;\">\n      <th></th>\n      <th>Date</th>\n      <th>Open</th>\n      <th>High</th>\n      <th>Low</th>\n      <th>Close</th>\n      <th>Volume</th>\n    </tr>\n  </thead>\n  <tbody>\n    <tr>\n      <th>0</th>\n      <td>2021-04-28T01:30:00</td>\n      <td>3087000</td>\n      <td>3100000</td>\n      <td>3069000</td>\n      <td>3073000</td>\n      <td>1655.638545</td>\n    </tr>\n    <tr>\n      <th>1</th>\n      <td>2021-04-28T02:00:00</td>\n      <td>3073000</td>\n      <td>3087000</td>\n      <td>3055000</td>\n      <td>3077000</td>\n      <td>1555.382445</td>\n    </tr>\n    <tr>\n      <th>2</th>\n      <td>2021-04-28T02:30:00</td>\n      <td>3080000</td>\n      <td>3094000</td>\n      <td>3076000</td>\n      <td>3088000</td>\n      <td>570.217042</td>\n    </tr>\n    <tr>\n      <th>3</th>\n      <td>2021-04-28T03:00:00</td>\n      <td>3088000</td>\n      <td>3089000</td>\n      <td>3071000</td>\n      <td>3078000</td>\n      <td>271.719260</td>\n    </tr>\n    <tr>\n      <th>4</th>\n      <td>2021-04-28T03:30:00</td>\n      <td>3079000</td>\n      <td>3091000</td>\n      <td>3076000</td>\n      <td>3090000</td>\n      <td>246.889809</td>\n    </tr>\n    <tr>\n      <th>...</th>\n      <td>...</td>\n      <td>...</td>\n      <td>...</td>\n      <td>...</td>\n      <td>...</td>\n      <td>...</td>\n    </tr>\n    <tr>\n      <th>995</th>\n      <td>2021-05-18T17:00:00</td>\n      <td>4287000</td>\n      <td>4319000</td>\n      <td>4283000</td>\n      <td>4310000</td>\n      <td>4529.736673</td>\n    </tr>\n    <tr>\n      <th>996</th>\n      <td>2021-05-18T17:30:00</td>\n      <td>4310000</td>\n      <td>4310000</td>\n      <td>4250000</td>\n      <td>4255000</td>\n      <td>4884.569741</td>\n    </tr>\n    <tr>\n      <th>997</th>\n      <td>2021-05-18T18:00:00</td>\n      <td>4261000</td>\n      <td>4273000</td>\n      <td>4208000</td>\n      <td>4232000</td>\n      <td>4408.915316</td>\n    </tr>\n    <tr>\n      <th>998</th>\n      <td>2021-05-18T18:30:00</td>\n      <td>4232000</td>\n      <td>4254000</td>\n      <td>4225000</td>\n      <td>4248000</td>\n      <td>2636.969311</td>\n    </tr>\n    <tr>\n      <th>999</th>\n      <td>2021-05-18T19:00:00</td>\n      <td>4249000</td>\n      <td>4280000</td>\n      <td>4223000</td>\n      <td>4258000</td>\n      <td>2455.837537</td>\n    </tr>\n  </tbody>\n</table>\n<p>1000 rows × 6 columns</p>\n</div>"
     },
     "metadata": {},
     "execution_count": 6
    }
   ],
   "source": [
    "df = df['KRW-ETH']\n",
    "df.rename(columns={'opening_price' : 'Open','trade_price':'Close','high_price' : 'High', 'candle_date_time_kst' : 'Date',\n",
    "'candle_acc_trade_volume':'Volume','low_price':'Low'}, inplace = True)\n",
    "df = df[['Date','Open','High','Low','Close','Volume']]\n",
    "df"
   ]
  },
  {
   "cell_type": "code",
   "execution_count": 7,
   "metadata": {},
   "outputs": [],
   "source": [
    "from collections import defaultdict\n",
    "import random\n",
    "\n",
    "class QLearningAgent:\n",
    "    def __init__(self, actions):\n",
    "        # 행동 = [0, 1, 2] 순서대로 hold, buy, sell\n",
    "        self.actions = actions\n",
    "        self.learning_rate = 0.01\n",
    "        self.discount_factor = 0.99\n",
    "        self.epsilon = 0.9\n",
    "        self.q_table = defaultdict(lambda : [0,0,0])\n",
    "\n",
    "    def get_q(self,state) :\n",
    "        string_state = format(state,\".1f\")\n",
    "\n",
    "        return self.q_table[string_state]        \n",
    "\n",
    "\n",
    "    def learn(self, state, action, reward, next_state):\n",
    "        q_1 = self.get_q(state)[action]\n",
    "        # 벨만 최적 방정식을 사용한 큐함수의 업데이트\n",
    "        q_2 = reward + self.discount_factor * max(self.get_q(next_state))        \n",
    "        self.get_q(state)[action] += self.learning_rate * (q_2 - q_1)\n",
    "\n",
    "    # 큐함수에 의거하여 입실론 탐욕 정책에 따라서 행동을 반환\n",
    "    def get_action(self, state):\n",
    "        if np.random.rand() < self.epsilon:\n",
    "            # 무작위 행동 반환\n",
    "            action = np.random.choice(self.actions)\n",
    "        else:\n",
    "            # 큐함수에 따른 행동 반환\n",
    "            state_action = self.get_q(state)\n",
    "            action = self.arg_max(state_action)\n",
    "        \n",
    "        self.epsilon *= 1.001\n",
    "        return action        \n",
    "    def get_random_action(self,state) :\n",
    "        action = np.random.choice(self.actions)\n",
    "        return action\n",
    "\n",
    "    @staticmethod\n",
    "    def arg_max(state_action):\n",
    "        max_index_list = []\n",
    "        max_value = state_action[0]\n",
    "        for index, value in enumerate(state_action):\n",
    "            if value > max_value:\n",
    "                max_index_list.clear()\n",
    "                max_value = value\n",
    "                max_index_list.append(index)\n",
    "            elif value == max_value:\n",
    "                max_index_list.append(index)\n",
    "        return random.choice(max_index_list)"
   ]
  },
  {
   "cell_type": "code",
   "execution_count": 8,
   "metadata": {},
   "outputs": [],
   "source": [
    "def q_learning(agent,env, train_episodes = 1,is_train=False,is_random=False):\n",
    "    \n",
    "    average_net_worth = 0\n",
    "\n",
    "    for episode in range(train_episodes):\n",
    "        state = env.reset()\n",
    "\n",
    "        while True:\n",
    "\n",
    "            env.render()\n",
    "\n",
    "            action = agent.get_action(state)\n",
    "            if is_random:\n",
    "                action = agent.get_random_action(state)\n",
    "\n",
    "            next_state, reward, done = env.step(action)\n",
    "\n",
    "            agent.learn(state, action, reward, next_state)\n",
    "            \n",
    "            state = next_state\n",
    "\n",
    "            if env.current_step == env.end_step:\n",
    "                average_net_worth += env.net_worth\n",
    "                print(\"net_worth:\", env.net_worth)\n",
    "                print(agent.q_table)\n",
    "                break\n",
    "            \n",
    "            if done:\n",
    "                break     \n",
    "\n",
    "    print(\"average_net_worth:\", average_net_worth/train_episodes)"
   ]
  },
  {
   "cell_type": "code",
   "execution_count": 9,
   "metadata": {
    "tags": []
   },
   "outputs": [
    {
     "output_type": "execute_result",
     "data": {
      "text/plain": [
       "                    Date     Open     High      Low    Close        Volume\n",
       "0    2021-04-28T01:30:00  3087000  3100000  3069000  3073000   1655.638545\n",
       "1    2021-04-28T02:00:00  3073000  3087000  3055000  3077000   1555.382445\n",
       "2    2021-04-28T02:30:00  3080000  3094000  3076000  3088000    570.217042\n",
       "3    2021-04-28T03:00:00  3088000  3089000  3071000  3078000    271.719260\n",
       "4    2021-04-28T03:30:00  3079000  3091000  3076000  3090000    246.889809\n",
       "..                   ...      ...      ...      ...      ...           ...\n",
       "595  2021-05-10T10:00:00  4777000  4777000  4751000  4760000   2022.883517\n",
       "596  2021-05-10T10:30:00  4757000  4815000  4756000  4780000   2339.488664\n",
       "597  2021-05-10T11:00:00  4780000  4843000  4779000  4820000   3135.806979\n",
       "598  2021-05-10T11:30:00  4820000  4868000  4810000  4862000   4264.784991\n",
       "599  2021-05-10T12:00:00  4864000  4932000  4861000  4908000  11896.961451\n",
       "\n",
       "[600 rows x 6 columns]"
      ],
      "text/html": "<div>\n<style scoped>\n    .dataframe tbody tr th:only-of-type {\n        vertical-align: middle;\n    }\n\n    .dataframe tbody tr th {\n        vertical-align: top;\n    }\n\n    .dataframe thead th {\n        text-align: right;\n    }\n</style>\n<table border=\"1\" class=\"dataframe\">\n  <thead>\n    <tr style=\"text-align: right;\">\n      <th></th>\n      <th>Date</th>\n      <th>Open</th>\n      <th>High</th>\n      <th>Low</th>\n      <th>Close</th>\n      <th>Volume</th>\n    </tr>\n  </thead>\n  <tbody>\n    <tr>\n      <th>0</th>\n      <td>2021-04-28T01:30:00</td>\n      <td>3087000</td>\n      <td>3100000</td>\n      <td>3069000</td>\n      <td>3073000</td>\n      <td>1655.638545</td>\n    </tr>\n    <tr>\n      <th>1</th>\n      <td>2021-04-28T02:00:00</td>\n      <td>3073000</td>\n      <td>3087000</td>\n      <td>3055000</td>\n      <td>3077000</td>\n      <td>1555.382445</td>\n    </tr>\n    <tr>\n      <th>2</th>\n      <td>2021-04-28T02:30:00</td>\n      <td>3080000</td>\n      <td>3094000</td>\n      <td>3076000</td>\n      <td>3088000</td>\n      <td>570.217042</td>\n    </tr>\n    <tr>\n      <th>3</th>\n      <td>2021-04-28T03:00:00</td>\n      <td>3088000</td>\n      <td>3089000</td>\n      <td>3071000</td>\n      <td>3078000</td>\n      <td>271.719260</td>\n    </tr>\n    <tr>\n      <th>4</th>\n      <td>2021-04-28T03:30:00</td>\n      <td>3079000</td>\n      <td>3091000</td>\n      <td>3076000</td>\n      <td>3090000</td>\n      <td>246.889809</td>\n    </tr>\n    <tr>\n      <th>...</th>\n      <td>...</td>\n      <td>...</td>\n      <td>...</td>\n      <td>...</td>\n      <td>...</td>\n      <td>...</td>\n    </tr>\n    <tr>\n      <th>595</th>\n      <td>2021-05-10T10:00:00</td>\n      <td>4777000</td>\n      <td>4777000</td>\n      <td>4751000</td>\n      <td>4760000</td>\n      <td>2022.883517</td>\n    </tr>\n    <tr>\n      <th>596</th>\n      <td>2021-05-10T10:30:00</td>\n      <td>4757000</td>\n      <td>4815000</td>\n      <td>4756000</td>\n      <td>4780000</td>\n      <td>2339.488664</td>\n    </tr>\n    <tr>\n      <th>597</th>\n      <td>2021-05-10T11:00:00</td>\n      <td>4780000</td>\n      <td>4843000</td>\n      <td>4779000</td>\n      <td>4820000</td>\n      <td>3135.806979</td>\n    </tr>\n    <tr>\n      <th>598</th>\n      <td>2021-05-10T11:30:00</td>\n      <td>4820000</td>\n      <td>4868000</td>\n      <td>4810000</td>\n      <td>4862000</td>\n      <td>4264.784991</td>\n    </tr>\n    <tr>\n      <th>599</th>\n      <td>2021-05-10T12:00:00</td>\n      <td>4864000</td>\n      <td>4932000</td>\n      <td>4861000</td>\n      <td>4908000</td>\n      <td>11896.961451</td>\n    </tr>\n  </tbody>\n</table>\n<p>600 rows × 6 columns</p>\n</div>"
     },
     "metadata": {},
     "execution_count": 9
    }
   ],
   "source": [
    "import customEnv as CustomEnv\n",
    "test_size = -400\n",
    "train_df = df[:test_size]\n",
    "test_df = df[test_size:].reset_index()\n",
    "\n",
    "train_df"
   ]
  },
  {
   "cell_type": "code",
   "execution_count": 10,
   "metadata": {},
   "outputs": [
    {
     "output_type": "execute_result",
     "data": {
      "text/plain": [
       "     index                 Date     Open     High      Low    Close  \\\n",
       "0      600  2021-05-10T12:00:00  4864000  4932000  4861000  4908000   \n",
       "1      601  2021-05-10T12:30:00  4908000  4946000  4900000  4914000   \n",
       "2      602  2021-05-10T13:00:00  4914000  4927000  4887000  4912000   \n",
       "3      603  2021-05-10T13:30:00  4911000  4983000  4911000  4981000   \n",
       "4      604  2021-05-10T14:00:00  4981000  5016000  4941000  4970000   \n",
       "..     ...                  ...      ...      ...      ...      ...   \n",
       "395    995  2021-05-18T17:00:00  4287000  4319000  4283000  4310000   \n",
       "396    996  2021-05-18T17:30:00  4310000  4310000  4250000  4255000   \n",
       "397    997  2021-05-18T18:00:00  4261000  4273000  4208000  4232000   \n",
       "398    998  2021-05-18T18:30:00  4232000  4254000  4225000  4248000   \n",
       "399    999  2021-05-18T19:00:00  4249000  4280000  4223000  4258000   \n",
       "\n",
       "           Volume  \n",
       "0    11896.961451  \n",
       "1     8223.173668  \n",
       "2     5437.053095  \n",
       "3     7363.056358  \n",
       "4    15615.365537  \n",
       "..            ...  \n",
       "395   4529.736673  \n",
       "396   4884.569741  \n",
       "397   4408.915316  \n",
       "398   2636.969311  \n",
       "399   2455.837537  \n",
       "\n",
       "[400 rows x 7 columns]"
      ],
      "text/html": "<div>\n<style scoped>\n    .dataframe tbody tr th:only-of-type {\n        vertical-align: middle;\n    }\n\n    .dataframe tbody tr th {\n        vertical-align: top;\n    }\n\n    .dataframe thead th {\n        text-align: right;\n    }\n</style>\n<table border=\"1\" class=\"dataframe\">\n  <thead>\n    <tr style=\"text-align: right;\">\n      <th></th>\n      <th>index</th>\n      <th>Date</th>\n      <th>Open</th>\n      <th>High</th>\n      <th>Low</th>\n      <th>Close</th>\n      <th>Volume</th>\n    </tr>\n  </thead>\n  <tbody>\n    <tr>\n      <th>0</th>\n      <td>600</td>\n      <td>2021-05-10T12:00:00</td>\n      <td>4864000</td>\n      <td>4932000</td>\n      <td>4861000</td>\n      <td>4908000</td>\n      <td>11896.961451</td>\n    </tr>\n    <tr>\n      <th>1</th>\n      <td>601</td>\n      <td>2021-05-10T12:30:00</td>\n      <td>4908000</td>\n      <td>4946000</td>\n      <td>4900000</td>\n      <td>4914000</td>\n      <td>8223.173668</td>\n    </tr>\n    <tr>\n      <th>2</th>\n      <td>602</td>\n      <td>2021-05-10T13:00:00</td>\n      <td>4914000</td>\n      <td>4927000</td>\n      <td>4887000</td>\n      <td>4912000</td>\n      <td>5437.053095</td>\n    </tr>\n    <tr>\n      <th>3</th>\n      <td>603</td>\n      <td>2021-05-10T13:30:00</td>\n      <td>4911000</td>\n      <td>4983000</td>\n      <td>4911000</td>\n      <td>4981000</td>\n      <td>7363.056358</td>\n    </tr>\n    <tr>\n      <th>4</th>\n      <td>604</td>\n      <td>2021-05-10T14:00:00</td>\n      <td>4981000</td>\n      <td>5016000</td>\n      <td>4941000</td>\n      <td>4970000</td>\n      <td>15615.365537</td>\n    </tr>\n    <tr>\n      <th>...</th>\n      <td>...</td>\n      <td>...</td>\n      <td>...</td>\n      <td>...</td>\n      <td>...</td>\n      <td>...</td>\n      <td>...</td>\n    </tr>\n    <tr>\n      <th>395</th>\n      <td>995</td>\n      <td>2021-05-18T17:00:00</td>\n      <td>4287000</td>\n      <td>4319000</td>\n      <td>4283000</td>\n      <td>4310000</td>\n      <td>4529.736673</td>\n    </tr>\n    <tr>\n      <th>396</th>\n      <td>996</td>\n      <td>2021-05-18T17:30:00</td>\n      <td>4310000</td>\n      <td>4310000</td>\n      <td>4250000</td>\n      <td>4255000</td>\n      <td>4884.569741</td>\n    </tr>\n    <tr>\n      <th>397</th>\n      <td>997</td>\n      <td>2021-05-18T18:00:00</td>\n      <td>4261000</td>\n      <td>4273000</td>\n      <td>4208000</td>\n      <td>4232000</td>\n      <td>4408.915316</td>\n    </tr>\n    <tr>\n      <th>398</th>\n      <td>998</td>\n      <td>2021-05-18T18:30:00</td>\n      <td>4232000</td>\n      <td>4254000</td>\n      <td>4225000</td>\n      <td>4248000</td>\n      <td>2636.969311</td>\n    </tr>\n    <tr>\n      <th>399</th>\n      <td>999</td>\n      <td>2021-05-18T19:00:00</td>\n      <td>4249000</td>\n      <td>4280000</td>\n      <td>4223000</td>\n      <td>4258000</td>\n      <td>2455.837537</td>\n    </tr>\n  </tbody>\n</table>\n<p>400 rows × 7 columns</p>\n</div>"
     },
     "metadata": {},
     "execution_count": 10
    }
   ],
   "source": [
    "test_df"
   ]
  },
  {
   "cell_type": "code",
   "execution_count": 11,
   "metadata": {},
   "outputs": [
    {
     "output_type": "stream",
     "name": "stdout",
     "text": [
      "-0.5\n0.1\n0.3\n-0.3\n0.4\n-0.8\n0.4\n0.2\n0.4\n-0.4\n0.5\n-0.4\n-0.3\n0.5\n1.2\n0.8\n0.3\n-0.0\n0.3\n-0.5\n-0.8\n-0.8\n-1.4\n0.8\n-1.1\n-0.5\n-0.1\n-1.4\n0.7\n1.3\n-0.8\n0.3\n-1.2\n-0.0\n1.2\n1.1\n0.3\n1.4\n0.5\n0.9\n-0.0\n-0.9\n0.0\n0.5\n-0.8\n-0.7\n-0.1\n0.8\n0.5\n0.1\n-0.4\n0.4\n-0.0\n1.0\n-0.1\n-0.8\n0.4\n0.5\n1.2\n-1.1\n-0.6\n0.3\n0.9\n-1.1\n-0.6\n0.1\n1.4\n0.1\n-0.1\n-0.2\n-0.5\n-0.5\n0.0\n0.8\n0.3\n0.0\n0.4\n-0.3\n0.2\n-0.6\n0.4\n1.1\n0.2\n-0.2\n0.3\n-0.2\n-0.1\n1.5\n-0.1\n-0.4\n-1.1\n0.8\n-0.1\n0.7\n-0.2\n-0.7\n-0.2\n0.2\n0.1\n-0.4\n"
     ]
    }
   ],
   "source": [
    "for i in range(100):\n",
    "    print( round((train_df.loc[i,'Close'] - train_df.loc[i, 'Open'])*100  / train_df.loc[i, 'Open'] , 1) )"
   ]
  },
  {
   "cell_type": "code",
   "execution_count": 12,
   "metadata": {
    "tags": [
     "outputPrepend"
    ]
   },
   "outputs": [
    {
     "output_type": "stream",
     "name": "stdout",
     "text": [
      "585643\nStep: 513, Net Worth: 1122.990406803605\nStep: 514, Net Worth: 1122.990406803605\nStep: 515, Net Worth: 1130.1196663812439\nStep: 516, Net Worth: 1130.1196663812439\nStep: 517, Net Worth: 1126.4195552190977\nStep: 518, Net Worth: 1126.4195552190977\nStep: 519, Net Worth: 1126.4195552190977\nStep: 520, Net Worth: 1126.4195552190977\nStep: 521, Net Worth: 1123.769156265641\nStep: 522, Net Worth: 1127.744754695826\nStep: 523, Net Worth: 1146.8276271607144\nStep: 524, Net Worth: 1163.2601006721459\nStep: 525, Net Worth: 1164.3202602535287\nStep: 526, Net Worth: 1164.3202602535287\nStep: 527, Net Worth: 1166.9791327364096\nStep: 528, Net Worth: 1166.9791327364096\nStep: 529, Net Worth: 1206.0031715315347\nStep: 530, Net Worth: 1244.4926344527537\nStep: 531, Net Worth: 1244.4926344527537\nStep: 532, Net Worth: 1244.4926344527537\nStep: 533, Net Worth: 1244.4926344527537\nStep: 534, Net Worth: 1244.4926344527537\nStep: 535, Net Worth: 1244.4926344527537\nStep: 536, Net Worth: 1246.6908992078038\nStep: 537, Net Worth: 1246.6908992078038\nStep: 538, Net Worth: 1246.6908992078038\nStep: 539, Net Worth: 1256.936196389875\nStep: 540, Net Worth: 1275.0002730003687\nStep: 541, Net Worth: 1272.0345290792427\nStep: 542, Net Worth: 1263.1372973158652\nStep: 543, Net Worth: 1267.7207197394234\nStep: 544, Net Worth: 1283.8975047637462\nStep: 545, Net Worth: 1283.8975047637462\nStep: 546, Net Worth: 1283.8975047637462\nStep: 547, Net Worth: 1283.8975047637462\nStep: 548, Net Worth: 1283.8975047637462\nStep: 549, Net Worth: 1283.3509328162095\nStep: 550, Net Worth: 1283.3509328162095\nStep: 551, Net Worth: 1283.3509328162095\nStep: 552, Net Worth: 1283.3509328162095\nStep: 553, Net Worth: 1287.5995599474031\nStep: 554, Net Worth: 1287.5995599474031\nStep: 555, Net Worth: 1287.5995599474031\nStep: 556, Net Worth: 1287.5995599474031\nStep: 557, Net Worth: 1287.5995599474031\nStep: 558, Net Worth: 1287.5995599474031\nStep: 559, Net Worth: 1287.5995599474031\nStep: 560, Net Worth: 1287.5995599474031\nStep: 561, Net Worth: 1284.9664320129505\nStep: 562, Net Worth: 1284.9664320129505\nStep: 563, Net Worth: 1284.9664320129505\nStep: 564, Net Worth: 1277.2433177065514\nStep: 565, Net Worth: 1277.2433177065514\nStep: 566, Net Worth: 1277.2433177065514\nStep: 567, Net Worth: 1277.2433177065514\nStep: 568, Net Worth: 1277.2433177065514\nStep: 569, Net Worth: 1277.2433177065514\nStep: 570, Net Worth: 1277.2433177065514\nStep: 571, Net Worth: 1277.2433177065514\nStep: 572, Net Worth: 1277.2433177065514\nStep: 573, Net Worth: 1277.2433177065514\nStep: 574, Net Worth: 1278.5909050854357\nStep: 575, Net Worth: 1278.5909050854357\nStep: 576, Net Worth: 1291.5359300683722\nStep: 577, Net Worth: 1303.1325149489192\nStep: 578, Net Worth: 1300.7053227646186\nStep: 579, Net Worth: 1290.9965540274163\nStep: 580, Net Worth: 1292.8843701707613\nStep: 581, Net Worth: 1292.8843701707613\nStep: 582, Net Worth: 1292.8843701707613\nStep: 583, Net Worth: 1292.8843701707613\nStep: 584, Net Worth: 1292.8843701707613\nStep: 585, Net Worth: 1296.977503465941\nStep: 586, Net Worth: 1306.2552722683483\nStep: 587, Net Worth: 1306.2552722683483\nStep: 588, Net Worth: 1300.8045930600515\nStep: 589, Net Worth: 1298.6243213767327\nStep: 590, Net Worth: 1298.6243213767327\nStep: 591, Net Worth: 1298.6243213767327\nStep: 592, Net Worth: 1298.6243213767327\nStep: 593, Net Worth: 1298.6243213767327\nStep: 594, Net Worth: 1298.6243213767327\nStep: 595, Net Worth: 1298.6243213767327\nStep: 596, Net Worth: 1298.6243213767327\nStep: 597, Net Worth: 1309.4914705095925\nStep: 598, Net Worth: 1309.4914705095925\nnet_worth: 1321.880735759169\ndefaultdict(<function QLearningAgent.__init__.<locals>.<lambda> at 0x00000173E04ED700>, {'0.0': [0.9614855154153545, 0.759345444952957, 0.8315090640461634], '1.0': [0.41589733719720834, 1.1067362060493087, 0.7983569089352149]})\naverage_net_worth: 1321.880735759169\nStep: 0, Net Worth: 1000\nStep: 1, Net Worth: 1000\nStep: 2, Net Worth: 1000.0\nStep: 3, Net Worth: 1014.0472312703583\nStep: 4, Net Worth: 1011.8078175895766\nStep: 5, Net Worth: 1011.8078175895766\nStep: 6, Net Worth: 1011.8078175895766\nStep: 7, Net Worth: 1011.8078175895766\nStep: 8, Net Worth: 1012.2153116764028\nStep: 9, Net Worth: 1016.0865055012523\nStep: 10, Net Worth: 1021.7914227168197\nStep: 11, Net Worth: 1021.7914227168197\nStep: 12, Net Worth: 1012.0030004855149\nStep: 13, Net Worth: 1014.0006376755772\nStep: 14, Net Worth: 1011.8032367665087\nStep: 15, Net Worth: 1011.8032367665087\nStep: 16, Net Worth: 1011.8032367665087\nStep: 17, Net Worth: 1018.4426296504408\nStep: 18, Net Worth: 1025.886797429395\nStep: 19, Net Worth: 1025.886797429395\nStep: 20, Net Worth: 1025.886797429395\nStep: 21, Net Worth: 1025.886797429395\nStep: 22, Net Worth: 1025.886797429395\nStep: 23, Net Worth: 1025.886797429395\nStep: 24, Net Worth: 1025.886797429395\nStep: 25, Net Worth: 1033.7149299083123\nStep: 26, Net Worth: 1033.7149299083123\nStep: 27, Net Worth: 1029.1108548912923\nStep: 28, Net Worth: 1036.917764702761\nStep: 29, Net Worth: 1036.917764702761\nStep: 30, Net Worth: 1039.3203546190446\nStep: 31, Net Worth: 1044.1255344516119\nStep: 32, Net Worth: 1044.1255344516119\nStep: 33, Net Worth: 1044.1255344516119\nStep: 34, Net Worth: 1029.9884382404682\nStep: 35, Net Worth: 1021.3042219964799\nStep: 36, Net Worth: 1022.7179316175943\nStep: 37, Net Worth: 1039.4804885536646\nStep: 38, Net Worth: 1040.0863641055707\nStep: 39, Net Worth: 1037.6628618979462\nStep: 40, Net Worth: 1037.6628618979462\nStep: 41, Net Worth: 1044.5444684981537\nStep: 42, Net Worth: 1044.5444684981537\nStep: 43, Net Worth: 1044.5444684981537\nStep: 44, Net Worth: 1044.5444684981537\nStep: 45, Net Worth: 1044.5444684981537\nStep: 46, Net Worth: 1044.5444684981537\nStep: 47, Net Worth: 1021.3416596121632\nStep: 48, Net Worth: 1006.9182919262771\nStep: 49, Net Worth: 1006.9182919262771\nStep: 50, Net Worth: 1006.9182919262771\nStep: 51, Net Worth: 1006.9182919262771\nStep: 52, Net Worth: 1003.6437608956226\nStep: 53, Net Worth: 1003.6437608956226\nStep: 54, Net Worth: 1003.6437608956226\nStep: 55, Net Worth: 1017.0772405587966\nStep: 56, Net Worth: 1006.9003620260889\nStep: 57, Net Worth: 1006.9003620260889\nStep: 58, Net Worth: 1006.9003620260889\nStep: 59, Net Worth: 1006.9003620260889\nStep: 60, Net Worth: 1006.9003620260889\nStep: 61, Net Worth: 1006.9003620260889\nStep: 62, Net Worth: 1019.251241190294\nStep: 63, Net Worth: 1019.251241190294\nStep: 64, Net Worth: 1019.6593497953751\nStep: 65, Net Worth: 1007.6201459454797\nStep: 66, Net Worth: 987.4187699939604\nStep: 67, Net Worth: 1005.3755486175331\nStep: 68, Net Worth: 991.2958017422318\nStep: 69, Net Worth: 1000.2741910540182\nStep: 70, Net Worth: 1000.2741910540182\nStep: 71, Net Worth: 1003.3456573520346\nStep: 72, Net Worth: 1015.4267581242326\nStep: 73, Net Worth: 1009.2838255281997\nStep: 74, Net Worth: 1009.2838255281997\nStep: 75, Net Worth: 1009.2838255281997\nStep: 76, Net Worth: 1009.2838255281997\nStep: 77, Net Worth: 1010.1033820247716\nStep: 78, Net Worth: 1010.1033820247716\nStep: 79, Net Worth: 1010.1033820247716\nStep: 80, Net Worth: 1008.2694238972301\nStep: 81, Net Worth: 1012.3448864028778\nStep: 82, Net Worth: 1022.5335426669969\nStep: 83, Net Worth: 1035.9825689356342\nStep: 84, Net Worth: 1034.9637033092222\nStep: 85, Net Worth: 1034.9637033092222\nStep: 86, Net Worth: 1035.575383984937\nStep: 87, Net Worth: 1041.080510066369\nStep: 88, Net Worth: 1041.080510066369\nStep: 89, Net Worth: 1041.080510066369\nStep: 90, Net Worth: 1041.080510066369\nStep: 91, Net Worth: 1041.080510066369\nStep: 92, Net Worth: 1041.080510066369\nStep: 93, Net Worth: 1041.489981260102\nStep: 94, Net Worth: 1059.5067137843578\nStep: 95, Net Worth: 1062.987218931089\nStep: 96, Net Worth: 1062.577747737356\nStep: 97, Net Worth: 1062.577747737356\nStep: 98, Net Worth: 1062.577747737356\nStep: 99, Net Worth: 1062.577747737356\nStep: 100, Net Worth: 1062.577747737356\nStep: 101, Net Worth: 1062.577747737356\nStep: 102, Net Worth: 1060.9635012538963\nStep: 103, Net Worth: 1060.9635012538963\nStep: 104, Net Worth: 1060.9635012538963\nStep: 105, Net Worth: 1060.9635012538963\nStep: 106, Net Worth: 1060.9635012538963\nStep: 107, Net Worth: 1060.9635012538963\nStep: 108, Net Worth: 1060.9635012538963\nStep: 109, Net Worth: 1060.9635012538963\nStep: 110, Net Worth: 1060.9635012538963\nStep: 111, Net Worth: 1060.9635012538963\nStep: 112, Net Worth: 1060.9635012538963\nStep: 113, Net Worth: 1060.9635012538963\nStep: 114, Net Worth: 1060.9635012538963\nStep: 115, Net Worth: 1060.9635012538963\nStep: 116, Net Worth: 1060.9635012538963\nStep: 117, Net Worth: 1060.9635012538963\nStep: 118, Net Worth: 1060.9635012538963\nStep: 119, Net Worth: 1060.9635012538963\nStep: 120, Net Worth: 1060.9635012538963\nStep: 121, Net Worth: 1050.8782968693536\nStep: 122, Net Worth: 1046.6425110278456\nStep: 123, Net Worth: 1046.239102852464\nStep: 124, Net Worth: 1045.835694677082\nStep: 125, Net Worth: 1047.2476232909182\nStep: 126, Net Worth: 1039.381163870975\nStep: 127, Net Worth: 1026.2703981710692\nStep: 128, Net Worth: 1026.2703981710692\nStep: 129, Net Worth: 1026.2703981710692\nStep: 130, Net Worth: 1026.2703981710692\nStep: 131, Net Worth: 1039.7474888565773\nStep: 132, Net Worth: 1039.7474888565773\nStep: 133, Net Worth: 1031.5730598933712\nStep: 134, Net Worth: 1031.5730598933712\nStep: 135, Net Worth: 1052.4372369118291\nStep: 136, Net Worth: 958.9496745022003\nStep: 137, Net Worth: 958.9496745022003\nStep: 138, Net Worth: 1010.0586417760694\nStep: 139, Net Worth: 998.7459849881775\nStep: 140, Net Worth: 998.7459849881775\nStep: 141, Net Worth: 998.7459849881775\nStep: 142, Net Worth: 998.7459849881775\nStep: 143, Net Worth: 979.2924208084312\nStep: 144, Net Worth: 965.2858545990138\nStep: 145, Net Worth: 969.9547100021529\nStep: 146, Net Worth: 967.2312110169884\nStep: 147, Net Worth: 954.7809299419507\nStep: 148, Net Worth: 971.5109951365326\nStep: 149, Net Worth: 971.5109951365326\nStep: 150, Net Worth: 971.5109951365326\nStep: 151, Net Worth: 971.5109951365326\nStep: 152, Net Worth: 971.5109951365326\nStep: 153, Net Worth: 971.5109951365326\nStep: 154, Net Worth: 956.7851817502675\nStep: 155, Net Worth: 956.7851817502675\nStep: 156, Net Worth: 956.7851817502675\nStep: 157, Net Worth: 956.7851817502675\nStep: 158, Net Worth: 960.4401336330147\nStep: 159, Net Worth: 960.4401336330147\nStep: 160, Net Worth: 960.4401336330147\nStep: 161, Net Worth: 970.2073214326725\nStep: 162, Net Worth: 984.6546200529996\nStep: 163, Net Worth: 973.6665337783846\nStep: 164, Net Worth: 973.6665337783846\nStep: 165, Net Worth: 973.6665337783846\nStep: 166, Net Worth: 973.6665337783846\nStep: 167, Net Worth: 973.6665337783846\nStep: 168, Net Worth: 973.6665337783846\nStep: 169, Net Worth: 971.3978763177698\nStep: 170, Net Worth: 971.3978763177698\nStep: 171, Net Worth: 947.517678524958\nStep: 172, Net Worth: 932.9467103801915\nStep: 173, Net Worth: 932.9467103801915\nStep: 174, Net Worth: 929.5707857151291\nStep: 175, Net Worth: 919.8401793275963\nStep: 176, Net Worth: 935.3297160261179\nStep: 177, Net Worth: 929.5707857151291\nStep: 178, Net Worth: 929.5707857151291\nStep: 179, Net Worth: 929.5707857151291\nStep: 180, Net Worth: 941.3201531351644\nStep: 181, Net Worth: 932.7039503604718\nStep: 182, Net Worth: 932.7039503604718\nStep: 183, Net Worth: 924.8163905265566\nStep: 184, Net Worth: 918.9007206511202\nStep: 185, Net Worth: 930.9292493978409\nStep: 186, Net Worth: 930.9292493978409\nStep: 187, Net Worth: 930.9292493978409\nStep: 188, Net Worth: 930.9292493978409\nStep: 189, Net Worth: 930.9292493978409\nStep: 190, Net Worth: 930.9292493978409\nStep: 191, Net Worth: 933.6621094296231\nStep: 192, Net Worth: 941.4702809490011\nStep: 193, Net Worth: 941.4702809490011\nStep: 194, Net Worth: 941.4702809490011\nStep: 195, Net Worth: 941.4702809490011\nStep: 196, Net Worth: 942.8545052646161\nStep: 197, Net Worth: 947.9959098654718\nStep: 198, Net Worth: 947.9959098654718\nStep: 199, Net Worth: 947.9959098654718\nStep: 200, Net Worth: 947.9959098654718\nStep: 201, Net Worth: 959.3503471132827\nStep: 202, Net Worth: 953.3743275091717\nStep: 203, Net Worth: 952.37832424182\nStep: 204, Net Worth: 970.903985014564\nStep: 205, Net Worth: 970.903985014564\nStep: 206, Net Worth: 966.1123552304082\nStep: 207, Net Worth: 972.7008461836224\nStep: 208, Net Worth: 984.8795718850183\nStep: 209, Net Worth: 984.8795718850183\nStep: 210, Net Worth: 985.4782828709666\nStep: 211, Net Worth: 979.2916026828337\nStep: 212, Net Worth: 979.2916026828337\nStep: 213, Net Worth: 979.2916026828337\nStep: 214, Net Worth: 979.2916026828337\nStep: 215, Net Worth: 977.7079493936761\nStep: 216, Net Worth: 977.7079493936761\nStep: 217, Net Worth: 986.7535177106732\nStep: 218, Net Worth: 986.7535177106732\nStep: 219, Net Worth: 989.3114032002522\nStep: 220, Net Worth: 989.3114032002522\nStep: 221, Net Worth: 989.3114032002522\nStep: 222, Net Worth: 986.7417631919399\nStep: 223, Net Worth: 982.5908062554354\nStep: 224, Net Worth: 982.9861354874834\nStep: 225, Net Worth: 978.8351785509789\nStep: 226, Net Worth: 978.8351785509789\nStep: 227, Net Worth: 978.8351785509789\nStep: 228, Net Worth: 978.8351785509789\nStep: 229, Net Worth: 978.8351785509789\nStep: 230, Net Worth: 978.8351785509789\nStep: 231, Net Worth: 978.8351785509789\nStep: 232, Net Worth: 978.8351785509789\nStep: 233, Net Worth: 978.8351785509789\nStep: 234, Net Worth: 978.8351785509789\nStep: 235, Net Worth: 978.8351785509789\nStep: 236, Net Worth: 978.8351785509789\nStep: 237, Net Worth: 978.8351785509789\nStep: 238, Net Worth: 978.8351785509789\nStep: 239, Net Worth: 978.8351785509789\nStep: 240, Net Worth: 977.2681020193784\nStep: 241, Net Worth: 977.2681020193784\nStep: 242, Net Worth: 977.2681020193784\nStep: 243, Net Worth: 977.2681020193784\nStep: 244, Net Worth: 977.2681020193784\nStep: 245, Net Worth: 977.4648542042021\nStep: 246, Net Worth: 977.4648542042021\nStep: 247, Net Worth: 977.4648542042021\nStep: 248, Net Worth: 977.4648542042021\nStep: 249, Net Worth: 977.4648542042021\nStep: 250, Net Worth: 971.2644428106415\nStep: 251, Net Worth: 971.2644428106415\nStep: 252, Net Worth: 971.2644428106415\nStep: 253, Net Worth: 971.2644428106415\nStep: 254, Net Worth: 971.2644428106415\nStep: 255, Net Worth: 962.6122010371056\nStep: 256, Net Worth: 966.0328547615268\nStep: 257, Net Worth: 966.0328547615268\nStep: 258, Net Worth: 966.0328547615268\nStep: 259, Net Worth: 961.6535589023152\nStep: 260, Net Worth: 971.4074451341955\nStep: 261, Net Worth: 966.0328547615268\nStep: 262, Net Worth: 966.0328547615268\nStep: 263, Net Worth: 966.0328547615268\nStep: 264, Net Worth: 966.0328547615268\nStep: 265, Net Worth: 966.0328547615268\nStep: 266, Net Worth: 965.2237820188454\nStep: 267, Net Worth: 953.0876908786253\nStep: 268, Net Worth: 953.0876908786253\nStep: 269, Net Worth: 949.850025686681\nStep: 270, Net Worth: 949.850025686681\nStep: 271, Net Worth: 949.850025686681\nStep: 272, Net Worth: 949.850025686681\nStep: 273, Net Worth: 949.850025686681\nStep: 274, Net Worth: 949.850025686681\nStep: 275, Net Worth: 949.850025686681\nStep: 276, Net Worth: 949.850025686681\nStep: 277, Net Worth: 949.6487862744592\nStep: 278, Net Worth: 949.6487862744592\nStep: 279, Net Worth: 950.0521198001651\nStep: 280, Net Worth: 942.5904495746066\nStep: 281, Net Worth: 942.5904495746066\nStep: 282, Net Worth: 942.5904495746066\nStep: 283, Net Worth: 942.5904495746066\nStep: 284, Net Worth: 942.5904495746066\nStep: 285, Net Worth: 942.5904495746066\nStep: 286, Net Worth: 945.6096374335899\nStep: 287, Net Worth: 943.7981247181999\nStep: 288, Net Worth: 936.9546322378376\nStep: 289, Net Worth: 936.9546322378376\nStep: 290, Net Worth: 945.8954268200247\nStep: 291, Net Worth: 945.4890270662889\nStep: 292, Net Worth: 943.45702829761\nStep: 293, Net Worth: 944.4730276819495\nStep: 294, Net Worth: 944.4730276819495\nStep: 295, Net Worth: 944.4730276819495\nStep: 296, Net Worth: 944.4730276819495\nStep: 297, Net Worth: 941.4638740253588\nStep: 298, Net Worth: 941.4638740253588\nStep: 299, Net Worth: 934.2771268953942\nStep: 300, Net Worth: 931.6819126540181\nStep: 301, Net Worth: 928.8870665479208\nStep: 302, Net Worth: 930.683753330412\nStep: 303, Net Worth: 938.8686597839827\nStep: 304, Net Worth: 938.8686597839827\nStep: 305, Net Worth: 938.8686597839827\nStep: 306, Net Worth: 929.0238996022118\nStep: 307, Net Worth: 929.0238996022118\nStep: 308, Net Worth: 914.1111515391829\nStep: 309, Net Worth: 911.2898208245557\nStep: 310, Net Worth: 911.2898208245557\nStep: 311, Net Worth: 905.5158630347562\nStep: 312, Net Worth: 899.5428032522051\nStep: 313, Net Worth: 894.167049447909\nStep: 314, Net Worth: 888.3930916581096\nStep: 315, Net Worth: 887.9948876726062\nStep: 316, Net Worth: 887.9948876726062\nStep: 317, Net Worth: 887.9948876726062\nStep: 318, Net Worth: 887.9948876726062\nStep: 319, Net Worth: 887.9948876726062\nStep: 320, Net Worth: 887.9948876726062\nStep: 321, Net Worth: 887.7904218914244\nStep: 322, Net Worth: 887.7904218914244\nStep: 323, Net Worth: 887.7904218914244\nStep: 324, Net Worth: 887.7904218914244\nStep: 325, Net Worth: 894.5304677990224\nStep: 326, Net Worth: 914.7506055218165\nStep: 327, Net Worth: 935.3919961138354\nStep: 328, Net Worth: 926.1244329908881\nStep: 329, Net Worth: 926.1244329908881\nStep: 330, Net Worth: 926.1244329908881\nStep: 331, Net Worth: 890.7602924678757\nStep: 332, Net Worth: 872.038100426281\nStep: 333, Net Worth: 872.038100426281\nStep: 334, Net Worth: 870.9861847442228\nStep: 335, Net Worth: 876.6665294273372\nStep: 336, Net Worth: 876.6665294273372\nStep: 337, Net Worth: 876.6665294273372\nStep: 338, Net Worth: 875.7673842689502\nStep: 339, Net Worth: 908.1366099708827\nStep: 340, Net Worth: 908.1366099708827\nStep: 341, Net Worth: 891.8960483520991\nStep: 342, Net Worth: 918.3703885251846\nStep: 343, Net Worth: 944.84472869827\nStep: 344, Net Worth: 936.613211165462\nStep: 345, Net Worth: 962.6426044448822\nStep: 346, Net Worth: 992.8989932141228\nStep: 347, Net Worth: 972.4314361055189\nStep: 348, Net Worth: 970.429175084025\nStep: 349, Net Worth: 957.9706620613965\nStep: 350, Net Worth: 960.6403434233883\nStep: 351, Net Worth: 942.8424676767762\nStep: 352, Net Worth: 942.8424676767762\nStep: 353, Net Worth: 942.8424676767762\nStep: 354, Net Worth: 942.8424676767762\nStep: 355, Net Worth: 942.8424676767762\nStep: 356, Net Worth: 942.8424676767762\nStep: 357, Net Worth: 942.8424676767762\nStep: 358, Net Worth: 942.8424676767762\nStep: 359, Net Worth: 942.8424676767762\nStep: 360, Net Worth: 942.8424676767762\nStep: 361, Net Worth: 928.8625477622688\nStep: 362, Net Worth: 919.6953871625918\nStep: 363, Net Worth: 925.42486253739\nStep: 364, Net Worth: 904.1112141431411\nStep: 365, Net Worth: 904.1112141431411\nStep: 366, Net Worth: 904.1112141431411\nStep: 367, Net Worth: 904.1112141431411\nStep: 368, Net Worth: 904.1112141431411\nStep: 369, Net Worth: 904.1112141431411\nStep: 370, Net Worth: 902.5876757466552\nStep: 371, Net Worth: 917.8230597115131\nStep: 372, Net Worth: 922.3936749009705\nStep: 373, Net Worth: 903.0229724313655\nStep: 374, Net Worth: 880.6051931687888\nStep: 375, Net Worth: 880.6051931687888\nStep: 376, Net Worth: 880.6051931687888\nStep: 377, Net Worth: 887.1540666926022\nStep: 378, Net Worth: 891.9565739433988\nStep: 379, Net Worth: 909.4202366735682\nStep: 380, Net Worth: 909.6385324576953\nStep: 381, Net Worth: 926.010716267229\nStep: 382, Net Worth: 921.4265048005595\nStep: 383, Net Worth: 921.4265048005595\nStep: 384, Net Worth: 921.4265048005595\nStep: 385, Net Worth: 917.6986964755691\nStep: 386, Net Worth: 910.9009283535279\nStep: 387, Net Worth: 924.2771817549639\nStep: 388, Net Worth: 924.2771817549639\nStep: 389, Net Worth: 936.1241276875024\nStep: 390, Net Worth: 936.1241276875024\nStep: 391, Net Worth: 936.1241276875024\nStep: 392, Net Worth: 920.3710015184872\nStep: 393, Net Worth: 920.3710015184872\nStep: 394, Net Worth: 923.1697905289528\nStep: 395, Net Worth: 923.1697905289528\nStep: 396, Net Worth: 911.3892015546854\nStep: 397, Net Worth: 906.4627734381736\nStep: 398, Net Worth: 909.8898538670513\nnet_worth: 912.0317791351\ndefaultdict(<function QLearningAgent.__init__.<locals>.<lambda> at 0x00000173E04ED700>, {'0.0': [1.1627360188668883, 1.2631020286104384, 0.588522238871242], '1.0': [1.8433175569939202, 0.26787288066872617, 0.03776884318915667]})\naverage_net_worth: 912.0317791351\n"
     ]
    }
   ],
   "source": [
    "train_env = CustomEnv.CustomEnv(df=train_df)\n",
    "test_env = CustomEnv.CustomEnv(df=test_df)\n",
    "\n",
    "agent = QLearningAgent(actions=list(range(len(train_env.action_space))))\n",
    "\n",
    "q_learning(agent,train_env, train_episodes = 1,is_train=True)\n",
    "q_learning(agent,test_env, train_episodes = 1,is_train=False)"
   ]
  }
 ]
}