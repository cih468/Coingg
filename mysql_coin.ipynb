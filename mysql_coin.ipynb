{
 "cells": [
  {
   "cell_type": "code",
   "execution_count": 4,
   "source": [
    "import pymysql"
   ],
   "outputs": [],
   "metadata": {}
  },
  {
   "cell_type": "code",
   "execution_count": 9,
   "source": [
    "db = pymysql.connect(host='localhost',port=3306,user='root',passwd='middle12!!',db='coin_db')\n",
    "cursor = db.cursor()\n",
    "cursor"
   ],
   "outputs": [
    {
     "output_type": "execute_result",
     "data": {
      "text/plain": [
       "<pymysql.cursors.Cursor at 0x10e4df070>"
      ]
     },
     "metadata": {},
     "execution_count": 9
    }
   ],
   "metadata": {}
  },
  {
   "cell_type": "code",
   "execution_count": null,
   "source": [
    "sql=\"CREATE TABLE \""
   ],
   "outputs": [],
   "metadata": {}
  }
 ],
 "metadata": {
  "orig_nbformat": 4,
  "language_info": {
   "name": "python",
   "version": "3.8.10",
   "mimetype": "text/x-python",
   "codemirror_mode": {
    "name": "ipython",
    "version": 3
   },
   "pygments_lexer": "ipython3",
   "nbconvert_exporter": "python",
   "file_extension": ".py"
  },
  "kernelspec": {
   "name": "python3",
   "display_name": "Python 3.8.10 64-bit ('tf24': conda)"
  },
  "interpreter": {
   "hash": "adae63af879de78e2281cafeec5929a759c067eb7ff65c363b66913ad52ce946"
  }
 },
 "nbformat": 4,
 "nbformat_minor": 2
}