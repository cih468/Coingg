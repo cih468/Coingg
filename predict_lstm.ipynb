{
 "metadata": {
  "language_info": {
   "codemirror_mode": {
    "name": "ipython",
    "version": 3
   },
   "file_extension": ".py",
   "mimetype": "text/x-python",
   "name": "python",
   "nbconvert_exporter": "python",
   "pygments_lexer": "ipython3",
   "version": "3.8.5"
  },
  "orig_nbformat": 2,
  "kernelspec": {
   "name": "python385jvsc74a57bd0c6ebe5119101664c6bf479a8978bbe46bfb479c74e7a4ffb57bc4c220aab2ffb",
   "display_name": "Python 3.8.5 64-bit ('base': conda)"
  }
 },
 "nbformat": 4,
 "nbformat_minor": 2,
 "cells": [
  {
   "cell_type": "code",
   "execution_count": 1,
   "metadata": {},
   "outputs": [],
   "source": [
    "# !pip install pyjwt==1.6.4\n",
    "import os\n",
    "import jwt\n",
    "import uuid\n",
    "import hashlib\n",
    "from urllib.parse import urlencode\n",
    "import pandas as pd\n",
    "import matplotlib.pyplot as plt\n",
    "\n",
    "import requests"
   ]
  },
  {
   "cell_type": "code",
   "execution_count": null,
   "metadata": {},
   "outputs": [],
   "source": [
    "def getCoinDF(market, timedelta, count):\n",
    "    url = f\"https://api.upbit.com/v1/candles/minutes/{timedelta}\"\n",
    "\n",
    "    query = {\"market\":f\"{market}\", \"count\":f\"{count}\"}\n",
    "\n",
    "    response = requests.request(\"GET\", url, params=query)\n",
    "\n",
    "    df = pd.read_json(response.text)\n",
    "\n",
    "    while(len(df)<100):\n",
    "        if len(df)%1000==0:\n",
    "            print(len(df))\n",
    "        ts = df['timestamp'].iloc[-1]\n",
    "        last = f'{ts.year:02d}-{ts.month:02d}-{ts.day:02d} {ts.hour:02d}:{ts.minute:02d}:{round(ts.second):02d}'\n",
    "        url = f\"https://api.upbit.com/v1/candles/minutes/{timedelta}\"\n",
    "\n",
    "        querystring = {\"market\":f\"{market}\",\"count\":f\"{count}\",'to':last}\n",
    "\n",
    "        response = requests.request(\"GET\", url, params=querystring)\n",
    "\n",
    "        if response.text == \"Too many API requests.\" :\n",
    "            continue\n",
    "\n",
    "        df_app = pd.read_json(response.text)\n",
    "        df = pd.concat([df,df_app], ignore_index=True)\n",
    "\n",
    "    return df\n",
    "\n",
    "\n",
    "#coins = ['KRW-BTC','KRW-ETH','KRW-XRP']\n",
    "coins = ['KRW-ETH']\n",
    "df = {}\n",
    "for coin in coins:\n",
    "    print(coin)\n",
    "    df[coin] = getCoinDF(coin,30,200)\n",
    "  \n",
    "df['KRW-ETH']"
   ]
  },
  {
   "cell_type": "code",
   "execution_count": null,
   "metadata": {},
   "outputs": [],
   "source": [
    "df['KRW-ETH'] = df['KRW-ETH'].loc[::-1,:]\n",
    "df['KRW-ETH'] = df['KRW-ETH'].reset_index()"
   ]
  },
  {
   "cell_type": "code",
   "execution_count": null,
   "metadata": {},
   "outputs": [],
   "source": [
    "train_index = -30\n",
    "series = df['KRW-ETH']['opening_price'][-30+train_index:train_index].reset_index()['opening_price']\n",
    "test = df['KRW-ETH']['opening_price'][train_index:train_index+1].reset_index()['opening_price']"
   ]
  },
  {
   "cell_type": "code",
   "execution_count": null,
   "metadata": {},
   "outputs": [],
   "source": [
    "import tensorflow as tf\n",
    "from tensorflow import keras\n",
    "from tensorflow.keras import layers\n",
    "\n",
    "model = keras.Sequential()\n",
    "\n",
    "\n",
    "model.add(layers.LSTM(128))\n",
    "\n",
    "model.add(layers.Dense(256, activation='linear'))\n",
    "  \n",
    "model.add(tf.keras.layers.Dense(1))\n",
    "\n",
    "model.compile('Adam', loss='mse')"
   ]
  }
 ]
}