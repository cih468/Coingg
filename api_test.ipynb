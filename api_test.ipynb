{
 "cells": [
  {
   "cell_type": "code",
   "execution_count": 8,
   "source": [
    "import requests\n",
    "base_url = \"http://172.30.1.20:5000/coin/tierlist\"\n",
    "\n",
    "req = requests.get(base_url)\n",
    "req.json()[:3]"
   ],
   "outputs": [
    {
     "output_type": "execute_result",
     "data": {
      "text/plain": [
       "[{'name': '엑시인피니티', 'rise': 183.79, 'volume': 366.22, 'rank': 1, 'tier': 0},\n",
       " {'name': '샌드박스', 'rise': 64.03, 'volume': 81.88, 'rank': 2, 'tier': 1},\n",
       " {'name': '던프로토콜', 'rise': 56.8, 'volume': 36.12, 'rank': 3, 'tier': 2}]"
      ]
     },
     "metadata": {},
     "execution_count": 8
    }
   ],
   "metadata": {}
  },
  {
   "cell_type": "code",
   "execution_count": 31,
   "source": [
    "import pandas as pd\n",
    "import json\n",
    "\n",
    "df = pd.read_csv('tier_data/dataframe/all.csv')\n",
    "df_coin = df[df['alias']=='BTC']    \n",
    "df_coin = df_coin[['rise','volume']]\n",
    "\n",
    "json_dict = {}\n",
    "for col in df_coin.columns:\n",
    "    json_dict[col] = json.dumps(list(df_coin[col]))\n",
    "json_dict"
   ],
   "outputs": [
    {
     "output_type": "execute_result",
     "data": {
      "text/plain": [
       "{'rise': '[\"26.5012911378\", \"26.5012911378\"]',\n",
       " 'volume': '[\"68.8112059309\", \"68.8112059309\"]'}"
      ]
     },
     "metadata": {},
     "execution_count": 31
    }
   ],
   "metadata": {}
  },
  {
   "cell_type": "code",
   "execution_count": null,
   "source": [],
   "outputs": [],
   "metadata": {}
  }
 ],
 "metadata": {
  "orig_nbformat": 4,
  "language_info": {
   "name": "python",
   "version": "3.8.10",
   "mimetype": "text/x-python",
   "codemirror_mode": {
    "name": "ipython",
    "version": 3
   },
   "pygments_lexer": "ipython3",
   "nbconvert_exporter": "python",
   "file_extension": ".py"
  },
  "kernelspec": {
   "name": "python3",
   "display_name": "Python 3.8.10 64-bit ('tf24': conda)"
  },
  "interpreter": {
   "hash": "adae63af879de78e2281cafeec5929a759c067eb7ff65c363b66913ad52ce946"
  }
 },
 "nbformat": 4,
 "nbformat_minor": 2
}