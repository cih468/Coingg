{
 "metadata": {
  "language_info": {
   "codemirror_mode": {
    "name": "ipython",
    "version": 3
   },
   "file_extension": ".py",
   "mimetype": "text/x-python",
   "name": "python",
   "nbconvert_exporter": "python",
   "pygments_lexer": "ipython3",
   "version": "3.8.10"
  },
  "orig_nbformat": 2,
  "kernelspec": {
   "name": "python3",
   "display_name": "Python 3.8.10 64-bit ('tf24': conda)"
  },
  "interpreter": {
   "hash": "adae63af879de78e2281cafeec5929a759c067eb7ff65c363b66913ad52ce946"
  }
 },
 "nbformat": 4,
 "nbformat_minor": 2,
 "cells": [
  {
   "cell_type": "code",
   "execution_count": 1,
   "metadata": {},
   "outputs": [],
   "source": [
    "# !pip install pyjwt==1.6.4\n",
    "import getCoinInfo\n",
    "\n",
    "import os\n",
    "import jwt\n",
    "import uuid\n",
    "import hashlib\n",
    "from urllib.parse import urlencode\n",
    "import pandas as pd\n",
    "import matplotlib.pyplot as plt\n",
    "\n",
    "import requests\n",
    "import warnings\n",
    "warnings.filterwarnings('ignore')"
   ]
  },
  {
   "cell_type": "code",
   "execution_count": 2,
   "metadata": {},
   "outputs": [],
   "source": [
    "#secretKey = '9YJKW1Mf2sbxS49CxK64mAcg1K2jWQlz6nBj03xR'\n",
    "#accessKey = 'D3lErjSf7TR51Gf79eCC9hwsZBkPajT9lOPxQxsr'\n",
    "\n",
    "accessKey = '0OZyHGPI4paErDy83m2T0XtXLPZlVL2xbafNpadp'\n",
    "secretKey = 'V3SPlDriFU1StpEtSIgtfGoiQ9de2hKqkjDkw0wx'"
   ]
  },
  {
   "cell_type": "code",
   "execution_count": 3,
   "metadata": {},
   "outputs": [
    {
     "output_type": "stream",
     "name": "stdout",
     "text": [
      "{'error': {'message': '인증된 IP가 아닙니다.', 'name': 'no_authorization_i_p'}}\n"
     ]
    }
   ],
   "source": [
    "server_url = 'https://api.upbit.com'\n",
    "\n",
    "payload = {\n",
    "    'access_key': accessKey,\n",
    "    'nonce': str(uuid.uuid4()),\n",
    "}\n",
    "\n",
    "jwt_token = jwt.encode(payload, secretKey)\n",
    "authorize_token = 'Bearer {}'.format(jwt_token)\n",
    "headers = {\"Authorization\": authorize_token}\n",
    "\n",
    "res = requests.get(server_url + \"/v1/accounts\", headers=headers)\n",
    "\n",
    "print(res.json())"
   ]
  },
  {
   "cell_type": "code",
   "execution_count": 4,
   "metadata": {},
   "outputs": [],
   "source": [
    "kor_name_dict = {}"
   ]
  },
  {
   "cell_type": "code",
   "execution_count": 5,
   "metadata": {
    "tags": []
   },
   "outputs": [
    {
     "output_type": "execute_result",
     "data": {
      "text/plain": [
       "102"
      ]
     },
     "metadata": {},
     "execution_count": 5
    }
   ],
   "source": [
    "#종목 조회\n",
    "url = \"https://api.upbit.com/v1/market/all\"\n",
    "\n",
    "querystring = {\"isDetails\":\"false\"}\n",
    "\n",
    "response = requests.request(\"GET\", url, params=querystring)\n",
    "\n",
    "coin_list = response.json()\n",
    "coins = []\n",
    "for coin in coin_list:\n",
    "    if coin['market'].split('-')[0] =='KRW':\n",
    "        kor_name_dict[coin['market']] = coin['korean_name']\n",
    "        coins.append(coin['market'])\n",
    "len(coins)"
   ]
  },
  {
   "cell_type": "code",
   "execution_count": 6,
   "metadata": {},
   "outputs": [
    {
     "output_type": "stream",
     "name": "stdout",
     "text": [
      "[{\"market\":\"KRW-BTC\",\"candle_date_time_utc\":\"2021-07-20T00:00:00\",\"candle_date_time_kst\":\"2021-07-20T09:00:00\",\"opening_price\":36799000.00000000,\"high_price\":36937000.00000000,\"low_price\":34820000.00000000,\"trade_price\":35189000.00000000,\"timestamp\":1626779995867,\"candle_acc_trade_price\":180058967317.57698000,\"candle_acc_trade_volume\":5058.26743886,\"prev_closing_price\":36799000.00000000,\"change_price\":-1610000.00000000,\"change_rate\":-0.0437511889}]\n"
     ]
    }
   ],
   "source": [
    "url = \"https://api.upbit.com/v1/candles/days\"\n",
    "\n",
    "query = {\"count\":\"1\",\"market\": \"KRW-BTC\"}\n",
    "# m = hashlib.sha512()\n",
    "# m.update(urlencode(query).encode())\n",
    "# query_hash = m.hexdigest()\n",
    "# payload = {\n",
    "#     'access_key': accessKey,\n",
    "#     'nonce': str(uuid.uuid4()),\n",
    "#     'query_hash': query_hash,\n",
    "#     'query_hash_alg': 'SHA512'\n",
    "# }\n",
    "\n",
    "# jwt_token = jwt.encode(payload, secretKey)\n",
    "# authorize_token = 'Bearer {}'.format(jwt_token)\n",
    "# headers = {\"Authorization\": authorize_token}\n",
    "\n",
    "response = requests.request(\"GET\", url, params =  query)\n",
    "\n",
    "print(response.text)"
   ]
  },
  {
   "cell_type": "code",
   "execution_count": 8,
   "metadata": {
    "tags": []
   },
   "outputs": [
    {
     "output_type": "stream",
     "name": "stdout",
     "text": [
      "KRW-BTC\n",
      "KRW-ETH\n",
      "KRW-NEO\n",
      "KRW-MTL\n",
      "KRW-LTC\n",
      "KRW-XRP\n",
      "KRW-ETC\n",
      "KRW-OMG\n",
      "KRW-SNT\n",
      "KRW-WAVES\n",
      "KRW-XEM\n",
      "KRW-QTUM\n",
      "KRW-LSK\n",
      "KRW-STEEM\n",
      "KRW-XLM\n",
      "KRW-ARDR\n",
      "KRW-ARK\n",
      "KRW-STORJ\n",
      "KRW-GRS\n",
      "KRW-REP\n",
      "KRW-ADA\n",
      "KRW-SBD\n",
      "KRW-POWR\n",
      "KRW-BTG\n",
      "KRW-ICX\n",
      "KRW-EOS\n",
      "KRW-TRX\n",
      "KRW-SC\n",
      "KRW-ONT\n",
      "KRW-ZIL\n",
      "KRW-POLY\n",
      "KRW-ZRX\n",
      "KRW-LOOM\n",
      "KRW-BCH\n",
      "KRW-BAT\n",
      "KRW-IOST\n",
      "KRW-RFR\n",
      "KRW-CVC\n",
      "KRW-IQ\n",
      "KRW-IOTA\n",
      "KRW-MFT\n",
      "KRW-ONG\n",
      "KRW-GAS\n",
      "KRW-UPP\n",
      "KRW-ELF\n",
      "KRW-KNC\n",
      "KRW-BSV\n",
      "KRW-THETA\n",
      "KRW-QKC\n",
      "KRW-BTT\n",
      "KRW-MOC\n",
      "KRW-ENJ\n",
      "KRW-TFUEL\n",
      "KRW-MANA\n",
      "KRW-ANKR\n",
      "KRW-AERGO\n",
      "KRW-ATOM\n",
      "KRW-TT\n",
      "KRW-CRE\n",
      "KRW-MBL\n",
      "KRW-WAXP\n",
      "KRW-HBAR\n",
      "KRW-MED\n",
      "KRW-MLK\n",
      "KRW-STPT\n",
      "KRW-ORBS\n",
      "KRW-VET\n",
      "KRW-CHZ\n",
      "KRW-STMX\n",
      "KRW-DKA\n",
      "KRW-HIVE\n",
      "KRW-KAVA\n",
      "KRW-AHT\n",
      "KRW-LINK\n",
      "KRW-XTZ\n",
      "KRW-BORA\n",
      "KRW-JST\n",
      "KRW-CRO\n",
      "KRW-TON\n",
      "KRW-SXP\n",
      "KRW-HUNT\n",
      "KRW-PLA\n",
      "KRW-DOT\n",
      "KRW-SRM\n",
      "KRW-MVL\n",
      "KRW-STRAX\n",
      "KRW-AQT\n",
      "KRW-BCHA\n",
      "KRW-GLM\n",
      "KRW-SSX\n",
      "KRW-META\n",
      "KRW-FCT2\n",
      "KRW-CBK\n",
      "KRW-SAND\n",
      "KRW-HUM\n",
      "KRW-DOGE\n",
      "KRW-STRK\n",
      "KRW-PUNDIX\n",
      "KRW-FLOW\n",
      "KRW-DAWN\n",
      "KRW-AXS\n",
      "KRW-STX\n"
     ]
    },
    {
     "output_type": "execute_result",
     "data": {
      "text/plain": [
       "      market candle_date_time_utc candle_date_time_kst  opening_price  \\\n",
       "0    KRW-BTC  2021-07-20T11:00:00  2021-07-20T20:00:00       35345000   \n",
       "1    KRW-BTC  2021-07-20T10:30:00  2021-07-20T19:30:00       35271000   \n",
       "2    KRW-BTC  2021-07-20T10:00:00  2021-07-20T19:00:00       34909000   \n",
       "3    KRW-BTC  2021-07-20T09:30:00  2021-07-20T18:30:00       35296000   \n",
       "4    KRW-BTC  2021-07-20T09:00:00  2021-07-20T18:00:00       35260000   \n",
       "..       ...                  ...                  ...            ...   \n",
       "395  KRW-BTC  2021-07-12T06:00:00  2021-07-12T15:00:00       40217000   \n",
       "396  KRW-BTC  2021-07-12T05:30:00  2021-07-12T14:30:00       40151000   \n",
       "397  KRW-BTC  2021-07-12T05:00:00  2021-07-12T14:00:00       40194000   \n",
       "398  KRW-BTC  2021-07-12T04:30:00  2021-07-12T13:30:00       40400000   \n",
       "399  KRW-BTC  2021-07-12T04:00:00  2021-07-12T13:00:00       40386000   \n",
       "\n",
       "     high_price  low_price  trade_price               timestamp  \\\n",
       "0      35400000   35189000     35189000 2021-07-20 11:20:00.767   \n",
       "1      35350000   35186000     35345000 2021-07-20 10:59:56.312   \n",
       "2      35299000   34820000     35271000 2021-07-20 10:29:57.513   \n",
       "3      35333000   34876000     34907000 2021-07-20 10:00:00.066   \n",
       "4      35391000   35254000     35296000 2021-07-20 09:30:00.052   \n",
       "..          ...        ...          ...                     ...   \n",
       "395    40250000   40160000     40214000 2021-07-12 06:29:57.348   \n",
       "396    40297000   40133000     40232000 2021-07-12 05:59:57.056   \n",
       "397    40215000   40090000     40151000 2021-07-12 05:29:59.448   \n",
       "398    40400000   40192000     40194000 2021-07-12 04:59:59.985   \n",
       "399    40570000   40320000     40399000 2021-07-12 04:30:00.042   \n",
       "\n",
       "     candle_acc_trade_price  candle_acc_trade_volume  unit  \n",
       "0              2.364043e+09                66.994671    30  \n",
       "1              3.391412e+09                96.121448    30  \n",
       "2              1.267238e+10               361.708185    30  \n",
       "3              1.540563e+10               439.263961    30  \n",
       "4              3.335514e+09                94.509031    30  \n",
       "..                      ...                      ...   ...  \n",
       "395            1.890472e+09                47.032710    30  \n",
       "396            3.624118e+09                90.153953    30  \n",
       "397            4.746350e+09               118.213203    30  \n",
       "398            7.526068e+09               186.793844    30  \n",
       "399            5.519956e+09               136.454861    30  \n",
       "\n",
       "[400 rows x 11 columns]"
      ],
      "text/html": "<div>\n<style scoped>\n    .dataframe tbody tr th:only-of-type {\n        vertical-align: middle;\n    }\n\n    .dataframe tbody tr th {\n        vertical-align: top;\n    }\n\n    .dataframe thead th {\n        text-align: right;\n    }\n</style>\n<table border=\"1\" class=\"dataframe\">\n  <thead>\n    <tr style=\"text-align: right;\">\n      <th></th>\n      <th>market</th>\n      <th>candle_date_time_utc</th>\n      <th>candle_date_time_kst</th>\n      <th>opening_price</th>\n      <th>high_price</th>\n      <th>low_price</th>\n      <th>trade_price</th>\n      <th>timestamp</th>\n      <th>candle_acc_trade_price</th>\n      <th>candle_acc_trade_volume</th>\n      <th>unit</th>\n    </tr>\n  </thead>\n  <tbody>\n    <tr>\n      <th>0</th>\n      <td>KRW-BTC</td>\n      <td>2021-07-20T11:00:00</td>\n      <td>2021-07-20T20:00:00</td>\n      <td>35345000</td>\n      <td>35400000</td>\n      <td>35189000</td>\n      <td>35189000</td>\n      <td>2021-07-20 11:20:00.767</td>\n      <td>2.364043e+09</td>\n      <td>66.994671</td>\n      <td>30</td>\n    </tr>\n    <tr>\n      <th>1</th>\n      <td>KRW-BTC</td>\n      <td>2021-07-20T10:30:00</td>\n      <td>2021-07-20T19:30:00</td>\n      <td>35271000</td>\n      <td>35350000</td>\n      <td>35186000</td>\n      <td>35345000</td>\n      <td>2021-07-20 10:59:56.312</td>\n      <td>3.391412e+09</td>\n      <td>96.121448</td>\n      <td>30</td>\n    </tr>\n    <tr>\n      <th>2</th>\n      <td>KRW-BTC</td>\n      <td>2021-07-20T10:00:00</td>\n      <td>2021-07-20T19:00:00</td>\n      <td>34909000</td>\n      <td>35299000</td>\n      <td>34820000</td>\n      <td>35271000</td>\n      <td>2021-07-20 10:29:57.513</td>\n      <td>1.267238e+10</td>\n      <td>361.708185</td>\n      <td>30</td>\n    </tr>\n    <tr>\n      <th>3</th>\n      <td>KRW-BTC</td>\n      <td>2021-07-20T09:30:00</td>\n      <td>2021-07-20T18:30:00</td>\n      <td>35296000</td>\n      <td>35333000</td>\n      <td>34876000</td>\n      <td>34907000</td>\n      <td>2021-07-20 10:00:00.066</td>\n      <td>1.540563e+10</td>\n      <td>439.263961</td>\n      <td>30</td>\n    </tr>\n    <tr>\n      <th>4</th>\n      <td>KRW-BTC</td>\n      <td>2021-07-20T09:00:00</td>\n      <td>2021-07-20T18:00:00</td>\n      <td>35260000</td>\n      <td>35391000</td>\n      <td>35254000</td>\n      <td>35296000</td>\n      <td>2021-07-20 09:30:00.052</td>\n      <td>3.335514e+09</td>\n      <td>94.509031</td>\n      <td>30</td>\n    </tr>\n    <tr>\n      <th>...</th>\n      <td>...</td>\n      <td>...</td>\n      <td>...</td>\n      <td>...</td>\n      <td>...</td>\n      <td>...</td>\n      <td>...</td>\n      <td>...</td>\n      <td>...</td>\n      <td>...</td>\n      <td>...</td>\n    </tr>\n    <tr>\n      <th>395</th>\n      <td>KRW-BTC</td>\n      <td>2021-07-12T06:00:00</td>\n      <td>2021-07-12T15:00:00</td>\n      <td>40217000</td>\n      <td>40250000</td>\n      <td>40160000</td>\n      <td>40214000</td>\n      <td>2021-07-12 06:29:57.348</td>\n      <td>1.890472e+09</td>\n      <td>47.032710</td>\n      <td>30</td>\n    </tr>\n    <tr>\n      <th>396</th>\n      <td>KRW-BTC</td>\n      <td>2021-07-12T05:30:00</td>\n      <td>2021-07-12T14:30:00</td>\n      <td>40151000</td>\n      <td>40297000</td>\n      <td>40133000</td>\n      <td>40232000</td>\n      <td>2021-07-12 05:59:57.056</td>\n      <td>3.624118e+09</td>\n      <td>90.153953</td>\n      <td>30</td>\n    </tr>\n    <tr>\n      <th>397</th>\n      <td>KRW-BTC</td>\n      <td>2021-07-12T05:00:00</td>\n      <td>2021-07-12T14:00:00</td>\n      <td>40194000</td>\n      <td>40215000</td>\n      <td>40090000</td>\n      <td>40151000</td>\n      <td>2021-07-12 05:29:59.448</td>\n      <td>4.746350e+09</td>\n      <td>118.213203</td>\n      <td>30</td>\n    </tr>\n    <tr>\n      <th>398</th>\n      <td>KRW-BTC</td>\n      <td>2021-07-12T04:30:00</td>\n      <td>2021-07-12T13:30:00</td>\n      <td>40400000</td>\n      <td>40400000</td>\n      <td>40192000</td>\n      <td>40194000</td>\n      <td>2021-07-12 04:59:59.985</td>\n      <td>7.526068e+09</td>\n      <td>186.793844</td>\n      <td>30</td>\n    </tr>\n    <tr>\n      <th>399</th>\n      <td>KRW-BTC</td>\n      <td>2021-07-12T04:00:00</td>\n      <td>2021-07-12T13:00:00</td>\n      <td>40386000</td>\n      <td>40570000</td>\n      <td>40320000</td>\n      <td>40399000</td>\n      <td>2021-07-12 04:30:00.042</td>\n      <td>5.519956e+09</td>\n      <td>136.454861</td>\n      <td>30</td>\n    </tr>\n  </tbody>\n</table>\n<p>400 rows × 11 columns</p>\n</div>"
     },
     "metadata": {},
     "execution_count": 8
    }
   ],
   "source": [
    "df = {}\n",
    "for coin in coins:\n",
    "    print(coin)\n",
    "    df[coin] = getCoinInfo.getCoinDF(coin,30,200,size=24*2*7)\n",
    "  \n",
    "df['KRW-BTC']"
   ]
  },
  {
   "cell_type": "code",
   "execution_count": 9,
   "metadata": {},
   "outputs": [],
   "source": [
    "for coin in coins:\n",
    "    df[coin] = df[coin].loc[::-1,:]\n",
    "    df[coin] = df[coin].reset_index()\n",
    "    df[coin].drop('index',inplace=True,axis=1)"
   ]
  },
  {
   "cell_type": "code",
   "execution_count": 10,
   "metadata": {},
   "outputs": [
    {
     "output_type": "execute_result",
     "data": {
      "text/plain": [
       "        market candle_date_time_utc candle_date_time_kst  opening_price  \\\n",
       "0    KRW-TFUEL  2021-07-12T04:00:00  2021-07-12T13:00:00            401   \n",
       "1    KRW-TFUEL  2021-07-12T04:30:00  2021-07-12T13:30:00            401   \n",
       "2    KRW-TFUEL  2021-07-12T05:00:00  2021-07-12T14:00:00            401   \n",
       "3    KRW-TFUEL  2021-07-12T05:30:00  2021-07-12T14:30:00            400   \n",
       "4    KRW-TFUEL  2021-07-12T06:00:00  2021-07-12T15:00:00            400   \n",
       "..         ...                  ...                  ...            ...   \n",
       "395  KRW-TFUEL  2021-07-20T09:00:00  2021-07-20T18:00:00            278   \n",
       "396  KRW-TFUEL  2021-07-20T09:30:00  2021-07-20T18:30:00            278   \n",
       "397  KRW-TFUEL  2021-07-20T10:00:00  2021-07-20T19:00:00            266   \n",
       "398  KRW-TFUEL  2021-07-20T10:30:00  2021-07-20T19:30:00            267   \n",
       "399  KRW-TFUEL  2021-07-20T11:00:00  2021-07-20T20:00:00            269   \n",
       "\n",
       "     high_price  low_price  trade_price               timestamp  \\\n",
       "0           402        401          401 2021-07-12 04:29:52.559   \n",
       "1           402        400          401 2021-07-12 04:59:59.351   \n",
       "2           401        400          400 2021-07-12 05:29:49.286   \n",
       "3           402        400          401 2021-07-12 05:59:52.675   \n",
       "4           402        400          402 2021-07-12 06:29:59.010   \n",
       "..          ...        ...          ...                     ...   \n",
       "395         281        277          278 2021-07-20 09:29:51.899   \n",
       "396         278        263          265 2021-07-20 09:59:59.237   \n",
       "397         271        264          267 2021-07-20 10:29:59.646   \n",
       "398         270        265          269 2021-07-20 10:59:59.980   \n",
       "399         271        267          269 2021-07-20 11:20:09.217   \n",
       "\n",
       "     candle_acc_trade_price  candle_acc_trade_volume  unit  \n",
       "0              5.319243e+08             1.326036e+06    30  \n",
       "1              4.230692e+08             1.055218e+06    30  \n",
       "2              4.179224e+08             1.043967e+06    30  \n",
       "3              2.870375e+08             7.166520e+05    30  \n",
       "4              2.347384e+08             5.855505e+05    30  \n",
       "..                      ...                      ...   ...  \n",
       "395            3.356228e+08             1.200463e+06    30  \n",
       "396            1.338938e+09             4.938722e+06    30  \n",
       "397            2.443032e+09             9.162870e+06    30  \n",
       "398            1.406512e+09             5.262057e+06    30  \n",
       "399            7.032654e+08             2.610773e+06    30  \n",
       "\n",
       "[400 rows x 11 columns]"
      ],
      "text/html": "<div>\n<style scoped>\n    .dataframe tbody tr th:only-of-type {\n        vertical-align: middle;\n    }\n\n    .dataframe tbody tr th {\n        vertical-align: top;\n    }\n\n    .dataframe thead th {\n        text-align: right;\n    }\n</style>\n<table border=\"1\" class=\"dataframe\">\n  <thead>\n    <tr style=\"text-align: right;\">\n      <th></th>\n      <th>market</th>\n      <th>candle_date_time_utc</th>\n      <th>candle_date_time_kst</th>\n      <th>opening_price</th>\n      <th>high_price</th>\n      <th>low_price</th>\n      <th>trade_price</th>\n      <th>timestamp</th>\n      <th>candle_acc_trade_price</th>\n      <th>candle_acc_trade_volume</th>\n      <th>unit</th>\n    </tr>\n  </thead>\n  <tbody>\n    <tr>\n      <th>0</th>\n      <td>KRW-TFUEL</td>\n      <td>2021-07-12T04:00:00</td>\n      <td>2021-07-12T13:00:00</td>\n      <td>401</td>\n      <td>402</td>\n      <td>401</td>\n      <td>401</td>\n      <td>2021-07-12 04:29:52.559</td>\n      <td>5.319243e+08</td>\n      <td>1.326036e+06</td>\n      <td>30</td>\n    </tr>\n    <tr>\n      <th>1</th>\n      <td>KRW-TFUEL</td>\n      <td>2021-07-12T04:30:00</td>\n      <td>2021-07-12T13:30:00</td>\n      <td>401</td>\n      <td>402</td>\n      <td>400</td>\n      <td>401</td>\n      <td>2021-07-12 04:59:59.351</td>\n      <td>4.230692e+08</td>\n      <td>1.055218e+06</td>\n      <td>30</td>\n    </tr>\n    <tr>\n      <th>2</th>\n      <td>KRW-TFUEL</td>\n      <td>2021-07-12T05:00:00</td>\n      <td>2021-07-12T14:00:00</td>\n      <td>401</td>\n      <td>401</td>\n      <td>400</td>\n      <td>400</td>\n      <td>2021-07-12 05:29:49.286</td>\n      <td>4.179224e+08</td>\n      <td>1.043967e+06</td>\n      <td>30</td>\n    </tr>\n    <tr>\n      <th>3</th>\n      <td>KRW-TFUEL</td>\n      <td>2021-07-12T05:30:00</td>\n      <td>2021-07-12T14:30:00</td>\n      <td>400</td>\n      <td>402</td>\n      <td>400</td>\n      <td>401</td>\n      <td>2021-07-12 05:59:52.675</td>\n      <td>2.870375e+08</td>\n      <td>7.166520e+05</td>\n      <td>30</td>\n    </tr>\n    <tr>\n      <th>4</th>\n      <td>KRW-TFUEL</td>\n      <td>2021-07-12T06:00:00</td>\n      <td>2021-07-12T15:00:00</td>\n      <td>400</td>\n      <td>402</td>\n      <td>400</td>\n      <td>402</td>\n      <td>2021-07-12 06:29:59.010</td>\n      <td>2.347384e+08</td>\n      <td>5.855505e+05</td>\n      <td>30</td>\n    </tr>\n    <tr>\n      <th>...</th>\n      <td>...</td>\n      <td>...</td>\n      <td>...</td>\n      <td>...</td>\n      <td>...</td>\n      <td>...</td>\n      <td>...</td>\n      <td>...</td>\n      <td>...</td>\n      <td>...</td>\n      <td>...</td>\n    </tr>\n    <tr>\n      <th>395</th>\n      <td>KRW-TFUEL</td>\n      <td>2021-07-20T09:00:00</td>\n      <td>2021-07-20T18:00:00</td>\n      <td>278</td>\n      <td>281</td>\n      <td>277</td>\n      <td>278</td>\n      <td>2021-07-20 09:29:51.899</td>\n      <td>3.356228e+08</td>\n      <td>1.200463e+06</td>\n      <td>30</td>\n    </tr>\n    <tr>\n      <th>396</th>\n      <td>KRW-TFUEL</td>\n      <td>2021-07-20T09:30:00</td>\n      <td>2021-07-20T18:30:00</td>\n      <td>278</td>\n      <td>278</td>\n      <td>263</td>\n      <td>265</td>\n      <td>2021-07-20 09:59:59.237</td>\n      <td>1.338938e+09</td>\n      <td>4.938722e+06</td>\n      <td>30</td>\n    </tr>\n    <tr>\n      <th>397</th>\n      <td>KRW-TFUEL</td>\n      <td>2021-07-20T10:00:00</td>\n      <td>2021-07-20T19:00:00</td>\n      <td>266</td>\n      <td>271</td>\n      <td>264</td>\n      <td>267</td>\n      <td>2021-07-20 10:29:59.646</td>\n      <td>2.443032e+09</td>\n      <td>9.162870e+06</td>\n      <td>30</td>\n    </tr>\n    <tr>\n      <th>398</th>\n      <td>KRW-TFUEL</td>\n      <td>2021-07-20T10:30:00</td>\n      <td>2021-07-20T19:30:00</td>\n      <td>267</td>\n      <td>270</td>\n      <td>265</td>\n      <td>269</td>\n      <td>2021-07-20 10:59:59.980</td>\n      <td>1.406512e+09</td>\n      <td>5.262057e+06</td>\n      <td>30</td>\n    </tr>\n    <tr>\n      <th>399</th>\n      <td>KRW-TFUEL</td>\n      <td>2021-07-20T11:00:00</td>\n      <td>2021-07-20T20:00:00</td>\n      <td>269</td>\n      <td>271</td>\n      <td>267</td>\n      <td>269</td>\n      <td>2021-07-20 11:20:09.217</td>\n      <td>7.032654e+08</td>\n      <td>2.610773e+06</td>\n      <td>30</td>\n    </tr>\n  </tbody>\n</table>\n<p>400 rows × 11 columns</p>\n</div>"
     },
     "metadata": {},
     "execution_count": 10
    }
   ],
   "source": [
    "df['KRW-TFUEL']"
   ]
  },
  {
   "cell_type": "code",
   "execution_count": 11,
   "metadata": {},
   "outputs": [],
   "source": [
    "df_tier = pd.DataFrame(columns=['coin','rate','trade_price'])\n",
    "df_tier['coin'] = coins\n",
    "df_tier['name'] = df_tier['coin'].map(kor_name_dict)\n",
    "df_tier.set_index('coin',inplace=True)"
   ]
  },
  {
   "cell_type": "code",
   "execution_count": 12,
   "metadata": {},
   "outputs": [
    {
     "output_type": "execute_result",
     "data": {
      "text/plain": [
       "                rate trade_price        name    tier_val\n",
       "coin                                                    \n",
       "KRW-REP    -5.583195   38.220111          어거   -17.61184\n",
       "KRW-GLM    -2.710027    1.587951          골렘   -25.51232\n",
       "KRW-XEM    -6.206897   23.986506           넴   -38.08246\n",
       "KRW-HBAR   -5.445545    3.819771    헤데라해시그래프  -50.635675\n",
       "KRW-AXS   -17.925856  122.708305      엑시인피니티  -56.550259\n",
       "KRW-TON    -9.359606    20.38071           톤  -73.215349\n",
       "KRW-BTC   -12.868321   42.791295        비트코인  -85.891912\n",
       "KRW-TT     -9.552846    5.234988        썬더토큰  -90.293467\n",
       "KRW-SAND  -16.911765   56.321917        샌드박스  -112.79573\n",
       "KRW-MLK   -16.073059   40.934618          밀크 -119.795976\n",
       "KRW-SBD   -13.301172   12.523555        스팀달러 -120.488161\n",
       "KRW-BCHA   -13.29053    9.064208  비트코인캐시에이비씨 -123.841089\n",
       "KRW-HUNT  -13.043478    5.080234          헌트 -125.354549\n",
       "KRW-ETH   -18.110236   44.439808        이더리움 -136.662554\n",
       "KRW-XRP   -18.181818    42.63905          리플 -139.179132\n",
       "KRW-WAVES -15.457788    3.412141         웨이브 -151.165743\n",
       "KRW-GAS   -17.248603   17.675681          가스 -154.810353\n",
       "KRW-HIVE  -16.531165    9.094004         하이브 -156.217649\n",
       "KRW-ETC   -20.821215   35.447111     이더리움클래식 -172.765036\n",
       "KRW-XLM   -18.088737    4.491842       스텔라루멘  -176.39553"
      ],
      "text/html": "<div>\n<style scoped>\n    .dataframe tbody tr th:only-of-type {\n        vertical-align: middle;\n    }\n\n    .dataframe tbody tr th {\n        vertical-align: top;\n    }\n\n    .dataframe thead th {\n        text-align: right;\n    }\n</style>\n<table border=\"1\" class=\"dataframe\">\n  <thead>\n    <tr style=\"text-align: right;\">\n      <th></th>\n      <th>rate</th>\n      <th>trade_price</th>\n      <th>name</th>\n      <th>tier_val</th>\n    </tr>\n    <tr>\n      <th>coin</th>\n      <th></th>\n      <th></th>\n      <th></th>\n      <th></th>\n    </tr>\n  </thead>\n  <tbody>\n    <tr>\n      <th>KRW-REP</th>\n      <td>-5.583195</td>\n      <td>38.220111</td>\n      <td>어거</td>\n      <td>-17.61184</td>\n    </tr>\n    <tr>\n      <th>KRW-GLM</th>\n      <td>-2.710027</td>\n      <td>1.587951</td>\n      <td>골렘</td>\n      <td>-25.51232</td>\n    </tr>\n    <tr>\n      <th>KRW-XEM</th>\n      <td>-6.206897</td>\n      <td>23.986506</td>\n      <td>넴</td>\n      <td>-38.08246</td>\n    </tr>\n    <tr>\n      <th>KRW-HBAR</th>\n      <td>-5.445545</td>\n      <td>3.819771</td>\n      <td>헤데라해시그래프</td>\n      <td>-50.635675</td>\n    </tr>\n    <tr>\n      <th>KRW-AXS</th>\n      <td>-17.925856</td>\n      <td>122.708305</td>\n      <td>엑시인피니티</td>\n      <td>-56.550259</td>\n    </tr>\n    <tr>\n      <th>KRW-TON</th>\n      <td>-9.359606</td>\n      <td>20.38071</td>\n      <td>톤</td>\n      <td>-73.215349</td>\n    </tr>\n    <tr>\n      <th>KRW-BTC</th>\n      <td>-12.868321</td>\n      <td>42.791295</td>\n      <td>비트코인</td>\n      <td>-85.891912</td>\n    </tr>\n    <tr>\n      <th>KRW-TT</th>\n      <td>-9.552846</td>\n      <td>5.234988</td>\n      <td>썬더토큰</td>\n      <td>-90.293467</td>\n    </tr>\n    <tr>\n      <th>KRW-SAND</th>\n      <td>-16.911765</td>\n      <td>56.321917</td>\n      <td>샌드박스</td>\n      <td>-112.79573</td>\n    </tr>\n    <tr>\n      <th>KRW-MLK</th>\n      <td>-16.073059</td>\n      <td>40.934618</td>\n      <td>밀크</td>\n      <td>-119.795976</td>\n    </tr>\n    <tr>\n      <th>KRW-SBD</th>\n      <td>-13.301172</td>\n      <td>12.523555</td>\n      <td>스팀달러</td>\n      <td>-120.488161</td>\n    </tr>\n    <tr>\n      <th>KRW-BCHA</th>\n      <td>-13.29053</td>\n      <td>9.064208</td>\n      <td>비트코인캐시에이비씨</td>\n      <td>-123.841089</td>\n    </tr>\n    <tr>\n      <th>KRW-HUNT</th>\n      <td>-13.043478</td>\n      <td>5.080234</td>\n      <td>헌트</td>\n      <td>-125.354549</td>\n    </tr>\n    <tr>\n      <th>KRW-ETH</th>\n      <td>-18.110236</td>\n      <td>44.439808</td>\n      <td>이더리움</td>\n      <td>-136.662554</td>\n    </tr>\n    <tr>\n      <th>KRW-XRP</th>\n      <td>-18.181818</td>\n      <td>42.63905</td>\n      <td>리플</td>\n      <td>-139.179132</td>\n    </tr>\n    <tr>\n      <th>KRW-WAVES</th>\n      <td>-15.457788</td>\n      <td>3.412141</td>\n      <td>웨이브</td>\n      <td>-151.165743</td>\n    </tr>\n    <tr>\n      <th>KRW-GAS</th>\n      <td>-17.248603</td>\n      <td>17.675681</td>\n      <td>가스</td>\n      <td>-154.810353</td>\n    </tr>\n    <tr>\n      <th>KRW-HIVE</th>\n      <td>-16.531165</td>\n      <td>9.094004</td>\n      <td>하이브</td>\n      <td>-156.217649</td>\n    </tr>\n    <tr>\n      <th>KRW-ETC</th>\n      <td>-20.821215</td>\n      <td>35.447111</td>\n      <td>이더리움클래식</td>\n      <td>-172.765036</td>\n    </tr>\n    <tr>\n      <th>KRW-XLM</th>\n      <td>-18.088737</td>\n      <td>4.491842</td>\n      <td>스텔라루멘</td>\n      <td>-176.39553</td>\n    </tr>\n  </tbody>\n</table>\n</div>"
     },
     "metadata": {},
     "execution_count": 12
    }
   ],
   "source": [
    "for coin in coins:\n",
    "    df_tier['rate'].loc[coin]= (df[coin]['trade_price'].loc[len(df[coin])-1] - df[coin]['opening_price'].loc[0])/df[coin]['opening_price'].loc[0] * 100\n",
    "    df_tier['trade_price'].loc[coin] = df[coin]['candle_acc_trade_price'].mean()/pow(10,8)\n",
    "    df_tier['tier_val'] = 10*df_tier['rate'] + df_tier['trade_price']\n",
    "df_tier = df_tier.sort_values(by='tier_val',ascending=False)\n",
    "df_tier[:20]"
   ]
  },
  {
   "cell_type": "code",
   "execution_count": 13,
   "metadata": {},
   "outputs": [
    {
     "output_type": "execute_result",
     "data": {
      "text/plain": [
       "               rate trade_price        name    tier_val  tier\n",
       "coin                                                         \n",
       "KRW-REP   -5.583195   38.220111          어거   -17.61184     0\n",
       "KRW-GLM   -2.710027    1.587951          골렘   -25.51232     1\n",
       "KRW-XEM   -6.206897   23.986506           넴   -38.08246     1\n",
       "KRW-HBAR  -5.445545    3.819771    헤데라해시그래프  -50.635675     1\n",
       "KRW-AXS  -17.925856  122.708305      엑시인피니티  -56.550259     2\n",
       "KRW-TON   -9.359606    20.38071           톤  -73.215349     2\n",
       "KRW-BTC  -12.868321   42.791295        비트코인  -85.891912     2\n",
       "KRW-TT    -9.552846    5.234988        썬더토큰  -90.293467     2\n",
       "KRW-XRP  -18.181818    42.63905          리플 -139.179132     3\n",
       "KRW-ETH  -18.110236   44.439808        이더리움 -136.662554     3\n",
       "KRW-HUNT -13.043478    5.080234          헌트 -125.354549     3\n",
       "KRW-MLK  -16.073059   40.934618          밀크 -119.795976     3\n",
       "KRW-SBD  -13.301172   12.523555        스팀달러 -120.488161     3\n",
       "KRW-SAND -16.911765   56.321917        샌드박스  -112.79573     3\n",
       "KRW-BCHA  -13.29053    9.064208  비트코인캐시에이비씨 -123.841089     3\n",
       "KRW-BAT  -17.841079    1.877024    베이직어텐션토큰  -176.53377     4\n",
       "KRW-DOGE -22.834646   45.426888        도지코인 -182.919569     4\n",
       "KRW-CRE  -18.376068     4.63032      캐리프로토콜 -179.130363     4\n",
       "KRW-XLM  -18.088737    4.491842       스텔라루멘  -176.39553     4\n",
       "KRW-GAS  -17.248603   17.675681          가스 -154.810353     4"
      ],
      "text/html": "<div>\n<style scoped>\n    .dataframe tbody tr th:only-of-type {\n        vertical-align: middle;\n    }\n\n    .dataframe tbody tr th {\n        vertical-align: top;\n    }\n\n    .dataframe thead th {\n        text-align: right;\n    }\n</style>\n<table border=\"1\" class=\"dataframe\">\n  <thead>\n    <tr style=\"text-align: right;\">\n      <th></th>\n      <th>rate</th>\n      <th>trade_price</th>\n      <th>name</th>\n      <th>tier_val</th>\n      <th>tier</th>\n    </tr>\n    <tr>\n      <th>coin</th>\n      <th></th>\n      <th></th>\n      <th></th>\n      <th></th>\n      <th></th>\n    </tr>\n  </thead>\n  <tbody>\n    <tr>\n      <th>KRW-REP</th>\n      <td>-5.583195</td>\n      <td>38.220111</td>\n      <td>어거</td>\n      <td>-17.61184</td>\n      <td>0</td>\n    </tr>\n    <tr>\n      <th>KRW-GLM</th>\n      <td>-2.710027</td>\n      <td>1.587951</td>\n      <td>골렘</td>\n      <td>-25.51232</td>\n      <td>1</td>\n    </tr>\n    <tr>\n      <th>KRW-XEM</th>\n      <td>-6.206897</td>\n      <td>23.986506</td>\n      <td>넴</td>\n      <td>-38.08246</td>\n      <td>1</td>\n    </tr>\n    <tr>\n      <th>KRW-HBAR</th>\n      <td>-5.445545</td>\n      <td>3.819771</td>\n      <td>헤데라해시그래프</td>\n      <td>-50.635675</td>\n      <td>1</td>\n    </tr>\n    <tr>\n      <th>KRW-AXS</th>\n      <td>-17.925856</td>\n      <td>122.708305</td>\n      <td>엑시인피니티</td>\n      <td>-56.550259</td>\n      <td>2</td>\n    </tr>\n    <tr>\n      <th>KRW-TON</th>\n      <td>-9.359606</td>\n      <td>20.38071</td>\n      <td>톤</td>\n      <td>-73.215349</td>\n      <td>2</td>\n    </tr>\n    <tr>\n      <th>KRW-BTC</th>\n      <td>-12.868321</td>\n      <td>42.791295</td>\n      <td>비트코인</td>\n      <td>-85.891912</td>\n      <td>2</td>\n    </tr>\n    <tr>\n      <th>KRW-TT</th>\n      <td>-9.552846</td>\n      <td>5.234988</td>\n      <td>썬더토큰</td>\n      <td>-90.293467</td>\n      <td>2</td>\n    </tr>\n    <tr>\n      <th>KRW-XRP</th>\n      <td>-18.181818</td>\n      <td>42.63905</td>\n      <td>리플</td>\n      <td>-139.179132</td>\n      <td>3</td>\n    </tr>\n    <tr>\n      <th>KRW-ETH</th>\n      <td>-18.110236</td>\n      <td>44.439808</td>\n      <td>이더리움</td>\n      <td>-136.662554</td>\n      <td>3</td>\n    </tr>\n    <tr>\n      <th>KRW-HUNT</th>\n      <td>-13.043478</td>\n      <td>5.080234</td>\n      <td>헌트</td>\n      <td>-125.354549</td>\n      <td>3</td>\n    </tr>\n    <tr>\n      <th>KRW-MLK</th>\n      <td>-16.073059</td>\n      <td>40.934618</td>\n      <td>밀크</td>\n      <td>-119.795976</td>\n      <td>3</td>\n    </tr>\n    <tr>\n      <th>KRW-SBD</th>\n      <td>-13.301172</td>\n      <td>12.523555</td>\n      <td>스팀달러</td>\n      <td>-120.488161</td>\n      <td>3</td>\n    </tr>\n    <tr>\n      <th>KRW-SAND</th>\n      <td>-16.911765</td>\n      <td>56.321917</td>\n      <td>샌드박스</td>\n      <td>-112.79573</td>\n      <td>3</td>\n    </tr>\n    <tr>\n      <th>KRW-BCHA</th>\n      <td>-13.29053</td>\n      <td>9.064208</td>\n      <td>비트코인캐시에이비씨</td>\n      <td>-123.841089</td>\n      <td>3</td>\n    </tr>\n    <tr>\n      <th>KRW-BAT</th>\n      <td>-17.841079</td>\n      <td>1.877024</td>\n      <td>베이직어텐션토큰</td>\n      <td>-176.53377</td>\n      <td>4</td>\n    </tr>\n    <tr>\n      <th>KRW-DOGE</th>\n      <td>-22.834646</td>\n      <td>45.426888</td>\n      <td>도지코인</td>\n      <td>-182.919569</td>\n      <td>4</td>\n    </tr>\n    <tr>\n      <th>KRW-CRE</th>\n      <td>-18.376068</td>\n      <td>4.63032</td>\n      <td>캐리프로토콜</td>\n      <td>-179.130363</td>\n      <td>4</td>\n    </tr>\n    <tr>\n      <th>KRW-XLM</th>\n      <td>-18.088737</td>\n      <td>4.491842</td>\n      <td>스텔라루멘</td>\n      <td>-176.39553</td>\n      <td>4</td>\n    </tr>\n    <tr>\n      <th>KRW-GAS</th>\n      <td>-17.248603</td>\n      <td>17.675681</td>\n      <td>가스</td>\n      <td>-154.810353</td>\n      <td>4</td>\n    </tr>\n  </tbody>\n</table>\n</div>"
     },
     "metadata": {},
     "execution_count": 13
    }
   ],
   "source": [
    "import sklearn\n",
    "from sklearn.cluster import KMeans\n",
    "kmeans = KMeans(n_clusters=10, random_state=0).fit(df_tier[['tier_val']])\n",
    "df_tier['tier'] = kmeans.labels_\n",
    "\n",
    "\n",
    "tier_dict = {}\n",
    "tier_num = 0\n",
    "\n",
    "global tier_num\n",
    "\n",
    "def getTier(x,tier_dict):\n",
    "    global tier_num\n",
    "    if not tier_dict.get(x):\n",
    "        tier_dict[x] = tier_num\n",
    "        tier_num+=1\n",
    "    return tier_dict[x]\n",
    "\n",
    "df_tier['tier']=df_tier['tier'].map(lambda x : getTier(x,tier_dict))\n",
    "df_tier = df_tier.sort_values(by='tier')\n",
    "df_tier[:20]"
   ]
  },
  {
   "cell_type": "code",
   "execution_count": 14,
   "metadata": {},
   "outputs": [
    {
     "output_type": "execute_result",
     "data": {
      "text/plain": [
       "<AxesSubplot:xlabel='rate', ylabel='trade_price'>"
      ]
     },
     "metadata": {},
     "execution_count": 14
    },
    {
     "output_type": "display_data",
     "data": {
      "text/plain": "<Figure size 842.4x595.44 with 1 Axes>",
      "image/svg+xml": "<?xml version=\"1.0\" encoding=\"utf-8\" standalone=\"no\"?>\n<!DOCTYPE svg PUBLIC \"-//W3C//DTD SVG 1.1//EN\"\n  \"http://www.w3.org/Graphics/SVG/1.1/DTD/svg11.dtd\">\n<svg height=\"494.31345pt\" version=\"1.1\" viewBox=\"0 0 707.30375 494.31345\" width=\"707.30375pt\" xmlns=\"http://www.w3.org/2000/svg\" xmlns:xlink=\"http://www.w3.org/1999/xlink\">\n <metadata>\n  <rdf:RDF xmlns:cc=\"http://creativecommons.org/ns#\" xmlns:dc=\"http://purl.org/dc/elements/1.1/\" xmlns:rdf=\"http://www.w3.org/1999/02/22-rdf-syntax-ns#\">\n   <cc:Work>\n    <dc:type rdf:resource=\"http://purl.org/dc/dcmitype/StillImage\"/>\n    <dc:date>2021-07-20T20:20:40.243025</dc:date>\n    <dc:format>image/svg+xml</dc:format>\n    <dc:creator>\n     <cc:Agent>\n      <dc:title>Matplotlib v3.4.2, https://matplotlib.org/</dc:title>\n     </cc:Agent>\n    </dc:creator>\n   </cc:Work>\n  </rdf:RDF>\n </metadata>\n <defs>\n  <style type=\"text/css\">*{stroke-linecap:butt;stroke-linejoin:round;}</style>\n </defs>\n <g id=\"figure_1\">\n  <g id=\"patch_1\">\n   <path d=\"M 0 494.31345 \nL 707.30375 494.31345 \nL 707.30375 0 \nL 0 0 \nz\n\" style=\"fill:none;\"/>\n  </g>\n  <g id=\"axes_1\">\n   <g id=\"patch_2\">\n    <path d=\"M 47.24375 456.7572 \nL 700.10375 456.7572 \nL 700.10375 7.2 \nL 47.24375 7.2 \nz\n\" style=\"fill:#ffffff;\"/>\n   </g>\n   <g id=\"PathCollection_1\">\n    <defs>\n     <path d=\"M 0 3 \nC 0.795609 3 1.55874 2.683901 2.12132 2.12132 \nC 2.683901 1.55874 3 0.795609 3 -0 \nC 3 -0.795609 2.683901 -1.55874 2.12132 -2.12132 \nC 1.55874 -2.683901 0.795609 -3 0 -3 \nC -0.795609 -3 -1.55874 -2.683901 -2.12132 -2.12132 \nC -2.683901 -1.55874 -3 -0.795609 -3 0 \nC -3 0.795609 -2.683901 1.55874 -2.12132 2.12132 \nC -1.55874 2.683901 -0.795609 3 0 3 \nz\n\" id=\"C0_0_c4594d1d81\"/>\n    </defs>\n    <g clip-path=\"url(#p9a1dc32ce1)\">\n     <use style=\"fill:#66c2a5;stroke:#ffffff;stroke-width:0.48;\" x=\"634.711284\" xlink:href=\"#C0_0_c4594d1d81\" y=\"310.064791\"/>\n    </g>\n    <g clip-path=\"url(#p9a1dc32ce1)\">\n     <use style=\"fill:#fc8d62;stroke:#ffffff;stroke-width:0.48;\" x=\"670.428295\" xlink:href=\"#C0_0_c4594d1d81\" y=\"432.520179\"/>\n    </g>\n    <g clip-path=\"url(#p9a1dc32ce1)\">\n     <use style=\"fill:#fc8d62;stroke:#ffffff;stroke-width:0.48;\" x=\"626.957909\" xlink:href=\"#C0_0_c4594d1d81\" y=\"357.645432\"/>\n    </g>\n    <g clip-path=\"url(#p9a1dc32ce1)\">\n     <use style=\"fill:#fc8d62;stroke:#ffffff;stroke-width:0.48;\" x=\"636.42245\" xlink:href=\"#C0_0_c4594d1d81\" y=\"425.059566\"/>\n    </g>\n    <g clip-path=\"url(#p9a1dc32ce1)\">\n     <use style=\"fill:#8da0cb;stroke:#ffffff;stroke-width:0.48;\" x=\"481.276829\" xlink:href=\"#C0_0_c4594d1d81\" y=\"27.634418\"/>\n    </g>\n    <g clip-path=\"url(#p9a1dc32ce1)\">\n     <use style=\"fill:#8da0cb;stroke:#ffffff;stroke-width:0.48;\" x=\"587.765855\" xlink:href=\"#C0_0_c4594d1d81\" y=\"369.699025\"/>\n    </g>\n    <g clip-path=\"url(#p9a1dc32ce1)\">\n     <use style=\"fill:#8da0cb;stroke:#ffffff;stroke-width:0.48;\" x=\"544.148216\" xlink:href=\"#C0_0_c4594d1d81\" y=\"294.784062\"/>\n    </g>\n    <g clip-path=\"url(#p9a1dc32ce1)\">\n     <use style=\"fill:#8da0cb;stroke:#ffffff;stroke-width:0.48;\" x=\"585.363649\" xlink:href=\"#C0_0_c4594d1d81\" y=\"420.328724\"/>\n    </g>\n    <g clip-path=\"url(#p9a1dc32ce1)\">\n     <use style=\"fill:#e78ac3;stroke:#ffffff;stroke-width:0.48;\" x=\"478.094909\" xlink:href=\"#C0_0_c4594d1d81\" y=\"295.292993\"/>\n    </g>\n    <g clip-path=\"url(#p9a1dc32ce1)\">\n     <use style=\"fill:#e78ac3;stroke:#ffffff;stroke-width:0.48;\" x=\"478.984761\" xlink:href=\"#C0_0_c4594d1d81\" y=\"289.27335\"/>\n    </g>\n    <g clip-path=\"url(#p9a1dc32ce1)\">\n     <use style=\"fill:#e78ac3;stroke:#ffffff;stroke-width:0.48;\" x=\"541.970792\" xlink:href=\"#C0_0_c4594d1d81\" y=\"420.846042\"/>\n    </g>\n    <g clip-path=\"url(#p9a1dc32ce1)\">\n     <use style=\"fill:#e78ac3;stroke:#ffffff;stroke-width:0.48;\" x=\"504.309374\" xlink:href=\"#C0_0_c4594d1d81\" y=\"300.990634\"/>\n    </g>\n    <g clip-path=\"url(#p9a1dc32ce1)\">\n     <use style=\"fill:#e78ac3;stroke:#ffffff;stroke-width:0.48;\" x=\"538.767347\" xlink:href=\"#C0_0_c4594d1d81\" y=\"395.964224\"/>\n    </g>\n    <g clip-path=\"url(#p9a1dc32ce1)\">\n     <use style=\"fill:#e78ac3;stroke:#ffffff;stroke-width:0.48;\" x=\"493.883236\" xlink:href=\"#C0_0_c4594d1d81\" y=\"249.55338\"/>\n    </g>\n    <g clip-path=\"url(#p9a1dc32ce1)\">\n     <use style=\"fill:#e78ac3;stroke:#ffffff;stroke-width:0.48;\" x=\"538.899639\" xlink:href=\"#C0_0_c4594d1d81\" y=\"407.528261\"/>\n    </g>\n    <g clip-path=\"url(#p9a1dc32ce1)\">\n     <use style=\"fill:#a6d854;stroke:#ffffff;stroke-width:0.48;\" x=\"482.330711\" xlink:href=\"#C0_0_c4594d1d81\" y=\"431.553853\"/>\n    </g>\n    <g clip-path=\"url(#p9a1dc32ce1)\">\n     <use style=\"fill:#a6d854;stroke:#ffffff;stroke-width:0.48;\" x=\"420.254543\" xlink:href=\"#C0_0_c4594d1d81\" y=\"285.973701\"/>\n    </g>\n    <g clip-path=\"url(#p9a1dc32ce1)\">\n     <use style=\"fill:#a6d854;stroke:#ffffff;stroke-width:0.48;\" x=\"475.680141\" xlink:href=\"#C0_0_c4594d1d81\" y=\"422.35003\"/>\n    </g>\n    <g clip-path=\"url(#p9a1dc32ce1)\">\n     <use style=\"fill:#a6d854;stroke:#ffffff;stroke-width:0.48;\" x=\"479.25202\" xlink:href=\"#C0_0_c4594d1d81\" y=\"422.81294\"/>\n    </g>\n    <g clip-path=\"url(#p9a1dc32ce1)\">\n     <use style=\"fill:#a6d854;stroke:#ffffff;stroke-width:0.48;\" x=\"489.695917\" xlink:href=\"#C0_0_c4594d1d81\" y=\"378.7415\"/>\n    </g>\n    <g clip-path=\"url(#p9a1dc32ce1)\">\n     <use style=\"fill:#a6d854;stroke:#ffffff;stroke-width:0.48;\" x=\"498.614554\" xlink:href=\"#C0_0_c4594d1d81\" y=\"407.428656\"/>\n    </g>\n    <g clip-path=\"url(#p9a1dc32ce1)\">\n     <use style=\"fill:#a6d854;stroke:#ffffff;stroke-width:0.48;\" x=\"511.95795\" xlink:href=\"#C0_0_c4594d1d81\" y=\"426.422207\"/>\n    </g>\n    <g clip-path=\"url(#p9a1dc32ce1)\">\n     <use style=\"fill:#a6d854;stroke:#ffffff;stroke-width:0.48;\" x=\"445.283965\" xlink:href=\"#C0_0_c4594d1d81\" y=\"319.334482\"/>\n    </g>\n    <g clip-path=\"url(#p9a1dc32ce1)\">\n     <use style=\"fill:#ffd92f;stroke:#ffffff;stroke-width:0.48;\" x=\"448.6864\" xlink:href=\"#C0_0_c4594d1d81\" y=\"432.895921\"/>\n    </g>\n    <g clip-path=\"url(#p9a1dc32ce1)\">\n     <use style=\"fill:#ffd92f;stroke:#ffffff;stroke-width:0.48;\" x=\"426.242722\" xlink:href=\"#C0_0_c4594d1d81\" y=\"413.249886\"/>\n    </g>\n    <g clip-path=\"url(#p9a1dc32ce1)\">\n     <use style=\"fill:#ffd92f;stroke:#ffffff;stroke-width:0.48;\" x=\"430.012514\" xlink:href=\"#C0_0_c4594d1d81\" y=\"421.674521\"/>\n    </g>\n    <g clip-path=\"url(#p9a1dc32ce1)\">\n     <use style=\"fill:#ffd92f;stroke:#ffffff;stroke-width:0.48;\" x=\"434.539512\" xlink:href=\"#C0_0_c4594d1d81\" y=\"428.289663\"/>\n    </g>\n    <g clip-path=\"url(#p9a1dc32ce1)\">\n     <use style=\"fill:#ffd92f;stroke:#ffffff;stroke-width:0.48;\" x=\"434.228729\" xlink:href=\"#C0_0_c4594d1d81\" y=\"426.981554\"/>\n    </g>\n    <g clip-path=\"url(#p9a1dc32ce1)\">\n     <use style=\"fill:#ffd92f;stroke:#ffffff;stroke-width:0.48;\" x=\"437.733775\" xlink:href=\"#C0_0_c4594d1d81\" y=\"431.815933\"/>\n    </g>\n    <g clip-path=\"url(#p9a1dc32ce1)\">\n     <use style=\"fill:#ffd92f;stroke:#ffffff;stroke-width:0.48;\" x=\"439.189422\" xlink:href=\"#C0_0_c4594d1d81\" y=\"423.367848\"/>\n    </g>\n    <g clip-path=\"url(#p9a1dc32ce1)\">\n     <use style=\"fill:#ffd92f;stroke:#ffffff;stroke-width:0.48;\" x=\"443.653408\" xlink:href=\"#C0_0_c4594d1d81\" y=\"432.455091\"/>\n    </g>\n    <g clip-path=\"url(#p9a1dc32ce1)\">\n     <use style=\"fill:#ffd92f;stroke:#ffffff;stroke-width:0.48;\" x=\"440.568544\" xlink:href=\"#C0_0_c4594d1d81\" y=\"423.358418\"/>\n    </g>\n    <g clip-path=\"url(#p9a1dc32ce1)\">\n     <use style=\"fill:#ffd92f;stroke:#ffffff;stroke-width:0.48;\" x=\"447.59983\" xlink:href=\"#C0_0_c4594d1d81\" y=\"435.03158\"/>\n    </g>\n    <g clip-path=\"url(#p9a1dc32ce1)\">\n     <use style=\"fill:#ffd92f;stroke:#ffffff;stroke-width:0.48;\" x=\"443.974921\" xlink:href=\"#C0_0_c4594d1d81\" y=\"417.493322\"/>\n    </g>\n    <g clip-path=\"url(#p9a1dc32ce1)\">\n     <use style=\"fill:#ffd92f;stroke:#ffffff;stroke-width:0.48;\" x=\"452.699139\" xlink:href=\"#C0_0_c4594d1d81\" y=\"411.245852\"/>\n    </g>\n    <g clip-path=\"url(#p9a1dc32ce1)\">\n     <use style=\"fill:#ffd92f;stroke:#ffffff;stroke-width:0.48;\" x=\"450.145909\" xlink:href=\"#C0_0_c4594d1d81\" y=\"432.079937\"/>\n    </g>\n    <g clip-path=\"url(#p9a1dc32ce1)\">\n     <use style=\"fill:#ffd92f;stroke:#ffffff;stroke-width:0.48;\" x=\"450.58561\" xlink:href=\"#C0_0_c4594d1d81\" y=\"433.915831\"/>\n    </g>\n    <g clip-path=\"url(#p9a1dc32ce1)\">\n     <use style=\"fill:#ffd92f;stroke:#ffffff;stroke-width:0.48;\" x=\"464.98993\" xlink:href=\"#C0_0_c4594d1d81\" y=\"431.895662\"/>\n    </g>\n    <g clip-path=\"url(#p9a1dc32ce1)\">\n     <use style=\"fill:#ffd92f;stroke:#ffffff;stroke-width:0.48;\" x=\"464.216344\" xlink:href=\"#C0_0_c4594d1d81\" y=\"433.333442\"/>\n    </g>\n    <g clip-path=\"url(#p9a1dc32ce1)\">\n     <use style=\"fill:#ffd92f;stroke:#ffffff;stroke-width:0.48;\" x=\"448.058716\" xlink:href=\"#C0_0_c4594d1d81\" y=\"409.44035\"/>\n    </g>\n    <g clip-path=\"url(#p9a1dc32ce1)\">\n     <use style=\"fill:#ffd92f;stroke:#ffffff;stroke-width:0.48;\" x=\"468.637479\" xlink:href=\"#C0_0_c4594d1d81\" y=\"435.246829\"/>\n    </g>\n    <g clip-path=\"url(#p9a1dc32ce1)\">\n     <use style=\"fill:#ffd92f;stroke:#ffffff;stroke-width:0.48;\" x=\"448.75207\" xlink:href=\"#C0_0_c4594d1d81\" y=\"424.288119\"/>\n    </g>\n    <g clip-path=\"url(#p9a1dc32ce1)\">\n     <use style=\"fill:#ffd92f;stroke:#ffffff;stroke-width:0.48;\" x=\"449.477563\" xlink:href=\"#C0_0_c4594d1d81\" y=\"426.461882\"/>\n    </g>\n    <g clip-path=\"url(#p9a1dc32ce1)\">\n     <use style=\"fill:#ffd92f;stroke:#ffffff;stroke-width:0.48;\" x=\"450.801644\" xlink:href=\"#C0_0_c4594d1d81\" y=\"430.433787\"/>\n    </g>\n    <g clip-path=\"url(#p9a1dc32ce1)\">\n     <use style=\"fill:#ffd92f;stroke:#ffffff;stroke-width:0.48;\" x=\"451.253034\" xlink:href=\"#C0_0_c4594d1d81\" y=\"427.22519\"/>\n    </g>\n    <g clip-path=\"url(#p9a1dc32ce1)\">\n     <use style=\"fill:#e5c494;stroke:#ffffff;stroke-width:0.48;\" x=\"404.229872\" xlink:href=\"#C0_0_c4594d1d81\" y=\"424.98333\"/>\n    </g>\n    <g clip-path=\"url(#p9a1dc32ce1)\">\n     <use style=\"fill:#e5c494;stroke:#ffffff;stroke-width:0.48;\" x=\"392.759939\" xlink:href=\"#C0_0_c4594d1d81\" y=\"433.769879\"/>\n    </g>\n    <g clip-path=\"url(#p9a1dc32ce1)\">\n     <use style=\"fill:#e5c494;stroke:#ffffff;stroke-width:0.48;\" x=\"394.18798\" xlink:href=\"#C0_0_c4594d1d81\" y=\"435.81409\"/>\n    </g>\n    <g clip-path=\"url(#p9a1dc32ce1)\">\n     <use style=\"fill:#e5c494;stroke:#ffffff;stroke-width:0.48;\" x=\"384.918847\" xlink:href=\"#C0_0_c4594d1d81\" y=\"410.632636\"/>\n    </g>\n    <g clip-path=\"url(#p9a1dc32ce1)\">\n     <use style=\"fill:#e5c494;stroke:#ffffff;stroke-width:0.48;\" x=\"395.655786\" xlink:href=\"#C0_0_c4594d1d81\" y=\"431.212242\"/>\n    </g>\n    <g clip-path=\"url(#p9a1dc32ce1)\">\n     <use style=\"fill:#e5c494;stroke:#ffffff;stroke-width:0.48;\" x=\"397.411125\" xlink:href=\"#C0_0_c4594d1d81\" y=\"427.49064\"/>\n    </g>\n    <g clip-path=\"url(#p9a1dc32ce1)\">\n     <use style=\"fill:#e5c494;stroke:#ffffff;stroke-width:0.48;\" x=\"398.322314\" xlink:href=\"#C0_0_c4594d1d81\" y=\"428.560805\"/>\n    </g>\n    <g clip-path=\"url(#p9a1dc32ce1)\">\n     <use style=\"fill:#e5c494;stroke:#ffffff;stroke-width:0.48;\" x=\"405.175793\" xlink:href=\"#C0_0_c4594d1d81\" y=\"429.860175\"/>\n    </g>\n    <g clip-path=\"url(#p9a1dc32ce1)\">\n     <use style=\"fill:#e5c494;stroke:#ffffff;stroke-width:0.48;\" x=\"406.397548\" xlink:href=\"#C0_0_c4594d1d81\" y=\"427.596617\"/>\n    </g>\n    <g clip-path=\"url(#p9a1dc32ce1)\">\n     <use style=\"fill:#e5c494;stroke:#ffffff;stroke-width:0.48;\" x=\"414.055242\" xlink:href=\"#C0_0_c4594d1d81\" y=\"416.624791\"/>\n    </g>\n    <g clip-path=\"url(#p9a1dc32ce1)\">\n     <use style=\"fill:#e5c494;stroke:#ffffff;stroke-width:0.48;\" x=\"408.733003\" xlink:href=\"#C0_0_c4594d1d81\" y=\"426.564572\"/>\n    </g>\n    <g clip-path=\"url(#p9a1dc32ce1)\">\n     <use style=\"fill:#e5c494;stroke:#ffffff;stroke-width:0.48;\" x=\"413.517094\" xlink:href=\"#C0_0_c4594d1d81\" y=\"436.322782\"/>\n    </g>\n    <g clip-path=\"url(#p9a1dc32ce1)\">\n     <use style=\"fill:#e5c494;stroke:#ffffff;stroke-width:0.48;\" x=\"399.454257\" xlink:href=\"#C0_0_c4594d1d81\" y=\"393.152951\"/>\n    </g>\n    <g clip-path=\"url(#p9a1dc32ce1)\">\n     <use style=\"fill:#e5c494;stroke:#ffffff;stroke-width:0.48;\" x=\"417.242737\" xlink:href=\"#C0_0_c4594d1d81\" y=\"422.725897\"/>\n    </g>\n    <g clip-path=\"url(#p9a1dc32ce1)\">\n     <use style=\"fill:#e5c494;stroke:#ffffff;stroke-width:0.48;\" x=\"376.801126\" xlink:href=\"#C0_0_c4594d1d81\" y=\"308.950323\"/>\n    </g>\n    <g clip-path=\"url(#p9a1dc32ce1)\">\n     <use style=\"fill:#e5c494;stroke:#ffffff;stroke-width:0.48;\" x=\"418.746272\" xlink:href=\"#C0_0_c4594d1d81\" y=\"415.935787\"/>\n    </g>\n    <g clip-path=\"url(#p9a1dc32ce1)\">\n     <use style=\"fill:#e5c494;stroke:#ffffff;stroke-width:0.48;\" x=\"426.050288\" xlink:href=\"#C0_0_c4594d1d81\" y=\"431.142104\"/>\n    </g>\n    <g clip-path=\"url(#p9a1dc32ce1)\">\n     <use style=\"fill:#e5c494;stroke:#ffffff;stroke-width:0.48;\" x=\"420.758356\" xlink:href=\"#C0_0_c4594d1d81\" y=\"413.165606\"/>\n    </g>\n    <g clip-path=\"url(#p9a1dc32ce1)\">\n     <use style=\"fill:#e5c494;stroke:#ffffff;stroke-width:0.48;\" x=\"409.826933\" xlink:href=\"#C0_0_c4594d1d81\" y=\"433.550009\"/>\n    </g>\n    <g clip-path=\"url(#p9a1dc32ce1)\">\n     <use style=\"fill:#b3b3b3;stroke:#ffffff;stroke-width:0.48;\" x=\"373.940922\" xlink:href=\"#C0_0_c4594d1d81\" y=\"433.760873\"/>\n    </g>\n    <g clip-path=\"url(#p9a1dc32ce1)\">\n     <use style=\"fill:#b3b3b3;stroke:#ffffff;stroke-width:0.48;\" x=\"369.956691\" xlink:href=\"#C0_0_c4594d1d81\" y=\"431.097058\"/>\n    </g>\n    <g clip-path=\"url(#p9a1dc32ce1)\">\n     <use style=\"fill:#b3b3b3;stroke:#ffffff;stroke-width:0.48;\" x=\"370.800992\" xlink:href=\"#C0_0_c4594d1d81\" y=\"435.987922\"/>\n    </g>\n    <g clip-path=\"url(#p9a1dc32ce1)\">\n     <use style=\"fill:#b3b3b3;stroke:#ffffff;stroke-width:0.48;\" x=\"366.580569\" xlink:href=\"#C0_0_c4594d1d81\" y=\"428.069322\"/>\n    </g>\n    <g clip-path=\"url(#p9a1dc32ce1)\">\n     <use style=\"fill:#b3b3b3;stroke:#ffffff;stroke-width:0.48;\" x=\"367.19609\" xlink:href=\"#C0_0_c4594d1d81\" y=\"430.851257\"/>\n    </g>\n    <g clip-path=\"url(#p9a1dc32ce1)\">\n     <use style=\"fill:#b3b3b3;stroke:#ffffff;stroke-width:0.48;\" x=\"353.738981\" xlink:href=\"#C0_0_c4594d1d81\" y=\"425.363178\"/>\n    </g>\n    <g clip-path=\"url(#p9a1dc32ce1)\">\n     <use style=\"fill:#b3b3b3;stroke:#ffffff;stroke-width:0.48;\" x=\"363.083534\" xlink:href=\"#C0_0_c4594d1d81\" y=\"432.477523\"/>\n    </g>\n    <g clip-path=\"url(#p9a1dc32ce1)\">\n     <use style=\"fill:#b3b3b3;stroke:#ffffff;stroke-width:0.48;\" x=\"349.782931\" xlink:href=\"#C0_0_c4594d1d81\" y=\"403.698496\"/>\n    </g>\n    <g clip-path=\"url(#p9a1dc32ce1)\">\n     <use style=\"fill:#b3b3b3;stroke:#ffffff;stroke-width:0.48;\" x=\"348.939278\" xlink:href=\"#C0_0_c4594d1d81\" y=\"428.709046\"/>\n    </g>\n    <g clip-path=\"url(#p9a1dc32ce1)\">\n     <use style=\"fill:#b3b3b3;stroke:#ffffff;stroke-width:0.48;\" x=\"346.097854\" xlink:href=\"#C0_0_c4594d1d81\" y=\"434.16988\"/>\n    </g>\n    <g clip-path=\"url(#p9a1dc32ce1)\">\n     <use style=\"fill:#b3b3b3;stroke:#ffffff;stroke-width:0.48;\" x=\"367.96667\" xlink:href=\"#C0_0_c4594d1d81\" y=\"434.424892\"/>\n    </g>\n    <g clip-path=\"url(#p9a1dc32ce1)\">\n     <use style=\"fill:#b3b3b3;stroke:#ffffff;stroke-width:0.48;\" x=\"375.491045\" xlink:href=\"#C0_0_c4594d1d81\" y=\"421.266958\"/>\n    </g>\n    <g clip-path=\"url(#p9a1dc32ce1)\">\n     <use style=\"fill:#b3b3b3;stroke:#ffffff;stroke-width:0.48;\" x=\"373.286156\" xlink:href=\"#C0_0_c4594d1d81\" y=\"427.119844\"/>\n    </g>\n    <g clip-path=\"url(#p9a1dc32ce1)\">\n     <use style=\"fill:#b3b3b3;stroke:#ffffff;stroke-width:0.48;\" x=\"379.744642\" xlink:href=\"#C0_0_c4594d1d81\" y=\"431.11056\"/>\n    </g>\n    <g clip-path=\"url(#p9a1dc32ce1)\">\n     <use style=\"fill:#b3b3b3;stroke:#ffffff;stroke-width:0.48;\" x=\"380.905297\" xlink:href=\"#C0_0_c4594d1d81\" y=\"434.470849\"/>\n    </g>\n    <g clip-path=\"url(#p9a1dc32ce1)\">\n     <use style=\"fill:#b3b3b3;stroke:#ffffff;stroke-width:0.48;\" x=\"388.936799\" xlink:href=\"#C0_0_c4594d1d81\" y=\"429.925941\"/>\n    </g>\n    <g clip-path=\"url(#p9a1dc32ce1)\">\n     <use style=\"fill:#b3b3b3;stroke:#ffffff;stroke-width:0.48;\" x=\"387.242786\" xlink:href=\"#C0_0_c4594d1d81\" y=\"432.080208\"/>\n    </g>\n    <g clip-path=\"url(#p9a1dc32ce1)\">\n     <use style=\"fill:#b3b3b3;stroke:#ffffff;stroke-width:0.48;\" x=\"385.920934\" xlink:href=\"#C0_0_c4594d1d81\" y=\"432.562094\"/>\n    </g>\n    <g clip-path=\"url(#p9a1dc32ce1)\">\n     <use style=\"fill:#b3b3b3;stroke:#ffffff;stroke-width:0.48;\" x=\"377.770652\" xlink:href=\"#C0_0_c4594d1d81\" y=\"411.023102\"/>\n    </g>\n    <g clip-path=\"url(#p9a1dc32ce1)\">\n     <use style=\"fill:#b3b3b3;stroke:#ffffff;stroke-width:0.48;\" x=\"385.909781\" xlink:href=\"#C0_0_c4594d1d81\" y=\"427.902065\"/>\n    </g>\n    <g clip-path=\"url(#p9a1dc32ce1)\">\n     <use style=\"fill:#b3b3b3;stroke:#ffffff;stroke-width:0.48;\" x=\"382.860771\" xlink:href=\"#C0_0_c4594d1d81\" y=\"429.337981\"/>\n    </g>\n    <g clip-path=\"url(#p9a1dc32ce1)\">\n     <use style=\"fill:#b3b3b3;stroke:#ffffff;stroke-width:0.48;\" x=\"382.765753\" xlink:href=\"#C0_0_c4594d1d81\" y=\"432.520385\"/>\n    </g>\n    <g clip-path=\"url(#p9a1dc32ce1)\">\n     <use style=\"fill:#b3b3b3;stroke:#ffffff;stroke-width:0.48;\" x=\"379.337394\" xlink:href=\"#C0_0_c4594d1d81\" y=\"426.547458\"/>\n    </g>\n    <g clip-path=\"url(#p9a1dc32ce1)\">\n     <use style=\"fill:#b3b3b3;stroke:#ffffff;stroke-width:0.48;\" x=\"373.62848\" xlink:href=\"#C0_0_c4594d1d81\" y=\"412.913334\"/>\n    </g>\n    <g clip-path=\"url(#p9a1dc32ce1)\">\n     <use style=\"fill:#b3b3b3;stroke:#ffffff;stroke-width:0.48;\" x=\"381.34148\" xlink:href=\"#C0_0_c4594d1d81\" y=\"434.773445\"/>\n    </g>\n    <g clip-path=\"url(#p9a1dc32ce1)\">\n     <use style=\"fill:#b3b3b3;stroke:#ffffff;stroke-width:0.48;\" x=\"382.735388\" xlink:href=\"#C0_0_c4594d1d81\" y=\"424.84315\"/>\n    </g>\n    <g clip-path=\"url(#p9a1dc32ce1)\">\n     <use style=\"fill:#66c2a5;stroke:#ffffff;stroke-width:0.48;\" x=\"291.260802\" xlink:href=\"#C0_0_c4594d1d81\" y=\"431.40705\"/>\n    </g>\n    <g clip-path=\"url(#p9a1dc32ce1)\">\n     <use style=\"fill:#66c2a5;stroke:#ffffff;stroke-width:0.48;\" x=\"336.214833\" xlink:href=\"#C0_0_c4594d1d81\" y=\"423.678554\"/>\n    </g>\n    <g clip-path=\"url(#p9a1dc32ce1)\">\n     <use style=\"fill:#66c2a5;stroke:#ffffff;stroke-width:0.48;\" x=\"322.402992\" xlink:href=\"#C0_0_c4594d1d81\" y=\"422.125887\"/>\n    </g>\n    <g clip-path=\"url(#p9a1dc32ce1)\">\n     <use style=\"fill:#66c2a5;stroke:#ffffff;stroke-width:0.48;\" x=\"320.898911\" xlink:href=\"#C0_0_c4594d1d81\" y=\"429.102391\"/>\n    </g>\n    <g clip-path=\"url(#p9a1dc32ce1)\">\n     <use style=\"fill:#66c2a5;stroke:#ffffff;stroke-width:0.48;\" x=\"281.199147\" xlink:href=\"#C0_0_c4594d1d81\" y=\"323.933809\"/>\n    </g>\n    <g clip-path=\"url(#p9a1dc32ce1)\">\n     <use style=\"fill:#66c2a5;stroke:#ffffff;stroke-width:0.48;\" x=\"316.230579\" xlink:href=\"#C0_0_c4594d1d81\" y=\"434.866928\"/>\n    </g>\n    <g clip-path=\"url(#p9a1dc32ce1)\">\n     <use style=\"fill:#66c2a5;stroke:#ffffff;stroke-width:0.48;\" x=\"294.909709\" xlink:href=\"#C0_0_c4594d1d81\" y=\"416.162882\"/>\n    </g>\n    <g clip-path=\"url(#p9a1dc32ce1)\">\n     <use style=\"fill:#66c2a5;stroke:#ffffff;stroke-width:0.48;\" x=\"293.46766\" xlink:href=\"#C0_0_c4594d1d81\" y=\"417.065184\"/>\n    </g>\n    <g clip-path=\"url(#p9a1dc32ce1)\">\n     <use style=\"fill:#fc8d62;stroke:#ffffff;stroke-width:0.48;\" x=\"232.221249\" xlink:href=\"#C0_0_c4594d1d81\" y=\"401.919755\"/>\n    </g>\n    <g clip-path=\"url(#p9a1dc32ce1)\">\n     <use style=\"fill:#fc8d62;stroke:#ffffff;stroke-width:0.48;\" x=\"222.707445\" xlink:href=\"#C0_0_c4594d1d81\" y=\"429.608393\"/>\n    </g>\n    <g clip-path=\"url(#p9a1dc32ce1)\">\n     <use style=\"fill:#fc8d62;stroke:#ffffff;stroke-width:0.48;\" x=\"239.038917\" xlink:href=\"#C0_0_c4594d1d81\" y=\"403.228779\"/>\n    </g>\n    <g clip-path=\"url(#p9a1dc32ce1)\">\n     <use style=\"fill:#8da0cb;stroke:#ffffff;stroke-width:0.48;\" x=\"76.919205\" xlink:href=\"#C0_0_c4594d1d81\" y=\"391.859114\"/>\n    </g>\n   </g>\n   <g id=\"PathCollection_2\"/>\n   <g id=\"PathCollection_3\"/>\n   <g id=\"PathCollection_4\"/>\n   <g id=\"PathCollection_5\"/>\n   <g id=\"PathCollection_6\"/>\n   <g id=\"PathCollection_7\"/>\n   <g id=\"PathCollection_8\"/>\n   <g id=\"PathCollection_9\"/>\n   <g id=\"PathCollection_10\"/>\n   <g id=\"PathCollection_11\"/>\n   <g id=\"PathCollection_12\"/>\n   <g id=\"matplotlib.axis_1\">\n    <g id=\"xtick_1\">\n     <g id=\"line2d_1\">\n      <defs>\n       <path d=\"M 0 0 \nL 0 3.5 \n\" id=\"m58496d85c0\" style=\"stroke:#000000;stroke-width:0.8;\"/>\n      </defs>\n      <g>\n       <use style=\"stroke:#000000;stroke-width:0.8;\" x=\"82.555788\" xlink:href=\"#m58496d85c0\" y=\"456.7572\"/>\n      </g>\n     </g>\n     <g id=\"text_1\">\n      <!-- −50 -->\n      <g transform=\"translate(72.003445 471.355637)scale(0.1 -0.1)\">\n       <defs>\n        <path d=\"M 678 2272 \nL 4684 2272 \nL 4684 1741 \nL 678 1741 \nL 678 2272 \nz\n\" id=\"DejaVuSans-2212\" transform=\"scale(0.015625)\"/>\n        <path d=\"M 691 4666 \nL 3169 4666 \nL 3169 4134 \nL 1269 4134 \nL 1269 2991 \nQ 1406 3038 1543 3061 \nQ 1681 3084 1819 3084 \nQ 2600 3084 3056 2656 \nQ 3513 2228 3513 1497 \nQ 3513 744 3044 326 \nQ 2575 -91 1722 -91 \nQ 1428 -91 1123 -41 \nQ 819 9 494 109 \nL 494 744 \nQ 775 591 1075 516 \nQ 1375 441 1709 441 \nQ 2250 441 2565 725 \nQ 2881 1009 2881 1497 \nQ 2881 1984 2565 2268 \nQ 2250 2553 1709 2553 \nQ 1456 2553 1204 2497 \nQ 953 2441 691 2322 \nL 691 4666 \nz\n\" id=\"DejaVuSans-35\" transform=\"scale(0.015625)\"/>\n        <path d=\"M 2034 4250 \nQ 1547 4250 1301 3770 \nQ 1056 3291 1056 2328 \nQ 1056 1369 1301 889 \nQ 1547 409 2034 409 \nQ 2525 409 2770 889 \nQ 3016 1369 3016 2328 \nQ 3016 3291 2770 3770 \nQ 2525 4250 2034 4250 \nz\nM 2034 4750 \nQ 2819 4750 3233 4129 \nQ 3647 3509 3647 2328 \nQ 3647 1150 3233 529 \nQ 2819 -91 2034 -91 \nQ 1250 -91 836 529 \nQ 422 1150 422 2328 \nQ 422 3509 836 4129 \nQ 1250 4750 2034 4750 \nz\n\" id=\"DejaVuSans-30\" transform=\"scale(0.015625)\"/>\n       </defs>\n       <use xlink:href=\"#DejaVuSans-2212\"/>\n       <use x=\"83.789062\" xlink:href=\"#DejaVuSans-35\"/>\n       <use x=\"147.412109\" xlink:href=\"#DejaVuSans-30\"/>\n      </g>\n     </g>\n    </g>\n    <g id=\"xtick_2\">\n     <g id=\"line2d_2\">\n      <g>\n       <use style=\"stroke:#000000;stroke-width:0.8;\" x=\"206.868084\" xlink:href=\"#m58496d85c0\" y=\"456.7572\"/>\n      </g>\n     </g>\n     <g id=\"text_2\">\n      <!-- −40 -->\n      <g transform=\"translate(196.31574 471.355637)scale(0.1 -0.1)\">\n       <defs>\n        <path d=\"M 2419 4116 \nL 825 1625 \nL 2419 1625 \nL 2419 4116 \nz\nM 2253 4666 \nL 3047 4666 \nL 3047 1625 \nL 3713 1625 \nL 3713 1100 \nL 3047 1100 \nL 3047 0 \nL 2419 0 \nL 2419 1100 \nL 313 1100 \nL 313 1709 \nL 2253 4666 \nz\n\" id=\"DejaVuSans-34\" transform=\"scale(0.015625)\"/>\n       </defs>\n       <use xlink:href=\"#DejaVuSans-2212\"/>\n       <use x=\"83.789062\" xlink:href=\"#DejaVuSans-34\"/>\n       <use x=\"147.412109\" xlink:href=\"#DejaVuSans-30\"/>\n      </g>\n     </g>\n    </g>\n    <g id=\"xtick_3\">\n     <g id=\"line2d_3\">\n      <g>\n       <use style=\"stroke:#000000;stroke-width:0.8;\" x=\"331.180379\" xlink:href=\"#m58496d85c0\" y=\"456.7572\"/>\n      </g>\n     </g>\n     <g id=\"text_3\">\n      <!-- −30 -->\n      <g transform=\"translate(320.628035 471.355637)scale(0.1 -0.1)\">\n       <defs>\n        <path d=\"M 2597 2516 \nQ 3050 2419 3304 2112 \nQ 3559 1806 3559 1356 \nQ 3559 666 3084 287 \nQ 2609 -91 1734 -91 \nQ 1441 -91 1130 -33 \nQ 819 25 488 141 \nL 488 750 \nQ 750 597 1062 519 \nQ 1375 441 1716 441 \nQ 2309 441 2620 675 \nQ 2931 909 2931 1356 \nQ 2931 1769 2642 2001 \nQ 2353 2234 1838 2234 \nL 1294 2234 \nL 1294 2753 \nL 1863 2753 \nQ 2328 2753 2575 2939 \nQ 2822 3125 2822 3475 \nQ 2822 3834 2567 4026 \nQ 2313 4219 1838 4219 \nQ 1578 4219 1281 4162 \nQ 984 4106 628 3988 \nL 628 4550 \nQ 988 4650 1302 4700 \nQ 1616 4750 1894 4750 \nQ 2613 4750 3031 4423 \nQ 3450 4097 3450 3541 \nQ 3450 3153 3228 2886 \nQ 3006 2619 2597 2516 \nz\n\" id=\"DejaVuSans-33\" transform=\"scale(0.015625)\"/>\n       </defs>\n       <use xlink:href=\"#DejaVuSans-2212\"/>\n       <use x=\"83.789062\" xlink:href=\"#DejaVuSans-33\"/>\n       <use x=\"147.412109\" xlink:href=\"#DejaVuSans-30\"/>\n      </g>\n     </g>\n    </g>\n    <g id=\"xtick_4\">\n     <g id=\"line2d_4\">\n      <g>\n       <use style=\"stroke:#000000;stroke-width:0.8;\" x=\"455.492674\" xlink:href=\"#m58496d85c0\" y=\"456.7572\"/>\n      </g>\n     </g>\n     <g id=\"text_4\">\n      <!-- −20 -->\n      <g transform=\"translate(444.94033 471.355637)scale(0.1 -0.1)\">\n       <defs>\n        <path d=\"M 1228 531 \nL 3431 531 \nL 3431 0 \nL 469 0 \nL 469 531 \nQ 828 903 1448 1529 \nQ 2069 2156 2228 2338 \nQ 2531 2678 2651 2914 \nQ 2772 3150 2772 3378 \nQ 2772 3750 2511 3984 \nQ 2250 4219 1831 4219 \nQ 1534 4219 1204 4116 \nQ 875 4013 500 3803 \nL 500 4441 \nQ 881 4594 1212 4672 \nQ 1544 4750 1819 4750 \nQ 2544 4750 2975 4387 \nQ 3406 4025 3406 3419 \nQ 3406 3131 3298 2873 \nQ 3191 2616 2906 2266 \nQ 2828 2175 2409 1742 \nQ 1991 1309 1228 531 \nz\n\" id=\"DejaVuSans-32\" transform=\"scale(0.015625)\"/>\n       </defs>\n       <use xlink:href=\"#DejaVuSans-2212\"/>\n       <use x=\"83.789062\" xlink:href=\"#DejaVuSans-32\"/>\n       <use x=\"147.412109\" xlink:href=\"#DejaVuSans-30\"/>\n      </g>\n     </g>\n    </g>\n    <g id=\"xtick_5\">\n     <g id=\"line2d_5\">\n      <g>\n       <use style=\"stroke:#000000;stroke-width:0.8;\" x=\"579.804969\" xlink:href=\"#m58496d85c0\" y=\"456.7572\"/>\n      </g>\n     </g>\n     <g id=\"text_5\">\n      <!-- −10 -->\n      <g transform=\"translate(569.252625 471.355637)scale(0.1 -0.1)\">\n       <defs>\n        <path d=\"M 794 531 \nL 1825 531 \nL 1825 4091 \nL 703 3866 \nL 703 4441 \nL 1819 4666 \nL 2450 4666 \nL 2450 531 \nL 3481 531 \nL 3481 0 \nL 794 0 \nL 794 531 \nz\n\" id=\"DejaVuSans-31\" transform=\"scale(0.015625)\"/>\n       </defs>\n       <use xlink:href=\"#DejaVuSans-2212\"/>\n       <use x=\"83.789062\" xlink:href=\"#DejaVuSans-31\"/>\n       <use x=\"147.412109\" xlink:href=\"#DejaVuSans-30\"/>\n      </g>\n     </g>\n    </g>\n    <g id=\"text_6\">\n     <!-- rate -->\n     <g transform=\"translate(363.5175 485.033762)scale(0.1 -0.1)\">\n      <defs>\n       <path d=\"M 2631 2963 \nQ 2534 3019 2420 3045 \nQ 2306 3072 2169 3072 \nQ 1681 3072 1420 2755 \nQ 1159 2438 1159 1844 \nL 1159 0 \nL 581 0 \nL 581 3500 \nL 1159 3500 \nL 1159 2956 \nQ 1341 3275 1631 3429 \nQ 1922 3584 2338 3584 \nQ 2397 3584 2469 3576 \nQ 2541 3569 2628 3553 \nL 2631 2963 \nz\n\" id=\"DejaVuSans-72\" transform=\"scale(0.015625)\"/>\n       <path d=\"M 2194 1759 \nQ 1497 1759 1228 1600 \nQ 959 1441 959 1056 \nQ 959 750 1161 570 \nQ 1363 391 1709 391 \nQ 2188 391 2477 730 \nQ 2766 1069 2766 1631 \nL 2766 1759 \nL 2194 1759 \nz\nM 3341 1997 \nL 3341 0 \nL 2766 0 \nL 2766 531 \nQ 2569 213 2275 61 \nQ 1981 -91 1556 -91 \nQ 1019 -91 701 211 \nQ 384 513 384 1019 \nQ 384 1609 779 1909 \nQ 1175 2209 1959 2209 \nL 2766 2209 \nL 2766 2266 \nQ 2766 2663 2505 2880 \nQ 2244 3097 1772 3097 \nQ 1472 3097 1187 3025 \nQ 903 2953 641 2809 \nL 641 3341 \nQ 956 3463 1253 3523 \nQ 1550 3584 1831 3584 \nQ 2591 3584 2966 3190 \nQ 3341 2797 3341 1997 \nz\n\" id=\"DejaVuSans-61\" transform=\"scale(0.015625)\"/>\n       <path d=\"M 1172 4494 \nL 1172 3500 \nL 2356 3500 \nL 2356 3053 \nL 1172 3053 \nL 1172 1153 \nQ 1172 725 1289 603 \nQ 1406 481 1766 481 \nL 2356 481 \nL 2356 0 \nL 1766 0 \nQ 1100 0 847 248 \nQ 594 497 594 1153 \nL 594 3053 \nL 172 3053 \nL 172 3500 \nL 594 3500 \nL 594 4494 \nL 1172 4494 \nz\n\" id=\"DejaVuSans-74\" transform=\"scale(0.015625)\"/>\n       <path d=\"M 3597 1894 \nL 3597 1613 \nL 953 1613 \nQ 991 1019 1311 708 \nQ 1631 397 2203 397 \nQ 2534 397 2845 478 \nQ 3156 559 3463 722 \nL 3463 178 \nQ 3153 47 2828 -22 \nQ 2503 -91 2169 -91 \nQ 1331 -91 842 396 \nQ 353 884 353 1716 \nQ 353 2575 817 3079 \nQ 1281 3584 2069 3584 \nQ 2775 3584 3186 3129 \nQ 3597 2675 3597 1894 \nz\nM 3022 2063 \nQ 3016 2534 2758 2815 \nQ 2500 3097 2075 3097 \nQ 1594 3097 1305 2825 \nQ 1016 2553 972 2059 \nL 3022 2063 \nz\n\" id=\"DejaVuSans-65\" transform=\"scale(0.015625)\"/>\n      </defs>\n      <use xlink:href=\"#DejaVuSans-72\"/>\n      <use x=\"41.113281\" xlink:href=\"#DejaVuSans-61\"/>\n      <use x=\"102.392578\" xlink:href=\"#DejaVuSans-74\"/>\n      <use x=\"141.601562\" xlink:href=\"#DejaVuSans-65\"/>\n     </g>\n    </g>\n   </g>\n   <g id=\"matplotlib.axis_2\">\n    <g id=\"ytick_1\">\n     <g id=\"line2d_6\">\n      <defs>\n       <path d=\"M 0 0 \nL -3.5 0 \n\" id=\"m3d95594c3a\" style=\"stroke:#000000;stroke-width:0.8;\"/>\n      </defs>\n      <g>\n       <use style=\"stroke:#000000;stroke-width:0.8;\" x=\"47.24375\" xlink:href=\"#m3d95594c3a\" y=\"437.828442\"/>\n      </g>\n     </g>\n     <g id=\"text_7\">\n      <!-- 0 -->\n      <g transform=\"translate(33.88125 441.627661)scale(0.1 -0.1)\">\n       <use xlink:href=\"#DejaVuSans-30\"/>\n      </g>\n     </g>\n    </g>\n    <g id=\"ytick_2\">\n     <g id=\"line2d_7\">\n      <g>\n       <use style=\"stroke:#000000;stroke-width:0.8;\" x=\"47.24375\" xlink:href=\"#m3d95594c3a\" y=\"370.971676\"/>\n      </g>\n     </g>\n     <g id=\"text_8\">\n      <!-- 20 -->\n      <g transform=\"translate(27.51875 374.770895)scale(0.1 -0.1)\">\n       <use xlink:href=\"#DejaVuSans-32\"/>\n       <use x=\"63.623047\" xlink:href=\"#DejaVuSans-30\"/>\n      </g>\n     </g>\n    </g>\n    <g id=\"ytick_3\">\n     <g id=\"line2d_8\">\n      <g>\n       <use style=\"stroke:#000000;stroke-width:0.8;\" x=\"47.24375\" xlink:href=\"#m3d95594c3a\" y=\"304.11491\"/>\n      </g>\n     </g>\n     <g id=\"text_9\">\n      <!-- 40 -->\n      <g transform=\"translate(27.51875 307.914129)scale(0.1 -0.1)\">\n       <use xlink:href=\"#DejaVuSans-34\"/>\n       <use x=\"63.623047\" xlink:href=\"#DejaVuSans-30\"/>\n      </g>\n     </g>\n    </g>\n    <g id=\"ytick_4\">\n     <g id=\"line2d_9\">\n      <g>\n       <use style=\"stroke:#000000;stroke-width:0.8;\" x=\"47.24375\" xlink:href=\"#m3d95594c3a\" y=\"237.258144\"/>\n      </g>\n     </g>\n     <g id=\"text_10\">\n      <!-- 60 -->\n      <g transform=\"translate(27.51875 241.057362)scale(0.1 -0.1)\">\n       <defs>\n        <path d=\"M 2113 2584 \nQ 1688 2584 1439 2293 \nQ 1191 2003 1191 1497 \nQ 1191 994 1439 701 \nQ 1688 409 2113 409 \nQ 2538 409 2786 701 \nQ 3034 994 3034 1497 \nQ 3034 2003 2786 2293 \nQ 2538 2584 2113 2584 \nz\nM 3366 4563 \nL 3366 3988 \nQ 3128 4100 2886 4159 \nQ 2644 4219 2406 4219 \nQ 1781 4219 1451 3797 \nQ 1122 3375 1075 2522 \nQ 1259 2794 1537 2939 \nQ 1816 3084 2150 3084 \nQ 2853 3084 3261 2657 \nQ 3669 2231 3669 1497 \nQ 3669 778 3244 343 \nQ 2819 -91 2113 -91 \nQ 1303 -91 875 529 \nQ 447 1150 447 2328 \nQ 447 3434 972 4092 \nQ 1497 4750 2381 4750 \nQ 2619 4750 2861 4703 \nQ 3103 4656 3366 4563 \nz\n\" id=\"DejaVuSans-36\" transform=\"scale(0.015625)\"/>\n       </defs>\n       <use xlink:href=\"#DejaVuSans-36\"/>\n       <use x=\"63.623047\" xlink:href=\"#DejaVuSans-30\"/>\n      </g>\n     </g>\n    </g>\n    <g id=\"ytick_5\">\n     <g id=\"line2d_10\">\n      <g>\n       <use style=\"stroke:#000000;stroke-width:0.8;\" x=\"47.24375\" xlink:href=\"#m3d95594c3a\" y=\"170.401378\"/>\n      </g>\n     </g>\n     <g id=\"text_11\">\n      <!-- 80 -->\n      <g transform=\"translate(27.51875 174.200596)scale(0.1 -0.1)\">\n       <defs>\n        <path d=\"M 2034 2216 \nQ 1584 2216 1326 1975 \nQ 1069 1734 1069 1313 \nQ 1069 891 1326 650 \nQ 1584 409 2034 409 \nQ 2484 409 2743 651 \nQ 3003 894 3003 1313 \nQ 3003 1734 2745 1975 \nQ 2488 2216 2034 2216 \nz\nM 1403 2484 \nQ 997 2584 770 2862 \nQ 544 3141 544 3541 \nQ 544 4100 942 4425 \nQ 1341 4750 2034 4750 \nQ 2731 4750 3128 4425 \nQ 3525 4100 3525 3541 \nQ 3525 3141 3298 2862 \nQ 3072 2584 2669 2484 \nQ 3125 2378 3379 2068 \nQ 3634 1759 3634 1313 \nQ 3634 634 3220 271 \nQ 2806 -91 2034 -91 \nQ 1263 -91 848 271 \nQ 434 634 434 1313 \nQ 434 1759 690 2068 \nQ 947 2378 1403 2484 \nz\nM 1172 3481 \nQ 1172 3119 1398 2916 \nQ 1625 2713 2034 2713 \nQ 2441 2713 2670 2916 \nQ 2900 3119 2900 3481 \nQ 2900 3844 2670 4047 \nQ 2441 4250 2034 4250 \nQ 1625 4250 1398 4047 \nQ 1172 3844 1172 3481 \nz\n\" id=\"DejaVuSans-38\" transform=\"scale(0.015625)\"/>\n       </defs>\n       <use xlink:href=\"#DejaVuSans-38\"/>\n       <use x=\"63.623047\" xlink:href=\"#DejaVuSans-30\"/>\n      </g>\n     </g>\n    </g>\n    <g id=\"ytick_6\">\n     <g id=\"line2d_11\">\n      <g>\n       <use style=\"stroke:#000000;stroke-width:0.8;\" x=\"47.24375\" xlink:href=\"#m3d95594c3a\" y=\"103.544611\"/>\n      </g>\n     </g>\n     <g id=\"text_12\">\n      <!-- 100 -->\n      <g transform=\"translate(21.15625 107.34383)scale(0.1 -0.1)\">\n       <use xlink:href=\"#DejaVuSans-31\"/>\n       <use x=\"63.623047\" xlink:href=\"#DejaVuSans-30\"/>\n       <use x=\"127.246094\" xlink:href=\"#DejaVuSans-30\"/>\n      </g>\n     </g>\n    </g>\n    <g id=\"ytick_7\">\n     <g id=\"line2d_12\">\n      <g>\n       <use style=\"stroke:#000000;stroke-width:0.8;\" x=\"47.24375\" xlink:href=\"#m3d95594c3a\" y=\"36.687845\"/>\n      </g>\n     </g>\n     <g id=\"text_13\">\n      <!-- 120 -->\n      <g transform=\"translate(21.15625 40.487064)scale(0.1 -0.1)\">\n       <use xlink:href=\"#DejaVuSans-31\"/>\n       <use x=\"63.623047\" xlink:href=\"#DejaVuSans-32\"/>\n       <use x=\"127.246094\" xlink:href=\"#DejaVuSans-30\"/>\n      </g>\n     </g>\n    </g>\n    <g id=\"text_14\">\n     <!-- trade_price -->\n     <g transform=\"translate(14.798438 260.2536)rotate(-90)scale(0.1 -0.1)\">\n      <defs>\n       <path d=\"M 2906 2969 \nL 2906 4863 \nL 3481 4863 \nL 3481 0 \nL 2906 0 \nL 2906 525 \nQ 2725 213 2448 61 \nQ 2172 -91 1784 -91 \nQ 1150 -91 751 415 \nQ 353 922 353 1747 \nQ 353 2572 751 3078 \nQ 1150 3584 1784 3584 \nQ 2172 3584 2448 3432 \nQ 2725 3281 2906 2969 \nz\nM 947 1747 \nQ 947 1113 1208 752 \nQ 1469 391 1925 391 \nQ 2381 391 2643 752 \nQ 2906 1113 2906 1747 \nQ 2906 2381 2643 2742 \nQ 2381 3103 1925 3103 \nQ 1469 3103 1208 2742 \nQ 947 2381 947 1747 \nz\n\" id=\"DejaVuSans-64\" transform=\"scale(0.015625)\"/>\n       <path d=\"M 3263 -1063 \nL 3263 -1509 \nL -63 -1509 \nL -63 -1063 \nL 3263 -1063 \nz\n\" id=\"DejaVuSans-5f\" transform=\"scale(0.015625)\"/>\n       <path d=\"M 1159 525 \nL 1159 -1331 \nL 581 -1331 \nL 581 3500 \nL 1159 3500 \nL 1159 2969 \nQ 1341 3281 1617 3432 \nQ 1894 3584 2278 3584 \nQ 2916 3584 3314 3078 \nQ 3713 2572 3713 1747 \nQ 3713 922 3314 415 \nQ 2916 -91 2278 -91 \nQ 1894 -91 1617 61 \nQ 1341 213 1159 525 \nz\nM 3116 1747 \nQ 3116 2381 2855 2742 \nQ 2594 3103 2138 3103 \nQ 1681 3103 1420 2742 \nQ 1159 2381 1159 1747 \nQ 1159 1113 1420 752 \nQ 1681 391 2138 391 \nQ 2594 391 2855 752 \nQ 3116 1113 3116 1747 \nz\n\" id=\"DejaVuSans-70\" transform=\"scale(0.015625)\"/>\n       <path d=\"M 603 3500 \nL 1178 3500 \nL 1178 0 \nL 603 0 \nL 603 3500 \nz\nM 603 4863 \nL 1178 4863 \nL 1178 4134 \nL 603 4134 \nL 603 4863 \nz\n\" id=\"DejaVuSans-69\" transform=\"scale(0.015625)\"/>\n       <path d=\"M 3122 3366 \nL 3122 2828 \nQ 2878 2963 2633 3030 \nQ 2388 3097 2138 3097 \nQ 1578 3097 1268 2742 \nQ 959 2388 959 1747 \nQ 959 1106 1268 751 \nQ 1578 397 2138 397 \nQ 2388 397 2633 464 \nQ 2878 531 3122 666 \nL 3122 134 \nQ 2881 22 2623 -34 \nQ 2366 -91 2075 -91 \nQ 1284 -91 818 406 \nQ 353 903 353 1747 \nQ 353 2603 823 3093 \nQ 1294 3584 2113 3584 \nQ 2378 3584 2631 3529 \nQ 2884 3475 3122 3366 \nz\n\" id=\"DejaVuSans-63\" transform=\"scale(0.015625)\"/>\n      </defs>\n      <use xlink:href=\"#DejaVuSans-74\"/>\n      <use x=\"39.208984\" xlink:href=\"#DejaVuSans-72\"/>\n      <use x=\"80.322266\" xlink:href=\"#DejaVuSans-61\"/>\n      <use x=\"141.601562\" xlink:href=\"#DejaVuSans-64\"/>\n      <use x=\"205.078125\" xlink:href=\"#DejaVuSans-65\"/>\n      <use x=\"266.601562\" xlink:href=\"#DejaVuSans-5f\"/>\n      <use x=\"316.601562\" xlink:href=\"#DejaVuSans-70\"/>\n      <use x=\"380.078125\" xlink:href=\"#DejaVuSans-72\"/>\n      <use x=\"421.191406\" xlink:href=\"#DejaVuSans-69\"/>\n      <use x=\"448.974609\" xlink:href=\"#DejaVuSans-63\"/>\n      <use x=\"503.955078\" xlink:href=\"#DejaVuSans-65\"/>\n     </g>\n    </g>\n   </g>\n   <g id=\"patch_3\">\n    <path d=\"M 47.24375 456.7572 \nL 47.24375 7.2 \n\" style=\"fill:none;stroke:#000000;stroke-linecap:square;stroke-linejoin:miter;stroke-width:0.8;\"/>\n   </g>\n   <g id=\"patch_4\">\n    <path d=\"M 700.10375 456.7572 \nL 700.10375 7.2 \n\" style=\"fill:none;stroke:#000000;stroke-linecap:square;stroke-linejoin:miter;stroke-width:0.8;\"/>\n   </g>\n   <g id=\"patch_5\">\n    <path d=\"M 47.24375 456.7572 \nL 700.10375 456.7572 \n\" style=\"fill:none;stroke:#000000;stroke-linecap:square;stroke-linejoin:miter;stroke-width:0.8;\"/>\n   </g>\n   <g id=\"patch_6\">\n    <path d=\"M 47.24375 7.2 \nL 700.10375 7.2 \n\" style=\"fill:none;stroke:#000000;stroke-linecap:square;stroke-linejoin:miter;stroke-width:0.8;\"/>\n   </g>\n   <g id=\"legend_1\">\n    <g id=\"patch_7\">\n     <path d=\"M 648.37875 191.3375 \nL 693.10375 191.3375 \nQ 695.10375 191.3375 695.10375 189.3375 \nL 695.10375 14.2 \nQ 695.10375 12.2 693.10375 12.2 \nL 648.37875 12.2 \nQ 646.37875 12.2 646.37875 14.2 \nL 646.37875 189.3375 \nQ 646.37875 191.3375 648.37875 191.3375 \nz\n\" style=\"fill:#ffffff;opacity:0.8;stroke:#cccccc;stroke-linejoin:miter;\"/>\n    </g>\n    <g id=\"text_15\">\n     <!-- tier -->\n     <g transform=\"translate(662.26 23.798437)scale(0.1 -0.1)\">\n      <use xlink:href=\"#DejaVuSans-74\"/>\n      <use x=\"39.208984\" xlink:href=\"#DejaVuSans-69\"/>\n      <use x=\"66.992188\" xlink:href=\"#DejaVuSans-65\"/>\n      <use x=\"128.515625\" xlink:href=\"#DejaVuSans-72\"/>\n     </g>\n    </g>\n    <g id=\"PathCollection_13\">\n     <defs>\n      <path d=\"M 0 3 \nC 0.795609 3 1.55874 2.683901 2.12132 2.12132 \nC 2.683901 1.55874 3 0.795609 3 0 \nC 3 -0.795609 2.683901 -1.55874 2.12132 -2.12132 \nC 1.55874 -2.683901 0.795609 -3 0 -3 \nC -0.795609 -3 -1.55874 -2.683901 -2.12132 -2.12132 \nC -2.683901 -1.55874 -3 -0.795609 -3 0 \nC -3 0.795609 -2.683901 1.55874 -2.12132 2.12132 \nC -1.55874 2.683901 -0.795609 3 0 3 \nz\n\" id=\"m541ebba832\" style=\"stroke:#66c2a5;\"/>\n     </defs>\n     <g>\n      <use style=\"fill:#66c2a5;stroke:#66c2a5;\" x=\"660.37875\" xlink:href=\"#m541ebba832\" y=\"35.851562\"/>\n     </g>\n    </g>\n    <g id=\"text_16\">\n     <!-- 0 -->\n     <g transform=\"translate(678.37875 38.476562)scale(0.1 -0.1)\">\n      <use xlink:href=\"#DejaVuSans-30\"/>\n     </g>\n    </g>\n    <g id=\"PathCollection_14\">\n     <defs>\n      <path d=\"M 0 3 \nC 0.795609 3 1.55874 2.683901 2.12132 2.12132 \nC 2.683901 1.55874 3 0.795609 3 0 \nC 3 -0.795609 2.683901 -1.55874 2.12132 -2.12132 \nC 1.55874 -2.683901 0.795609 -3 0 -3 \nC -0.795609 -3 -1.55874 -2.683901 -2.12132 -2.12132 \nC -2.683901 -1.55874 -3 -0.795609 -3 0 \nC -3 0.795609 -2.683901 1.55874 -2.12132 2.12132 \nC -1.55874 2.683901 -0.795609 3 0 3 \nz\n\" id=\"md6f00f6a12\" style=\"stroke:#fc8d62;\"/>\n     </defs>\n     <g>\n      <use style=\"fill:#fc8d62;stroke:#fc8d62;\" x=\"660.37875\" xlink:href=\"#md6f00f6a12\" y=\"50.529687\"/>\n     </g>\n    </g>\n    <g id=\"text_17\">\n     <!-- 1 -->\n     <g transform=\"translate(678.37875 53.154687)scale(0.1 -0.1)\">\n      <use xlink:href=\"#DejaVuSans-31\"/>\n     </g>\n    </g>\n    <g id=\"PathCollection_15\">\n     <defs>\n      <path d=\"M 0 3 \nC 0.795609 3 1.55874 2.683901 2.12132 2.12132 \nC 2.683901 1.55874 3 0.795609 3 0 \nC 3 -0.795609 2.683901 -1.55874 2.12132 -2.12132 \nC 1.55874 -2.683901 0.795609 -3 0 -3 \nC -0.795609 -3 -1.55874 -2.683901 -2.12132 -2.12132 \nC -2.683901 -1.55874 -3 -0.795609 -3 0 \nC -3 0.795609 -2.683901 1.55874 -2.12132 2.12132 \nC -1.55874 2.683901 -0.795609 3 0 3 \nz\n\" id=\"mcd207b835c\" style=\"stroke:#8da0cb;\"/>\n     </defs>\n     <g>\n      <use style=\"fill:#8da0cb;stroke:#8da0cb;\" x=\"660.37875\" xlink:href=\"#mcd207b835c\" y=\"65.207812\"/>\n     </g>\n    </g>\n    <g id=\"text_18\">\n     <!-- 2 -->\n     <g transform=\"translate(678.37875 67.832812)scale(0.1 -0.1)\">\n      <use xlink:href=\"#DejaVuSans-32\"/>\n     </g>\n    </g>\n    <g id=\"PathCollection_16\">\n     <defs>\n      <path d=\"M 0 3 \nC 0.795609 3 1.55874 2.683901 2.12132 2.12132 \nC 2.683901 1.55874 3 0.795609 3 0 \nC 3 -0.795609 2.683901 -1.55874 2.12132 -2.12132 \nC 1.55874 -2.683901 0.795609 -3 0 -3 \nC -0.795609 -3 -1.55874 -2.683901 -2.12132 -2.12132 \nC -2.683901 -1.55874 -3 -0.795609 -3 0 \nC -3 0.795609 -2.683901 1.55874 -2.12132 2.12132 \nC -1.55874 2.683901 -0.795609 3 0 3 \nz\n\" id=\"mc0d95a036a\" style=\"stroke:#e78ac3;\"/>\n     </defs>\n     <g>\n      <use style=\"fill:#e78ac3;stroke:#e78ac3;\" x=\"660.37875\" xlink:href=\"#mc0d95a036a\" y=\"79.885937\"/>\n     </g>\n    </g>\n    <g id=\"text_19\">\n     <!-- 3 -->\n     <g transform=\"translate(678.37875 82.510937)scale(0.1 -0.1)\">\n      <use xlink:href=\"#DejaVuSans-33\"/>\n     </g>\n    </g>\n    <g id=\"PathCollection_17\">\n     <defs>\n      <path d=\"M 0 3 \nC 0.795609 3 1.55874 2.683901 2.12132 2.12132 \nC 2.683901 1.55874 3 0.795609 3 0 \nC 3 -0.795609 2.683901 -1.55874 2.12132 -2.12132 \nC 1.55874 -2.683901 0.795609 -3 0 -3 \nC -0.795609 -3 -1.55874 -2.683901 -2.12132 -2.12132 \nC -2.683901 -1.55874 -3 -0.795609 -3 0 \nC -3 0.795609 -2.683901 1.55874 -2.12132 2.12132 \nC -1.55874 2.683901 -0.795609 3 0 3 \nz\n\" id=\"m1facd4e998\" style=\"stroke:#a6d854;\"/>\n     </defs>\n     <g>\n      <use style=\"fill:#a6d854;stroke:#a6d854;\" x=\"660.37875\" xlink:href=\"#m1facd4e998\" y=\"94.564062\"/>\n     </g>\n    </g>\n    <g id=\"text_20\">\n     <!-- 4 -->\n     <g transform=\"translate(678.37875 97.189062)scale(0.1 -0.1)\">\n      <use xlink:href=\"#DejaVuSans-34\"/>\n     </g>\n    </g>\n    <g id=\"PathCollection_18\">\n     <defs>\n      <path d=\"M 0 3 \nC 0.795609 3 1.55874 2.683901 2.12132 2.12132 \nC 2.683901 1.55874 3 0.795609 3 0 \nC 3 -0.795609 2.683901 -1.55874 2.12132 -2.12132 \nC 1.55874 -2.683901 0.795609 -3 0 -3 \nC -0.795609 -3 -1.55874 -2.683901 -2.12132 -2.12132 \nC -2.683901 -1.55874 -3 -0.795609 -3 0 \nC -3 0.795609 -2.683901 1.55874 -2.12132 2.12132 \nC -1.55874 2.683901 -0.795609 3 0 3 \nz\n\" id=\"m335c42cd44\" style=\"stroke:#ffd92f;\"/>\n     </defs>\n     <g>\n      <use style=\"fill:#ffd92f;stroke:#ffd92f;\" x=\"660.37875\" xlink:href=\"#m335c42cd44\" y=\"109.242187\"/>\n     </g>\n    </g>\n    <g id=\"text_21\">\n     <!-- 5 -->\n     <g transform=\"translate(678.37875 111.867187)scale(0.1 -0.1)\">\n      <use xlink:href=\"#DejaVuSans-35\"/>\n     </g>\n    </g>\n    <g id=\"PathCollection_19\">\n     <defs>\n      <path d=\"M 0 3 \nC 0.795609 3 1.55874 2.683901 2.12132 2.12132 \nC 2.683901 1.55874 3 0.795609 3 0 \nC 3 -0.795609 2.683901 -1.55874 2.12132 -2.12132 \nC 1.55874 -2.683901 0.795609 -3 0 -3 \nC -0.795609 -3 -1.55874 -2.683901 -2.12132 -2.12132 \nC -2.683901 -1.55874 -3 -0.795609 -3 0 \nC -3 0.795609 -2.683901 1.55874 -2.12132 2.12132 \nC -1.55874 2.683901 -0.795609 3 0 3 \nz\n\" id=\"m1742cf6f12\" style=\"stroke:#e5c494;\"/>\n     </defs>\n     <g>\n      <use style=\"fill:#e5c494;stroke:#e5c494;\" x=\"660.37875\" xlink:href=\"#m1742cf6f12\" y=\"123.920312\"/>\n     </g>\n    </g>\n    <g id=\"text_22\">\n     <!-- 6 -->\n     <g transform=\"translate(678.37875 126.545312)scale(0.1 -0.1)\">\n      <use xlink:href=\"#DejaVuSans-36\"/>\n     </g>\n    </g>\n    <g id=\"PathCollection_20\">\n     <defs>\n      <path d=\"M 0 3 \nC 0.795609 3 1.55874 2.683901 2.12132 2.12132 \nC 2.683901 1.55874 3 0.795609 3 0 \nC 3 -0.795609 2.683901 -1.55874 2.12132 -2.12132 \nC 1.55874 -2.683901 0.795609 -3 0 -3 \nC -0.795609 -3 -1.55874 -2.683901 -2.12132 -2.12132 \nC -2.683901 -1.55874 -3 -0.795609 -3 0 \nC -3 0.795609 -2.683901 1.55874 -2.12132 2.12132 \nC -1.55874 2.683901 -0.795609 3 0 3 \nz\n\" id=\"m7b69b60e00\" style=\"stroke:#b3b3b3;\"/>\n     </defs>\n     <g>\n      <use style=\"fill:#b3b3b3;stroke:#b3b3b3;\" x=\"660.37875\" xlink:href=\"#m7b69b60e00\" y=\"138.598437\"/>\n     </g>\n    </g>\n    <g id=\"text_23\">\n     <!-- 7 -->\n     <g transform=\"translate(678.37875 141.223437)scale(0.1 -0.1)\">\n      <defs>\n       <path d=\"M 525 4666 \nL 3525 4666 \nL 3525 4397 \nL 1831 0 \nL 1172 0 \nL 2766 4134 \nL 525 4134 \nL 525 4666 \nz\n\" id=\"DejaVuSans-37\" transform=\"scale(0.015625)\"/>\n      </defs>\n      <use xlink:href=\"#DejaVuSans-37\"/>\n     </g>\n    </g>\n    <g id=\"PathCollection_21\">\n     <g>\n      <use style=\"fill:#66c2a5;stroke:#66c2a5;\" x=\"660.37875\" xlink:href=\"#m541ebba832\" y=\"153.276562\"/>\n     </g>\n    </g>\n    <g id=\"text_24\">\n     <!-- 8 -->\n     <g transform=\"translate(678.37875 155.901562)scale(0.1 -0.1)\">\n      <use xlink:href=\"#DejaVuSans-38\"/>\n     </g>\n    </g>\n    <g id=\"PathCollection_22\">\n     <g>\n      <use style=\"fill:#fc8d62;stroke:#fc8d62;\" x=\"660.37875\" xlink:href=\"#md6f00f6a12\" y=\"167.954687\"/>\n     </g>\n    </g>\n    <g id=\"text_25\">\n     <!-- 9 -->\n     <g transform=\"translate(678.37875 170.579687)scale(0.1 -0.1)\">\n      <defs>\n       <path d=\"M 703 97 \nL 703 672 \nQ 941 559 1184 500 \nQ 1428 441 1663 441 \nQ 2288 441 2617 861 \nQ 2947 1281 2994 2138 \nQ 2813 1869 2534 1725 \nQ 2256 1581 1919 1581 \nQ 1219 1581 811 2004 \nQ 403 2428 403 3163 \nQ 403 3881 828 4315 \nQ 1253 4750 1959 4750 \nQ 2769 4750 3195 4129 \nQ 3622 3509 3622 2328 \nQ 3622 1225 3098 567 \nQ 2575 -91 1691 -91 \nQ 1453 -91 1209 -44 \nQ 966 3 703 97 \nz\nM 1959 2075 \nQ 2384 2075 2632 2365 \nQ 2881 2656 2881 3163 \nQ 2881 3666 2632 3958 \nQ 2384 4250 1959 4250 \nQ 1534 4250 1286 3958 \nQ 1038 3666 1038 3163 \nQ 1038 2656 1286 2365 \nQ 1534 2075 1959 2075 \nz\n\" id=\"DejaVuSans-39\" transform=\"scale(0.015625)\"/>\n      </defs>\n      <use xlink:href=\"#DejaVuSans-39\"/>\n     </g>\n    </g>\n    <g id=\"PathCollection_23\">\n     <g>\n      <use style=\"fill:#8da0cb;stroke:#8da0cb;\" x=\"660.37875\" xlink:href=\"#mcd207b835c\" y=\"182.632812\"/>\n     </g>\n    </g>\n    <g id=\"text_26\">\n     <!-- 10 -->\n     <g transform=\"translate(678.37875 185.257812)scale(0.1 -0.1)\">\n      <use xlink:href=\"#DejaVuSans-31\"/>\n      <use x=\"63.623047\" xlink:href=\"#DejaVuSans-30\"/>\n     </g>\n    </g>\n   </g>\n  </g>\n </g>\n <defs>\n  <clipPath id=\"p9a1dc32ce1\">\n   <rect height=\"449.5572\" width=\"652.86\" x=\"47.24375\" y=\"7.2\"/>\n  </clipPath>\n </defs>\n</svg>\n",
      "image/png": "[encoded data removed]"
     },
     "metadata": {
      "needs_background": "light"
     }
    }
   ],
   "source": [
    "import seaborn as sns\n",
    "import matplotlib.pyplot as plt\n",
    "\n",
    "a4_dims = (11.7, 8.27)\n",
    "\n",
    "fig, ax = plt.subplots(figsize=a4_dims)\n",
    "\n",
    "sns.scatterplot(ax=ax,x='rate', y='trade_price', hue='tier', data=df_tier, palette=\"Set2\")"
   ]
  },
  {
   "cell_type": "code",
   "execution_count": 15,
   "metadata": {},
   "outputs": [],
   "source": [
    "from IPython.core.display import display, HTML\n",
    "from copy import deepcopy\n",
    "\n",
    "def makeTierMark(x):\n",
    "    return '<img src= ' + './image/icon-champtier-'+str(x)+'.png' + ' width=22 height=24>'\n",
    "\n",
    "def makeHTML(feature_df) :    \n",
    "    feature_df = deepcopy(feature_df)\n",
    "    feature_df=feature_df.astype(str)\n",
    "    #feature_df['img'] = 'https://ssl.pstatic.net/imgfinance/chart/mobile/candle/day/'+feature_df['단축코드']+'_end.png'\n",
    "    #feature_df['img'] = '<img src = \\'' + feature_df['img'] + '\\' weight=300 height=200>'\n",
    "    \n",
    "    feature_df['티어'] =feature_df['티어'].map(lambda x : makeTierMark(x))\n",
    "\n",
    "    for index,column in enumerate(feature_df.columns):\n",
    "        feature_df[column] = 'col'+str(index+1)+feature_df[column]\n",
    "    \n",
    "    feature_df.columns = ['1 코인','2 상승률','3 거래액(억)','4 티어']\n",
    "\n",
    "    f=open('./fixed-column-table/Table_Fixed_Column/header.txt', 'r')\n",
    "    header = f.read()\n",
    "\n",
    "    f=open('./fixed-column-table/Table_Fixed_Column/js.txt', 'r')\n",
    "    js = f.read()\n",
    "\n",
    "    df_html = feature_df.to_html(escape=False)\n",
    "\n",
    "    df_html = header + df_html + js\n",
    "\n",
    "    return df_html"
   ]
  },
  {
   "cell_type": "code",
   "execution_count": 16,
   "metadata": {},
   "outputs": [],
   "source": [
    "df_tier = df_tier.drop('tier_val',axis=1)\n",
    "df_tier = df_tier.reset_index()\n",
    "df_tier = df_tier[['name','rate','trade_price','tier']]"
   ]
  },
  {
   "cell_type": "code",
   "execution_count": 17,
   "metadata": {},
   "outputs": [
    {
     "output_type": "execute_result",
     "data": {
      "text/plain": [
       "<IPython.core.display.HTML object>"
      ],
      "text/html": "<!DOCTYPE html>\n<html lang=\"en\">\n<head>\n\t<title>Table V05</title>\n\t<meta charset=\"UTF-8\">\n\t<meta name=\"viewport\" content=\"width=device-width, initial-scale=1\">\n<!--===============================================================================================-->\t\n\t<link rel=\"icon\" type=\"image/png\" href=\"images/icons/favicon.ico\"/>\n<!--===============================================================================================-->\n\t<link rel=\"stylesheet\" type=\"text/css\" href=\"vendor/bootstrap/css/bootstrap.min.css\">\n<!--===============================================================================================-->\n\t<link rel=\"stylesheet\" type=\"text/css\" href=\"fonts/font-awesome-4.7.0/css/font-awesome.min.css\">\n<!--===============================================================================================-->\n\t<link rel=\"stylesheet\" type=\"text/css\" href=\"vendor/animate/animate.css\">\n<!--===============================================================================================-->\n\t<link rel=\"stylesheet\" type=\"text/css\" href=\"vendor/select2/select2.min.css\">\n<!--===============================================================================================-->\n\t<link rel=\"stylesheet\" type=\"text/css\" href=\"vendor/perfect-scrollbar/perfect-scrollbar.css\">\n<!--===============================================================================================-->\n\t<link rel=\"stylesheet\" type=\"text/css\" href=\"css/util.css\">\n\t<link rel=\"stylesheet\" type=\"text/css\" href=\"css/main.css\">\n<!--===============================================================================================-->\n</head>\n\n<body>\n\t<div class=\"container-table100\">\n\t\t<div class=\"wrap-table100\">\n\t\t\t<div class=\"table100 ver1\">\n\t\t\t\t<div class=\"wrap-table100-nextcols js-pscroll\">\n\t\t\t\t\t<div class=\"table100-nextcols\"><table>\n  <thead>\n    <tr class=\"row100 body\" style=\"text-align: right;\">\n      <th></th>\n      <th class=\"cell100 column1\">코인</th>\n      <th class=\"cell100 column2\">상승률</th>\n      <th class=\"cell100 column3\">거래액(억)</th>\n      <th class=\"cell100 column4\">티어</th>\n    </tr>\n  </thead>\n  <tbody>\n    <tr class=\"row100 body\">\n      <th>0</th>\n      <td class=\"cell100 column1\">어거</td>\n      <td class=\"cell100 column2\">-5.58</td>\n      <td class=\"cell100 column3\">38.22</td>\n      <td class=\"cell100 column4\"><img src= ./image/icon-champtier-0.png width=22 height=24></td>\n    </tr>\n    <tr class=\"row100 body\">\n      <th>1</th>\n      <td class=\"cell100 column1\">골렘</td>\n      <td class=\"cell100 column2\">-2.71</td>\n      <td class=\"cell100 column3\">1.59</td>\n      <td class=\"cell100 column4\"><img src= ./image/icon-champtier-1.png width=22 height=24></td>\n    </tr>\n    <tr class=\"row100 body\">\n      <th>2</th>\n      <td class=\"cell100 column1\">넴</td>\n      <td class=\"cell100 column2\">-6.21</td>\n      <td class=\"cell100 column3\">23.99</td>\n      <td class=\"cell100 column4\"><img src= ./image/icon-champtier-1.png width=22 height=24></td>\n    </tr>\n    <tr class=\"row100 body\">\n      <th>3</th>\n      <td class=\"cell100 column1\">헤데라해시그래프</td>\n      <td class=\"cell100 column2\">-5.45</td>\n      <td class=\"cell100 column3\">3.82</td>\n      <td class=\"cell100 column4\"><img src= ./image/icon-champtier-1.png width=22 height=24></td>\n    </tr>\n    <tr class=\"row100 body\">\n      <th>4</th>\n      <td class=\"cell100 column1\">엑시인피니티</td>\n      <td class=\"cell100 column2\">-17.93</td>\n      <td class=\"cell100 column3\">122.71</td>\n      <td class=\"cell100 column4\"><img src= ./image/icon-champtier-2.png width=22 height=24></td>\n    </tr>\n    <tr class=\"row100 body\">\n      <th>5</th>\n      <td class=\"cell100 column1\">톤</td>\n      <td class=\"cell100 column2\">-9.36</td>\n      <td class=\"cell100 column3\">20.38</td>\n      <td class=\"cell100 column4\"><img src= ./image/icon-champtier-2.png width=22 height=24></td>\n    </tr>\n    <tr class=\"row100 body\">\n      <th>6</th>\n      <td class=\"cell100 column1\">비트코인</td>\n      <td class=\"cell100 column2\">-12.87</td>\n      <td class=\"cell100 column3\">42.79</td>\n      <td class=\"cell100 column4\"><img src= ./image/icon-champtier-2.png width=22 height=24></td>\n    </tr>\n    <tr class=\"row100 body\">\n      <th>7</th>\n      <td class=\"cell100 column1\">썬더토큰</td>\n      <td class=\"cell100 column2\">-9.55</td>\n      <td class=\"cell100 column3\">5.23</td>\n      <td class=\"cell100 column4\"><img src= ./image/icon-champtier-2.png width=22 height=24></td>\n    </tr>\n    <tr class=\"row100 body\">\n      <th>8</th>\n      <td class=\"cell100 column1\">리플</td>\n      <td class=\"cell100 column2\">-18.18</td>\n      <td class=\"cell100 column3\">42.64</td>\n      <td class=\"cell100 column4\"><img src= ./image/icon-champtier-3.png width=22 height=24></td>\n    </tr>\n    <tr class=\"row100 body\">\n      <th>9</th>\n      <td class=\"cell100 column1\">이더리움</td>\n      <td class=\"cell100 column2\">-18.11</td>\n      <td class=\"cell100 column3\">44.44</td>\n      <td class=\"cell100 column4\"><img src= ./image/icon-champtier-3.png width=22 height=24></td>\n    </tr>\n    <tr class=\"row100 body\">\n      <th>10</th>\n      <td class=\"cell100 column1\">헌트</td>\n      <td class=\"cell100 column2\">-13.04</td>\n      <td class=\"cell100 column3\">5.08</td>\n      <td class=\"cell100 column4\"><img src= ./image/icon-champtier-3.png width=22 height=24></td>\n    </tr>\n    <tr class=\"row100 body\">\n      <th>11</th>\n      <td class=\"cell100 column1\">밀크</td>\n      <td class=\"cell100 column2\">-16.07</td>\n      <td class=\"cell100 column3\">40.93</td>\n      <td class=\"cell100 column4\"><img src= ./image/icon-champtier-3.png width=22 height=24></td>\n    </tr>\n    <tr class=\"row100 body\">\n      <th>12</th>\n      <td class=\"cell100 column1\">스팀달러</td>\n      <td class=\"cell100 column2\">-13.3</td>\n      <td class=\"cell100 column3\">12.52</td>\n      <td class=\"cell100 column4\"><img src= ./image/icon-champtier-3.png width=22 height=24></td>\n    </tr>\n    <tr class=\"row100 body\">\n      <th>13</th>\n      <td class=\"cell100 column1\">샌드박스</td>\n      <td class=\"cell100 column2\">-16.91</td>\n      <td class=\"cell100 column3\">56.32</td>\n      <td class=\"cell100 column4\"><img src= ./image/icon-champtier-3.png width=22 height=24></td>\n    </tr>\n    <tr class=\"row100 body\">\n      <th>14</th>\n      <td class=\"cell100 column1\">비트코인캐시에이비씨</td>\n      <td class=\"cell100 column2\">-13.29</td>\n      <td class=\"cell100 column3\">9.06</td>\n      <td class=\"cell100 column4\"><img src= ./image/icon-champtier-3.png width=22 height=24></td>\n    </tr>\n    <tr class=\"row100 body\">\n      <th>15</th>\n      <td class=\"cell100 column1\">베이직어텐션토큰</td>\n      <td class=\"cell100 column2\">-17.84</td>\n      <td class=\"cell100 column3\">1.88</td>\n      <td class=\"cell100 column4\"><img src= ./image/icon-champtier-4.png width=22 height=24></td>\n    </tr>\n    <tr class=\"row100 body\">\n      <th>16</th>\n      <td class=\"cell100 column1\">도지코인</td>\n      <td class=\"cell100 column2\">-22.83</td>\n      <td class=\"cell100 column3\">45.43</td>\n      <td class=\"cell100 column4\"><img src= ./image/icon-champtier-4.png width=22 height=24></td>\n    </tr>\n    <tr class=\"row100 body\">\n      <th>17</th>\n      <td class=\"cell100 column1\">캐리프로토콜</td>\n      <td class=\"cell100 column2\">-18.38</td>\n      <td class=\"cell100 column3\">4.63</td>\n      <td class=\"cell100 column4\"><img src= ./image/icon-champtier-4.png width=22 height=24></td>\n    </tr>\n    <tr class=\"row100 body\">\n      <th>18</th>\n      <td class=\"cell100 column1\">스텔라루멘</td>\n      <td class=\"cell100 column2\">-18.09</td>\n      <td class=\"cell100 column3\">4.49</td>\n      <td class=\"cell100 column4\"><img src= ./image/icon-champtier-4.png width=22 height=24></td>\n    </tr>\n    <tr class=\"row100 body\">\n      <th>19</th>\n      <td class=\"cell100 column1\">가스</td>\n      <td class=\"cell100 column2\">-17.25</td>\n      <td class=\"cell100 column3\">17.68</td>\n      <td class=\"cell100 column4\"><img src= ./image/icon-champtier-4.png width=22 height=24></td>\n    </tr>\n  </tbody>\n</table></div>\n</div>\n</div>\n</div>\n</div>\n<!--===============================================================================================-->\t\n\t<script src=\"vendor/jquery/jquery-3.2.1.min.js\"></script>\n<!--===============================================================================================-->\n\t<script src=\"vendor/bootstrap/js/popper.js\"></script>\n\t<script src=\"vendor/bootstrap/js/bootstrap.min.js\"></script>\n<!--===============================================================================================-->\n\t<script src=\"vendor/select2/select2.min.js\"></script>\n<!--===============================================================================================-->\n\t<script src=\"vendor/perfect-scrollbar/perfect-scrollbar.min.js\"></script>\n\t<script>\n\t\t$('.js-pscroll').each(function(){\n\t\t\tvar ps = new PerfectScrollbar(this);\n\n\t\t\t$(window).on('resize', function(){\n\t\t\t\tps.update();\n\t\t\t})\n\n\t\t\t$(this).on('ps-x-reach-start', function(){\n\t\t\t\t$(this).parent().find('.table100-firstcol').removeClass('shadow-table100-firstcol');\n\t\t\t});\n\n\t\t\t$(this).on('ps-scroll-x', function(){\n\t\t\t\t$(this).parent().find('.table100-firstcol').addClass('shadow-table100-firstcol');\n\t\t\t});\n\n\t\t});\n\n\t\t\n\t\t\n\t\t\n\t</script>\n<!--===============================================================================================-->\n\t<script src=\"js/main.js\"></script>\n\n</body>\n</html>"
     },
     "metadata": {},
     "execution_count": 17
    }
   ],
   "source": [
    "df_tier['rate'] = df_tier['rate'].map(lambda x : round(x,2))\n",
    "df_tier['trade_price'] = df_tier['trade_price'].map(lambda x : round(x,2))\n",
    "df_tier.columns = ['코인','등락률','거래액(억)','티어']\n",
    "html = makeHTML(df_tier[:20])\n",
    "html = html.replace('<table border=\\\"1\\\" class=\\\"dataframe\\\">','<table>')\n",
    "html=html.replace('<tr','<tr class=\\\"row100 body\\\"')\n",
    "\n",
    "for index,column in enumerate(df_tier.columns):\n",
    "    html=html.replace('<td>col'+str(index+1),'<td class=\\\"cell100 column'+str(index+1)+'\\\">')\n",
    "    html=html.replace('<th>'+str(index+1)+' ','<th class=\\\"cell100 column'+str(index+1)+'\\\">')\n",
    "HTML(html)"
   ]
  },
  {
   "cell_type": "code",
   "execution_count": 18,
   "metadata": {},
   "outputs": [],
   "source": [
    "with open('./fixed-column-table/Table_Fixed_Column/html_file.html', 'w',encoding='utf-8') as f:\n",
    "    f.write(html)"
   ]
  }
 ]
}