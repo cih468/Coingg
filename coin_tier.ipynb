{
 "metadata": {
  "language_info": {
   "codemirror_mode": {
    "name": "ipython",
    "version": 3
   },
   "file_extension": ".py",
   "mimetype": "text/x-python",
   "name": "python",
   "nbconvert_exporter": "python",
   "pygments_lexer": "ipython3",
   "version": "3.8.10"
  },
  "orig_nbformat": 2,
  "kernelspec": {
   "name": "python3",
   "display_name": "Python 3.8.10 64-bit (windows store)"
  },
  "interpreter": {
   "hash": "cdbb992e379dc9ba069ff974c97f3018ebf1ebc7da132f363ca84737f7370780"
  }
 },
 "nbformat": 4,
 "nbformat_minor": 2,
 "cells": [
  {
   "cell_type": "code",
   "execution_count": 124,
   "metadata": {},
   "outputs": [],
   "source": [
    "# !pip install pyjwt==1.6.4\n",
    "import getCoinInfo\n",
    "\n",
    "import os\n",
    "import jwt\n",
    "import uuid\n",
    "import hashlib\n",
    "from urllib.parse import urlencode\n",
    "import pandas as pd\n",
    "import matplotlib.pyplot as plt\n",
    "\n",
    "import requests\n",
    "import warnings\n",
    "warnings.filterwarnings('ignore')"
   ]
  },
  {
   "cell_type": "code",
   "execution_count": 125,
   "metadata": {},
   "outputs": [],
   "source": [
    "#secretKey = '9YJKW1Mf2sbxS49CxK64mAcg1K2jWQlz6nBj03xR'\n",
    "#accessKey = 'D3lErjSf7TR51Gf79eCC9hwsZBkPajT9lOPxQxsr'\n",
    "\n",
    "accessKey = '0OZyHGPI4paErDy83m2T0XtXLPZlVL2xbafNpadp'\n",
    "secretKey = 'V3SPlDriFU1StpEtSIgtfGoiQ9de2hKqkjDkw0wx'"
   ]
  },
  {
   "cell_type": "code",
   "execution_count": 126,
   "metadata": {},
   "outputs": [
    {
     "output_type": "stream",
     "name": "stdout",
     "text": [
      "{'error': {'message': '인증된 IP가 아닙니다.', 'name': 'no_authorization_i_p'}}\n"
     ]
    }
   ],
   "source": [
    "server_url = 'https://api.upbit.com'\n",
    "\n",
    "payload = {\n",
    "    'access_key': accessKey,\n",
    "    'nonce': str(uuid.uuid4()),\n",
    "}\n",
    "\n",
    "jwt_token = jwt.encode(payload, secretKey)\n",
    "authorize_token = 'Bearer {}'.format(jwt_token)\n",
    "headers = {\"Authorization\": authorize_token}\n",
    "\n",
    "res = requests.get(server_url + \"/v1/accounts\", headers=headers)\n",
    "\n",
    "print(res.json())"
   ]
  },
  {
   "cell_type": "code",
   "execution_count": 127,
   "metadata": {
    "tags": []
   },
   "outputs": [
    {
     "output_type": "execute_result",
     "data": {
      "text/plain": [
       "112"
      ]
     },
     "metadata": {},
     "execution_count": 127
    }
   ],
   "source": [
    "#종목 조회\n",
    "url = \"https://api.upbit.com/v1/market/all\"\n",
    "\n",
    "querystring = {\"isDetails\":\"false\"}\n",
    "\n",
    "response = requests.request(\"GET\", url, params=querystring)\n",
    "\n",
    "coin_list = response.json()\n",
    "coins = []\n",
    "for coin in coin_list:\n",
    "    if coin['market'].split('-')[0] =='KRW':\n",
    "        coins.append(coin['market'])\n",
    "len(coins)"
   ]
  },
  {
   "cell_type": "code",
   "execution_count": 128,
   "metadata": {},
   "outputs": [
    {
     "output_type": "stream",
     "name": "stdout",
     "text": [
      "[{\"market\":\"KRW-BTC\",\"candle_date_time_utc\":\"2021-06-21T00:00:00\",\"candle_date_time_kst\":\"2021-06-21T09:00:00\",\"opening_price\":41843000.00000000,\"high_price\":42048000.00000000,\"low_price\":38523000.00000000,\"trade_price\":38730000.00000000,\"timestamp\":1624260703075,\"candle_acc_trade_price\":327245699503.79245000,\"candle_acc_trade_volume\":8159.70260113,\"prev_closing_price\":41842000.00000000,\"change_price\":-3112000.00000000,\"change_rate\":-0.0743750299}]\n"
     ]
    }
   ],
   "source": [
    "url = \"https://api.upbit.com/v1/candles/days\"\n",
    "\n",
    "query = {\"count\":\"1\",\"market\": \"KRW-BTC\"}\n",
    "# m = hashlib.sha512()\n",
    "# m.update(urlencode(query).encode())\n",
    "# query_hash = m.hexdigest()\n",
    "# payload = {\n",
    "#     'access_key': accessKey,\n",
    "#     'nonce': str(uuid.uuid4()),\n",
    "#     'query_hash': query_hash,\n",
    "#     'query_hash_alg': 'SHA512'\n",
    "# }\n",
    "\n",
    "# jwt_token = jwt.encode(payload, secretKey)\n",
    "# authorize_token = 'Bearer {}'.format(jwt_token)\n",
    "# headers = {\"Authorization\": authorize_token}\n",
    "\n",
    "response = requests.request(\"GET\", url, params =  query)\n",
    "\n",
    "print(response.text)"
   ]
  },
  {
   "cell_type": "code",
   "execution_count": 129,
   "metadata": {},
   "outputs": [
    {
     "output_type": "execute_result",
     "data": {
      "text/plain": [
       "'192.168.219.102'"
      ]
     },
     "metadata": {},
     "execution_count": 129
    }
   ],
   "source": [
    "import socket\n",
    "socket.gethostbyname(socket.getfqdn())"
   ]
  },
  {
   "cell_type": "code",
   "execution_count": 170,
   "metadata": {
    "tags": []
   },
   "outputs": [
    {
     "output_type": "stream",
     "name": "stdout",
     "text": [
      "KRW-BTC\n",
      "KRW-ETH\n",
      "KRW-NEO\n",
      "KRW-MTL\n",
      "KRW-LTC\n",
      "KRW-XRP\n",
      "KRW-ETC\n",
      "KRW-OMG\n",
      "KRW-SNT\n",
      "KRW-WAVES\n",
      "KRW-XEM\n",
      "KRW-QTUM\n",
      "KRW-LSK\n",
      "KRW-STEEM\n",
      "KRW-XLM\n",
      "KRW-ARDR\n",
      "KRW-KMD\n",
      "KRW-ARK\n",
      "KRW-STORJ\n",
      "KRW-GRS\n",
      "KRW-REP\n",
      "KRW-EMC2\n",
      "KRW-ADA\n",
      "KRW-SBD\n",
      "KRW-POWR\n",
      "KRW-BTG\n",
      "KRW-ICX\n",
      "KRW-EOS\n",
      "KRW-TRX\n",
      "KRW-SC\n",
      "KRW-IGNIS\n",
      "KRW-ONT\n",
      "KRW-ZIL\n",
      "KRW-POLY\n",
      "KRW-ZRX\n",
      "KRW-LOOM\n",
      "KRW-BCH\n",
      "KRW-ADX\n",
      "KRW-BAT\n",
      "KRW-IOST\n",
      "KRW-DMT\n",
      "KRW-RFR\n",
      "KRW-CVC\n",
      "KRW-IQ\n",
      "KRW-IOTA\n",
      "KRW-MFT\n",
      "KRW-ONG\n",
      "KRW-GAS\n",
      "KRW-UPP\n",
      "KRW-ELF\n",
      "KRW-KNC\n",
      "KRW-BSV\n",
      "KRW-THETA\n",
      "KRW-EDR\n",
      "KRW-QKC\n",
      "KRW-BTT\n",
      "KRW-MOC\n",
      "KRW-ENJ\n",
      "KRW-TFUEL\n",
      "KRW-MANA\n",
      "KRW-ANKR\n",
      "KRW-AERGO\n",
      "KRW-ATOM\n",
      "KRW-TT\n",
      "KRW-CRE\n",
      "KRW-MBL\n",
      "KRW-TSHP\n",
      "KRW-WAXP\n",
      "KRW-HBAR\n",
      "KRW-MED\n",
      "KRW-MLK\n",
      "KRW-STPT\n",
      "KRW-ORBS\n",
      "KRW-VET\n",
      "KRW-CHZ\n",
      "KRW-PXL\n",
      "KRW-STMX\n",
      "KRW-DKA\n",
      "KRW-HIVE\n",
      "KRW-KAVA\n",
      "KRW-AHT\n",
      "KRW-LINK\n",
      "KRW-XTZ\n",
      "KRW-BORA\n",
      "KRW-JST\n",
      "KRW-CRO\n",
      "KRW-TON\n",
      "KRW-SXP\n",
      "KRW-LAMB\n",
      "KRW-HUNT\n",
      "KRW-PLA\n",
      "KRW-DOT\n",
      "KRW-SRM\n",
      "KRW-MVL\n",
      "KRW-STRAX\n",
      "KRW-AQT\n",
      "KRW-BCHA\n",
      "KRW-GLM\n",
      "KRW-SSX\n",
      "KRW-META\n",
      "KRW-FCT2\n",
      "KRW-LBC\n",
      "KRW-CBK\n",
      "KRW-SAND\n",
      "KRW-HUM\n",
      "KRW-DOGE\n",
      "KRW-STRK\n",
      "KRW-PUNDIX\n",
      "KRW-FLOW\n",
      "KRW-DAWN\n",
      "KRW-AXS\n",
      "KRW-STX\n"
     ]
    },
    {
     "output_type": "execute_result",
     "data": {
      "text/plain": [
       "      market candle_date_time_utc candle_date_time_kst  opening_price  \\\n",
       "0    KRW-BTC  2021-06-21T07:30:00  2021-06-21T16:30:00       38805000   \n",
       "1    KRW-BTC  2021-06-21T07:00:00  2021-06-21T16:00:00       38890000   \n",
       "2    KRW-BTC  2021-06-21T06:30:00  2021-06-21T15:30:00       39409000   \n",
       "3    KRW-BTC  2021-06-21T06:00:00  2021-06-21T15:00:00       40396000   \n",
       "4    KRW-BTC  2021-06-21T05:30:00  2021-06-21T14:30:00       40110000   \n",
       "..       ...                  ...                  ...            ...   \n",
       "395  KRW-BTC  2021-06-13T02:30:00  2021-06-13T11:30:00       41262000   \n",
       "396  KRW-BTC  2021-06-13T02:00:00  2021-06-13T11:00:00       41572000   \n",
       "397  KRW-BTC  2021-06-13T01:30:00  2021-06-13T10:30:00       41417000   \n",
       "398  KRW-BTC  2021-06-13T01:00:00  2021-06-13T10:00:00       41545000   \n",
       "399  KRW-BTC  2021-06-13T00:30:00  2021-06-13T09:30:00       41013000   \n",
       "\n",
       "     high_price  low_price  trade_price               timestamp  \\\n",
       "0      38999000   38650000     38865000 2021-06-21 07:41:11.638   \n",
       "1      39299000   38654000     38805000 2021-06-21 07:29:59.448   \n",
       "2      39417000   38523000     38883000 2021-06-21 06:59:59.996   \n",
       "3      40470000   39400000     39400000 2021-06-21 06:30:01.449   \n",
       "4      40440000   40077000     40396000 2021-06-21 05:59:59.810   \n",
       "..          ...        ...          ...                     ...   \n",
       "395    41307000   41060000     41102000 2021-06-13 02:59:58.724   \n",
       "396    41598000   41200000     41306000 2021-06-13 02:29:57.420   \n",
       "397    41624000   41364000     41572000 2021-06-13 01:59:59.842   \n",
       "398    41701000   41301000     41402000 2021-06-13 01:29:59.991   \n",
       "399    41576000   41000000     41544000 2021-06-13 01:00:00.071   \n",
       "\n",
       "     candle_acc_trade_price  candle_acc_trade_volume  unit  \n",
       "0              7.877724e+09               202.959064    30  \n",
       "1              2.763776e+10               708.530422    30  \n",
       "2              7.947628e+10              2036.872414    30  \n",
       "3              3.006488e+10               752.241280    30  \n",
       "4              2.388321e+10               593.498803    30  \n",
       "..                      ...                      ...   ...  \n",
       "395            5.566047e+09               135.160446    30  \n",
       "396            6.350933e+09               153.492156    30  \n",
       "397            6.681405e+09               161.145063    30  \n",
       "398            9.600755e+09               231.219614    30  \n",
       "399            1.054481e+10               255.488777    30  \n",
       "\n",
       "[400 rows x 11 columns]"
      ],
      "text/html": "<div>\n<style scoped>\n    .dataframe tbody tr th:only-of-type {\n        vertical-align: middle;\n    }\n\n    .dataframe tbody tr th {\n        vertical-align: top;\n    }\n\n    .dataframe thead th {\n        text-align: right;\n    }\n</style>\n<table border=\"1\" class=\"dataframe\">\n  <thead>\n    <tr style=\"text-align: right;\">\n      <th></th>\n      <th>market</th>\n      <th>candle_date_time_utc</th>\n      <th>candle_date_time_kst</th>\n      <th>opening_price</th>\n      <th>high_price</th>\n      <th>low_price</th>\n      <th>trade_price</th>\n      <th>timestamp</th>\n      <th>candle_acc_trade_price</th>\n      <th>candle_acc_trade_volume</th>\n      <th>unit</th>\n    </tr>\n  </thead>\n  <tbody>\n    <tr>\n      <th>0</th>\n      <td>KRW-BTC</td>\n      <td>2021-06-21T07:30:00</td>\n      <td>2021-06-21T16:30:00</td>\n      <td>38805000</td>\n      <td>38999000</td>\n      <td>38650000</td>\n      <td>38865000</td>\n      <td>2021-06-21 07:41:11.638</td>\n      <td>7.877724e+09</td>\n      <td>202.959064</td>\n      <td>30</td>\n    </tr>\n    <tr>\n      <th>1</th>\n      <td>KRW-BTC</td>\n      <td>2021-06-21T07:00:00</td>\n      <td>2021-06-21T16:00:00</td>\n      <td>38890000</td>\n      <td>39299000</td>\n      <td>38654000</td>\n      <td>38805000</td>\n      <td>2021-06-21 07:29:59.448</td>\n      <td>2.763776e+10</td>\n      <td>708.530422</td>\n      <td>30</td>\n    </tr>\n    <tr>\n      <th>2</th>\n      <td>KRW-BTC</td>\n      <td>2021-06-21T06:30:00</td>\n      <td>2021-06-21T15:30:00</td>\n      <td>39409000</td>\n      <td>39417000</td>\n      <td>38523000</td>\n      <td>38883000</td>\n      <td>2021-06-21 06:59:59.996</td>\n      <td>7.947628e+10</td>\n      <td>2036.872414</td>\n      <td>30</td>\n    </tr>\n    <tr>\n      <th>3</th>\n      <td>KRW-BTC</td>\n      <td>2021-06-21T06:00:00</td>\n      <td>2021-06-21T15:00:00</td>\n      <td>40396000</td>\n      <td>40470000</td>\n      <td>39400000</td>\n      <td>39400000</td>\n      <td>2021-06-21 06:30:01.449</td>\n      <td>3.006488e+10</td>\n      <td>752.241280</td>\n      <td>30</td>\n    </tr>\n    <tr>\n      <th>4</th>\n      <td>KRW-BTC</td>\n      <td>2021-06-21T05:30:00</td>\n      <td>2021-06-21T14:30:00</td>\n      <td>40110000</td>\n      <td>40440000</td>\n      <td>40077000</td>\n      <td>40396000</td>\n      <td>2021-06-21 05:59:59.810</td>\n      <td>2.388321e+10</td>\n      <td>593.498803</td>\n      <td>30</td>\n    </tr>\n    <tr>\n      <th>...</th>\n      <td>...</td>\n      <td>...</td>\n      <td>...</td>\n      <td>...</td>\n      <td>...</td>\n      <td>...</td>\n      <td>...</td>\n      <td>...</td>\n      <td>...</td>\n      <td>...</td>\n      <td>...</td>\n    </tr>\n    <tr>\n      <th>395</th>\n      <td>KRW-BTC</td>\n      <td>2021-06-13T02:30:00</td>\n      <td>2021-06-13T11:30:00</td>\n      <td>41262000</td>\n      <td>41307000</td>\n      <td>41060000</td>\n      <td>41102000</td>\n      <td>2021-06-13 02:59:58.724</td>\n      <td>5.566047e+09</td>\n      <td>135.160446</td>\n      <td>30</td>\n    </tr>\n    <tr>\n      <th>396</th>\n      <td>KRW-BTC</td>\n      <td>2021-06-13T02:00:00</td>\n      <td>2021-06-13T11:00:00</td>\n      <td>41572000</td>\n      <td>41598000</td>\n      <td>41200000</td>\n      <td>41306000</td>\n      <td>2021-06-13 02:29:57.420</td>\n      <td>6.350933e+09</td>\n      <td>153.492156</td>\n      <td>30</td>\n    </tr>\n    <tr>\n      <th>397</th>\n      <td>KRW-BTC</td>\n      <td>2021-06-13T01:30:00</td>\n      <td>2021-06-13T10:30:00</td>\n      <td>41417000</td>\n      <td>41624000</td>\n      <td>41364000</td>\n      <td>41572000</td>\n      <td>2021-06-13 01:59:59.842</td>\n      <td>6.681405e+09</td>\n      <td>161.145063</td>\n      <td>30</td>\n    </tr>\n    <tr>\n      <th>398</th>\n      <td>KRW-BTC</td>\n      <td>2021-06-13T01:00:00</td>\n      <td>2021-06-13T10:00:00</td>\n      <td>41545000</td>\n      <td>41701000</td>\n      <td>41301000</td>\n      <td>41402000</td>\n      <td>2021-06-13 01:29:59.991</td>\n      <td>9.600755e+09</td>\n      <td>231.219614</td>\n      <td>30</td>\n    </tr>\n    <tr>\n      <th>399</th>\n      <td>KRW-BTC</td>\n      <td>2021-06-13T00:30:00</td>\n      <td>2021-06-13T09:30:00</td>\n      <td>41013000</td>\n      <td>41576000</td>\n      <td>41000000</td>\n      <td>41544000</td>\n      <td>2021-06-13 01:00:00.071</td>\n      <td>1.054481e+10</td>\n      <td>255.488777</td>\n      <td>30</td>\n    </tr>\n  </tbody>\n</table>\n<p>400 rows × 11 columns</p>\n</div>"
     },
     "metadata": {},
     "execution_count": 170
    }
   ],
   "source": [
    "df = {}\n",
    "for coin in coins:\n",
    "    print(coin)\n",
    "    df[coin] = getCoinInfo.getCoinDF(coin,30,200,size=24*2*7)\n",
    "  \n",
    "df['KRW-BTC']"
   ]
  },
  {
   "cell_type": "code",
   "execution_count": 171,
   "metadata": {},
   "outputs": [],
   "source": [
    "for coin in coins:\n",
    "    df[coin] = df[coin].loc[::-1,:]\n",
    "    df[coin] = df[coin].reset_index()\n",
    "    df[coin].drop('index',inplace=True,axis=1)"
   ]
  },
  {
   "cell_type": "code",
   "execution_count": 172,
   "metadata": {},
   "outputs": [
    {
     "output_type": "execute_result",
     "data": {
      "text/plain": [
       "        market candle_date_time_utc candle_date_time_kst  opening_price  \\\n",
       "0    KRW-TFUEL  2021-06-13T00:30:00  2021-06-13T09:30:00            488   \n",
       "1    KRW-TFUEL  2021-06-13T01:00:00  2021-06-13T10:00:00            498   \n",
       "2    KRW-TFUEL  2021-06-13T01:30:00  2021-06-13T10:30:00            507   \n",
       "3    KRW-TFUEL  2021-06-13T02:00:00  2021-06-13T11:00:00            498   \n",
       "4    KRW-TFUEL  2021-06-13T02:30:00  2021-06-13T11:30:00            504   \n",
       "..         ...                  ...                  ...            ...   \n",
       "395  KRW-TFUEL  2021-06-21T05:30:00  2021-06-21T14:30:00            682   \n",
       "396  KRW-TFUEL  2021-06-21T06:00:00  2021-06-21T15:00:00            694   \n",
       "397  KRW-TFUEL  2021-06-21T06:30:00  2021-06-21T15:30:00            681   \n",
       "398  KRW-TFUEL  2021-06-21T07:00:00  2021-06-21T16:00:00            668   \n",
       "399  KRW-TFUEL  2021-06-21T07:30:00  2021-06-21T16:30:00            663   \n",
       "\n",
       "     high_price  low_price  trade_price               timestamp  \\\n",
       "0           508        480          498 2021-06-13 00:59:55.829   \n",
       "1           507        492          506 2021-06-13 01:29:56.795   \n",
       "2           510        496          498 2021-06-13 01:59:55.384   \n",
       "3           504        495          504 2021-06-13 02:29:58.763   \n",
       "4           511        497          506 2021-06-13 02:59:56.698   \n",
       "..          ...        ...          ...                     ...   \n",
       "395         699        682          694 2021-06-21 05:59:56.270   \n",
       "396         698        680          680 2021-06-21 06:29:59.490   \n",
       "397         683        656          669 2021-06-21 06:59:55.156   \n",
       "398         681        659          663 2021-06-21 07:29:59.469   \n",
       "399         668        659          666 2021-06-21 07:41:22.872   \n",
       "\n",
       "     candle_acc_trade_price  candle_acc_trade_volume  unit  \n",
       "0              2.526265e+09             5.095448e+06    30  \n",
       "1              1.523994e+09             3.052685e+06    30  \n",
       "2              1.631830e+09             3.260594e+06    30  \n",
       "3              9.797909e+08             1.961296e+06    30  \n",
       "4              2.040498e+09             4.043478e+06    30  \n",
       "..                      ...                      ...   ...  \n",
       "395            4.926634e+09             7.107990e+06    30  \n",
       "396            5.021247e+09             7.267231e+06    30  \n",
       "397            1.843396e+10             2.751219e+07    30  \n",
       "398            1.216145e+10             1.812489e+07    30  \n",
       "399            2.707064e+09             4.076670e+06    30  \n",
       "\n",
       "[400 rows x 11 columns]"
      ],
      "text/html": "<div>\n<style scoped>\n    .dataframe tbody tr th:only-of-type {\n        vertical-align: middle;\n    }\n\n    .dataframe tbody tr th {\n        vertical-align: top;\n    }\n\n    .dataframe thead th {\n        text-align: right;\n    }\n</style>\n<table border=\"1\" class=\"dataframe\">\n  <thead>\n    <tr style=\"text-align: right;\">\n      <th></th>\n      <th>market</th>\n      <th>candle_date_time_utc</th>\n      <th>candle_date_time_kst</th>\n      <th>opening_price</th>\n      <th>high_price</th>\n      <th>low_price</th>\n      <th>trade_price</th>\n      <th>timestamp</th>\n      <th>candle_acc_trade_price</th>\n      <th>candle_acc_trade_volume</th>\n      <th>unit</th>\n    </tr>\n  </thead>\n  <tbody>\n    <tr>\n      <th>0</th>\n      <td>KRW-TFUEL</td>\n      <td>2021-06-13T00:30:00</td>\n      <td>2021-06-13T09:30:00</td>\n      <td>488</td>\n      <td>508</td>\n      <td>480</td>\n      <td>498</td>\n      <td>2021-06-13 00:59:55.829</td>\n      <td>2.526265e+09</td>\n      <td>5.095448e+06</td>\n      <td>30</td>\n    </tr>\n    <tr>\n      <th>1</th>\n      <td>KRW-TFUEL</td>\n      <td>2021-06-13T01:00:00</td>\n      <td>2021-06-13T10:00:00</td>\n      <td>498</td>\n      <td>507</td>\n      <td>492</td>\n      <td>506</td>\n      <td>2021-06-13 01:29:56.795</td>\n      <td>1.523994e+09</td>\n      <td>3.052685e+06</td>\n      <td>30</td>\n    </tr>\n    <tr>\n      <th>2</th>\n      <td>KRW-TFUEL</td>\n      <td>2021-06-13T01:30:00</td>\n      <td>2021-06-13T10:30:00</td>\n      <td>507</td>\n      <td>510</td>\n      <td>496</td>\n      <td>498</td>\n      <td>2021-06-13 01:59:55.384</td>\n      <td>1.631830e+09</td>\n      <td>3.260594e+06</td>\n      <td>30</td>\n    </tr>\n    <tr>\n      <th>3</th>\n      <td>KRW-TFUEL</td>\n      <td>2021-06-13T02:00:00</td>\n      <td>2021-06-13T11:00:00</td>\n      <td>498</td>\n      <td>504</td>\n      <td>495</td>\n      <td>504</td>\n      <td>2021-06-13 02:29:58.763</td>\n      <td>9.797909e+08</td>\n      <td>1.961296e+06</td>\n      <td>30</td>\n    </tr>\n    <tr>\n      <th>4</th>\n      <td>KRW-TFUEL</td>\n      <td>2021-06-13T02:30:00</td>\n      <td>2021-06-13T11:30:00</td>\n      <td>504</td>\n      <td>511</td>\n      <td>497</td>\n      <td>506</td>\n      <td>2021-06-13 02:59:56.698</td>\n      <td>2.040498e+09</td>\n      <td>4.043478e+06</td>\n      <td>30</td>\n    </tr>\n    <tr>\n      <th>...</th>\n      <td>...</td>\n      <td>...</td>\n      <td>...</td>\n      <td>...</td>\n      <td>...</td>\n      <td>...</td>\n      <td>...</td>\n      <td>...</td>\n      <td>...</td>\n      <td>...</td>\n      <td>...</td>\n    </tr>\n    <tr>\n      <th>395</th>\n      <td>KRW-TFUEL</td>\n      <td>2021-06-21T05:30:00</td>\n      <td>2021-06-21T14:30:00</td>\n      <td>682</td>\n      <td>699</td>\n      <td>682</td>\n      <td>694</td>\n      <td>2021-06-21 05:59:56.270</td>\n      <td>4.926634e+09</td>\n      <td>7.107990e+06</td>\n      <td>30</td>\n    </tr>\n    <tr>\n      <th>396</th>\n      <td>KRW-TFUEL</td>\n      <td>2021-06-21T06:00:00</td>\n      <td>2021-06-21T15:00:00</td>\n      <td>694</td>\n      <td>698</td>\n      <td>680</td>\n      <td>680</td>\n      <td>2021-06-21 06:29:59.490</td>\n      <td>5.021247e+09</td>\n      <td>7.267231e+06</td>\n      <td>30</td>\n    </tr>\n    <tr>\n      <th>397</th>\n      <td>KRW-TFUEL</td>\n      <td>2021-06-21T06:30:00</td>\n      <td>2021-06-21T15:30:00</td>\n      <td>681</td>\n      <td>683</td>\n      <td>656</td>\n      <td>669</td>\n      <td>2021-06-21 06:59:55.156</td>\n      <td>1.843396e+10</td>\n      <td>2.751219e+07</td>\n      <td>30</td>\n    </tr>\n    <tr>\n      <th>398</th>\n      <td>KRW-TFUEL</td>\n      <td>2021-06-21T07:00:00</td>\n      <td>2021-06-21T16:00:00</td>\n      <td>668</td>\n      <td>681</td>\n      <td>659</td>\n      <td>663</td>\n      <td>2021-06-21 07:29:59.469</td>\n      <td>1.216145e+10</td>\n      <td>1.812489e+07</td>\n      <td>30</td>\n    </tr>\n    <tr>\n      <th>399</th>\n      <td>KRW-TFUEL</td>\n      <td>2021-06-21T07:30:00</td>\n      <td>2021-06-21T16:30:00</td>\n      <td>663</td>\n      <td>668</td>\n      <td>659</td>\n      <td>666</td>\n      <td>2021-06-21 07:41:22.872</td>\n      <td>2.707064e+09</td>\n      <td>4.076670e+06</td>\n      <td>30</td>\n    </tr>\n  </tbody>\n</table>\n<p>400 rows × 11 columns</p>\n</div>"
     },
     "metadata": {},
     "execution_count": 172
    }
   ],
   "source": [
    "df['KRW-TFUEL']"
   ]
  },
  {
   "cell_type": "code",
   "execution_count": 173,
   "metadata": {},
   "outputs": [],
   "source": [
    "df_tier = pd.DataFrame(columns=['coin','rate','trade_price'])\n",
    "df_tier['coin'] = coins\n",
    "df_tier.set_index('coin',inplace=True)"
   ]
  },
  {
   "cell_type": "code",
   "execution_count": 192,
   "metadata": {},
   "outputs": [
    {
     "output_type": "execute_result",
     "data": {
      "text/plain": [
       "                rate trade_price    tier_val  tier\n",
       "coin                                              \n",
       "KRW-TFUEL   36.47541   49.375049  414.129148     0\n",
       "KRW-SXP    26.785714    3.549784  271.406927     3\n",
       "KRW-WAVES  17.867959     6.47269  185.152278     3\n",
       "KRW-KAVA    8.210784    1.889552   83.997395     2\n",
       "KRW-BTC    -5.237364  120.000371   67.626733     2\n",
       "KRW-THETA   3.186138    4.907952   36.769327     2\n",
       "KRW-AXS     1.851852    1.742776   20.261295     2\n",
       "KRW-CHZ     -0.96463   24.306341   14.660039     2\n",
       "KRW-ICX          0.0    1.042962    1.042962     2\n",
       "KRW-MVL    -0.934579    9.590877    0.245083     2\n",
       "KRW-RFR    -1.785714    3.350401  -14.506741     2\n",
       "KRW-ZIL    -1.769912    1.494758  -16.204358     2\n",
       "KRW-HBAR   -3.255814    1.376439    -31.1817     1\n",
       "KRW-ENJ    -4.676259    2.708045  -44.054545     1\n",
       "KRW-ETH   -12.920937   77.896186  -51.313184     1\n",
       "KRW-GLM    -5.172414    0.354021  -51.370117     1\n",
       "KRW-ATOM   -5.326332    0.883488  -52.379828     1\n",
       "KRW-ADA     -7.39645   13.889582  -60.074915     1\n",
       "KRW-UPP    -7.082833    7.706418  -63.121913     1\n",
       "KRW-SRM    -6.729634    1.001724  -66.294616     1"
      ],
      "text/html": "<div>\n<style scoped>\n    .dataframe tbody tr th:only-of-type {\n        vertical-align: middle;\n    }\n\n    .dataframe tbody tr th {\n        vertical-align: top;\n    }\n\n    .dataframe thead th {\n        text-align: right;\n    }\n</style>\n<table border=\"1\" class=\"dataframe\">\n  <thead>\n    <tr style=\"text-align: right;\">\n      <th></th>\n      <th>rate</th>\n      <th>trade_price</th>\n      <th>tier_val</th>\n      <th>tier</th>\n    </tr>\n    <tr>\n      <th>coin</th>\n      <th></th>\n      <th></th>\n      <th></th>\n      <th></th>\n    </tr>\n  </thead>\n  <tbody>\n    <tr>\n      <th>KRW-TFUEL</th>\n      <td>36.47541</td>\n      <td>49.375049</td>\n      <td>414.129148</td>\n      <td>0</td>\n    </tr>\n    <tr>\n      <th>KRW-SXP</th>\n      <td>26.785714</td>\n      <td>3.549784</td>\n      <td>271.406927</td>\n      <td>3</td>\n    </tr>\n    <tr>\n      <th>KRW-WAVES</th>\n      <td>17.867959</td>\n      <td>6.47269</td>\n      <td>185.152278</td>\n      <td>3</td>\n    </tr>\n    <tr>\n      <th>KRW-KAVA</th>\n      <td>8.210784</td>\n      <td>1.889552</td>\n      <td>83.997395</td>\n      <td>2</td>\n    </tr>\n    <tr>\n      <th>KRW-BTC</th>\n      <td>-5.237364</td>\n      <td>120.000371</td>\n      <td>67.626733</td>\n      <td>2</td>\n    </tr>\n    <tr>\n      <th>KRW-THETA</th>\n      <td>3.186138</td>\n      <td>4.907952</td>\n      <td>36.769327</td>\n      <td>2</td>\n    </tr>\n    <tr>\n      <th>KRW-AXS</th>\n      <td>1.851852</td>\n      <td>1.742776</td>\n      <td>20.261295</td>\n      <td>2</td>\n    </tr>\n    <tr>\n      <th>KRW-CHZ</th>\n      <td>-0.96463</td>\n      <td>24.306341</td>\n      <td>14.660039</td>\n      <td>2</td>\n    </tr>\n    <tr>\n      <th>KRW-ICX</th>\n      <td>0.0</td>\n      <td>1.042962</td>\n      <td>1.042962</td>\n      <td>2</td>\n    </tr>\n    <tr>\n      <th>KRW-MVL</th>\n      <td>-0.934579</td>\n      <td>9.590877</td>\n      <td>0.245083</td>\n      <td>2</td>\n    </tr>\n    <tr>\n      <th>KRW-RFR</th>\n      <td>-1.785714</td>\n      <td>3.350401</td>\n      <td>-14.506741</td>\n      <td>2</td>\n    </tr>\n    <tr>\n      <th>KRW-ZIL</th>\n      <td>-1.769912</td>\n      <td>1.494758</td>\n      <td>-16.204358</td>\n      <td>2</td>\n    </tr>\n    <tr>\n      <th>KRW-HBAR</th>\n      <td>-3.255814</td>\n      <td>1.376439</td>\n      <td>-31.1817</td>\n      <td>1</td>\n    </tr>\n    <tr>\n      <th>KRW-ENJ</th>\n      <td>-4.676259</td>\n      <td>2.708045</td>\n      <td>-44.054545</td>\n      <td>1</td>\n    </tr>\n    <tr>\n      <th>KRW-ETH</th>\n      <td>-12.920937</td>\n      <td>77.896186</td>\n      <td>-51.313184</td>\n      <td>1</td>\n    </tr>\n    <tr>\n      <th>KRW-GLM</th>\n      <td>-5.172414</td>\n      <td>0.354021</td>\n      <td>-51.370117</td>\n      <td>1</td>\n    </tr>\n    <tr>\n      <th>KRW-ATOM</th>\n      <td>-5.326332</td>\n      <td>0.883488</td>\n      <td>-52.379828</td>\n      <td>1</td>\n    </tr>\n    <tr>\n      <th>KRW-ADA</th>\n      <td>-7.39645</td>\n      <td>13.889582</td>\n      <td>-60.074915</td>\n      <td>1</td>\n    </tr>\n    <tr>\n      <th>KRW-UPP</th>\n      <td>-7.082833</td>\n      <td>7.706418</td>\n      <td>-63.121913</td>\n      <td>1</td>\n    </tr>\n    <tr>\n      <th>KRW-SRM</th>\n      <td>-6.729634</td>\n      <td>1.001724</td>\n      <td>-66.294616</td>\n      <td>1</td>\n    </tr>\n  </tbody>\n</table>\n</div>"
     },
     "metadata": {},
     "execution_count": 192
    }
   ],
   "source": [
    "for coin in coins:\n",
    "    df_tier['rate'].loc[coin]= (df[coin]['trade_price'].loc[len(df[coin])-1] - df[coin]['opening_price'].loc[0])/df[coin]['opening_price'].loc[0] * 100\n",
    "    df_tier['trade_price'].loc[coin] = df[coin]['candle_acc_trade_price'].mean()/pow(10,8)\n",
    "    df_tier['tier_val'] = 10*df_tier['rate'] + df_tier['trade_price']\n",
    "df_tier = df_tier.sort_values(by='tier_val',ascending=False)\n",
    "df_tier[:20]"
   ]
  },
  {
   "cell_type": "code",
   "execution_count": 193,
   "metadata": {},
   "outputs": [
    {
     "output_type": "execute_result",
     "data": {
      "text/plain": [
       "                rate trade_price    tier_val  tier\n",
       "coin                                              \n",
       "KRW-TFUEL   36.47541   49.375049  414.129148     0\n",
       "KRW-SXP    26.785714    3.549784  271.406927     1\n",
       "KRW-WAVES  17.867959     6.47269  185.152278     1\n",
       "KRW-ZIL    -1.769912    1.494758  -16.204358     2\n",
       "KRW-RFR    -1.785714    3.350401  -14.506741     2\n",
       "KRW-ICX          0.0    1.042962    1.042962     2\n",
       "KRW-CHZ     -0.96463   24.306341   14.660039     2\n",
       "KRW-MVL    -0.934579    9.590877    0.245083     2\n",
       "KRW-THETA   3.186138    4.907952   36.769327     2\n",
       "KRW-BTC    -5.237364  120.000371   67.626733     2\n",
       "KRW-KAVA    8.210784    1.889552   83.997395     2\n",
       "KRW-AXS     1.851852    1.742776   20.261295     2\n",
       "KRW-XTZ    -7.381616    1.457898  -72.358258     3\n",
       "KRW-OMG    -9.185606    1.840482  -90.015579     3\n",
       "KRW-BAT    -8.591549    0.782435  -85.133057     3\n",
       "KRW-STRK   -9.481596   14.471532  -80.344424     3\n",
       "KRW-LINK   -8.424023    6.767494  -77.472732     3\n",
       "KRW-DOT     -8.35443    9.293977  -74.250326     3\n",
       "KRW-KNC    -7.360406     1.08413  -72.519931     3\n",
       "KRW-XRP   -14.106583   71.613362  -69.452469     3"
      ],
      "text/html": "<div>\n<style scoped>\n    .dataframe tbody tr th:only-of-type {\n        vertical-align: middle;\n    }\n\n    .dataframe tbody tr th {\n        vertical-align: top;\n    }\n\n    .dataframe thead th {\n        text-align: right;\n    }\n</style>\n<table border=\"1\" class=\"dataframe\">\n  <thead>\n    <tr style=\"text-align: right;\">\n      <th></th>\n      <th>rate</th>\n      <th>trade_price</th>\n      <th>tier_val</th>\n      <th>tier</th>\n    </tr>\n    <tr>\n      <th>coin</th>\n      <th></th>\n      <th></th>\n      <th></th>\n      <th></th>\n    </tr>\n  </thead>\n  <tbody>\n    <tr>\n      <th>KRW-TFUEL</th>\n      <td>36.47541</td>\n      <td>49.375049</td>\n      <td>414.129148</td>\n      <td>0</td>\n    </tr>\n    <tr>\n      <th>KRW-SXP</th>\n      <td>26.785714</td>\n      <td>3.549784</td>\n      <td>271.406927</td>\n      <td>1</td>\n    </tr>\n    <tr>\n      <th>KRW-WAVES</th>\n      <td>17.867959</td>\n      <td>6.47269</td>\n      <td>185.152278</td>\n      <td>1</td>\n    </tr>\n    <tr>\n      <th>KRW-ZIL</th>\n      <td>-1.769912</td>\n      <td>1.494758</td>\n      <td>-16.204358</td>\n      <td>2</td>\n    </tr>\n    <tr>\n      <th>KRW-RFR</th>\n      <td>-1.785714</td>\n      <td>3.350401</td>\n      <td>-14.506741</td>\n      <td>2</td>\n    </tr>\n    <tr>\n      <th>KRW-ICX</th>\n      <td>0.0</td>\n      <td>1.042962</td>\n      <td>1.042962</td>\n      <td>2</td>\n    </tr>\n    <tr>\n      <th>KRW-CHZ</th>\n      <td>-0.96463</td>\n      <td>24.306341</td>\n      <td>14.660039</td>\n      <td>2</td>\n    </tr>\n    <tr>\n      <th>KRW-MVL</th>\n      <td>-0.934579</td>\n      <td>9.590877</td>\n      <td>0.245083</td>\n      <td>2</td>\n    </tr>\n    <tr>\n      <th>KRW-THETA</th>\n      <td>3.186138</td>\n      <td>4.907952</td>\n      <td>36.769327</td>\n      <td>2</td>\n    </tr>\n    <tr>\n      <th>KRW-BTC</th>\n      <td>-5.237364</td>\n      <td>120.000371</td>\n      <td>67.626733</td>\n      <td>2</td>\n    </tr>\n    <tr>\n      <th>KRW-KAVA</th>\n      <td>8.210784</td>\n      <td>1.889552</td>\n      <td>83.997395</td>\n      <td>2</td>\n    </tr>\n    <tr>\n      <th>KRW-AXS</th>\n      <td>1.851852</td>\n      <td>1.742776</td>\n      <td>20.261295</td>\n      <td>2</td>\n    </tr>\n    <tr>\n      <th>KRW-XTZ</th>\n      <td>-7.381616</td>\n      <td>1.457898</td>\n      <td>-72.358258</td>\n      <td>3</td>\n    </tr>\n    <tr>\n      <th>KRW-OMG</th>\n      <td>-9.185606</td>\n      <td>1.840482</td>\n      <td>-90.015579</td>\n      <td>3</td>\n    </tr>\n    <tr>\n      <th>KRW-BAT</th>\n      <td>-8.591549</td>\n      <td>0.782435</td>\n      <td>-85.133057</td>\n      <td>3</td>\n    </tr>\n    <tr>\n      <th>KRW-STRK</th>\n      <td>-9.481596</td>\n      <td>14.471532</td>\n      <td>-80.344424</td>\n      <td>3</td>\n    </tr>\n    <tr>\n      <th>KRW-LINK</th>\n      <td>-8.424023</td>\n      <td>6.767494</td>\n      <td>-77.472732</td>\n      <td>3</td>\n    </tr>\n    <tr>\n      <th>KRW-DOT</th>\n      <td>-8.35443</td>\n      <td>9.293977</td>\n      <td>-74.250326</td>\n      <td>3</td>\n    </tr>\n    <tr>\n      <th>KRW-KNC</th>\n      <td>-7.360406</td>\n      <td>1.08413</td>\n      <td>-72.519931</td>\n      <td>3</td>\n    </tr>\n    <tr>\n      <th>KRW-XRP</th>\n      <td>-14.106583</td>\n      <td>71.613362</td>\n      <td>-69.452469</td>\n      <td>3</td>\n    </tr>\n  </tbody>\n</table>\n</div>"
     },
     "metadata": {},
     "execution_count": 193
    }
   ],
   "source": [
    "import sklearn\n",
    "from sklearn.cluster import KMeans\n",
    "kmeans = KMeans(n_clusters=10, random_state=0).fit(df_tier[['tier_val']])\n",
    "df_tier['tier'] = kmeans.labels_\n",
    "\n",
    "\n",
    "tier_dict = {}\n",
    "tier_num = 0\n",
    "\n",
    "global tier_num\n",
    "\n",
    "def getTier(x,tier_dict):\n",
    "    global tier_num\n",
    "    if not tier_dict.get(x):\n",
    "        tier_dict[x] = tier_num\n",
    "        tier_num+=1\n",
    "    return tier_dict[x]\n",
    "\n",
    "df_tier['tier']=df_tier['tier'].map(lambda x : getTier(x,tier_dict))\n",
    "df_tier = df_tier.sort_values(by='tier')\n",
    "df_tier[:20]"
   ]
  },
  {
   "cell_type": "code",
   "execution_count": 191,
   "metadata": {},
   "outputs": [
    {
     "output_type": "execute_result",
     "data": {
      "text/plain": [
       "<AxesSubplot:xlabel='rate', ylabel='trade_price'>"
      ]
     },
     "metadata": {},
     "execution_count": 191
    },
    {
     "output_type": "display_data",
     "data": {
      "text/plain": "<Figure size 842.4x595.44 with 1 Axes>",
      "image/svg+xml": "<?xml version=\"1.0\" encoding=\"utf-8\" standalone=\"no\"?>\r\n<!DOCTYPE svg PUBLIC \"-//W3C//DTD SVG 1.1//EN\"\r\n  \"http://www.w3.org/Graphics/SVG/1.1/DTD/svg11.dtd\">\r\n<svg height=\"494.31345pt\" version=\"1.1\" viewBox=\"0 0 708.94047 494.31345\" width=\"708.94047pt\" xmlns=\"http://www.w3.org/2000/svg\" xmlns:xlink=\"http://www.w3.org/1999/xlink\">\r\n <metadata>\r\n  <rdf:RDF xmlns:cc=\"http://creativecommons.org/ns#\" xmlns:dc=\"http://purl.org/dc/elements/1.1/\" xmlns:rdf=\"http://www.w3.org/1999/02/22-rdf-syntax-ns#\">\r\n   <cc:Work>\r\n    <dc:type rdf:resource=\"http://purl.org/dc/dcmitype/StillImage\"/>\r\n    <dc:date>2021-06-21T16:54:38.808520</dc:date>\r\n    <dc:format>image/svg+xml</dc:format>\r\n    <dc:creator>\r\n     <cc:Agent>\r\n      <dc:title>Matplotlib v3.4.2, https://matplotlib.org/</dc:title>\r\n     </cc:Agent>\r\n    </dc:creator>\r\n   </cc:Work>\r\n  </rdf:RDF>\r\n </metadata>\r\n <defs>\r\n  <style type=\"text/css\">*{stroke-linecap:butt;stroke-linejoin:round;}</style>\r\n </defs>\r\n <g id=\"figure_1\">\r\n  <g id=\"patch_1\">\r\n   <path d=\"M 0 494.31345 \r\nL 708.94047 494.31345 \r\nL 708.94047 0 \r\nL 0 0 \r\nz\r\n\" style=\"fill:none;\"/>\r\n  </g>\r\n  <g id=\"axes_1\">\r\n   <g id=\"patch_2\">\r\n    <path d=\"M 47.24375 456.7572 \r\nL 700.10375 456.7572 \r\nL 700.10375 7.2 \r\nL 47.24375 7.2 \r\nz\r\n\" style=\"fill:#ffffff;\"/>\r\n   </g>\r\n   <g id=\"PathCollection_1\">\r\n    <defs>\r\n     <path d=\"M 0 3 \r\nC 0.795609 3 1.55874 2.683901 2.12132 2.12132 \r\nC 2.683901 1.55874 3 0.795609 3 -0 \r\nC 3 -0.795609 2.683901 -1.55874 2.12132 -2.12132 \r\nC 1.55874 -2.683901 0.795609 -3 0 -3 \r\nC -0.795609 -3 -1.55874 -2.683901 -2.12132 -2.12132 \r\nC -2.683901 -1.55874 -3 -0.795609 -3 0 \r\nC -3 0.795609 -2.683901 1.55874 -2.12132 2.12132 \r\nC -1.55874 2.683901 -0.795609 3 0 3 \r\nz\r\n\" id=\"C0_0_90a58cb074\"/>\r\n    </defs>\r\n    <g clip-path=\"url(#pd380ab9577)\">\r\n     <use style=\"fill:#66c2a5;stroke:#ffffff;stroke-width:0.48;\" x=\"670.428295\" xlink:href=\"#C0_0_90a58cb074\" y=\"268.797749\"/>\r\n    </g>\r\n    <g clip-path=\"url(#pd380ab9577)\">\r\n     <use style=\"fill:#fc8d62;stroke:#ffffff;stroke-width:0.48;\" x=\"389.181097\" xlink:href=\"#C0_0_90a58cb074\" y=\"432.697955\"/>\r\n    </g>\r\n    <g clip-path=\"url(#pd380ab9577)\">\r\n     <use style=\"fill:#fc8d62;stroke:#ffffff;stroke-width:0.48;\" x=\"362.82069\" xlink:href=\"#C0_0_90a58cb074\" y=\"427.59686\"/>\r\n    </g>\r\n    <g clip-path=\"url(#pd380ab9577)\">\r\n     <use style=\"fill:#fc8d62;stroke:#ffffff;stroke-width:0.48;\" x=\"351.410788\" xlink:href=\"#C0_0_90a58cb074\" y=\"434.726291\"/>\r\n    </g>\r\n    <g clip-path=\"url(#pd380ab9577)\">\r\n     <use style=\"fill:#fc8d62;stroke:#ffffff;stroke-width:0.48;\" x=\"347.205612\" xlink:href=\"#C0_0_90a58cb074\" y=\"431.113394\"/>\r\n    </g>\r\n    <g clip-path=\"url(#pd380ab9577)\">\r\n     <use style=\"fill:#fc8d62;stroke:#ffffff;stroke-width:0.48;\" x=\"360.125737\" xlink:href=\"#C0_0_90a58cb074\" y=\"433.696098\"/>\r\n    </g>\r\n    <g clip-path=\"url(#pd380ab9577)\">\r\n     <use style=\"fill:#fc8d62;stroke:#ffffff;stroke-width:0.48;\" x=\"359.9756\" xlink:href=\"#C0_0_90a58cb074\" y=\"432.4198\"/>\r\n    </g>\r\n    <g clip-path=\"url(#pd380ab9577)\">\r\n     <use style=\"fill:#fc8d62;stroke:#ffffff;stroke-width:0.48;\" x=\"352.596667\" xlink:href=\"#C0_0_90a58cb074\" y=\"414.289194\"/>\r\n    </g>\r\n    <g clip-path=\"url(#pd380ab9577)\">\r\n     <use style=\"fill:#fc8d62;stroke:#ffffff;stroke-width:0.48;\" x=\"359.870593\" xlink:href=\"#C0_0_90a58cb074\" y=\"389.969494\"/>\r\n    </g>\r\n    <g clip-path=\"url(#pd380ab9577)\">\r\n     <use style=\"fill:#fc8d62;stroke:#ffffff;stroke-width:0.48;\" x=\"375.613976\" xlink:href=\"#C0_0_90a58cb074\" y=\"436.189192\"/>\r\n    </g>\r\n    <g clip-path=\"url(#pd380ab9577)\">\r\n     <use style=\"fill:#fc8d62;stroke:#ffffff;stroke-width:0.48;\" x=\"312.371271\" xlink:href=\"#C0_0_90a58cb074\" y=\"192.860885\"/>\r\n    </g>\r\n    <g clip-path=\"url(#pd380ab9577)\">\r\n     <use style=\"fill:#fc8d62;stroke:#ffffff;stroke-width:0.48;\" x=\"379.126129\" xlink:href=\"#C0_0_90a58cb074\" y=\"428.150939\"/>\r\n    </g>\r\n    <g clip-path=\"url(#pd380ab9577)\">\r\n     <use style=\"fill:#fc8d62;stroke:#ffffff;stroke-width:0.48;\" x=\"345.110377\" xlink:href=\"#C0_0_90a58cb074\" y=\"387.982317\"/>\r\n    </g>\r\n    <g clip-path=\"url(#pd380ab9577)\">\r\n     <use style=\"fill:#fc8d62;stroke:#ffffff;stroke-width:0.48;\" x=\"353.089292\" xlink:href=\"#C0_0_90a58cb074\" y=\"405.662044\"/>\r\n    </g>\r\n    <g clip-path=\"url(#pd380ab9577)\">\r\n     <use style=\"fill:#fc8d62;stroke:#ffffff;stroke-width:0.48;\" x=\"374.524431\" xlink:href=\"#C0_0_90a58cb074\" y=\"434.38123\"/>\r\n    </g>\r\n    <g clip-path=\"url(#pd380ab9577)\">\r\n     <use style=\"fill:#fc8d62;stroke:#ffffff;stroke-width:0.48;\" x=\"320.764157\" xlink:href=\"#C0_0_90a58cb074\" y=\"171.407008\"/>\r\n    </g>\r\n    <g clip-path=\"url(#pd380ab9577)\">\r\n     <use style=\"fill:#fc8d62;stroke:#ffffff;stroke-width:0.48;\" x=\"364.590811\" xlink:href=\"#C0_0_90a58cb074\" y=\"433.977489\"/>\r\n    </g>\r\n    <g clip-path=\"url(#pd380ab9577)\">\r\n     <use style=\"fill:#fc8d62;stroke:#ffffff;stroke-width:0.48;\" x=\"362.090605\" xlink:href=\"#C0_0_90a58cb074\" y=\"411.083062\"/>\r\n    </g>\r\n    <g clip-path=\"url(#pd380ab9577)\">\r\n     <use style=\"fill:#8da0cb;stroke:#ffffff;stroke-width:0.48;\" x=\"434.782028\" xlink:href=\"#C0_0_90a58cb074\" y=\"420.638947\"/>\r\n    </g>\r\n    <g clip-path=\"url(#pd380ab9577)\">\r\n     <use style=\"fill:#8da0cb;stroke:#ffffff;stroke-width:0.48;\" x=\"425.336961\" xlink:href=\"#C0_0_90a58cb074\" y=\"431.447029\"/>\r\n    </g>\r\n    <g clip-path=\"url(#pd380ab9577)\">\r\n     <use style=\"fill:#8da0cb;stroke:#ffffff;stroke-width:0.48;\" x=\"405.612524\" xlink:href=\"#C0_0_90a58cb074\" y=\"404.648224\"/>\r\n    </g>\r\n    <g clip-path=\"url(#pd380ab9577)\">\r\n     <use style=\"fill:#8da0cb;stroke:#ffffff;stroke-width:0.48;\" x=\"412.228174\" xlink:href=\"#C0_0_90a58cb074\" y=\"433.836675\"/>\r\n    </g>\r\n    <g clip-path=\"url(#pd380ab9577)\">\r\n     <use style=\"fill:#8da0cb;stroke:#ffffff;stroke-width:0.48;\" x=\"405.399803\" xlink:href=\"#C0_0_90a58cb074\" y=\"354.39953\"/>\r\n    </g>\r\n    <g clip-path=\"url(#pd380ab9577)\">\r\n     <use style=\"fill:#8da0cb;stroke:#ffffff;stroke-width:0.48;\" x=\"470.350221\" xlink:href=\"#C0_0_90a58cb074\" y=\"430.945835\"/>\r\n    </g>\r\n    <g clip-path=\"url(#pd380ab9577)\">\r\n     <use style=\"fill:#8da0cb;stroke:#ffffff;stroke-width:0.48;\" x=\"399.699422\" xlink:href=\"#C0_0_90a58cb074\" y=\"432.293935\"/>\r\n    </g>\r\n    <g clip-path=\"url(#pd380ab9577)\">\r\n     <use style=\"fill:#8da0cb;stroke:#ffffff;stroke-width:0.48;\" x=\"399.587558\" xlink:href=\"#C0_0_90a58cb074\" y=\"425.957493\"/>\r\n    </g>\r\n    <g clip-path=\"url(#pd380ab9577)\">\r\n     <use style=\"fill:#8da0cb;stroke:#ffffff;stroke-width:0.48;\" x=\"375.154212\" xlink:href=\"#C0_0_90a58cb074\" y=\"27.634418\"/>\r\n    </g>\r\n    <g clip-path=\"url(#pd380ab9577)\">\r\n     <use style=\"fill:#e78ac3;stroke:#ffffff;stroke-width:0.48;\" x=\"538.710896\" xlink:href=\"#C0_0_90a58cb074\" y=\"415.295855\"/>\r\n    </g>\r\n    <g clip-path=\"url(#pd380ab9577)\">\r\n     <use style=\"fill:#e78ac3;stroke:#ffffff;stroke-width:0.48;\" x=\"601.837412\" xlink:href=\"#C0_0_90a58cb074\" y=\"425.276663\"/>\r\n    </g>\r\n    <g clip-path=\"url(#pd380ab9577)\">\r\n     <use style=\"fill:#a6d854;stroke:#ffffff;stroke-width:0.48;\" x=\"329.569538\" xlink:href=\"#C0_0_90a58cb074\" y=\"418.616553\"/>\r\n    </g>\r\n    <g clip-path=\"url(#pd380ab9577)\">\r\n     <use style=\"fill:#a6d854;stroke:#ffffff;stroke-width:0.48;\" x=\"309.32131\" xlink:href=\"#C0_0_90a58cb074\" y=\"436.322782\"/>\r\n    </g>\r\n    <g clip-path=\"url(#pd380ab9577)\">\r\n     <use style=\"fill:#a6d854;stroke:#ffffff;stroke-width:0.48;\" x=\"309.559355\" xlink:href=\"#C0_0_90a58cb074\" y=\"435.519604\"/>\r\n    </g>\r\n    <g clip-path=\"url(#pd380ab9577)\">\r\n     <use style=\"fill:#a6d854;stroke:#ffffff;stroke-width:0.48;\" x=\"328.133671\" xlink:href=\"#C0_0_90a58cb074\" y=\"427.702545\"/>\r\n    </g>\r\n    <g clip-path=\"url(#pd380ab9577)\">\r\n     <use style=\"fill:#a6d854;stroke:#ffffff;stroke-width:0.48;\" x=\"312.105386\" xlink:href=\"#C0_0_90a58cb074\" y=\"397.240409\"/>\r\n    </g>\r\n    <g clip-path=\"url(#pd380ab9577)\">\r\n     <use style=\"fill:#a6d854;stroke:#ffffff;stroke-width:0.48;\" x=\"333.659394\" xlink:href=\"#C0_0_90a58cb074\" y=\"434.522806\"/>\r\n    </g>\r\n    <g clip-path=\"url(#pd380ab9577)\">\r\n     <use style=\"fill:#a6d854;stroke:#ffffff;stroke-width:0.48;\" x=\"316.973295\" xlink:href=\"#C0_0_90a58cb074\" y=\"425.893678\"/>\r\n    </g>\r\n    <g clip-path=\"url(#pd380ab9577)\">\r\n     <use style=\"fill:#a6d854;stroke:#ffffff;stroke-width:0.48;\" x=\"335.867754\" xlink:href=\"#C0_0_90a58cb074\" y=\"424.971065\"/>\r\n    </g>\r\n    <g clip-path=\"url(#pd380ab9577)\">\r\n     <use style=\"fill:#a6d854;stroke:#ffffff;stroke-width:0.48;\" x=\"335.566512\" xlink:href=\"#C0_0_90a58cb074\" y=\"419.63703\"/>\r\n    </g>\r\n    <g clip-path=\"url(#pd380ab9577)\">\r\n     <use style=\"fill:#a6d854;stroke:#ffffff;stroke-width:0.48;\" x=\"335.404586\" xlink:href=\"#C0_0_90a58cb074\" y=\"435.272822\"/>\r\n    </g>\r\n    <g clip-path=\"url(#pd380ab9577)\">\r\n     <use style=\"fill:#a6d854;stroke:#ffffff;stroke-width:0.48;\" x=\"311.207071\" xlink:href=\"#C0_0_90a58cb074\" y=\"435.6572\"/>\r\n    </g>\r\n    <g clip-path=\"url(#pd380ab9577)\">\r\n     <use style=\"fill:#a6d854;stroke:#ffffff;stroke-width:0.48;\" x=\"301.80764\" xlink:href=\"#C0_0_90a58cb074\" y=\"319.753514\"/>\r\n    </g>\r\n    <g clip-path=\"url(#pd380ab9577)\">\r\n     <use style=\"fill:#a6d854;stroke:#ffffff;stroke-width:0.48;\" x=\"303.258404\" xlink:href=\"#C0_0_90a58cb074\" y=\"424.581616\"/>\r\n    </g>\r\n    <g clip-path=\"url(#pd380ab9577)\">\r\n     <use style=\"fill:#a6d854;stroke:#ffffff;stroke-width:0.48;\" x=\"326.399454\" xlink:href=\"#C0_0_90a58cb074\" y=\"413.139069\"/>\r\n    </g>\r\n    <g clip-path=\"url(#pd380ab9577)\">\r\n     <use style=\"fill:#a6d854;stroke:#ffffff;stroke-width:0.48;\" x=\"310.393598\" xlink:href=\"#C0_0_90a58cb074\" y=\"384.389597\"/>\r\n    </g>\r\n    <g clip-path=\"url(#pd380ab9577)\">\r\n     <use style=\"fill:#a6d854;stroke:#ffffff;stroke-width:0.48;\" x=\"310.814135\" xlink:href=\"#C0_0_90a58cb074\" y=\"322.331448\"/>\r\n    </g>\r\n    <g clip-path=\"url(#pd380ab9577)\">\r\n     <use style=\"fill:#a6d854;stroke:#ffffff;stroke-width:0.48;\" x=\"314.429724\" xlink:href=\"#C0_0_90a58cb074\" y=\"424.999026\"/>\r\n    </g>\r\n    <g clip-path=\"url(#pd380ab9577)\">\r\n     <use style=\"fill:#a6d854;stroke:#ffffff;stroke-width:0.48;\" x=\"318.624935\" xlink:href=\"#C0_0_90a58cb074\" y=\"382.682518\"/>\r\n    </g>\r\n    <g clip-path=\"url(#pd380ab9577)\">\r\n     <use style=\"fill:#a6d854;stroke:#ffffff;stroke-width:0.48;\" x=\"304.586307\" xlink:href=\"#C0_0_90a58cb074\" y=\"408.694785\"/>\r\n    </g>\r\n    <g clip-path=\"url(#pd380ab9577)\">\r\n     <use style=\"fill:#a6d854;stroke:#ffffff;stroke-width:0.48;\" x=\"316.924096\" xlink:href=\"#C0_0_90a58cb074\" y=\"433.354418\"/>\r\n    </g>\r\n    <g clip-path=\"url(#pd380ab9577)\">\r\n     <use style=\"fill:#a6d854;stroke:#ffffff;stroke-width:0.48;\" x=\"310.021697\" xlink:href=\"#C0_0_90a58cb074\" y=\"417.278479\"/>\r\n    </g>\r\n    <g clip-path=\"url(#pd380ab9577)\">\r\n     <use style=\"fill:#a6d854;stroke:#ffffff;stroke-width:0.48;\" x=\"329.811358\" xlink:href=\"#C0_0_90a58cb074\" y=\"406.711419\"/>\r\n    </g>\r\n    <g clip-path=\"url(#pd380ab9577)\">\r\n     <use style=\"fill:#ffd92f;stroke:#ffffff;stroke-width:0.48;\" x=\"237.640295\" xlink:href=\"#C0_0_90a58cb074\" y=\"433.111843\"/>\r\n    </g>\r\n    <g clip-path=\"url(#pd380ab9577)\">\r\n     <use style=\"fill:#ffd92f;stroke:#ffffff;stroke-width:0.48;\" x=\"242.392643\" xlink:href=\"#C0_0_90a58cb074\" y=\"425.195284\"/>\r\n    </g>\r\n    <g clip-path=\"url(#pd380ab9577)\">\r\n     <use style=\"fill:#ffd92f;stroke:#ffffff;stroke-width:0.48;\" x=\"247.711501\" xlink:href=\"#C0_0_90a58cb074\" y=\"431.752394\"/>\r\n    </g>\r\n    <g clip-path=\"url(#pd380ab9577)\">\r\n     <use style=\"fill:#ffd92f;stroke:#ffffff;stroke-width:0.48;\" x=\"227.385442\" xlink:href=\"#C0_0_90a58cb074\" y=\"433.535923\"/>\r\n    </g>\r\n    <g clip-path=\"url(#pd380ab9577)\">\r\n     <use style=\"fill:#ffd92f;stroke:#ffffff;stroke-width:0.48;\" x=\"228.630761\" xlink:href=\"#C0_0_90a58cb074\" y=\"432.834126\"/>\r\n    </g>\r\n    <g clip-path=\"url(#pd380ab9577)\">\r\n     <use style=\"fill:#ffd92f;stroke:#ffffff;stroke-width:0.48;\" x=\"243.056567\" xlink:href=\"#C0_0_90a58cb074\" y=\"433.710225\"/>\r\n    </g>\r\n    <g clip-path=\"url(#pd380ab9577)\">\r\n     <use style=\"fill:#ffd92f;stroke:#ffffff;stroke-width:0.48;\" x=\"235.981872\" xlink:href=\"#C0_0_90a58cb074\" y=\"431.576478\"/>\r\n    </g>\r\n    <g clip-path=\"url(#pd380ab9577)\">\r\n     <use style=\"fill:#ffd92f;stroke:#ffffff;stroke-width:0.48;\" x=\"255.343785\" xlink:href=\"#C0_0_90a58cb074\" y=\"423.178879\"/>\r\n    </g>\r\n    <g clip-path=\"url(#pd380ab9577)\">\r\n     <use style=\"fill:#ffd92f;stroke:#ffffff;stroke-width:0.48;\" x=\"222.367797\" xlink:href=\"#C0_0_90a58cb074\" y=\"432.921188\"/>\r\n    </g>\r\n    <g clip-path=\"url(#pd380ab9577)\">\r\n     <use style=\"fill:#ffd92f;stroke:#ffffff;stroke-width:0.48;\" x=\"253.851585\" xlink:href=\"#C0_0_90a58cb074\" y=\"427.554205\"/>\r\n    </g>\r\n    <g clip-path=\"url(#pd380ab9577)\">\r\n     <use style=\"fill:#ffd92f;stroke:#ffffff;stroke-width:0.48;\" x=\"232.405219\" xlink:href=\"#C0_0_90a58cb074\" y=\"431.027557\"/>\r\n    </g>\r\n    <g clip-path=\"url(#pd380ab9577)\">\r\n     <use style=\"fill:#ffd92f;stroke:#ffffff;stroke-width:0.48;\" x=\"238.871156\" xlink:href=\"#C0_0_90a58cb074\" y=\"430.109502\"/>\r\n    </g>\r\n    <g clip-path=\"url(#pd380ab9577)\">\r\n     <use style=\"fill:#ffd92f;stroke:#ffffff;stroke-width:0.48;\" x=\"241.269806\" xlink:href=\"#C0_0_90a58cb074\" y=\"424.604693\"/>\r\n    </g>\r\n    <g clip-path=\"url(#pd380ab9577)\">\r\n     <use style=\"fill:#ffd92f;stroke:#ffffff;stroke-width:0.48;\" x=\"236.480024\" xlink:href=\"#C0_0_90a58cb074\" y=\"433.827645\"/>\r\n    </g>\r\n    <g clip-path=\"url(#pd380ab9577)\">\r\n     <use style=\"fill:#ffd92f;stroke:#ffffff;stroke-width:0.48;\" x=\"223.698787\" xlink:href=\"#C0_0_90a58cb074\" y=\"433.73414\"/>\r\n    </g>\r\n    <g clip-path=\"url(#pd380ab9577)\">\r\n     <use style=\"fill:#e5c494;stroke:#ffffff;stroke-width:0.48;\" x=\"212.94386\" xlink:href=\"#C0_0_90a58cb074\" y=\"432.641027\"/>\r\n    </g>\r\n    <g clip-path=\"url(#pd380ab9577)\">\r\n     <use style=\"fill:#e5c494;stroke:#ffffff;stroke-width:0.48;\" x=\"191.192266\" xlink:href=\"#C0_0_90a58cb074\" y=\"430.375255\"/>\r\n    </g>\r\n    <g clip-path=\"url(#pd380ab9577)\">\r\n     <use style=\"fill:#e5c494;stroke:#ffffff;stroke-width:0.48;\" x=\"208.555138\" xlink:href=\"#C0_0_90a58cb074\" y=\"432.403825\"/>\r\n    </g>\r\n    <g clip-path=\"url(#pd380ab9577)\">\r\n     <use style=\"fill:#e5c494;stroke:#ffffff;stroke-width:0.48;\" x=\"214.681804\" xlink:href=\"#C0_0_90a58cb074\" y=\"432.823607\"/>\r\n    </g>\r\n    <g clip-path=\"url(#pd380ab9577)\">\r\n     <use style=\"fill:#e5c494;stroke:#ffffff;stroke-width:0.48;\" x=\"216.896786\" xlink:href=\"#C0_0_90a58cb074\" y=\"431.576545\"/>\r\n    </g>\r\n    <g clip-path=\"url(#pd380ab9577)\">\r\n     <use style=\"fill:#e5c494;stroke:#ffffff;stroke-width:0.48;\" x=\"195.531901\" xlink:href=\"#C0_0_90a58cb074\" y=\"428.357057\"/>\r\n    </g>\r\n    <g clip-path=\"url(#pd380ab9577)\">\r\n     <use style=\"fill:#e5c494;stroke:#ffffff;stroke-width:0.48;\" x=\"196.468029\" xlink:href=\"#C0_0_90a58cb074\" y=\"416.376966\"/>\r\n    </g>\r\n    <g clip-path=\"url(#pd380ab9577)\">\r\n     <use style=\"fill:#e5c494;stroke:#ffffff;stroke-width:0.48;\" x=\"195.401753\" xlink:href=\"#C0_0_90a58cb074\" y=\"403.468143\"/>\r\n    </g>\r\n    <g clip-path=\"url(#pd380ab9577)\">\r\n     <use style=\"fill:#e5c494;stroke:#ffffff;stroke-width:0.48;\" x=\"210.61035\" xlink:href=\"#C0_0_90a58cb074\" y=\"423.651591\"/>\r\n    </g>\r\n    <g clip-path=\"url(#pd380ab9577)\">\r\n     <use style=\"fill:#e5c494;stroke:#ffffff;stroke-width:0.48;\" x=\"206.025138\" xlink:href=\"#C0_0_90a58cb074\" y=\"435.160706\"/>\r\n    </g>\r\n    <g clip-path=\"url(#pd380ab9577)\">\r\n     <use style=\"fill:#b3b3b3;stroke:#ffffff;stroke-width:0.48;\" x=\"268.587859\" xlink:href=\"#C0_0_90a58cb074\" y=\"423.139394\"/>\r\n    </g>\r\n    <g clip-path=\"url(#pd380ab9577)\">\r\n     <use style=\"fill:#b3b3b3;stroke:#ffffff;stroke-width:0.48;\" x=\"285.735138\" xlink:href=\"#C0_0_90a58cb074\" y=\"434.822445\"/>\r\n    </g>\r\n    <g clip-path=\"url(#pd380ab9577)\">\r\n     <use style=\"fill:#b3b3b3;stroke:#ffffff;stroke-width:0.48;\" x=\"280.470513\" xlink:href=\"#C0_0_90a58cb074\" y=\"428.671278\"/>\r\n    </g>\r\n    <g clip-path=\"url(#pd380ab9577)\">\r\n     <use style=\"fill:#b3b3b3;stroke:#ffffff;stroke-width:0.48;\" x=\"292.12435\" xlink:href=\"#C0_0_90a58cb074\" y=\"435.82755\"/>\r\n    </g>\r\n    <g clip-path=\"url(#pd380ab9577)\">\r\n     <use style=\"fill:#b3b3b3;stroke:#ffffff;stroke-width:0.48;\" x=\"286.072324\" xlink:href=\"#C0_0_90a58cb074\" y=\"431.337553\"/>\r\n    </g>\r\n    <g clip-path=\"url(#pd380ab9577)\">\r\n     <use style=\"fill:#b3b3b3;stroke:#ffffff;stroke-width:0.48;\" x=\"292.716896\" xlink:href=\"#C0_0_90a58cb074\" y=\"434.702416\"/>\r\n    </g>\r\n    <g clip-path=\"url(#pd380ab9577)\">\r\n     <use style=\"fill:#b3b3b3;stroke:#ffffff;stroke-width:0.48;\" x=\"269.411391\" xlink:href=\"#C0_0_90a58cb074\" y=\"427.652235\"/>\r\n    </g>\r\n    <g clip-path=\"url(#pd380ab9577)\">\r\n     <use style=\"fill:#b3b3b3;stroke:#ffffff;stroke-width:0.48;\" x=\"291.738899\" xlink:href=\"#C0_0_90a58cb074\" y=\"431.805477\"/>\r\n    </g>\r\n    <g clip-path=\"url(#pd380ab9577)\">\r\n     <use style=\"fill:#b3b3b3;stroke:#ffffff;stroke-width:0.48;\" x=\"264.25441\" xlink:href=\"#C0_0_90a58cb074\" y=\"431.233384\"/>\r\n    </g>\r\n    <g clip-path=\"url(#pd380ab9577)\">\r\n     <use style=\"fill:#b3b3b3;stroke:#ffffff;stroke-width:0.48;\" x=\"294.828842\" xlink:href=\"#C0_0_90a58cb074\" y=\"428.382134\"/>\r\n    </g>\r\n    <g clip-path=\"url(#pd380ab9577)\">\r\n     <use style=\"fill:#b3b3b3;stroke:#ffffff;stroke-width:0.48;\" x=\"294.249092\" xlink:href=\"#C0_0_90a58cb074\" y=\"427.447052\"/>\r\n    </g>\r\n    <g clip-path=\"url(#pd380ab9577)\">\r\n     <use style=\"fill:#b3b3b3;stroke:#ffffff;stroke-width:0.48;\" x=\"262.312652\" xlink:href=\"#C0_0_90a58cb074\" y=\"424.187621\"/>\r\n    </g>\r\n    <g clip-path=\"url(#pd380ab9577)\">\r\n     <use style=\"fill:#b3b3b3;stroke:#ffffff;stroke-width:0.48;\" x=\"292.006144\" xlink:href=\"#C0_0_90a58cb074\" y=\"397.386788\"/>\r\n    </g>\r\n    <g clip-path=\"url(#pd380ab9577)\">\r\n     <use style=\"fill:#b3b3b3;stroke:#ffffff;stroke-width:0.48;\" x=\"281.005302\" xlink:href=\"#C0_0_90a58cb074\" y=\"430.167625\"/>\r\n    </g>\r\n    <g clip-path=\"url(#pd380ab9577)\">\r\n     <use style=\"fill:#b3b3b3;stroke:#ffffff;stroke-width:0.48;\" x=\"289.863253\" xlink:href=\"#C0_0_90a58cb074\" y=\"380.039754\"/>\r\n    </g>\r\n    <g clip-path=\"url(#pd380ab9577)\">\r\n     <use style=\"fill:#b3b3b3;stroke:#ffffff;stroke-width:0.48;\" x=\"272.683023\" xlink:href=\"#C0_0_90a58cb074\" y=\"418.469375\"/>\r\n    </g>\r\n    <g clip-path=\"url(#pd380ab9577)\">\r\n     <use style=\"fill:#b3b3b3;stroke:#ffffff;stroke-width:0.48;\" x=\"282.00598\" xlink:href=\"#C0_0_90a58cb074\" y=\"433.959489\"/>\r\n    </g>\r\n    <g clip-path=\"url(#pd380ab9577)\">\r\n     <use style=\"fill:#b3b3b3;stroke:#ffffff;stroke-width:0.48;\" x=\"298.645828\" xlink:href=\"#C0_0_90a58cb074\" y=\"428.405387\"/>\r\n    </g>\r\n    <g clip-path=\"url(#pd380ab9577)\">\r\n     <use style=\"fill:#b3b3b3;stroke:#ffffff;stroke-width:0.48;\" x=\"269.062546\" xlink:href=\"#C0_0_90a58cb074\" y=\"434.82253\"/>\r\n    </g>\r\n    <g clip-path=\"url(#pd380ab9577)\">\r\n     <use style=\"fill:#b3b3b3;stroke:#ffffff;stroke-width:0.48;\" x=\"257.947836\" xlink:href=\"#C0_0_90a58cb074\" y=\"409.172813\"/>\r\n    </g>\r\n    <g clip-path=\"url(#pd380ab9577)\">\r\n     <use style=\"fill:#b3b3b3;stroke:#ffffff;stroke-width:0.48;\" x=\"269.733958\" xlink:href=\"#C0_0_90a58cb074\" y=\"435.078836\"/>\r\n    </g>\r\n    <g clip-path=\"url(#pd380ab9577)\">\r\n     <use style=\"fill:#b3b3b3;stroke:#ffffff;stroke-width:0.48;\" x=\"282.870399\" xlink:href=\"#C0_0_90a58cb074\" y=\"427.559438\"/>\r\n    </g>\r\n    <g clip-path=\"url(#pd380ab9577)\">\r\n     <use style=\"fill:#b3b3b3;stroke:#ffffff;stroke-width:0.48;\" x=\"295.504189\" xlink:href=\"#C0_0_90a58cb074\" y=\"433.796903\"/>\r\n    </g>\r\n    <g clip-path=\"url(#pd380ab9577)\">\r\n     <use style=\"fill:#b3b3b3;stroke:#ffffff;stroke-width:0.48;\" x=\"283.168184\" xlink:href=\"#C0_0_90a58cb074\" y=\"431.569088\"/>\r\n    </g>\r\n    <g clip-path=\"url(#pd380ab9577)\">\r\n     <use style=\"fill:#b3b3b3;stroke:#ffffff;stroke-width:0.48;\" x=\"269.862354\" xlink:href=\"#C0_0_90a58cb074\" y=\"434.419148\"/>\r\n    </g>\r\n    <g clip-path=\"url(#pd380ab9577)\">\r\n     <use style=\"fill:#b3b3b3;stroke:#ffffff;stroke-width:0.48;\" x=\"293.779056\" xlink:href=\"#C0_0_90a58cb074\" y=\"436.183871\"/>\r\n    </g>\r\n    <g clip-path=\"url(#pd380ab9577)\">\r\n     <use style=\"fill:#66c2a5;stroke:#ffffff;stroke-width:0.48;\" x=\"154.393094\" xlink:href=\"#C0_0_90a58cb074\" y=\"419.29147\"/>\r\n    </g>\r\n    <g clip-path=\"url(#pd380ab9577)\">\r\n     <use style=\"fill:#66c2a5;stroke:#ffffff;stroke-width:0.48;\" x=\"136.621302\" xlink:href=\"#C0_0_90a58cb074\" y=\"416.894953\"/>\r\n    </g>\r\n    <g clip-path=\"url(#pd380ab9577)\">\r\n     <use style=\"fill:#66c2a5;stroke:#ffffff;stroke-width:0.48;\" x=\"174.167933\" xlink:href=\"#C0_0_90a58cb074\" y=\"431.952468\"/>\r\n    </g>\r\n    <g clip-path=\"url(#pd380ab9577)\">\r\n     <use style=\"fill:#66c2a5;stroke:#ffffff;stroke-width:0.48;\" x=\"175.306916\" xlink:href=\"#C0_0_90a58cb074\" y=\"435.612506\"/>\r\n    </g>\r\n    <g clip-path=\"url(#pd380ab9577)\">\r\n     <use style=\"fill:#66c2a5;stroke:#ffffff;stroke-width:0.48;\" x=\"177.559399\" xlink:href=\"#C0_0_90a58cb074\" y=\"427.777573\"/>\r\n    </g>\r\n    <g clip-path=\"url(#pd380ab9577)\">\r\n     <use style=\"fill:#66c2a5;stroke:#ffffff;stroke-width:0.48;\" x=\"147.130598\" xlink:href=\"#C0_0_90a58cb074\" y=\"421.578366\"/>\r\n    </g>\r\n    <g clip-path=\"url(#pd380ab9577)\">\r\n     <use style=\"fill:#66c2a5;stroke:#ffffff;stroke-width:0.48;\" x=\"143.286611\" xlink:href=\"#C0_0_90a58cb074\" y=\"404.484019\"/>\r\n    </g>\r\n    <g clip-path=\"url(#pd380ab9577)\">\r\n     <use style=\"fill:#66c2a5;stroke:#ffffff;stroke-width:0.48;\" x=\"149.303363\" xlink:href=\"#C0_0_90a58cb074\" y=\"429.566188\"/>\r\n    </g>\r\n    <g clip-path=\"url(#pd380ab9577)\">\r\n     <use style=\"fill:#fc8d62;stroke:#ffffff;stroke-width:0.48;\" x=\"103.507581\" xlink:href=\"#C0_0_90a58cb074\" y=\"418.870359\"/>\r\n    </g>\r\n    <g clip-path=\"url(#pd380ab9577)\">\r\n     <use style=\"fill:#fc8d62;stroke:#ffffff;stroke-width:0.48;\" x=\"76.919205\" xlink:href=\"#C0_0_90a58cb074\" y=\"414.401726\"/>\r\n    </g>\r\n   </g>\r\n   <g id=\"PathCollection_2\"/>\r\n   <g id=\"PathCollection_3\"/>\r\n   <g id=\"PathCollection_4\"/>\r\n   <g id=\"PathCollection_5\"/>\r\n   <g id=\"PathCollection_6\"/>\r\n   <g id=\"PathCollection_7\"/>\r\n   <g id=\"PathCollection_8\"/>\r\n   <g id=\"PathCollection_9\"/>\r\n   <g id=\"PathCollection_10\"/>\r\n   <g id=\"PathCollection_11\"/>\r\n   <g id=\"matplotlib.axis_1\">\r\n    <g id=\"xtick_1\">\r\n     <g id=\"line2d_1\">\r\n      <defs>\r\n       <path d=\"M 0 0 \r\nL 0 3.5 \r\n\" id=\"m0a76f5b6c4\" style=\"stroke:#000000;stroke-width:0.8;\"/>\r\n      </defs>\r\n      <g>\r\n       <use style=\"stroke:#000000;stroke-width:0.8;\" x=\"129.078378\" xlink:href=\"#m0a76f5b6c4\" y=\"456.7572\"/>\r\n      </g>\r\n     </g>\r\n     <g id=\"text_1\">\r\n      <!-- −40 -->\r\n      <g transform=\"translate(118.526034 471.355637)scale(0.1 -0.1)\">\r\n       <defs>\r\n        <path d=\"M 678 2272 \r\nL 4684 2272 \r\nL 4684 1741 \r\nL 678 1741 \r\nL 678 2272 \r\nz\r\n\" id=\"DejaVuSans-2212\" transform=\"scale(0.015625)\"/>\r\n        <path d=\"M 2419 4116 \r\nL 825 1625 \r\nL 2419 1625 \r\nL 2419 4116 \r\nz\r\nM 2253 4666 \r\nL 3047 4666 \r\nL 3047 1625 \r\nL 3713 1625 \r\nL 3713 1100 \r\nL 3047 1100 \r\nL 3047 0 \r\nL 2419 0 \r\nL 2419 1100 \r\nL 313 1100 \r\nL 313 1709 \r\nL 2253 4666 \r\nz\r\n\" id=\"DejaVuSans-34\" transform=\"scale(0.015625)\"/>\r\n        <path d=\"M 2034 4250 \r\nQ 1547 4250 1301 3770 \r\nQ 1056 3291 1056 2328 \r\nQ 1056 1369 1301 889 \r\nQ 1547 409 2034 409 \r\nQ 2525 409 2770 889 \r\nQ 3016 1369 3016 2328 \r\nQ 3016 3291 2770 3770 \r\nQ 2525 4250 2034 4250 \r\nz\r\nM 2034 4750 \r\nQ 2819 4750 3233 4129 \r\nQ 3647 3509 3647 2328 \r\nQ 3647 1150 3233 529 \r\nQ 2819 -91 2034 -91 \r\nQ 1250 -91 836 529 \r\nQ 422 1150 422 2328 \r\nQ 422 3509 836 4129 \r\nQ 1250 4750 2034 4750 \r\nz\r\n\" id=\"DejaVuSans-30\" transform=\"scale(0.015625)\"/>\r\n       </defs>\r\n       <use xlink:href=\"#DejaVuSans-2212\"/>\r\n       <use x=\"83.789062\" xlink:href=\"#DejaVuSans-34\"/>\r\n       <use x=\"147.412109\" xlink:href=\"#DejaVuSans-30\"/>\r\n      </g>\r\n     </g>\r\n    </g>\r\n    <g id=\"xtick_2\">\r\n     <g id=\"line2d_2\">\r\n      <g>\r\n       <use style=\"stroke:#000000;stroke-width:0.8;\" x=\"270.653276\" xlink:href=\"#m0a76f5b6c4\" y=\"456.7572\"/>\r\n      </g>\r\n     </g>\r\n     <g id=\"text_2\">\r\n      <!-- −20 -->\r\n      <g transform=\"translate(260.100932 471.355637)scale(0.1 -0.1)\">\r\n       <defs>\r\n        <path d=\"M 1228 531 \r\nL 3431 531 \r\nL 3431 0 \r\nL 469 0 \r\nL 469 531 \r\nQ 828 903 1448 1529 \r\nQ 2069 2156 2228 2338 \r\nQ 2531 2678 2651 2914 \r\nQ 2772 3150 2772 3378 \r\nQ 2772 3750 2511 3984 \r\nQ 2250 4219 1831 4219 \r\nQ 1534 4219 1204 4116 \r\nQ 875 4013 500 3803 \r\nL 500 4441 \r\nQ 881 4594 1212 4672 \r\nQ 1544 4750 1819 4750 \r\nQ 2544 4750 2975 4387 \r\nQ 3406 4025 3406 3419 \r\nQ 3406 3131 3298 2873 \r\nQ 3191 2616 2906 2266 \r\nQ 2828 2175 2409 1742 \r\nQ 1991 1309 1228 531 \r\nz\r\n\" id=\"DejaVuSans-32\" transform=\"scale(0.015625)\"/>\r\n       </defs>\r\n       <use xlink:href=\"#DejaVuSans-2212\"/>\r\n       <use x=\"83.789062\" xlink:href=\"#DejaVuSans-32\"/>\r\n       <use x=\"147.412109\" xlink:href=\"#DejaVuSans-30\"/>\r\n      </g>\r\n     </g>\r\n    </g>\r\n    <g id=\"xtick_3\">\r\n     <g id=\"line2d_3\">\r\n      <g>\r\n       <use style=\"stroke:#000000;stroke-width:0.8;\" x=\"412.228174\" xlink:href=\"#m0a76f5b6c4\" y=\"456.7572\"/>\r\n      </g>\r\n     </g>\r\n     <g id=\"text_3\">\r\n      <!-- 0 -->\r\n      <g transform=\"translate(409.046924 471.355637)scale(0.1 -0.1)\">\r\n       <use xlink:href=\"#DejaVuSans-30\"/>\r\n      </g>\r\n     </g>\r\n    </g>\r\n    <g id=\"xtick_4\">\r\n     <g id=\"line2d_4\">\r\n      <g>\r\n       <use style=\"stroke:#000000;stroke-width:0.8;\" x=\"553.803072\" xlink:href=\"#m0a76f5b6c4\" y=\"456.7572\"/>\r\n      </g>\r\n     </g>\r\n     <g id=\"text_4\">\r\n      <!-- 20 -->\r\n      <g transform=\"translate(547.440572 471.355637)scale(0.1 -0.1)\">\r\n       <use xlink:href=\"#DejaVuSans-32\"/>\r\n       <use x=\"63.623047\" xlink:href=\"#DejaVuSans-30\"/>\r\n      </g>\r\n     </g>\r\n    </g>\r\n    <g id=\"xtick_5\">\r\n     <g id=\"line2d_5\">\r\n      <g>\r\n       <use style=\"stroke:#000000;stroke-width:0.8;\" x=\"695.37797\" xlink:href=\"#m0a76f5b6c4\" y=\"456.7572\"/>\r\n      </g>\r\n     </g>\r\n     <g id=\"text_5\">\r\n      <!-- 40 -->\r\n      <g transform=\"translate(689.01547 471.355637)scale(0.1 -0.1)\">\r\n       <use xlink:href=\"#DejaVuSans-34\"/>\r\n       <use x=\"63.623047\" xlink:href=\"#DejaVuSans-30\"/>\r\n      </g>\r\n     </g>\r\n    </g>\r\n    <g id=\"text_6\">\r\n     <!-- rate -->\r\n     <g transform=\"translate(363.5175 485.033762)scale(0.1 -0.1)\">\r\n      <defs>\r\n       <path d=\"M 2631 2963 \r\nQ 2534 3019 2420 3045 \r\nQ 2306 3072 2169 3072 \r\nQ 1681 3072 1420 2755 \r\nQ 1159 2438 1159 1844 \r\nL 1159 0 \r\nL 581 0 \r\nL 581 3500 \r\nL 1159 3500 \r\nL 1159 2956 \r\nQ 1341 3275 1631 3429 \r\nQ 1922 3584 2338 3584 \r\nQ 2397 3584 2469 3576 \r\nQ 2541 3569 2628 3553 \r\nL 2631 2963 \r\nz\r\n\" id=\"DejaVuSans-72\" transform=\"scale(0.015625)\"/>\r\n       <path d=\"M 2194 1759 \r\nQ 1497 1759 1228 1600 \r\nQ 959 1441 959 1056 \r\nQ 959 750 1161 570 \r\nQ 1363 391 1709 391 \r\nQ 2188 391 2477 730 \r\nQ 2766 1069 2766 1631 \r\nL 2766 1759 \r\nL 2194 1759 \r\nz\r\nM 3341 1997 \r\nL 3341 0 \r\nL 2766 0 \r\nL 2766 531 \r\nQ 2569 213 2275 61 \r\nQ 1981 -91 1556 -91 \r\nQ 1019 -91 701 211 \r\nQ 384 513 384 1019 \r\nQ 384 1609 779 1909 \r\nQ 1175 2209 1959 2209 \r\nL 2766 2209 \r\nL 2766 2266 \r\nQ 2766 2663 2505 2880 \r\nQ 2244 3097 1772 3097 \r\nQ 1472 3097 1187 3025 \r\nQ 903 2953 641 2809 \r\nL 641 3341 \r\nQ 956 3463 1253 3523 \r\nQ 1550 3584 1831 3584 \r\nQ 2591 3584 2966 3190 \r\nQ 3341 2797 3341 1997 \r\nz\r\n\" id=\"DejaVuSans-61\" transform=\"scale(0.015625)\"/>\r\n       <path d=\"M 1172 4494 \r\nL 1172 3500 \r\nL 2356 3500 \r\nL 2356 3053 \r\nL 1172 3053 \r\nL 1172 1153 \r\nQ 1172 725 1289 603 \r\nQ 1406 481 1766 481 \r\nL 2356 481 \r\nL 2356 0 \r\nL 1766 0 \r\nQ 1100 0 847 248 \r\nQ 594 497 594 1153 \r\nL 594 3053 \r\nL 172 3053 \r\nL 172 3500 \r\nL 594 3500 \r\nL 594 4494 \r\nL 1172 4494 \r\nz\r\n\" id=\"DejaVuSans-74\" transform=\"scale(0.015625)\"/>\r\n       <path d=\"M 3597 1894 \r\nL 3597 1613 \r\nL 953 1613 \r\nQ 991 1019 1311 708 \r\nQ 1631 397 2203 397 \r\nQ 2534 397 2845 478 \r\nQ 3156 559 3463 722 \r\nL 3463 178 \r\nQ 3153 47 2828 -22 \r\nQ 2503 -91 2169 -91 \r\nQ 1331 -91 842 396 \r\nQ 353 884 353 1716 \r\nQ 353 2575 817 3079 \r\nQ 1281 3584 2069 3584 \r\nQ 2775 3584 3186 3129 \r\nQ 3597 2675 3597 1894 \r\nz\r\nM 3022 2063 \r\nQ 3016 2534 2758 2815 \r\nQ 2500 3097 2075 3097 \r\nQ 1594 3097 1305 2825 \r\nQ 1016 2553 972 2059 \r\nL 3022 2063 \r\nz\r\n\" id=\"DejaVuSans-65\" transform=\"scale(0.015625)\"/>\r\n      </defs>\r\n      <use xlink:href=\"#DejaVuSans-72\"/>\r\n      <use x=\"41.113281\" xlink:href=\"#DejaVuSans-61\"/>\r\n      <use x=\"102.392578\" xlink:href=\"#DejaVuSans-74\"/>\r\n      <use x=\"141.601562\" xlink:href=\"#DejaVuSans-65\"/>\r\n     </g>\r\n    </g>\r\n   </g>\r\n   <g id=\"matplotlib.axis_2\">\r\n    <g id=\"ytick_1\">\r\n     <g id=\"line2d_6\">\r\n      <defs>\r\n       <path d=\"M 0 0 \r\nL -3.5 0 \r\n\" id=\"m88659f594b\" style=\"stroke:#000000;stroke-width:0.8;\"/>\r\n      </defs>\r\n      <g>\r\n       <use style=\"stroke:#000000;stroke-width:0.8;\" x=\"47.24375\" xlink:href=\"#m88659f594b\" y=\"437.398063\"/>\r\n      </g>\r\n     </g>\r\n     <g id=\"text_7\">\r\n      <!-- 0 -->\r\n      <g transform=\"translate(33.88125 441.197282)scale(0.1 -0.1)\">\r\n       <use xlink:href=\"#DejaVuSans-30\"/>\r\n      </g>\r\n     </g>\r\n    </g>\r\n    <g id=\"ytick_2\">\r\n     <g id=\"line2d_7\">\r\n      <g>\r\n       <use style=\"stroke:#000000;stroke-width:0.8;\" x=\"47.24375\" xlink:href=\"#m88659f594b\" y=\"369.104333\"/>\r\n      </g>\r\n     </g>\r\n     <g id=\"text_8\">\r\n      <!-- 20 -->\r\n      <g transform=\"translate(27.51875 372.903552)scale(0.1 -0.1)\">\r\n       <use xlink:href=\"#DejaVuSans-32\"/>\r\n       <use x=\"63.623047\" xlink:href=\"#DejaVuSans-30\"/>\r\n      </g>\r\n     </g>\r\n    </g>\r\n    <g id=\"ytick_3\">\r\n     <g id=\"line2d_8\">\r\n      <g>\r\n       <use style=\"stroke:#000000;stroke-width:0.8;\" x=\"47.24375\" xlink:href=\"#m88659f594b\" y=\"300.810603\"/>\r\n      </g>\r\n     </g>\r\n     <g id=\"text_9\">\r\n      <!-- 40 -->\r\n      <g transform=\"translate(27.51875 304.609822)scale(0.1 -0.1)\">\r\n       <use xlink:href=\"#DejaVuSans-34\"/>\r\n       <use x=\"63.623047\" xlink:href=\"#DejaVuSans-30\"/>\r\n      </g>\r\n     </g>\r\n    </g>\r\n    <g id=\"ytick_4\">\r\n     <g id=\"line2d_9\">\r\n      <g>\r\n       <use style=\"stroke:#000000;stroke-width:0.8;\" x=\"47.24375\" xlink:href=\"#m88659f594b\" y=\"232.516873\"/>\r\n      </g>\r\n     </g>\r\n     <g id=\"text_10\">\r\n      <!-- 60 -->\r\n      <g transform=\"translate(27.51875 236.316092)scale(0.1 -0.1)\">\r\n       <defs>\r\n        <path d=\"M 2113 2584 \r\nQ 1688 2584 1439 2293 \r\nQ 1191 2003 1191 1497 \r\nQ 1191 994 1439 701 \r\nQ 1688 409 2113 409 \r\nQ 2538 409 2786 701 \r\nQ 3034 994 3034 1497 \r\nQ 3034 2003 2786 2293 \r\nQ 2538 2584 2113 2584 \r\nz\r\nM 3366 4563 \r\nL 3366 3988 \r\nQ 3128 4100 2886 4159 \r\nQ 2644 4219 2406 4219 \r\nQ 1781 4219 1451 3797 \r\nQ 1122 3375 1075 2522 \r\nQ 1259 2794 1537 2939 \r\nQ 1816 3084 2150 3084 \r\nQ 2853 3084 3261 2657 \r\nQ 3669 2231 3669 1497 \r\nQ 3669 778 3244 343 \r\nQ 2819 -91 2113 -91 \r\nQ 1303 -91 875 529 \r\nQ 447 1150 447 2328 \r\nQ 447 3434 972 4092 \r\nQ 1497 4750 2381 4750 \r\nQ 2619 4750 2861 4703 \r\nQ 3103 4656 3366 4563 \r\nz\r\n\" id=\"DejaVuSans-36\" transform=\"scale(0.015625)\"/>\r\n       </defs>\r\n       <use xlink:href=\"#DejaVuSans-36\"/>\r\n       <use x=\"63.623047\" xlink:href=\"#DejaVuSans-30\"/>\r\n      </g>\r\n     </g>\r\n    </g>\r\n    <g id=\"ytick_5\">\r\n     <g id=\"line2d_10\">\r\n      <g>\r\n       <use style=\"stroke:#000000;stroke-width:0.8;\" x=\"47.24375\" xlink:href=\"#m88659f594b\" y=\"164.223144\"/>\r\n      </g>\r\n     </g>\r\n     <g id=\"text_11\">\r\n      <!-- 80 -->\r\n      <g transform=\"translate(27.51875 168.022362)scale(0.1 -0.1)\">\r\n       <defs>\r\n        <path d=\"M 2034 2216 \r\nQ 1584 2216 1326 1975 \r\nQ 1069 1734 1069 1313 \r\nQ 1069 891 1326 650 \r\nQ 1584 409 2034 409 \r\nQ 2484 409 2743 651 \r\nQ 3003 894 3003 1313 \r\nQ 3003 1734 2745 1975 \r\nQ 2488 2216 2034 2216 \r\nz\r\nM 1403 2484 \r\nQ 997 2584 770 2862 \r\nQ 544 3141 544 3541 \r\nQ 544 4100 942 4425 \r\nQ 1341 4750 2034 4750 \r\nQ 2731 4750 3128 4425 \r\nQ 3525 4100 3525 3541 \r\nQ 3525 3141 3298 2862 \r\nQ 3072 2584 2669 2484 \r\nQ 3125 2378 3379 2068 \r\nQ 3634 1759 3634 1313 \r\nQ 3634 634 3220 271 \r\nQ 2806 -91 2034 -91 \r\nQ 1263 -91 848 271 \r\nQ 434 634 434 1313 \r\nQ 434 1759 690 2068 \r\nQ 947 2378 1403 2484 \r\nz\r\nM 1172 3481 \r\nQ 1172 3119 1398 2916 \r\nQ 1625 2713 2034 2713 \r\nQ 2441 2713 2670 2916 \r\nQ 2900 3119 2900 3481 \r\nQ 2900 3844 2670 4047 \r\nQ 2441 4250 2034 4250 \r\nQ 1625 4250 1398 4047 \r\nQ 1172 3844 1172 3481 \r\nz\r\n\" id=\"DejaVuSans-38\" transform=\"scale(0.015625)\"/>\r\n       </defs>\r\n       <use xlink:href=\"#DejaVuSans-38\"/>\r\n       <use x=\"63.623047\" xlink:href=\"#DejaVuSans-30\"/>\r\n      </g>\r\n     </g>\r\n    </g>\r\n    <g id=\"ytick_6\">\r\n     <g id=\"line2d_11\">\r\n      <g>\r\n       <use style=\"stroke:#000000;stroke-width:0.8;\" x=\"47.24375\" xlink:href=\"#m88659f594b\" y=\"95.929414\"/>\r\n      </g>\r\n     </g>\r\n     <g id=\"text_12\">\r\n      <!-- 100 -->\r\n      <g transform=\"translate(21.15625 99.728633)scale(0.1 -0.1)\">\r\n       <defs>\r\n        <path d=\"M 794 531 \r\nL 1825 531 \r\nL 1825 4091 \r\nL 703 3866 \r\nL 703 4441 \r\nL 1819 4666 \r\nL 2450 4666 \r\nL 2450 531 \r\nL 3481 531 \r\nL 3481 0 \r\nL 794 0 \r\nL 794 531 \r\nz\r\n\" id=\"DejaVuSans-31\" transform=\"scale(0.015625)\"/>\r\n       </defs>\r\n       <use xlink:href=\"#DejaVuSans-31\"/>\r\n       <use x=\"63.623047\" xlink:href=\"#DejaVuSans-30\"/>\r\n       <use x=\"127.246094\" xlink:href=\"#DejaVuSans-30\"/>\r\n      </g>\r\n     </g>\r\n    </g>\r\n    <g id=\"ytick_7\">\r\n     <g id=\"line2d_12\">\r\n      <g>\r\n       <use style=\"stroke:#000000;stroke-width:0.8;\" x=\"47.24375\" xlink:href=\"#m88659f594b\" y=\"27.635684\"/>\r\n      </g>\r\n     </g>\r\n     <g id=\"text_13\">\r\n      <!-- 120 -->\r\n      <g transform=\"translate(21.15625 31.434903)scale(0.1 -0.1)\">\r\n       <use xlink:href=\"#DejaVuSans-31\"/>\r\n       <use x=\"63.623047\" xlink:href=\"#DejaVuSans-32\"/>\r\n       <use x=\"127.246094\" xlink:href=\"#DejaVuSans-30\"/>\r\n      </g>\r\n     </g>\r\n    </g>\r\n    <g id=\"text_14\">\r\n     <!-- trade_price -->\r\n     <g transform=\"translate(14.798438 260.2536)rotate(-90)scale(0.1 -0.1)\">\r\n      <defs>\r\n       <path d=\"M 2906 2969 \r\nL 2906 4863 \r\nL 3481 4863 \r\nL 3481 0 \r\nL 2906 0 \r\nL 2906 525 \r\nQ 2725 213 2448 61 \r\nQ 2172 -91 1784 -91 \r\nQ 1150 -91 751 415 \r\nQ 353 922 353 1747 \r\nQ 353 2572 751 3078 \r\nQ 1150 3584 1784 3584 \r\nQ 2172 3584 2448 3432 \r\nQ 2725 3281 2906 2969 \r\nz\r\nM 947 1747 \r\nQ 947 1113 1208 752 \r\nQ 1469 391 1925 391 \r\nQ 2381 391 2643 752 \r\nQ 2906 1113 2906 1747 \r\nQ 2906 2381 2643 2742 \r\nQ 2381 3103 1925 3103 \r\nQ 1469 3103 1208 2742 \r\nQ 947 2381 947 1747 \r\nz\r\n\" id=\"DejaVuSans-64\" transform=\"scale(0.015625)\"/>\r\n       <path d=\"M 3263 -1063 \r\nL 3263 -1509 \r\nL -63 -1509 \r\nL -63 -1063 \r\nL 3263 -1063 \r\nz\r\n\" id=\"DejaVuSans-5f\" transform=\"scale(0.015625)\"/>\r\n       <path d=\"M 1159 525 \r\nL 1159 -1331 \r\nL 581 -1331 \r\nL 581 3500 \r\nL 1159 3500 \r\nL 1159 2969 \r\nQ 1341 3281 1617 3432 \r\nQ 1894 3584 2278 3584 \r\nQ 2916 3584 3314 3078 \r\nQ 3713 2572 3713 1747 \r\nQ 3713 922 3314 415 \r\nQ 2916 -91 2278 -91 \r\nQ 1894 -91 1617 61 \r\nQ 1341 213 1159 525 \r\nz\r\nM 3116 1747 \r\nQ 3116 2381 2855 2742 \r\nQ 2594 3103 2138 3103 \r\nQ 1681 3103 1420 2742 \r\nQ 1159 2381 1159 1747 \r\nQ 1159 1113 1420 752 \r\nQ 1681 391 2138 391 \r\nQ 2594 391 2855 752 \r\nQ 3116 1113 3116 1747 \r\nz\r\n\" id=\"DejaVuSans-70\" transform=\"scale(0.015625)\"/>\r\n       <path d=\"M 603 3500 \r\nL 1178 3500 \r\nL 1178 0 \r\nL 603 0 \r\nL 603 3500 \r\nz\r\nM 603 4863 \r\nL 1178 4863 \r\nL 1178 4134 \r\nL 603 4134 \r\nL 603 4863 \r\nz\r\n\" id=\"DejaVuSans-69\" transform=\"scale(0.015625)\"/>\r\n       <path d=\"M 3122 3366 \r\nL 3122 2828 \r\nQ 2878 2963 2633 3030 \r\nQ 2388 3097 2138 3097 \r\nQ 1578 3097 1268 2742 \r\nQ 959 2388 959 1747 \r\nQ 959 1106 1268 751 \r\nQ 1578 397 2138 397 \r\nQ 2388 397 2633 464 \r\nQ 2878 531 3122 666 \r\nL 3122 134 \r\nQ 2881 22 2623 -34 \r\nQ 2366 -91 2075 -91 \r\nQ 1284 -91 818 406 \r\nQ 353 903 353 1747 \r\nQ 353 2603 823 3093 \r\nQ 1294 3584 2113 3584 \r\nQ 2378 3584 2631 3529 \r\nQ 2884 3475 3122 3366 \r\nz\r\n\" id=\"DejaVuSans-63\" transform=\"scale(0.015625)\"/>\r\n      </defs>\r\n      <use xlink:href=\"#DejaVuSans-74\"/>\r\n      <use x=\"39.208984\" xlink:href=\"#DejaVuSans-72\"/>\r\n      <use x=\"80.322266\" xlink:href=\"#DejaVuSans-61\"/>\r\n      <use x=\"141.601562\" xlink:href=\"#DejaVuSans-64\"/>\r\n      <use x=\"205.078125\" xlink:href=\"#DejaVuSans-65\"/>\r\n      <use x=\"266.601562\" xlink:href=\"#DejaVuSans-5f\"/>\r\n      <use x=\"316.601562\" xlink:href=\"#DejaVuSans-70\"/>\r\n      <use x=\"380.078125\" xlink:href=\"#DejaVuSans-72\"/>\r\n      <use x=\"421.191406\" xlink:href=\"#DejaVuSans-69\"/>\r\n      <use x=\"448.974609\" xlink:href=\"#DejaVuSans-63\"/>\r\n      <use x=\"503.955078\" xlink:href=\"#DejaVuSans-65\"/>\r\n     </g>\r\n    </g>\r\n   </g>\r\n   <g id=\"patch_3\">\r\n    <path d=\"M 47.24375 456.7572 \r\nL 47.24375 7.2 \r\n\" style=\"fill:none;stroke:#000000;stroke-linecap:square;stroke-linejoin:miter;stroke-width:0.8;\"/>\r\n   </g>\r\n   <g id=\"patch_4\">\r\n    <path d=\"M 700.10375 456.7572 \r\nL 700.10375 7.2 \r\n\" style=\"fill:none;stroke:#000000;stroke-linecap:square;stroke-linejoin:miter;stroke-width:0.8;\"/>\r\n   </g>\r\n   <g id=\"patch_5\">\r\n    <path d=\"M 47.24375 456.7572 \r\nL 700.10375 456.7572 \r\n\" style=\"fill:none;stroke:#000000;stroke-linecap:square;stroke-linejoin:miter;stroke-width:0.8;\"/>\r\n   </g>\r\n   <g id=\"patch_6\">\r\n    <path d=\"M 47.24375 7.2 \r\nL 700.10375 7.2 \r\n\" style=\"fill:none;stroke:#000000;stroke-linecap:square;stroke-linejoin:miter;stroke-width:0.8;\"/>\r\n   </g>\r\n   <g id=\"legend_1\">\r\n    <g id=\"patch_7\">\r\n     <path d=\"M 654.74125 176.659375 \r\nL 693.10375 176.659375 \r\nQ 695.10375 176.659375 695.10375 174.659375 \r\nL 695.10375 14.2 \r\nQ 695.10375 12.2 693.10375 12.2 \r\nL 654.74125 12.2 \r\nQ 652.74125 12.2 652.74125 14.2 \r\nL 652.74125 174.659375 \r\nQ 652.74125 176.659375 654.74125 176.659375 \r\nz\r\n\" style=\"fill:#ffffff;opacity:0.8;stroke:#cccccc;stroke-linejoin:miter;\"/>\r\n    </g>\r\n    <g id=\"text_15\">\r\n     <!-- tier -->\r\n     <g transform=\"translate(665.44125 23.798437)scale(0.1 -0.1)\">\r\n      <use xlink:href=\"#DejaVuSans-74\"/>\r\n      <use x=\"39.208984\" xlink:href=\"#DejaVuSans-69\"/>\r\n      <use x=\"66.992188\" xlink:href=\"#DejaVuSans-65\"/>\r\n      <use x=\"128.515625\" xlink:href=\"#DejaVuSans-72\"/>\r\n     </g>\r\n    </g>\r\n    <g id=\"PathCollection_12\">\r\n     <defs>\r\n      <path d=\"M 0 3 \r\nC 0.795609 3 1.55874 2.683901 2.12132 2.12132 \r\nC 2.683901 1.55874 3 0.795609 3 0 \r\nC 3 -0.795609 2.683901 -1.55874 2.12132 -2.12132 \r\nC 1.55874 -2.683901 0.795609 -3 0 -3 \r\nC -0.795609 -3 -1.55874 -2.683901 -2.12132 -2.12132 \r\nC -2.683901 -1.55874 -3 -0.795609 -3 0 \r\nC -3 0.795609 -2.683901 1.55874 -2.12132 2.12132 \r\nC -1.55874 2.683901 -0.795609 3 0 3 \r\nz\r\n\" id=\"m38fc4cc6ff\" style=\"stroke:#66c2a5;\"/>\r\n     </defs>\r\n     <g>\r\n      <use style=\"fill:#66c2a5;stroke:#66c2a5;\" x=\"666.74125\" xlink:href=\"#m38fc4cc6ff\" y=\"35.851562\"/>\r\n     </g>\r\n    </g>\r\n    <g id=\"text_16\">\r\n     <!-- 0 -->\r\n     <g transform=\"translate(684.74125 38.476562)scale(0.1 -0.1)\">\r\n      <use xlink:href=\"#DejaVuSans-30\"/>\r\n     </g>\r\n    </g>\r\n    <g id=\"PathCollection_13\">\r\n     <defs>\r\n      <path d=\"M 0 3 \r\nC 0.795609 3 1.55874 2.683901 2.12132 2.12132 \r\nC 2.683901 1.55874 3 0.795609 3 0 \r\nC 3 -0.795609 2.683901 -1.55874 2.12132 -2.12132 \r\nC 1.55874 -2.683901 0.795609 -3 0 -3 \r\nC -0.795609 -3 -1.55874 -2.683901 -2.12132 -2.12132 \r\nC -2.683901 -1.55874 -3 -0.795609 -3 0 \r\nC -3 0.795609 -2.683901 1.55874 -2.12132 2.12132 \r\nC -1.55874 2.683901 -0.795609 3 0 3 \r\nz\r\n\" id=\"m12ec775efb\" style=\"stroke:#fc8d62;\"/>\r\n     </defs>\r\n     <g>\r\n      <use style=\"fill:#fc8d62;stroke:#fc8d62;\" x=\"666.74125\" xlink:href=\"#m12ec775efb\" y=\"50.529687\"/>\r\n     </g>\r\n    </g>\r\n    <g id=\"text_17\">\r\n     <!-- 1 -->\r\n     <g transform=\"translate(684.74125 53.154687)scale(0.1 -0.1)\">\r\n      <use xlink:href=\"#DejaVuSans-31\"/>\r\n     </g>\r\n    </g>\r\n    <g id=\"PathCollection_14\">\r\n     <defs>\r\n      <path d=\"M 0 3 \r\nC 0.795609 3 1.55874 2.683901 2.12132 2.12132 \r\nC 2.683901 1.55874 3 0.795609 3 0 \r\nC 3 -0.795609 2.683901 -1.55874 2.12132 -2.12132 \r\nC 1.55874 -2.683901 0.795609 -3 0 -3 \r\nC -0.795609 -3 -1.55874 -2.683901 -2.12132 -2.12132 \r\nC -2.683901 -1.55874 -3 -0.795609 -3 0 \r\nC -3 0.795609 -2.683901 1.55874 -2.12132 2.12132 \r\nC -1.55874 2.683901 -0.795609 3 0 3 \r\nz\r\n\" id=\"m6faf84cc14\" style=\"stroke:#8da0cb;\"/>\r\n     </defs>\r\n     <g>\r\n      <use style=\"fill:#8da0cb;stroke:#8da0cb;\" x=\"666.74125\" xlink:href=\"#m6faf84cc14\" y=\"65.207812\"/>\r\n     </g>\r\n    </g>\r\n    <g id=\"text_18\">\r\n     <!-- 2 -->\r\n     <g transform=\"translate(684.74125 67.832812)scale(0.1 -0.1)\">\r\n      <use xlink:href=\"#DejaVuSans-32\"/>\r\n     </g>\r\n    </g>\r\n    <g id=\"PathCollection_15\">\r\n     <defs>\r\n      <path d=\"M 0 3 \r\nC 0.795609 3 1.55874 2.683901 2.12132 2.12132 \r\nC 2.683901 1.55874 3 0.795609 3 0 \r\nC 3 -0.795609 2.683901 -1.55874 2.12132 -2.12132 \r\nC 1.55874 -2.683901 0.795609 -3 0 -3 \r\nC -0.795609 -3 -1.55874 -2.683901 -2.12132 -2.12132 \r\nC -2.683901 -1.55874 -3 -0.795609 -3 0 \r\nC -3 0.795609 -2.683901 1.55874 -2.12132 2.12132 \r\nC -1.55874 2.683901 -0.795609 3 0 3 \r\nz\r\n\" id=\"m69bee40975\" style=\"stroke:#e78ac3;\"/>\r\n     </defs>\r\n     <g>\r\n      <use style=\"fill:#e78ac3;stroke:#e78ac3;\" x=\"666.74125\" xlink:href=\"#m69bee40975\" y=\"79.885937\"/>\r\n     </g>\r\n    </g>\r\n    <g id=\"text_19\">\r\n     <!-- 3 -->\r\n     <g transform=\"translate(684.74125 82.510937)scale(0.1 -0.1)\">\r\n      <defs>\r\n       <path d=\"M 2597 2516 \r\nQ 3050 2419 3304 2112 \r\nQ 3559 1806 3559 1356 \r\nQ 3559 666 3084 287 \r\nQ 2609 -91 1734 -91 \r\nQ 1441 -91 1130 -33 \r\nQ 819 25 488 141 \r\nL 488 750 \r\nQ 750 597 1062 519 \r\nQ 1375 441 1716 441 \r\nQ 2309 441 2620 675 \r\nQ 2931 909 2931 1356 \r\nQ 2931 1769 2642 2001 \r\nQ 2353 2234 1838 2234 \r\nL 1294 2234 \r\nL 1294 2753 \r\nL 1863 2753 \r\nQ 2328 2753 2575 2939 \r\nQ 2822 3125 2822 3475 \r\nQ 2822 3834 2567 4026 \r\nQ 2313 4219 1838 4219 \r\nQ 1578 4219 1281 4162 \r\nQ 984 4106 628 3988 \r\nL 628 4550 \r\nQ 988 4650 1302 4700 \r\nQ 1616 4750 1894 4750 \r\nQ 2613 4750 3031 4423 \r\nQ 3450 4097 3450 3541 \r\nQ 3450 3153 3228 2886 \r\nQ 3006 2619 2597 2516 \r\nz\r\n\" id=\"DejaVuSans-33\" transform=\"scale(0.015625)\"/>\r\n      </defs>\r\n      <use xlink:href=\"#DejaVuSans-33\"/>\r\n     </g>\r\n    </g>\r\n    <g id=\"PathCollection_16\">\r\n     <defs>\r\n      <path d=\"M 0 3 \r\nC 0.795609 3 1.55874 2.683901 2.12132 2.12132 \r\nC 2.683901 1.55874 3 0.795609 3 0 \r\nC 3 -0.795609 2.683901 -1.55874 2.12132 -2.12132 \r\nC 1.55874 -2.683901 0.795609 -3 0 -3 \r\nC -0.795609 -3 -1.55874 -2.683901 -2.12132 -2.12132 \r\nC -2.683901 -1.55874 -3 -0.795609 -3 0 \r\nC -3 0.795609 -2.683901 1.55874 -2.12132 2.12132 \r\nC -1.55874 2.683901 -0.795609 3 0 3 \r\nz\r\n\" id=\"m158389d48e\" style=\"stroke:#a6d854;\"/>\r\n     </defs>\r\n     <g>\r\n      <use style=\"fill:#a6d854;stroke:#a6d854;\" x=\"666.74125\" xlink:href=\"#m158389d48e\" y=\"94.564062\"/>\r\n     </g>\r\n    </g>\r\n    <g id=\"text_20\">\r\n     <!-- 4 -->\r\n     <g transform=\"translate(684.74125 97.189062)scale(0.1 -0.1)\">\r\n      <use xlink:href=\"#DejaVuSans-34\"/>\r\n     </g>\r\n    </g>\r\n    <g id=\"PathCollection_17\">\r\n     <defs>\r\n      <path d=\"M 0 3 \r\nC 0.795609 3 1.55874 2.683901 2.12132 2.12132 \r\nC 2.683901 1.55874 3 0.795609 3 0 \r\nC 3 -0.795609 2.683901 -1.55874 2.12132 -2.12132 \r\nC 1.55874 -2.683901 0.795609 -3 0 -3 \r\nC -0.795609 -3 -1.55874 -2.683901 -2.12132 -2.12132 \r\nC -2.683901 -1.55874 -3 -0.795609 -3 0 \r\nC -3 0.795609 -2.683901 1.55874 -2.12132 2.12132 \r\nC -1.55874 2.683901 -0.795609 3 0 3 \r\nz\r\n\" id=\"m167cdc8bf3\" style=\"stroke:#ffd92f;\"/>\r\n     </defs>\r\n     <g>\r\n      <use style=\"fill:#ffd92f;stroke:#ffd92f;\" x=\"666.74125\" xlink:href=\"#m167cdc8bf3\" y=\"109.242187\"/>\r\n     </g>\r\n    </g>\r\n    <g id=\"text_21\">\r\n     <!-- 5 -->\r\n     <g transform=\"translate(684.74125 111.867187)scale(0.1 -0.1)\">\r\n      <defs>\r\n       <path d=\"M 691 4666 \r\nL 3169 4666 \r\nL 3169 4134 \r\nL 1269 4134 \r\nL 1269 2991 \r\nQ 1406 3038 1543 3061 \r\nQ 1681 3084 1819 3084 \r\nQ 2600 3084 3056 2656 \r\nQ 3513 2228 3513 1497 \r\nQ 3513 744 3044 326 \r\nQ 2575 -91 1722 -91 \r\nQ 1428 -91 1123 -41 \r\nQ 819 9 494 109 \r\nL 494 744 \r\nQ 775 591 1075 516 \r\nQ 1375 441 1709 441 \r\nQ 2250 441 2565 725 \r\nQ 2881 1009 2881 1497 \r\nQ 2881 1984 2565 2268 \r\nQ 2250 2553 1709 2553 \r\nQ 1456 2553 1204 2497 \r\nQ 953 2441 691 2322 \r\nL 691 4666 \r\nz\r\n\" id=\"DejaVuSans-35\" transform=\"scale(0.015625)\"/>\r\n      </defs>\r\n      <use xlink:href=\"#DejaVuSans-35\"/>\r\n     </g>\r\n    </g>\r\n    <g id=\"PathCollection_18\">\r\n     <defs>\r\n      <path d=\"M 0 3 \r\nC 0.795609 3 1.55874 2.683901 2.12132 2.12132 \r\nC 2.683901 1.55874 3 0.795609 3 0 \r\nC 3 -0.795609 2.683901 -1.55874 2.12132 -2.12132 \r\nC 1.55874 -2.683901 0.795609 -3 0 -3 \r\nC -0.795609 -3 -1.55874 -2.683901 -2.12132 -2.12132 \r\nC -2.683901 -1.55874 -3 -0.795609 -3 0 \r\nC -3 0.795609 -2.683901 1.55874 -2.12132 2.12132 \r\nC -1.55874 2.683901 -0.795609 3 0 3 \r\nz\r\n\" id=\"m78e38041c6\" style=\"stroke:#e5c494;\"/>\r\n     </defs>\r\n     <g>\r\n      <use style=\"fill:#e5c494;stroke:#e5c494;\" x=\"666.74125\" xlink:href=\"#m78e38041c6\" y=\"123.920312\"/>\r\n     </g>\r\n    </g>\r\n    <g id=\"text_22\">\r\n     <!-- 6 -->\r\n     <g transform=\"translate(684.74125 126.545312)scale(0.1 -0.1)\">\r\n      <use xlink:href=\"#DejaVuSans-36\"/>\r\n     </g>\r\n    </g>\r\n    <g id=\"PathCollection_19\">\r\n     <defs>\r\n      <path d=\"M 0 3 \r\nC 0.795609 3 1.55874 2.683901 2.12132 2.12132 \r\nC 2.683901 1.55874 3 0.795609 3 0 \r\nC 3 -0.795609 2.683901 -1.55874 2.12132 -2.12132 \r\nC 1.55874 -2.683901 0.795609 -3 0 -3 \r\nC -0.795609 -3 -1.55874 -2.683901 -2.12132 -2.12132 \r\nC -2.683901 -1.55874 -3 -0.795609 -3 0 \r\nC -3 0.795609 -2.683901 1.55874 -2.12132 2.12132 \r\nC -1.55874 2.683901 -0.795609 3 0 3 \r\nz\r\n\" id=\"m81ab48bae0\" style=\"stroke:#b3b3b3;\"/>\r\n     </defs>\r\n     <g>\r\n      <use style=\"fill:#b3b3b3;stroke:#b3b3b3;\" x=\"666.74125\" xlink:href=\"#m81ab48bae0\" y=\"138.598437\"/>\r\n     </g>\r\n    </g>\r\n    <g id=\"text_23\">\r\n     <!-- 7 -->\r\n     <g transform=\"translate(684.74125 141.223437)scale(0.1 -0.1)\">\r\n      <defs>\r\n       <path d=\"M 525 4666 \r\nL 3525 4666 \r\nL 3525 4397 \r\nL 1831 0 \r\nL 1172 0 \r\nL 2766 4134 \r\nL 525 4134 \r\nL 525 4666 \r\nz\r\n\" id=\"DejaVuSans-37\" transform=\"scale(0.015625)\"/>\r\n      </defs>\r\n      <use xlink:href=\"#DejaVuSans-37\"/>\r\n     </g>\r\n    </g>\r\n    <g id=\"PathCollection_20\">\r\n     <g>\r\n      <use style=\"fill:#66c2a5;stroke:#66c2a5;\" x=\"666.74125\" xlink:href=\"#m38fc4cc6ff\" y=\"153.276562\"/>\r\n     </g>\r\n    </g>\r\n    <g id=\"text_24\">\r\n     <!-- 8 -->\r\n     <g transform=\"translate(684.74125 155.901562)scale(0.1 -0.1)\">\r\n      <use xlink:href=\"#DejaVuSans-38\"/>\r\n     </g>\r\n    </g>\r\n    <g id=\"PathCollection_21\">\r\n     <g>\r\n      <use style=\"fill:#fc8d62;stroke:#fc8d62;\" x=\"666.74125\" xlink:href=\"#m12ec775efb\" y=\"167.954687\"/>\r\n     </g>\r\n    </g>\r\n    <g id=\"text_25\">\r\n     <!-- 9 -->\r\n     <g transform=\"translate(684.74125 170.579687)scale(0.1 -0.1)\">\r\n      <defs>\r\n       <path d=\"M 703 97 \r\nL 703 672 \r\nQ 941 559 1184 500 \r\nQ 1428 441 1663 441 \r\nQ 2288 441 2617 861 \r\nQ 2947 1281 2994 2138 \r\nQ 2813 1869 2534 1725 \r\nQ 2256 1581 1919 1581 \r\nQ 1219 1581 811 2004 \r\nQ 403 2428 403 3163 \r\nQ 403 3881 828 4315 \r\nQ 1253 4750 1959 4750 \r\nQ 2769 4750 3195 4129 \r\nQ 3622 3509 3622 2328 \r\nQ 3622 1225 3098 567 \r\nQ 2575 -91 1691 -91 \r\nQ 1453 -91 1209 -44 \r\nQ 966 3 703 97 \r\nz\r\nM 1959 2075 \r\nQ 2384 2075 2632 2365 \r\nQ 2881 2656 2881 3163 \r\nQ 2881 3666 2632 3958 \r\nQ 2384 4250 1959 4250 \r\nQ 1534 4250 1286 3958 \r\nQ 1038 3666 1038 3163 \r\nQ 1038 2656 1286 2365 \r\nQ 1534 2075 1959 2075 \r\nz\r\n\" id=\"DejaVuSans-39\" transform=\"scale(0.015625)\"/>\r\n      </defs>\r\n      <use xlink:href=\"#DejaVuSans-39\"/>\r\n     </g>\r\n    </g>\r\n   </g>\r\n  </g>\r\n </g>\r\n <defs>\r\n  <clipPath id=\"pd380ab9577\">\r\n   <rect height=\"449.5572\" width=\"652.86\" x=\"47.24375\" y=\"7.2\"/>\r\n  </clipPath>\r\n </defs>\r\n</svg>\r\n",
      "image/png": "[encoded data removed]"
     },
     "metadata": {
      "needs_background": "light"
     }
    }
   ],
   "source": [
    "import seaborn as sns\n",
    "import matplotlib.pyplot as plt\n",
    "\n",
    "a4_dims = (11.7, 8.27)\n",
    "\n",
    "fig, ax = plt.subplots(figsize=a4_dims)\n",
    "\n",
    "sns.scatterplot(ax=ax,x='rate', y='trade_price', hue='tier', data=df_tier, palette=\"Set2\")"
   ]
  }
 ]
}