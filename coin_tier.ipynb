{
 "metadata": {
  "language_info": {
   "codemirror_mode": {
    "name": "ipython",
    "version": 3
   },
   "file_extension": ".py",
   "mimetype": "text/x-python",
   "name": "python",
   "nbconvert_exporter": "python",
   "pygments_lexer": "ipython3",
   "version": "3.8.10"
  },
  "orig_nbformat": 2,
  "kernelspec": {
   "name": "python3",
   "display_name": "Python 3.8.10 64-bit (windows store)"
  },
  "interpreter": {
   "hash": "cdbb992e379dc9ba069ff974c97f3018ebf1ebc7da132f363ca84737f7370780"
  }
 },
 "nbformat": 4,
 "nbformat_minor": 2,
 "cells": [
  {
   "cell_type": "code",
   "execution_count": 44,
   "metadata": {},
   "outputs": [],
   "source": [
    "# !pip install pyjwt==1.6.4\n",
    "import getCoinInfo\n",
    "\n",
    "import os\n",
    "import jwt\n",
    "import uuid\n",
    "import hashlib\n",
    "from urllib.parse import urlencode\n",
    "import pandas as pd\n",
    "import matplotlib.pyplot as plt\n",
    "\n",
    "import requests\n",
    "import warnings\n",
    "warnings.filterwarnings('ignore')"
   ]
  },
  {
   "cell_type": "code",
   "execution_count": 45,
   "metadata": {},
   "outputs": [],
   "source": [
    "#secretKey = '9YJKW1Mf2sbxS49CxK64mAcg1K2jWQlz6nBj03xR'\n",
    "#accessKey = 'D3lErjSf7TR51Gf79eCC9hwsZBkPajT9lOPxQxsr'\n",
    "\n",
    "accessKey = '0OZyHGPI4paErDy83m2T0XtXLPZlVL2xbafNpadp'\n",
    "secretKey = 'V3SPlDriFU1StpEtSIgtfGoiQ9de2hKqkjDkw0wx'"
   ]
  },
  {
   "cell_type": "code",
   "execution_count": 46,
   "metadata": {},
   "outputs": [
    {
     "output_type": "stream",
     "name": "stdout",
     "text": [
      "{'error': {'message': '인증된 IP가 아닙니다.', 'name': 'no_authorization_i_p'}}\n"
     ]
    }
   ],
   "source": [
    "server_url = 'https://api.upbit.com'\n",
    "\n",
    "payload = {\n",
    "    'access_key': accessKey,\n",
    "    'nonce': str(uuid.uuid4()),\n",
    "}\n",
    "\n",
    "jwt_token = jwt.encode(payload, secretKey)\n",
    "authorize_token = 'Bearer {}'.format(jwt_token)\n",
    "headers = {\"Authorization\": authorize_token}\n",
    "\n",
    "res = requests.get(server_url + \"/v1/accounts\", headers=headers)\n",
    "\n",
    "print(res.json())"
   ]
  },
  {
   "cell_type": "code",
   "execution_count": 47,
   "metadata": {
    "tags": []
   },
   "outputs": [
    {
     "output_type": "execute_result",
     "data": {
      "text/plain": [
       "112"
      ]
     },
     "metadata": {},
     "execution_count": 47
    }
   ],
   "source": [
    "#종목 조회\n",
    "url = \"https://api.upbit.com/v1/market/all\"\n",
    "\n",
    "querystring = {\"isDetails\":\"false\"}\n",
    "\n",
    "response = requests.request(\"GET\", url, params=querystring)\n",
    "\n",
    "coin_list = response.json()\n",
    "coins = []\n",
    "for coin in coin_list:\n",
    "    if coin['market'].split('-')[0] =='KRW':\n",
    "        coins.append(coin['market'])\n",
    "len(coins)"
   ]
  },
  {
   "cell_type": "code",
   "execution_count": 48,
   "metadata": {},
   "outputs": [
    {
     "output_type": "stream",
     "name": "stdout",
     "text": [
      "[{\"market\":\"KRW-BTC\",\"candle_date_time_utc\":\"2021-06-21T00:00:00\",\"candle_date_time_kst\":\"2021-06-21T09:00:00\",\"opening_price\":41843000.00000000,\"high_price\":42048000.00000000,\"low_price\":37900000.00000000,\"trade_price\":38450000.00000000,\"timestamp\":1624294840036,\"candle_acc_trade_price\":708056771656.93390000,\"candle_acc_trade_volume\":17984.74809875,\"prev_closing_price\":41842000.00000000,\"change_price\":-3392000.00000000,\"change_rate\":-0.0810668706}]\n"
     ]
    }
   ],
   "source": [
    "url = \"https://api.upbit.com/v1/candles/days\"\n",
    "\n",
    "query = {\"count\":\"1\",\"market\": \"KRW-BTC\"}\n",
    "# m = hashlib.sha512()\n",
    "# m.update(urlencode(query).encode())\n",
    "# query_hash = m.hexdigest()\n",
    "# payload = {\n",
    "#     'access_key': accessKey,\n",
    "#     'nonce': str(uuid.uuid4()),\n",
    "#     'query_hash': query_hash,\n",
    "#     'query_hash_alg': 'SHA512'\n",
    "# }\n",
    "\n",
    "# jwt_token = jwt.encode(payload, secretKey)\n",
    "# authorize_token = 'Bearer {}'.format(jwt_token)\n",
    "# headers = {\"Authorization\": authorize_token}\n",
    "\n",
    "response = requests.request(\"GET\", url, params =  query)\n",
    "\n",
    "print(response.text)"
   ]
  },
  {
   "cell_type": "code",
   "execution_count": 49,
   "metadata": {},
   "outputs": [
    {
     "output_type": "execute_result",
     "data": {
      "text/plain": [
       "'192.168.219.102'"
      ]
     },
     "metadata": {},
     "execution_count": 49
    }
   ],
   "source": [
    "import socket\n",
    "socket.gethostbyname(socket.getfqdn())"
   ]
  },
  {
   "cell_type": "code",
   "execution_count": 50,
   "metadata": {
    "tags": []
   },
   "outputs": [
    {
     "output_type": "stream",
     "name": "stdout",
     "text": [
      "KRW-BTC\n",
      "KRW-ETH\n",
      "KRW-NEO\n",
      "KRW-MTL\n",
      "KRW-LTC\n",
      "KRW-XRP\n",
      "KRW-ETC\n",
      "KRW-OMG\n",
      "KRW-SNT\n",
      "KRW-WAVES\n",
      "KRW-XEM\n",
      "KRW-QTUM\n",
      "KRW-LSK\n",
      "KRW-STEEM\n",
      "KRW-XLM\n",
      "KRW-ARDR\n",
      "KRW-KMD\n",
      "KRW-ARK\n",
      "KRW-STORJ\n",
      "KRW-GRS\n",
      "KRW-REP\n",
      "KRW-EMC2\n",
      "KRW-ADA\n",
      "KRW-SBD\n",
      "KRW-POWR\n",
      "KRW-BTG\n",
      "KRW-ICX\n",
      "KRW-EOS\n",
      "KRW-TRX\n",
      "KRW-SC\n",
      "KRW-IGNIS\n",
      "KRW-ONT\n",
      "KRW-ZIL\n",
      "KRW-POLY\n",
      "KRW-ZRX\n",
      "KRW-LOOM\n",
      "KRW-BCH\n",
      "KRW-ADX\n",
      "KRW-BAT\n",
      "KRW-IOST\n",
      "KRW-DMT\n",
      "KRW-RFR\n",
      "KRW-CVC\n",
      "KRW-IQ\n",
      "KRW-IOTA\n",
      "KRW-MFT\n",
      "KRW-ONG\n",
      "KRW-GAS\n",
      "KRW-UPP\n",
      "KRW-ELF\n",
      "KRW-KNC\n",
      "KRW-BSV\n",
      "KRW-THETA\n",
      "KRW-EDR\n",
      "KRW-QKC\n",
      "KRW-BTT\n",
      "KRW-MOC\n",
      "KRW-ENJ\n",
      "KRW-TFUEL\n",
      "KRW-MANA\n",
      "KRW-ANKR\n",
      "KRW-AERGO\n",
      "KRW-ATOM\n",
      "KRW-TT\n",
      "KRW-CRE\n",
      "KRW-MBL\n",
      "KRW-TSHP\n",
      "KRW-WAXP\n",
      "KRW-HBAR\n",
      "KRW-MED\n",
      "KRW-MLK\n",
      "KRW-STPT\n",
      "KRW-ORBS\n",
      "KRW-VET\n",
      "KRW-CHZ\n",
      "KRW-PXL\n",
      "KRW-STMX\n",
      "KRW-DKA\n",
      "KRW-HIVE\n",
      "KRW-KAVA\n",
      "KRW-AHT\n",
      "KRW-LINK\n",
      "KRW-XTZ\n",
      "KRW-BORA\n",
      "KRW-JST\n",
      "KRW-CRO\n",
      "KRW-TON\n",
      "KRW-SXP\n",
      "KRW-LAMB\n",
      "KRW-HUNT\n",
      "KRW-PLA\n",
      "KRW-DOT\n",
      "KRW-SRM\n",
      "KRW-MVL\n",
      "KRW-STRAX\n",
      "KRW-AQT\n",
      "KRW-BCHA\n",
      "KRW-GLM\n",
      "KRW-SSX\n",
      "KRW-META\n",
      "KRW-FCT2\n",
      "KRW-LBC\n",
      "KRW-CBK\n",
      "KRW-SAND\n",
      "KRW-HUM\n",
      "KRW-DOGE\n",
      "KRW-STRK\n",
      "KRW-PUNDIX\n",
      "KRW-FLOW\n",
      "KRW-DAWN\n",
      "KRW-AXS\n",
      "KRW-STX\n"
     ]
    },
    {
     "output_type": "execute_result",
     "data": {
      "text/plain": [
       "      market candle_date_time_utc candle_date_time_kst  opening_price  \\\n",
       "0    KRW-BTC  2021-06-21T17:00:00  2021-06-22T02:00:00       38409000   \n",
       "1    KRW-BTC  2021-06-21T16:30:00  2021-06-22T01:30:00       38795000   \n",
       "2    KRW-BTC  2021-06-21T16:00:00  2021-06-22T01:00:00       38848000   \n",
       "3    KRW-BTC  2021-06-21T15:30:00  2021-06-22T00:30:00       38834000   \n",
       "4    KRW-BTC  2021-06-21T15:00:00  2021-06-22T00:00:00       39121000   \n",
       "..       ...                  ...                  ...            ...   \n",
       "395  KRW-BTC  2021-06-13T12:00:00  2021-06-13T21:00:00       41780000   \n",
       "396  KRW-BTC  2021-06-13T11:30:00  2021-06-13T20:30:00       41850000   \n",
       "397  KRW-BTC  2021-06-13T11:00:00  2021-06-13T20:00:00       41977000   \n",
       "398  KRW-BTC  2021-06-13T10:30:00  2021-06-13T19:30:00       41826000   \n",
       "399  KRW-BTC  2021-06-13T10:00:00  2021-06-13T19:00:00       41814000   \n",
       "\n",
       "     high_price  low_price  trade_price               timestamp  \\\n",
       "0      38453000   38400000     38450000 2021-06-21 17:00:40.036   \n",
       "1      38937000   38325000     38445000 2021-06-21 16:59:58.948   \n",
       "2      39178000   38743000     38785000 2021-06-21 16:30:00.109   \n",
       "3      38982000   38546000     38848000 2021-06-21 15:59:59.637   \n",
       "4      39213000   38834000     38834000 2021-06-21 15:30:00.091   \n",
       "..          ...        ...          ...                     ...   \n",
       "395    42080000   41750000     41754000 2021-06-13 12:29:59.833   \n",
       "396    41869000   41602000     41793000 2021-06-13 11:59:59.271   \n",
       "397    42094000   41768000     41869000 2021-06-13 11:29:58.482   \n",
       "398    42094000   41698000     41977000 2021-06-13 10:59:58.504   \n",
       "399    41851000   41664000     41827000 2021-06-13 10:30:00.086   \n",
       "\n",
       "     candle_acc_trade_price  candle_acc_trade_volume  unit  \n",
       "0              6.858296e+07                 1.784153    30  \n",
       "1              1.275818e+10               331.020746    30  \n",
       "2              7.141557e+09               183.318251    30  \n",
       "3              8.226424e+09               212.108910    30  \n",
       "4              1.046578e+10               268.122493    30  \n",
       "..                      ...                      ...   ...  \n",
       "395            9.967443e+09               237.712285    30  \n",
       "396            6.785132e+09               162.662155    30  \n",
       "397            8.975560e+09               213.904578    30  \n",
       "398            1.338237e+10               319.232730    30  \n",
       "399            6.944607e+09               166.380983    30  \n",
       "\n",
       "[400 rows x 11 columns]"
      ],
      "text/html": "<div>\n<style scoped>\n    .dataframe tbody tr th:only-of-type {\n        vertical-align: middle;\n    }\n\n    .dataframe tbody tr th {\n        vertical-align: top;\n    }\n\n    .dataframe thead th {\n        text-align: right;\n    }\n</style>\n<table border=\"1\" class=\"dataframe\">\n  <thead>\n    <tr style=\"text-align: right;\">\n      <th></th>\n      <th>market</th>\n      <th>candle_date_time_utc</th>\n      <th>candle_date_time_kst</th>\n      <th>opening_price</th>\n      <th>high_price</th>\n      <th>low_price</th>\n      <th>trade_price</th>\n      <th>timestamp</th>\n      <th>candle_acc_trade_price</th>\n      <th>candle_acc_trade_volume</th>\n      <th>unit</th>\n    </tr>\n  </thead>\n  <tbody>\n    <tr>\n      <th>0</th>\n      <td>KRW-BTC</td>\n      <td>2021-06-21T17:00:00</td>\n      <td>2021-06-22T02:00:00</td>\n      <td>38409000</td>\n      <td>38453000</td>\n      <td>38400000</td>\n      <td>38450000</td>\n      <td>2021-06-21 17:00:40.036</td>\n      <td>6.858296e+07</td>\n      <td>1.784153</td>\n      <td>30</td>\n    </tr>\n    <tr>\n      <th>1</th>\n      <td>KRW-BTC</td>\n      <td>2021-06-21T16:30:00</td>\n      <td>2021-06-22T01:30:00</td>\n      <td>38795000</td>\n      <td>38937000</td>\n      <td>38325000</td>\n      <td>38445000</td>\n      <td>2021-06-21 16:59:58.948</td>\n      <td>1.275818e+10</td>\n      <td>331.020746</td>\n      <td>30</td>\n    </tr>\n    <tr>\n      <th>2</th>\n      <td>KRW-BTC</td>\n      <td>2021-06-21T16:00:00</td>\n      <td>2021-06-22T01:00:00</td>\n      <td>38848000</td>\n      <td>39178000</td>\n      <td>38743000</td>\n      <td>38785000</td>\n      <td>2021-06-21 16:30:00.109</td>\n      <td>7.141557e+09</td>\n      <td>183.318251</td>\n      <td>30</td>\n    </tr>\n    <tr>\n      <th>3</th>\n      <td>KRW-BTC</td>\n      <td>2021-06-21T15:30:00</td>\n      <td>2021-06-22T00:30:00</td>\n      <td>38834000</td>\n      <td>38982000</td>\n      <td>38546000</td>\n      <td>38848000</td>\n      <td>2021-06-21 15:59:59.637</td>\n      <td>8.226424e+09</td>\n      <td>212.108910</td>\n      <td>30</td>\n    </tr>\n    <tr>\n      <th>4</th>\n      <td>KRW-BTC</td>\n      <td>2021-06-21T15:00:00</td>\n      <td>2021-06-22T00:00:00</td>\n      <td>39121000</td>\n      <td>39213000</td>\n      <td>38834000</td>\n      <td>38834000</td>\n      <td>2021-06-21 15:30:00.091</td>\n      <td>1.046578e+10</td>\n      <td>268.122493</td>\n      <td>30</td>\n    </tr>\n    <tr>\n      <th>...</th>\n      <td>...</td>\n      <td>...</td>\n      <td>...</td>\n      <td>...</td>\n      <td>...</td>\n      <td>...</td>\n      <td>...</td>\n      <td>...</td>\n      <td>...</td>\n      <td>...</td>\n      <td>...</td>\n    </tr>\n    <tr>\n      <th>395</th>\n      <td>KRW-BTC</td>\n      <td>2021-06-13T12:00:00</td>\n      <td>2021-06-13T21:00:00</td>\n      <td>41780000</td>\n      <td>42080000</td>\n      <td>41750000</td>\n      <td>41754000</td>\n      <td>2021-06-13 12:29:59.833</td>\n      <td>9.967443e+09</td>\n      <td>237.712285</td>\n      <td>30</td>\n    </tr>\n    <tr>\n      <th>396</th>\n      <td>KRW-BTC</td>\n      <td>2021-06-13T11:30:00</td>\n      <td>2021-06-13T20:30:00</td>\n      <td>41850000</td>\n      <td>41869000</td>\n      <td>41602000</td>\n      <td>41793000</td>\n      <td>2021-06-13 11:59:59.271</td>\n      <td>6.785132e+09</td>\n      <td>162.662155</td>\n      <td>30</td>\n    </tr>\n    <tr>\n      <th>397</th>\n      <td>KRW-BTC</td>\n      <td>2021-06-13T11:00:00</td>\n      <td>2021-06-13T20:00:00</td>\n      <td>41977000</td>\n      <td>42094000</td>\n      <td>41768000</td>\n      <td>41869000</td>\n      <td>2021-06-13 11:29:58.482</td>\n      <td>8.975560e+09</td>\n      <td>213.904578</td>\n      <td>30</td>\n    </tr>\n    <tr>\n      <th>398</th>\n      <td>KRW-BTC</td>\n      <td>2021-06-13T10:30:00</td>\n      <td>2021-06-13T19:30:00</td>\n      <td>41826000</td>\n      <td>42094000</td>\n      <td>41698000</td>\n      <td>41977000</td>\n      <td>2021-06-13 10:59:58.504</td>\n      <td>1.338237e+10</td>\n      <td>319.232730</td>\n      <td>30</td>\n    </tr>\n    <tr>\n      <th>399</th>\n      <td>KRW-BTC</td>\n      <td>2021-06-13T10:00:00</td>\n      <td>2021-06-13T19:00:00</td>\n      <td>41814000</td>\n      <td>41851000</td>\n      <td>41664000</td>\n      <td>41827000</td>\n      <td>2021-06-13 10:30:00.086</td>\n      <td>6.944607e+09</td>\n      <td>166.380983</td>\n      <td>30</td>\n    </tr>\n  </tbody>\n</table>\n<p>400 rows × 11 columns</p>\n</div>"
     },
     "metadata": {},
     "execution_count": 50
    }
   ],
   "source": [
    "df = {}\n",
    "for coin in coins:\n",
    "    print(coin)\n",
    "    df[coin] = getCoinInfo.getCoinDF(coin,30,200,size=24*2*7)\n",
    "  \n",
    "df['KRW-BTC']"
   ]
  },
  {
   "cell_type": "code",
   "execution_count": 51,
   "metadata": {},
   "outputs": [],
   "source": [
    "for coin in coins:\n",
    "    df[coin] = df[coin].loc[::-1,:]\n",
    "    df[coin] = df[coin].reset_index()\n",
    "    df[coin].drop('index',inplace=True,axis=1)"
   ]
  },
  {
   "cell_type": "code",
   "execution_count": 52,
   "metadata": {},
   "outputs": [
    {
     "output_type": "execute_result",
     "data": {
      "text/plain": [
       "        market candle_date_time_utc candle_date_time_kst  opening_price  \\\n",
       "0    KRW-TFUEL  2021-06-13T10:00:00  2021-06-13T19:00:00            600   \n",
       "1    KRW-TFUEL  2021-06-13T10:30:00  2021-06-13T19:30:00            599   \n",
       "2    KRW-TFUEL  2021-06-13T11:00:00  2021-06-13T20:00:00            624   \n",
       "3    KRW-TFUEL  2021-06-13T11:30:00  2021-06-13T20:30:00            599   \n",
       "4    KRW-TFUEL  2021-06-13T12:00:00  2021-06-13T21:00:00            591   \n",
       "..         ...                  ...                  ...            ...   \n",
       "395  KRW-TFUEL  2021-06-21T15:00:00  2021-06-22T00:00:00            654   \n",
       "396  KRW-TFUEL  2021-06-21T15:30:00  2021-06-22T00:30:00            646   \n",
       "397  KRW-TFUEL  2021-06-21T16:00:00  2021-06-22T01:00:00            641   \n",
       "398  KRW-TFUEL  2021-06-21T16:30:00  2021-06-22T01:30:00            634   \n",
       "399  KRW-TFUEL  2021-06-21T17:00:00  2021-06-22T02:00:00            624   \n",
       "\n",
       "     high_price  low_price  trade_price               timestamp  \\\n",
       "0           603        586          599 2021-06-13 10:29:59.965   \n",
       "1           631        595          623 2021-06-13 11:00:01.286   \n",
       "2           628        597          599 2021-06-13 11:29:59.658   \n",
       "3           609        590          591 2021-06-13 12:00:00.375   \n",
       "4           604        589          592 2021-06-13 12:29:59.729   \n",
       "..          ...        ...          ...                     ...   \n",
       "395         656        646          646 2021-06-21 15:29:59.671   \n",
       "396         647        635          642 2021-06-21 16:00:00.072   \n",
       "397         648        634          634 2021-06-21 16:29:59.353   \n",
       "398         635        623          624 2021-06-21 17:00:00.138   \n",
       "399         625        623          624 2021-06-21 17:00:50.736   \n",
       "\n",
       "     candle_acc_trade_price  candle_acc_trade_volume  unit  \n",
       "0              1.231782e+10             2.072155e+07    30  \n",
       "1              4.056430e+10             6.573198e+07    30  \n",
       "2              2.373401e+10             3.883183e+07    30  \n",
       "3              1.471601e+10             2.461480e+07    30  \n",
       "4              8.363704e+09             1.405062e+07    30  \n",
       "..                      ...                      ...   ...  \n",
       "395            3.691077e+09             5.670566e+06    30  \n",
       "396            3.957041e+09             6.171581e+06    30  \n",
       "397            2.639964e+09             4.115462e+06    30  \n",
       "398            3.157243e+09             5.014800e+06    30  \n",
       "399            3.764115e+07             6.032468e+04    30  \n",
       "\n",
       "[400 rows x 11 columns]"
      ],
      "text/html": "<div>\n<style scoped>\n    .dataframe tbody tr th:only-of-type {\n        vertical-align: middle;\n    }\n\n    .dataframe tbody tr th {\n        vertical-align: top;\n    }\n\n    .dataframe thead th {\n        text-align: right;\n    }\n</style>\n<table border=\"1\" class=\"dataframe\">\n  <thead>\n    <tr style=\"text-align: right;\">\n      <th></th>\n      <th>market</th>\n      <th>candle_date_time_utc</th>\n      <th>candle_date_time_kst</th>\n      <th>opening_price</th>\n      <th>high_price</th>\n      <th>low_price</th>\n      <th>trade_price</th>\n      <th>timestamp</th>\n      <th>candle_acc_trade_price</th>\n      <th>candle_acc_trade_volume</th>\n      <th>unit</th>\n    </tr>\n  </thead>\n  <tbody>\n    <tr>\n      <th>0</th>\n      <td>KRW-TFUEL</td>\n      <td>2021-06-13T10:00:00</td>\n      <td>2021-06-13T19:00:00</td>\n      <td>600</td>\n      <td>603</td>\n      <td>586</td>\n      <td>599</td>\n      <td>2021-06-13 10:29:59.965</td>\n      <td>1.231782e+10</td>\n      <td>2.072155e+07</td>\n      <td>30</td>\n    </tr>\n    <tr>\n      <th>1</th>\n      <td>KRW-TFUEL</td>\n      <td>2021-06-13T10:30:00</td>\n      <td>2021-06-13T19:30:00</td>\n      <td>599</td>\n      <td>631</td>\n      <td>595</td>\n      <td>623</td>\n      <td>2021-06-13 11:00:01.286</td>\n      <td>4.056430e+10</td>\n      <td>6.573198e+07</td>\n      <td>30</td>\n    </tr>\n    <tr>\n      <th>2</th>\n      <td>KRW-TFUEL</td>\n      <td>2021-06-13T11:00:00</td>\n      <td>2021-06-13T20:00:00</td>\n      <td>624</td>\n      <td>628</td>\n      <td>597</td>\n      <td>599</td>\n      <td>2021-06-13 11:29:59.658</td>\n      <td>2.373401e+10</td>\n      <td>3.883183e+07</td>\n      <td>30</td>\n    </tr>\n    <tr>\n      <th>3</th>\n      <td>KRW-TFUEL</td>\n      <td>2021-06-13T11:30:00</td>\n      <td>2021-06-13T20:30:00</td>\n      <td>599</td>\n      <td>609</td>\n      <td>590</td>\n      <td>591</td>\n      <td>2021-06-13 12:00:00.375</td>\n      <td>1.471601e+10</td>\n      <td>2.461480e+07</td>\n      <td>30</td>\n    </tr>\n    <tr>\n      <th>4</th>\n      <td>KRW-TFUEL</td>\n      <td>2021-06-13T12:00:00</td>\n      <td>2021-06-13T21:00:00</td>\n      <td>591</td>\n      <td>604</td>\n      <td>589</td>\n      <td>592</td>\n      <td>2021-06-13 12:29:59.729</td>\n      <td>8.363704e+09</td>\n      <td>1.405062e+07</td>\n      <td>30</td>\n    </tr>\n    <tr>\n      <th>...</th>\n      <td>...</td>\n      <td>...</td>\n      <td>...</td>\n      <td>...</td>\n      <td>...</td>\n      <td>...</td>\n      <td>...</td>\n      <td>...</td>\n      <td>...</td>\n      <td>...</td>\n      <td>...</td>\n    </tr>\n    <tr>\n      <th>395</th>\n      <td>KRW-TFUEL</td>\n      <td>2021-06-21T15:00:00</td>\n      <td>2021-06-22T00:00:00</td>\n      <td>654</td>\n      <td>656</td>\n      <td>646</td>\n      <td>646</td>\n      <td>2021-06-21 15:29:59.671</td>\n      <td>3.691077e+09</td>\n      <td>5.670566e+06</td>\n      <td>30</td>\n    </tr>\n    <tr>\n      <th>396</th>\n      <td>KRW-TFUEL</td>\n      <td>2021-06-21T15:30:00</td>\n      <td>2021-06-22T00:30:00</td>\n      <td>646</td>\n      <td>647</td>\n      <td>635</td>\n      <td>642</td>\n      <td>2021-06-21 16:00:00.072</td>\n      <td>3.957041e+09</td>\n      <td>6.171581e+06</td>\n      <td>30</td>\n    </tr>\n    <tr>\n      <th>397</th>\n      <td>KRW-TFUEL</td>\n      <td>2021-06-21T16:00:00</td>\n      <td>2021-06-22T01:00:00</td>\n      <td>641</td>\n      <td>648</td>\n      <td>634</td>\n      <td>634</td>\n      <td>2021-06-21 16:29:59.353</td>\n      <td>2.639964e+09</td>\n      <td>4.115462e+06</td>\n      <td>30</td>\n    </tr>\n    <tr>\n      <th>398</th>\n      <td>KRW-TFUEL</td>\n      <td>2021-06-21T16:30:00</td>\n      <td>2021-06-22T01:30:00</td>\n      <td>634</td>\n      <td>635</td>\n      <td>623</td>\n      <td>624</td>\n      <td>2021-06-21 17:00:00.138</td>\n      <td>3.157243e+09</td>\n      <td>5.014800e+06</td>\n      <td>30</td>\n    </tr>\n    <tr>\n      <th>399</th>\n      <td>KRW-TFUEL</td>\n      <td>2021-06-21T17:00:00</td>\n      <td>2021-06-22T02:00:00</td>\n      <td>624</td>\n      <td>625</td>\n      <td>623</td>\n      <td>624</td>\n      <td>2021-06-21 17:00:50.736</td>\n      <td>3.764115e+07</td>\n      <td>6.032468e+04</td>\n      <td>30</td>\n    </tr>\n  </tbody>\n</table>\n<p>400 rows × 11 columns</p>\n</div>"
     },
     "metadata": {},
     "execution_count": 52
    }
   ],
   "source": [
    "df['KRW-TFUEL']"
   ]
  },
  {
   "cell_type": "code",
   "execution_count": 53,
   "metadata": {},
   "outputs": [],
   "source": [
    "df_tier = pd.DataFrame(columns=['coin','rate','trade_price'])\n",
    "df_tier['coin'] = coins\n",
    "df_tier.set_index('coin',inplace=True)"
   ]
  },
  {
   "cell_type": "code",
   "execution_count": 54,
   "metadata": {},
   "outputs": [
    {
     "output_type": "execute_result",
     "data": {
      "text/plain": [
       "                rate trade_price    tier_val\n",
       "coin                                        \n",
       "KRW-SXP    16.301703    3.819793  166.836825\n",
       "KRW-WAVES   8.440797    6.533199   90.941171\n",
       "KRW-TFUEL        4.0   48.147197   88.147197\n",
       "KRW-RFR     4.406365    3.690039   47.753686\n",
       "KRW-BTC    -8.045152  125.006745   44.555222\n",
       "KRW-MVL    -1.923077    9.600185   -9.630584\n",
       "KRW-HBAR   -4.166667     1.41117  -40.255497\n",
       "KRW-AXS    -4.252874     1.76509  -40.763646\n",
       "KRW-KAVA   -5.529954    1.889495  -53.410044\n",
       "KRW-UPP    -7.253886    7.658134  -64.880726\n",
       "KRW-AHT    -8.528198     5.40251  -79.879471\n",
       "KRW-ETH   -16.442831   84.228758  -80.199554\n",
       "KRW-THETA  -9.706191    4.844914  -92.216996\n",
       "KRW-CHZ   -11.801242   24.123716  -93.888707\n",
       "KRW-ADA   -10.946746    14.91733  -94.550126\n",
       "KRW-ICX    -9.904762    1.075675  -97.971944\n",
       "KRW-WAXP   -10.37037    0.682312 -103.021391\n",
       "KRW-KNC   -10.621762    1.066152 -105.151465\n",
       "KRW-XRP    -18.78225    82.22401 -105.598487\n",
       "KRW-GLM   -10.616438    0.359623 -105.804761"
      ],
      "text/html": "<div>\n<style scoped>\n    .dataframe tbody tr th:only-of-type {\n        vertical-align: middle;\n    }\n\n    .dataframe tbody tr th {\n        vertical-align: top;\n    }\n\n    .dataframe thead th {\n        text-align: right;\n    }\n</style>\n<table border=\"1\" class=\"dataframe\">\n  <thead>\n    <tr style=\"text-align: right;\">\n      <th></th>\n      <th>rate</th>\n      <th>trade_price</th>\n      <th>tier_val</th>\n    </tr>\n    <tr>\n      <th>coin</th>\n      <th></th>\n      <th></th>\n      <th></th>\n    </tr>\n  </thead>\n  <tbody>\n    <tr>\n      <th>KRW-SXP</th>\n      <td>16.301703</td>\n      <td>3.819793</td>\n      <td>166.836825</td>\n    </tr>\n    <tr>\n      <th>KRW-WAVES</th>\n      <td>8.440797</td>\n      <td>6.533199</td>\n      <td>90.941171</td>\n    </tr>\n    <tr>\n      <th>KRW-TFUEL</th>\n      <td>4.0</td>\n      <td>48.147197</td>\n      <td>88.147197</td>\n    </tr>\n    <tr>\n      <th>KRW-RFR</th>\n      <td>4.406365</td>\n      <td>3.690039</td>\n      <td>47.753686</td>\n    </tr>\n    <tr>\n      <th>KRW-BTC</th>\n      <td>-8.045152</td>\n      <td>125.006745</td>\n      <td>44.555222</td>\n    </tr>\n    <tr>\n      <th>KRW-MVL</th>\n      <td>-1.923077</td>\n      <td>9.600185</td>\n      <td>-9.630584</td>\n    </tr>\n    <tr>\n      <th>KRW-HBAR</th>\n      <td>-4.166667</td>\n      <td>1.41117</td>\n      <td>-40.255497</td>\n    </tr>\n    <tr>\n      <th>KRW-AXS</th>\n      <td>-4.252874</td>\n      <td>1.76509</td>\n      <td>-40.763646</td>\n    </tr>\n    <tr>\n      <th>KRW-KAVA</th>\n      <td>-5.529954</td>\n      <td>1.889495</td>\n      <td>-53.410044</td>\n    </tr>\n    <tr>\n      <th>KRW-UPP</th>\n      <td>-7.253886</td>\n      <td>7.658134</td>\n      <td>-64.880726</td>\n    </tr>\n    <tr>\n      <th>KRW-AHT</th>\n      <td>-8.528198</td>\n      <td>5.40251</td>\n      <td>-79.879471</td>\n    </tr>\n    <tr>\n      <th>KRW-ETH</th>\n      <td>-16.442831</td>\n      <td>84.228758</td>\n      <td>-80.199554</td>\n    </tr>\n    <tr>\n      <th>KRW-THETA</th>\n      <td>-9.706191</td>\n      <td>4.844914</td>\n      <td>-92.216996</td>\n    </tr>\n    <tr>\n      <th>KRW-CHZ</th>\n      <td>-11.801242</td>\n      <td>24.123716</td>\n      <td>-93.888707</td>\n    </tr>\n    <tr>\n      <th>KRW-ADA</th>\n      <td>-10.946746</td>\n      <td>14.91733</td>\n      <td>-94.550126</td>\n    </tr>\n    <tr>\n      <th>KRW-ICX</th>\n      <td>-9.904762</td>\n      <td>1.075675</td>\n      <td>-97.971944</td>\n    </tr>\n    <tr>\n      <th>KRW-WAXP</th>\n      <td>-10.37037</td>\n      <td>0.682312</td>\n      <td>-103.021391</td>\n    </tr>\n    <tr>\n      <th>KRW-KNC</th>\n      <td>-10.621762</td>\n      <td>1.066152</td>\n      <td>-105.151465</td>\n    </tr>\n    <tr>\n      <th>KRW-XRP</th>\n      <td>-18.78225</td>\n      <td>82.22401</td>\n      <td>-105.598487</td>\n    </tr>\n    <tr>\n      <th>KRW-GLM</th>\n      <td>-10.616438</td>\n      <td>0.359623</td>\n      <td>-105.804761</td>\n    </tr>\n  </tbody>\n</table>\n</div>"
     },
     "metadata": {},
     "execution_count": 54
    }
   ],
   "source": [
    "for coin in coins:\n",
    "    df_tier['rate'].loc[coin]= (df[coin]['trade_price'].loc[len(df[coin])-1] - df[coin]['opening_price'].loc[0])/df[coin]['opening_price'].loc[0] * 100\n",
    "    df_tier['trade_price'].loc[coin] = df[coin]['candle_acc_trade_price'].mean()/pow(10,8)\n",
    "    df_tier['tier_val'] = 10*df_tier['rate'] + df_tier['trade_price']\n",
    "df_tier = df_tier.sort_values(by='tier_val',ascending=False)\n",
    "df_tier[:20]"
   ]
  },
  {
   "cell_type": "code",
   "execution_count": 55,
   "metadata": {},
   "outputs": [
    {
     "output_type": "execute_result",
     "data": {
      "text/plain": [
       "                rate trade_price    tier_val  tier\n",
       "coin                                              \n",
       "KRW-SXP    16.301703    3.819793  166.836825     0\n",
       "KRW-WAVES   8.440797    6.533199   90.941171     1\n",
       "KRW-TFUEL        4.0   48.147197   88.147197     1\n",
       "KRW-RFR     4.406365    3.690039   47.753686     1\n",
       "KRW-BTC    -8.045152  125.006745   44.555222     1\n",
       "KRW-UPP    -7.253886    7.658134  -64.880726     2\n",
       "KRW-AXS    -4.252874     1.76509  -40.763646     2\n",
       "KRW-KAVA   -5.529954    1.889495  -53.410044     2\n",
       "KRW-MVL    -1.923077    9.600185   -9.630584     2\n",
       "KRW-HBAR   -4.166667     1.41117  -40.255497     2\n",
       "KRW-GLM   -10.616438    0.359623 -105.804761     3\n",
       "KRW-SRM   -12.853774    1.015461 -127.522275     3\n",
       "KRW-ATOM  -12.481858    0.908517 -123.910061     3\n",
       "KRW-TRX   -12.262958    3.029262  -119.60032     3\n",
       "KRW-XTZ   -11.921459     1.50698 -117.707607     3\n",
       "KRW-ZIL   -11.403509    1.541986 -112.493102     3\n",
       "KRW-LINK  -11.378467    7.199011 -106.585654     3\n",
       "KRW-XRP    -18.78225    82.22401 -105.598487     3\n",
       "KRW-ENJ   -13.058419    2.720856 -127.863337     3\n",
       "KRW-WAXP   -10.37037    0.682312 -103.021391     3"
      ],
      "text/html": "<div>\n<style scoped>\n    .dataframe tbody tr th:only-of-type {\n        vertical-align: middle;\n    }\n\n    .dataframe tbody tr th {\n        vertical-align: top;\n    }\n\n    .dataframe thead th {\n        text-align: right;\n    }\n</style>\n<table border=\"1\" class=\"dataframe\">\n  <thead>\n    <tr style=\"text-align: right;\">\n      <th></th>\n      <th>rate</th>\n      <th>trade_price</th>\n      <th>tier_val</th>\n      <th>tier</th>\n    </tr>\n    <tr>\n      <th>coin</th>\n      <th></th>\n      <th></th>\n      <th></th>\n      <th></th>\n    </tr>\n  </thead>\n  <tbody>\n    <tr>\n      <th>KRW-SXP</th>\n      <td>16.301703</td>\n      <td>3.819793</td>\n      <td>166.836825</td>\n      <td>0</td>\n    </tr>\n    <tr>\n      <th>KRW-WAVES</th>\n      <td>8.440797</td>\n      <td>6.533199</td>\n      <td>90.941171</td>\n      <td>1</td>\n    </tr>\n    <tr>\n      <th>KRW-TFUEL</th>\n      <td>4.0</td>\n      <td>48.147197</td>\n      <td>88.147197</td>\n      <td>1</td>\n    </tr>\n    <tr>\n      <th>KRW-RFR</th>\n      <td>4.406365</td>\n      <td>3.690039</td>\n      <td>47.753686</td>\n      <td>1</td>\n    </tr>\n    <tr>\n      <th>KRW-BTC</th>\n      <td>-8.045152</td>\n      <td>125.006745</td>\n      <td>44.555222</td>\n      <td>1</td>\n    </tr>\n    <tr>\n      <th>KRW-UPP</th>\n      <td>-7.253886</td>\n      <td>7.658134</td>\n      <td>-64.880726</td>\n      <td>2</td>\n    </tr>\n    <tr>\n      <th>KRW-AXS</th>\n      <td>-4.252874</td>\n      <td>1.76509</td>\n      <td>-40.763646</td>\n      <td>2</td>\n    </tr>\n    <tr>\n      <th>KRW-KAVA</th>\n      <td>-5.529954</td>\n      <td>1.889495</td>\n      <td>-53.410044</td>\n      <td>2</td>\n    </tr>\n    <tr>\n      <th>KRW-MVL</th>\n      <td>-1.923077</td>\n      <td>9.600185</td>\n      <td>-9.630584</td>\n      <td>2</td>\n    </tr>\n    <tr>\n      <th>KRW-HBAR</th>\n      <td>-4.166667</td>\n      <td>1.41117</td>\n      <td>-40.255497</td>\n      <td>2</td>\n    </tr>\n    <tr>\n      <th>KRW-GLM</th>\n      <td>-10.616438</td>\n      <td>0.359623</td>\n      <td>-105.804761</td>\n      <td>3</td>\n    </tr>\n    <tr>\n      <th>KRW-SRM</th>\n      <td>-12.853774</td>\n      <td>1.015461</td>\n      <td>-127.522275</td>\n      <td>3</td>\n    </tr>\n    <tr>\n      <th>KRW-ATOM</th>\n      <td>-12.481858</td>\n      <td>0.908517</td>\n      <td>-123.910061</td>\n      <td>3</td>\n    </tr>\n    <tr>\n      <th>KRW-TRX</th>\n      <td>-12.262958</td>\n      <td>3.029262</td>\n      <td>-119.60032</td>\n      <td>3</td>\n    </tr>\n    <tr>\n      <th>KRW-XTZ</th>\n      <td>-11.921459</td>\n      <td>1.50698</td>\n      <td>-117.707607</td>\n      <td>3</td>\n    </tr>\n    <tr>\n      <th>KRW-ZIL</th>\n      <td>-11.403509</td>\n      <td>1.541986</td>\n      <td>-112.493102</td>\n      <td>3</td>\n    </tr>\n    <tr>\n      <th>KRW-LINK</th>\n      <td>-11.378467</td>\n      <td>7.199011</td>\n      <td>-106.585654</td>\n      <td>3</td>\n    </tr>\n    <tr>\n      <th>KRW-XRP</th>\n      <td>-18.78225</td>\n      <td>82.22401</td>\n      <td>-105.598487</td>\n      <td>3</td>\n    </tr>\n    <tr>\n      <th>KRW-ENJ</th>\n      <td>-13.058419</td>\n      <td>2.720856</td>\n      <td>-127.863337</td>\n      <td>3</td>\n    </tr>\n    <tr>\n      <th>KRW-WAXP</th>\n      <td>-10.37037</td>\n      <td>0.682312</td>\n      <td>-103.021391</td>\n      <td>3</td>\n    </tr>\n  </tbody>\n</table>\n</div>"
     },
     "metadata": {},
     "execution_count": 55
    }
   ],
   "source": [
    "import sklearn\n",
    "from sklearn.cluster import KMeans\n",
    "kmeans = KMeans(n_clusters=10, random_state=0).fit(df_tier[['tier_val']])\n",
    "df_tier['tier'] = kmeans.labels_\n",
    "\n",
    "\n",
    "tier_dict = {}\n",
    "tier_num = 0\n",
    "\n",
    "global tier_num\n",
    "\n",
    "def getTier(x,tier_dict):\n",
    "    global tier_num\n",
    "    if not tier_dict.get(x):\n",
    "        tier_dict[x] = tier_num\n",
    "        tier_num+=1\n",
    "    return tier_dict[x]\n",
    "\n",
    "df_tier['tier']=df_tier['tier'].map(lambda x : getTier(x,tier_dict))\n",
    "df_tier = df_tier.sort_values(by='tier')\n",
    "df_tier[:20]"
   ]
  },
  {
   "cell_type": "code",
   "execution_count": 56,
   "metadata": {},
   "outputs": [
    {
     "output_type": "execute_result",
     "data": {
      "text/plain": [
       "<AxesSubplot:xlabel='rate', ylabel='trade_price'>"
      ]
     },
     "metadata": {},
     "execution_count": 56
    },
    {
     "output_type": "display_data",
     "data": {
      "text/plain": "<Figure size 842.4x595.44 with 1 Axes>",
      "image/svg+xml": "<?xml version=\"1.0\" encoding=\"utf-8\" standalone=\"no\"?>\r\n<!DOCTYPE svg PUBLIC \"-//W3C//DTD SVG 1.1//EN\"\r\n  \"http://www.w3.org/Graphics/SVG/1.1/DTD/svg11.dtd\">\r\n<svg height=\"494.31345pt\" version=\"1.1\" viewBox=\"0 0 707.30375 494.31345\" width=\"707.30375pt\" xmlns=\"http://www.w3.org/2000/svg\" xmlns:xlink=\"http://www.w3.org/1999/xlink\">\r\n <metadata>\r\n  <rdf:RDF xmlns:cc=\"http://creativecommons.org/ns#\" xmlns:dc=\"http://purl.org/dc/elements/1.1/\" xmlns:rdf=\"http://www.w3.org/1999/02/22-rdf-syntax-ns#\">\r\n   <cc:Work>\r\n    <dc:type rdf:resource=\"http://purl.org/dc/dcmitype/StillImage\"/>\r\n    <dc:date>2021-06-22T02:01:03.678755</dc:date>\r\n    <dc:format>image/svg+xml</dc:format>\r\n    <dc:creator>\r\n     <cc:Agent>\r\n      <dc:title>Matplotlib v3.4.2, https://matplotlib.org/</dc:title>\r\n     </cc:Agent>\r\n    </dc:creator>\r\n   </cc:Work>\r\n  </rdf:RDF>\r\n </metadata>\r\n <defs>\r\n  <style type=\"text/css\">*{stroke-linecap:butt;stroke-linejoin:round;}</style>\r\n </defs>\r\n <g id=\"figure_1\">\r\n  <g id=\"patch_1\">\r\n   <path d=\"M 0 494.31345 \r\nL 707.30375 494.31345 \r\nL 707.30375 0 \r\nL 0 0 \r\nz\r\n\" style=\"fill:none;\"/>\r\n  </g>\r\n  <g id=\"axes_1\">\r\n   <g id=\"patch_2\">\r\n    <path d=\"M 47.24375 456.7572 \r\nL 700.10375 456.7572 \r\nL 700.10375 7.2 \r\nL 47.24375 7.2 \r\nz\r\n\" style=\"fill:#ffffff;\"/>\r\n   </g>\r\n   <g id=\"PathCollection_1\">\r\n    <defs>\r\n     <path d=\"M 0 3 \r\nC 0.795609 3 1.55874 2.683901 2.12132 2.12132 \r\nC 2.683901 1.55874 3 0.795609 3 -0 \r\nC 3 -0.795609 2.683901 -1.55874 2.12132 -2.12132 \r\nC 1.55874 -2.683901 0.795609 -3 0 -3 \r\nC -0.795609 -3 -1.55874 -2.683901 -2.12132 -2.12132 \r\nC -2.683901 -1.55874 -3 -0.795609 -3 0 \r\nC -3 0.795609 -2.683901 1.55874 -2.12132 2.12132 \r\nC -1.55874 2.683901 -0.795609 3 0 3 \r\nz\r\n\" id=\"C0_0_4eaf0f7a52\"/>\r\n    </defs>\r\n    <g clip-path=\"url(#pd145cd8170)\">\r\n     <use style=\"fill:#66c2a5;stroke:#ffffff;stroke-width:0.48;\" x=\"670.428295\" xlink:href=\"#C0_0_4eaf0f7a52\" y=\"424.853249\"/>\r\n    </g>\r\n    <g clip-path=\"url(#pd145cd8170)\">\r\n     <use style=\"fill:#fc8d62;stroke:#ffffff;stroke-width:0.48;\" x=\"591.935682\" xlink:href=\"#C0_0_4eaf0f7a52\" y=\"415.959423\"/>\r\n    </g>\r\n    <g clip-path=\"url(#pd145cd8170)\">\r\n     <use style=\"fill:#fc8d62;stroke:#ffffff;stroke-width:0.48;\" x=\"547.593493\" xlink:href=\"#C0_0_4eaf0f7a52\" y=\"279.559726\"/>\r\n    </g>\r\n    <g clip-path=\"url(#pd145cd8170)\">\r\n     <use style=\"fill:#fc8d62;stroke:#ffffff;stroke-width:0.48;\" x=\"551.651121\" xlink:href=\"#C0_0_4eaf0f7a52\" y=\"425.278551\"/>\r\n    </g>\r\n    <g clip-path=\"url(#pd145cd8170)\">\r\n     <use style=\"fill:#fc8d62;stroke:#ffffff;stroke-width:0.48;\" x=\"427.320399\" xlink:href=\"#C0_0_4eaf0f7a52\" y=\"27.634418\"/>\r\n    </g>\r\n    <g clip-path=\"url(#pd145cd8170)\">\r\n     <use style=\"fill:#8da0cb;stroke:#ffffff;stroke-width:0.48;\" x=\"435.221341\" xlink:href=\"#C0_0_4eaf0f7a52\" y=\"412.272183\"/>\r\n    </g>\r\n    <g clip-path=\"url(#pd145cd8170)\">\r\n     <use style=\"fill:#8da0cb;stroke:#ffffff;stroke-width:0.48;\" x=\"465.18701\" xlink:href=\"#C0_0_4eaf0f7a52\" y=\"431.588024\"/>\r\n    </g>\r\n    <g clip-path=\"url(#pd145cd8170)\">\r\n     <use style=\"fill:#8da0cb;stroke:#ffffff;stroke-width:0.48;\" x=\"452.435125\" xlink:href=\"#C0_0_4eaf0f7a52\" y=\"431.180257\"/>\r\n    </g>\r\n    <g clip-path=\"url(#pd145cd8170)\">\r\n     <use style=\"fill:#8da0cb;stroke:#ffffff;stroke-width:0.48;\" x=\"488.450465\" xlink:href=\"#C0_0_4eaf0f7a52\" y=\"405.906651\"/>\r\n    </g>\r\n    <g clip-path=\"url(#pd145cd8170)\">\r\n     <use style=\"fill:#8da0cb;stroke:#ffffff;stroke-width:0.48;\" x=\"466.047802\" xlink:href=\"#C0_0_4eaf0f7a52\" y=\"432.748083\"/>\r\n    </g>\r\n    <g clip-path=\"url(#pd145cd8170)\">\r\n     <use style=\"fill:#e78ac3;stroke:#ffffff;stroke-width:0.48;\" x=\"401.645628\" xlink:href=\"#C0_0_4eaf0f7a52\" y=\"436.194776\"/>\r\n    </g>\r\n    <g clip-path=\"url(#pd145cd8170)\">\r\n     <use style=\"fill:#e78ac3;stroke:#ffffff;stroke-width:0.48;\" x=\"379.305418\" xlink:href=\"#C0_0_4eaf0f7a52\" y=\"434.045111\"/>\r\n    </g>\r\n    <g clip-path=\"url(#pd145cd8170)\">\r\n     <use style=\"fill:#e78ac3;stroke:#ffffff;stroke-width:0.48;\" x=\"383.019067\" xlink:href=\"#C0_0_4eaf0f7a52\" y=\"434.395646\"/>\r\n    </g>\r\n    <g clip-path=\"url(#pd145cd8170)\">\r\n     <use style=\"fill:#e78ac3;stroke:#ffffff;stroke-width:0.48;\" x=\"385.204819\" xlink:href=\"#C0_0_4eaf0f7a52\" y=\"427.444401\"/>\r\n    </g>\r\n    <g clip-path=\"url(#pd145cd8170)\">\r\n     <use style=\"fill:#e78ac3;stroke:#ffffff;stroke-width:0.48;\" x=\"388.614757\" xlink:href=\"#C0_0_4eaf0f7a52\" y=\"432.434042\"/>\r\n    </g>\r\n    <g clip-path=\"url(#pd145cd8170)\">\r\n     <use style=\"fill:#e78ac3;stroke:#ffffff;stroke-width:0.48;\" x=\"393.786583\" xlink:href=\"#C0_0_4eaf0f7a52\" y=\"432.319301\"/>\r\n    </g>\r\n    <g clip-path=\"url(#pd145cd8170)\">\r\n     <use style=\"fill:#e78ac3;stroke:#ffffff;stroke-width:0.48;\" x=\"394.036634\" xlink:href=\"#C0_0_4eaf0f7a52\" y=\"413.777065\"/>\r\n    </g>\r\n    <g clip-path=\"url(#pd145cd8170)\">\r\n     <use style=\"fill:#e78ac3;stroke:#ffffff;stroke-width:0.48;\" x=\"320.108477\" xlink:href=\"#C0_0_4eaf0f7a52\" y=\"167.864928\"/>\r\n    </g>\r\n    <g clip-path=\"url(#pd145cd8170)\">\r\n     <use style=\"fill:#e78ac3;stroke:#ffffff;stroke-width:0.48;\" x=\"377.261993\" xlink:href=\"#C0_0_4eaf0f7a52\" y=\"428.455277\"/>\r\n    </g>\r\n    <g clip-path=\"url(#pd145cd8170)\">\r\n     <use style=\"fill:#e78ac3;stroke:#ffffff;stroke-width:0.48;\" x=\"404.102663\" xlink:href=\"#C0_0_4eaf0f7a52\" y=\"435.137084\"/>\r\n    </g>\r\n    <g clip-path=\"url(#pd145cd8170)\">\r\n     <use style=\"fill:#e78ac3;stroke:#ffffff;stroke-width:0.48;\" x=\"422.497097\" xlink:href=\"#C0_0_4eaf0f7a52\" y=\"419.665523\"/>\r\n    </g>\r\n    <g clip-path=\"url(#pd145cd8170)\">\r\n     <use style=\"fill:#e78ac3;stroke:#ffffff;stroke-width:0.48;\" x=\"343.468008\" xlink:href=\"#C0_0_4eaf0f7a52\" y=\"161.293893\"/>\r\n    </g>\r\n    <g clip-path=\"url(#pd145cd8170)\">\r\n     <use style=\"fill:#e78ac3;stroke:#ffffff;stroke-width:0.48;\" x=\"410.734618\" xlink:href=\"#C0_0_4eaf0f7a52\" y=\"421.493176\"/>\r\n    </g>\r\n    <g clip-path=\"url(#pd145cd8170)\">\r\n     <use style=\"fill:#e78ac3;stroke:#ffffff;stroke-width:0.48;\" x=\"401.592474\" xlink:href=\"#C0_0_4eaf0f7a52\" y=\"433.878959\"/>\r\n    </g>\r\n    <g clip-path=\"url(#pd145cd8170)\">\r\n     <use style=\"fill:#e78ac3;stroke:#ffffff;stroke-width:0.48;\" x=\"398.347449\" xlink:href=\"#C0_0_4eaf0f7a52\" y=\"388.478456\"/>\r\n    </g>\r\n    <g clip-path=\"url(#pd145cd8170)\">\r\n     <use style=\"fill:#e78ac3;stroke:#ffffff;stroke-width:0.48;\" x=\"408.75185\" xlink:href=\"#C0_0_4eaf0f7a52\" y=\"433.847746\"/>\r\n    </g>\r\n    <g clip-path=\"url(#pd145cd8170)\">\r\n     <use style=\"fill:#e78ac3;stroke:#ffffff;stroke-width:0.48;\" x=\"389.81514\" xlink:href=\"#C0_0_4eaf0f7a52\" y=\"358.302353\"/>\r\n    </g>\r\n    <g clip-path=\"url(#pd145cd8170)\">\r\n     <use style=\"fill:#a6d854;stroke:#ffffff;stroke-width:0.48;\" x=\"303.038266\" xlink:href=\"#C0_0_4eaf0f7a52\" y=\"379.905405\"/>\r\n    </g>\r\n    <g clip-path=\"url(#pd145cd8170)\">\r\n     <use style=\"fill:#a6d854;stroke:#ffffff;stroke-width:0.48;\" x=\"337.511121\" xlink:href=\"#C0_0_4eaf0f7a52\" y=\"430.483546\"/>\r\n    </g>\r\n    <g clip-path=\"url(#pd145cd8170)\">\r\n     <use style=\"fill:#a6d854;stroke:#ffffff;stroke-width:0.48;\" x=\"317.287677\" xlink:href=\"#C0_0_4eaf0f7a52\" y=\"396.101182\"/>\r\n    </g>\r\n    <g clip-path=\"url(#pd145cd8170)\">\r\n     <use style=\"fill:#a6d854;stroke:#ffffff;stroke-width:0.48;\" x=\"330.138317\" xlink:href=\"#C0_0_4eaf0f7a52\" y=\"429.051294\"/>\r\n    </g>\r\n    <g clip-path=\"url(#pd145cd8170)\">\r\n     <use style=\"fill:#a6d854;stroke:#ffffff;stroke-width:0.48;\" x=\"320.879471\" xlink:href=\"#C0_0_4eaf0f7a52\" y=\"386.218315\"/>\r\n    </g>\r\n    <g clip-path=\"url(#pd145cd8170)\">\r\n     <use style=\"fill:#a6d854;stroke:#ffffff;stroke-width:0.48;\" x=\"335.399065\" xlink:href=\"#C0_0_4eaf0f7a52\" y=\"431.214716\"/>\r\n    </g>\r\n    <g clip-path=\"url(#pd145cd8170)\">\r\n     <use style=\"fill:#a6d854;stroke:#ffffff;stroke-width:0.48;\" x=\"301.041121\" xlink:href=\"#C0_0_4eaf0f7a52\" y=\"317.52462\"/>\r\n    </g>\r\n    <g clip-path=\"url(#pd145cd8170)\">\r\n     <use style=\"fill:#a6d854;stroke:#ffffff;stroke-width:0.48;\" x=\"337.038254\" xlink:href=\"#C0_0_4eaf0f7a52\" y=\"434.316435\"/>\r\n    </g>\r\n    <g clip-path=\"url(#pd145cd8170)\">\r\n     <use style=\"fill:#a6d854;stroke:#ffffff;stroke-width:0.48;\" x=\"315.424554\" xlink:href=\"#C0_0_4eaf0f7a52\" y=\"417.588609\"/>\r\n    </g>\r\n    <g clip-path=\"url(#pd145cd8170)\">\r\n     <use style=\"fill:#a6d854;stroke:#ffffff;stroke-width:0.48;\" x=\"343.003392\" xlink:href=\"#C0_0_4eaf0f7a52\" y=\"427.569927\"/>\r\n    </g>\r\n    <g clip-path=\"url(#pd145cd8170)\">\r\n     <use style=\"fill:#a6d854;stroke:#ffffff;stroke-width:0.48;\" x=\"344.152614\" xlink:href=\"#C0_0_4eaf0f7a52\" y=\"405.458017\"/>\r\n    </g>\r\n    <g clip-path=\"url(#pd145cd8170)\">\r\n     <use style=\"fill:#a6d854;stroke:#ffffff;stroke-width:0.48;\" x=\"355.207149\" xlink:href=\"#C0_0_4eaf0f7a52\" y=\"435.290604\"/>\r\n    </g>\r\n    <g clip-path=\"url(#pd145cd8170)\">\r\n     <use style=\"fill:#a6d854;stroke:#ffffff;stroke-width:0.48;\" x=\"347.11862\" xlink:href=\"#C0_0_4eaf0f7a52\" y=\"407.306188\"/>\r\n    </g>\r\n    <g clip-path=\"url(#pd145cd8170)\">\r\n     <use style=\"fill:#a6d854;stroke:#ffffff;stroke-width:0.48;\" x=\"359.620609\" xlink:href=\"#C0_0_4eaf0f7a52\" y=\"434.734806\"/>\r\n    </g>\r\n    <g clip-path=\"url(#pd145cd8170)\">\r\n     <use style=\"fill:#a6d854;stroke:#ffffff;stroke-width:0.48;\" x=\"357.265268\" xlink:href=\"#C0_0_4eaf0f7a52\" y=\"425.471064\"/>\r\n    </g>\r\n    <g clip-path=\"url(#pd145cd8170)\">\r\n     <use style=\"fill:#a6d854;stroke:#ffffff;stroke-width:0.48;\" x=\"354.704059\" xlink:href=\"#C0_0_4eaf0f7a52\" y=\"414.650787\"/>\r\n    </g>\r\n    <g clip-path=\"url(#pd145cd8170)\">\r\n     <use style=\"fill:#a6d854;stroke:#ffffff;stroke-width:0.48;\" x=\"358.700789\" xlink:href=\"#C0_0_4eaf0f7a52\" y=\"419.452637\"/>\r\n    </g>\r\n    <g clip-path=\"url(#pd145cd8170)\">\r\n     <use style=\"fill:#a6d854;stroke:#ffffff;stroke-width:0.48;\" x=\"349.710116\" xlink:href=\"#C0_0_4eaf0f7a52\" y=\"428.779983\"/>\r\n    </g>\r\n    <g clip-path=\"url(#pd145cd8170)\">\r\n     <use style=\"fill:#ffd92f;stroke:#ffffff;stroke-width:0.48;\" x=\"278.717768\" xlink:href=\"#C0_0_4eaf0f7a52\" y=\"398.82813\"/>\r\n    </g>\r\n    <g clip-path=\"url(#pd145cd8170)\">\r\n     <use style=\"fill:#ffd92f;stroke:#ffffff;stroke-width:0.48;\" x=\"272.707178\" xlink:href=\"#C0_0_4eaf0f7a52\" y=\"423.749323\"/>\r\n    </g>\r\n    <g clip-path=\"url(#pd145cd8170)\">\r\n     <use style=\"fill:#ffd92f;stroke:#ffffff;stroke-width:0.48;\" x=\"275.293057\" xlink:href=\"#C0_0_4eaf0f7a52\" y=\"426.005836\"/>\r\n    </g>\r\n    <g clip-path=\"url(#pd145cd8170)\">\r\n     <use style=\"fill:#ffd92f;stroke:#ffffff;stroke-width:0.48;\" x=\"282.405513\" xlink:href=\"#C0_0_4eaf0f7a52\" y=\"436.169972\"/>\r\n    </g>\r\n    <g clip-path=\"url(#pd145cd8170)\">\r\n     <use style=\"fill:#ffd92f;stroke:#ffffff;stroke-width:0.48;\" x=\"282.746785\" xlink:href=\"#C0_0_4eaf0f7a52\" y=\"434.069048\"/>\r\n    </g>\r\n    <g clip-path=\"url(#pd145cd8170)\">\r\n     <use style=\"fill:#ffd92f;stroke:#ffffff;stroke-width:0.48;\" x=\"282.680378\" xlink:href=\"#C0_0_4eaf0f7a52\" y=\"429.368423\"/>\r\n    </g>\r\n    <g clip-path=\"url(#pd145cd8170)\">\r\n     <use style=\"fill:#ffd92f;stroke:#ffffff;stroke-width:0.48;\" x=\"289.82071\" xlink:href=\"#C0_0_4eaf0f7a52\" y=\"436.322782\"/>\r\n    </g>\r\n    <g clip-path=\"url(#pd145cd8170)\">\r\n     <use style=\"fill:#ffd92f;stroke:#ffffff;stroke-width:0.48;\" x=\"291.523165\" xlink:href=\"#C0_0_4eaf0f7a52\" y=\"432.235267\"/>\r\n    </g>\r\n    <g clip-path=\"url(#pd145cd8170)\">\r\n     <use style=\"fill:#ffd92f;stroke:#ffffff;stroke-width:0.48;\" x=\"290.583471\" xlink:href=\"#C0_0_4eaf0f7a52\" y=\"434.895022\"/>\r\n    </g>\r\n    <g clip-path=\"url(#pd145cd8170)\">\r\n     <use style=\"fill:#ffd92f;stroke:#ffffff;stroke-width:0.48;\" x=\"295.201967\" xlink:href=\"#C0_0_4eaf0f7a52\" y=\"433.886776\"/>\r\n    </g>\r\n    <g clip-path=\"url(#pd145cd8170)\">\r\n     <use style=\"fill:#ffd92f;stroke:#ffffff;stroke-width:0.48;\" x=\"309.022689\" xlink:href=\"#C0_0_4eaf0f7a52\" y=\"427.834545\"/>\r\n    </g>\r\n    <g clip-path=\"url(#pd145cd8170)\">\r\n     <use style=\"fill:#ffd92f;stroke:#ffffff;stroke-width:0.48;\" x=\"305.473347\" xlink:href=\"#C0_0_4eaf0f7a52\" y=\"428.647681\"/>\r\n    </g>\r\n    <g clip-path=\"url(#pd145cd8170)\">\r\n     <use style=\"fill:#ffd92f;stroke:#ffffff;stroke-width:0.48;\" x=\"302.104026\" xlink:href=\"#C0_0_4eaf0f7a52\" y=\"433.302589\"/>\r\n    </g>\r\n    <g clip-path=\"url(#pd145cd8170)\">\r\n     <use style=\"fill:#ffd92f;stroke:#ffffff;stroke-width:0.48;\" x=\"313.871159\" xlink:href=\"#C0_0_4eaf0f7a52\" y=\"424.608921\"/>\r\n    </g>\r\n    <g clip-path=\"url(#pd145cd8170)\">\r\n     <use style=\"fill:#ffd92f;stroke:#ffffff;stroke-width:0.48;\" x=\"293.77994\" xlink:href=\"#C0_0_4eaf0f7a52\" y=\"413.506019\"/>\r\n    </g>\r\n    <g clip-path=\"url(#pd145cd8170)\">\r\n     <use style=\"fill:#ffd92f;stroke:#ffffff;stroke-width:0.48;\" x=\"290.030858\" xlink:href=\"#C0_0_4eaf0f7a52\" y=\"409.404761\"/>\r\n    </g>\r\n    <g clip-path=\"url(#pd145cd8170)\">\r\n     <use style=\"fill:#ffd92f;stroke:#ffffff;stroke-width:0.48;\" x=\"292.665564\" xlink:href=\"#C0_0_4eaf0f7a52\" y=\"435.640516\"/>\r\n    </g>\r\n    <g clip-path=\"url(#pd145cd8170)\">\r\n     <use style=\"fill:#ffd92f;stroke:#ffffff;stroke-width:0.48;\" x=\"297.574794\" xlink:href=\"#C0_0_4eaf0f7a52\" y=\"425.891866\"/>\r\n    </g>\r\n    <g clip-path=\"url(#pd145cd8170)\">\r\n     <use style=\"fill:#e5c494;stroke:#ffffff;stroke-width:0.48;\" x=\"252.421634\" xlink:href=\"#C0_0_4eaf0f7a52\" y=\"425.051149\"/>\r\n    </g>\r\n    <g clip-path=\"url(#pd145cd8170)\">\r\n     <use style=\"fill:#e5c494;stroke:#ffffff;stroke-width:0.48;\" x=\"235.329474\" xlink:href=\"#C0_0_4eaf0f7a52\" y=\"431.440165\"/>\r\n    </g>\r\n    <g clip-path=\"url(#pd145cd8170)\">\r\n     <use style=\"fill:#e5c494;stroke:#ffffff;stroke-width:0.48;\" x=\"234.964918\" xlink:href=\"#C0_0_4eaf0f7a52\" y=\"425.196349\"/>\r\n    </g>\r\n    <g clip-path=\"url(#pd145cd8170)\">\r\n     <use style=\"fill:#e5c494;stroke:#ffffff;stroke-width:0.48;\" x=\"239.948134\" xlink:href=\"#C0_0_4eaf0f7a52\" y=\"428.096353\"/>\r\n    </g>\r\n    <g clip-path=\"url(#pd145cd8170)\">\r\n     <use style=\"fill:#e5c494;stroke:#ffffff;stroke-width:0.48;\" x=\"243.429346\" xlink:href=\"#C0_0_4eaf0f7a52\" y=\"435.014383\"/>\r\n    </g>\r\n    <g clip-path=\"url(#pd145cd8170)\">\r\n     <use style=\"fill:#e5c494;stroke:#ffffff;stroke-width:0.48;\" x=\"244.084368\" xlink:href=\"#C0_0_4eaf0f7a52\" y=\"433.040576\"/>\r\n    </g>\r\n    <g clip-path=\"url(#pd145cd8170)\">\r\n     <use style=\"fill:#e5c494;stroke:#ffffff;stroke-width:0.48;\" x=\"200.416234\" xlink:href=\"#C0_0_4eaf0f7a52\" y=\"284.961454\"/>\r\n    </g>\r\n    <g clip-path=\"url(#pd145cd8170)\">\r\n     <use style=\"fill:#e5c494;stroke:#ffffff;stroke-width:0.48;\" x=\"245.840197\" xlink:href=\"#C0_0_4eaf0f7a52\" y=\"433.718403\"/>\r\n    </g>\r\n    <g clip-path=\"url(#pd145cd8170)\">\r\n     <use style=\"fill:#e5c494;stroke:#ffffff;stroke-width:0.48;\" x=\"256.361098\" xlink:href=\"#C0_0_4eaf0f7a52\" y=\"433.824527\"/>\r\n    </g>\r\n    <g clip-path=\"url(#pd145cd8170)\">\r\n     <use style=\"fill:#e5c494;stroke:#ffffff;stroke-width:0.48;\" x=\"256.568927\" xlink:href=\"#C0_0_4eaf0f7a52\" y=\"424.384855\"/>\r\n    </g>\r\n    <g clip-path=\"url(#pd145cd8170)\">\r\n     <use style=\"fill:#e5c494;stroke:#ffffff;stroke-width:0.48;\" x=\"259.654647\" xlink:href=\"#C0_0_4eaf0f7a52\" y=\"431.509054\"/>\r\n    </g>\r\n    <g clip-path=\"url(#pd145cd8170)\">\r\n     <use style=\"fill:#e5c494;stroke:#ffffff;stroke-width:0.48;\" x=\"263.449812\" xlink:href=\"#C0_0_4eaf0f7a52\" y=\"431.527368\"/>\r\n    </g>\r\n    <g clip-path=\"url(#pd145cd8170)\">\r\n     <use style=\"fill:#e5c494;stroke:#ffffff;stroke-width:0.48;\" x=\"248.70854\" xlink:href=\"#C0_0_4eaf0f7a52\" y=\"382.141755\"/>\r\n    </g>\r\n    <g clip-path=\"url(#pd145cd8170)\">\r\n     <use style=\"fill:#e5c494;stroke:#ffffff;stroke-width:0.48;\" x=\"266.399915\" xlink:href=\"#C0_0_4eaf0f7a52\" y=\"434.94281\"/>\r\n    </g>\r\n    <g clip-path=\"url(#pd145cd8170)\">\r\n     <use style=\"fill:#e5c494;stroke:#ffffff;stroke-width:0.48;\" x=\"267.443068\" xlink:href=\"#C0_0_4eaf0f7a52\" y=\"435.930077\"/>\r\n    </g>\r\n    <g clip-path=\"url(#pd145cd8170)\">\r\n     <use style=\"fill:#e5c494;stroke:#ffffff;stroke-width:0.48;\" x=\"267.018744\" xlink:href=\"#C0_0_4eaf0f7a52\" y=\"432.073097\"/>\r\n    </g>\r\n    <g clip-path=\"url(#pd145cd8170)\">\r\n     <use style=\"fill:#e5c494;stroke:#ffffff;stroke-width:0.48;\" x=\"272.047219\" xlink:href=\"#C0_0_4eaf0f7a52\" y=\"434.487977\"/>\r\n    </g>\r\n    <g clip-path=\"url(#pd145cd8170)\">\r\n     <use style=\"fill:#e5c494;stroke:#ffffff;stroke-width:0.48;\" x=\"270.692419\" xlink:href=\"#C0_0_4eaf0f7a52\" y=\"428.141905\"/>\r\n    </g>\r\n    <g clip-path=\"url(#pd145cd8170)\">\r\n     <use style=\"fill:#b3b3b3;stroke:#ffffff;stroke-width:0.48;\" x=\"198.694056\" xlink:href=\"#C0_0_4eaf0f7a52\" y=\"433.038059\"/>\r\n    </g>\r\n    <g clip-path=\"url(#pd145cd8170)\">\r\n     <use style=\"fill:#b3b3b3;stroke:#ffffff;stroke-width:0.48;\" x=\"196.54159\" xlink:href=\"#C0_0_4eaf0f7a52\" y=\"432.645461\"/>\r\n    </g>\r\n    <g clip-path=\"url(#pd145cd8170)\">\r\n     <use style=\"fill:#b3b3b3;stroke:#ffffff;stroke-width:0.48;\" x=\"203.309729\" xlink:href=\"#C0_0_4eaf0f7a52\" y=\"433.003306\"/>\r\n    </g>\r\n    <g clip-path=\"url(#pd145cd8170)\">\r\n     <use style=\"fill:#b3b3b3;stroke:#ffffff;stroke-width:0.48;\" x=\"202.464477\" xlink:href=\"#C0_0_4eaf0f7a52\" y=\"426.409964\"/>\r\n    </g>\r\n    <g clip-path=\"url(#pd145cd8170)\">\r\n     <use style=\"fill:#b3b3b3;stroke:#ffffff;stroke-width:0.48;\" x=\"204.103072\" xlink:href=\"#C0_0_4eaf0f7a52\" y=\"431.260604\"/>\r\n    </g>\r\n    <g clip-path=\"url(#pd145cd8170)\">\r\n     <use style=\"fill:#b3b3b3;stroke:#ffffff;stroke-width:0.48;\" x=\"205.840608\" xlink:href=\"#C0_0_4eaf0f7a52\" y=\"433.115726\"/>\r\n    </g>\r\n    <g clip-path=\"url(#pd145cd8170)\">\r\n     <use style=\"fill:#b3b3b3;stroke:#ffffff;stroke-width:0.48;\" x=\"203.585176\" xlink:href=\"#C0_0_4eaf0f7a52\" y=\"425.166484\"/>\r\n    </g>\r\n    <g clip-path=\"url(#pd145cd8170)\">\r\n     <use style=\"fill:#b3b3b3;stroke:#ffffff;stroke-width:0.48;\" x=\"210.316077\" xlink:href=\"#C0_0_4eaf0f7a52\" y=\"435.768518\"/>\r\n    </g>\r\n    <g clip-path=\"url(#pd145cd8170)\">\r\n     <use style=\"fill:#b3b3b3;stroke:#ffffff;stroke-width:0.48;\" x=\"230.131497\" xlink:href=\"#C0_0_4eaf0f7a52\" y=\"434.556942\"/>\r\n    </g>\r\n    <g clip-path=\"url(#pd145cd8170)\">\r\n     <use style=\"fill:#b3b3b3;stroke:#ffffff;stroke-width:0.48;\" x=\"211.700049\" xlink:href=\"#C0_0_4eaf0f7a52\" y=\"433.770747\"/>\r\n    </g>\r\n    <g clip-path=\"url(#pd145cd8170)\">\r\n     <use style=\"fill:#b3b3b3;stroke:#ffffff;stroke-width:0.48;\" x=\"212.788174\" xlink:href=\"#C0_0_4eaf0f7a52\" y=\"431.592925\"/>\r\n    </g>\r\n    <g clip-path=\"url(#pd145cd8170)\">\r\n     <use style=\"fill:#b3b3b3;stroke:#ffffff;stroke-width:0.48;\" x=\"216.229878\" xlink:href=\"#C0_0_4eaf0f7a52\" y=\"433.598033\"/>\r\n    </g>\r\n    <g clip-path=\"url(#pd145cd8170)\">\r\n     <use style=\"fill:#b3b3b3;stroke:#ffffff;stroke-width:0.48;\" x=\"222.818896\" xlink:href=\"#C0_0_4eaf0f7a52\" y=\"435.207763\"/>\r\n    </g>\r\n    <g clip-path=\"url(#pd145cd8170)\">\r\n     <use style=\"fill:#b3b3b3;stroke:#ffffff;stroke-width:0.48;\" x=\"220.546871\" xlink:href=\"#C0_0_4eaf0f7a52\" y=\"407.627846\"/>\r\n    </g>\r\n    <g clip-path=\"url(#pd145cd8170)\">\r\n     <use style=\"fill:#b3b3b3;stroke:#ffffff;stroke-width:0.48;\" x=\"227.243378\" xlink:href=\"#C0_0_4eaf0f7a52\" y=\"424.203776\"/>\r\n    </g>\r\n    <g clip-path=\"url(#pd145cd8170)\">\r\n     <use style=\"fill:#b3b3b3;stroke:#ffffff;stroke-width:0.48;\" x=\"210.763095\" xlink:href=\"#C0_0_4eaf0f7a52\" y=\"431.766098\"/>\r\n    </g>\r\n    <g clip-path=\"url(#pd145cd8170)\">\r\n     <use style=\"fill:#66c2a5;stroke:#ffffff;stroke-width:0.48;\" x=\"134.456395\" xlink:href=\"#C0_0_4eaf0f7a52\" y=\"429.590909\"/>\r\n    </g>\r\n    <g clip-path=\"url(#pd145cd8170)\">\r\n     <use style=\"fill:#66c2a5;stroke:#ffffff;stroke-width:0.48;\" x=\"132.083789\" xlink:href=\"#C0_0_4eaf0f7a52\" y=\"417.806746\"/>\r\n    </g>\r\n    <g clip-path=\"url(#pd145cd8170)\">\r\n     <use style=\"fill:#66c2a5;stroke:#ffffff;stroke-width:0.48;\" x=\"132.497726\" xlink:href=\"#C0_0_4eaf0f7a52\" y=\"404.830767\"/>\r\n    </g>\r\n    <g clip-path=\"url(#pd145cd8170)\">\r\n     <use style=\"fill:#66c2a5;stroke:#ffffff;stroke-width:0.48;\" x=\"141.128224\" xlink:href=\"#C0_0_4eaf0f7a52\" y=\"407.976154\"/>\r\n    </g>\r\n    <g clip-path=\"url(#pd145cd8170)\">\r\n     <use style=\"fill:#66c2a5;stroke:#ffffff;stroke-width:0.48;\" x=\"147.439471\" xlink:href=\"#C0_0_4eaf0f7a52\" y=\"428.446843\"/>\r\n    </g>\r\n    <g clip-path=\"url(#pd145cd8170)\">\r\n     <use style=\"fill:#66c2a5;stroke:#ffffff;stroke-width:0.48;\" x=\"149.577405\" xlink:href=\"#C0_0_4eaf0f7a52\" y=\"431.172191\"/>\r\n    </g>\r\n    <g clip-path=\"url(#pd145cd8170)\">\r\n     <use style=\"fill:#66c2a5;stroke:#ffffff;stroke-width:0.48;\" x=\"165.418527\" xlink:href=\"#C0_0_4eaf0f7a52\" y=\"417.282586\"/>\r\n    </g>\r\n    <g clip-path=\"url(#pd145cd8170)\">\r\n     <use style=\"fill:#66c2a5;stroke:#ffffff;stroke-width:0.48;\" x=\"167.648348\" xlink:href=\"#C0_0_4eaf0f7a52\" y=\"433.640843\"/>\r\n    </g>\r\n    <g clip-path=\"url(#pd145cd8170)\">\r\n     <use style=\"fill:#66c2a5;stroke:#ffffff;stroke-width:0.48;\" x=\"173.136418\" xlink:href=\"#C0_0_4eaf0f7a52\" y=\"435.328788\"/>\r\n    </g>\r\n    <g clip-path=\"url(#pd145cd8170)\">\r\n     <use style=\"fill:#66c2a5;stroke:#ffffff;stroke-width:0.48;\" x=\"173.770624\" xlink:href=\"#C0_0_4eaf0f7a52\" y=\"432.556992\"/>\r\n    </g>\r\n    <g clip-path=\"url(#pd145cd8170)\">\r\n     <use style=\"fill:#66c2a5;stroke:#ffffff;stroke-width:0.48;\" x=\"173.547642\" xlink:href=\"#C0_0_4eaf0f7a52\" y=\"418.667123\"/>\r\n    </g>\r\n    <g clip-path=\"url(#pd145cd8170)\">\r\n     <use style=\"fill:#66c2a5;stroke:#ffffff;stroke-width:0.48;\" x=\"153.616869\" xlink:href=\"#C0_0_4eaf0f7a52\" y=\"428.338064\"/>\r\n    </g>\r\n    <g clip-path=\"url(#pd145cd8170)\">\r\n     <use style=\"fill:#fc8d62;stroke:#ffffff;stroke-width:0.48;\" x=\"85.717725\" xlink:href=\"#C0_0_4eaf0f7a52\" y=\"415.73845\"/>\r\n    </g>\r\n    <g clip-path=\"url(#pd145cd8170)\">\r\n     <use style=\"fill:#fc8d62;stroke:#ffffff;stroke-width:0.48;\" x=\"113.500642\" xlink:href=\"#C0_0_4eaf0f7a52\" y=\"422.381503\"/>\r\n    </g>\r\n    <g clip-path=\"url(#pd145cd8170)\">\r\n     <use style=\"fill:#fc8d62;stroke:#ffffff;stroke-width:0.48;\" x=\"76.919205\" xlink:href=\"#C0_0_4eaf0f7a52\" y=\"419.915685\"/>\r\n    </g>\r\n   </g>\r\n   <g id=\"PathCollection_2\"/>\r\n   <g id=\"PathCollection_3\"/>\r\n   <g id=\"PathCollection_4\"/>\r\n   <g id=\"PathCollection_5\"/>\r\n   <g id=\"PathCollection_6\"/>\r\n   <g id=\"PathCollection_7\"/>\r\n   <g id=\"PathCollection_8\"/>\r\n   <g id=\"PathCollection_9\"/>\r\n   <g id=\"PathCollection_10\"/>\r\n   <g id=\"PathCollection_11\"/>\r\n   <g id=\"matplotlib.axis_1\">\r\n    <g id=\"xtick_1\">\r\n     <g id=\"line2d_1\">\r\n      <defs>\r\n       <path d=\"M 0 0 \r\nL 0 3.5 \r\n\" id=\"m502ab1ffb4\" style=\"stroke:#000000;stroke-width:0.8;\"/>\r\n      </defs>\r\n      <g>\r\n       <use style=\"stroke:#000000;stroke-width:0.8;\" x=\"108.24528\" xlink:href=\"#m502ab1ffb4\" y=\"456.7572\"/>\r\n      </g>\r\n     </g>\r\n     <g id=\"text_1\">\r\n      <!-- −40 -->\r\n      <g transform=\"translate(97.692937 471.355637)scale(0.1 -0.1)\">\r\n       <defs>\r\n        <path d=\"M 678 2272 \r\nL 4684 2272 \r\nL 4684 1741 \r\nL 678 1741 \r\nL 678 2272 \r\nz\r\n\" id=\"DejaVuSans-2212\" transform=\"scale(0.015625)\"/>\r\n        <path d=\"M 2419 4116 \r\nL 825 1625 \r\nL 2419 1625 \r\nL 2419 4116 \r\nz\r\nM 2253 4666 \r\nL 3047 4666 \r\nL 3047 1625 \r\nL 3713 1625 \r\nL 3713 1100 \r\nL 3047 1100 \r\nL 3047 0 \r\nL 2419 0 \r\nL 2419 1100 \r\nL 313 1100 \r\nL 313 1709 \r\nL 2253 4666 \r\nz\r\n\" id=\"DejaVuSans-34\" transform=\"scale(0.015625)\"/>\r\n        <path d=\"M 2034 4250 \r\nQ 1547 4250 1301 3770 \r\nQ 1056 3291 1056 2328 \r\nQ 1056 1369 1301 889 \r\nQ 1547 409 2034 409 \r\nQ 2525 409 2770 889 \r\nQ 3016 1369 3016 2328 \r\nQ 3016 3291 2770 3770 \r\nQ 2525 4250 2034 4250 \r\nz\r\nM 2034 4750 \r\nQ 2819 4750 3233 4129 \r\nQ 3647 3509 3647 2328 \r\nQ 3647 1150 3233 529 \r\nQ 2819 -91 2034 -91 \r\nQ 1250 -91 836 529 \r\nQ 422 1150 422 2328 \r\nQ 422 3509 836 4129 \r\nQ 1250 4750 2034 4750 \r\nz\r\n\" id=\"DejaVuSans-30\" transform=\"scale(0.015625)\"/>\r\n       </defs>\r\n       <use xlink:href=\"#DejaVuSans-2212\"/>\r\n       <use x=\"83.789062\" xlink:href=\"#DejaVuSans-34\"/>\r\n       <use x=\"147.412109\" xlink:href=\"#DejaVuSans-30\"/>\r\n      </g>\r\n     </g>\r\n    </g>\r\n    <g id=\"xtick_2\">\r\n     <g id=\"line2d_2\">\r\n      <g>\r\n       <use style=\"stroke:#000000;stroke-width:0.8;\" x=\"208.097147\" xlink:href=\"#m502ab1ffb4\" y=\"456.7572\"/>\r\n      </g>\r\n     </g>\r\n     <g id=\"text_2\">\r\n      <!-- −30 -->\r\n      <g transform=\"translate(197.544803 471.355637)scale(0.1 -0.1)\">\r\n       <defs>\r\n        <path d=\"M 2597 2516 \r\nQ 3050 2419 3304 2112 \r\nQ 3559 1806 3559 1356 \r\nQ 3559 666 3084 287 \r\nQ 2609 -91 1734 -91 \r\nQ 1441 -91 1130 -33 \r\nQ 819 25 488 141 \r\nL 488 750 \r\nQ 750 597 1062 519 \r\nQ 1375 441 1716 441 \r\nQ 2309 441 2620 675 \r\nQ 2931 909 2931 1356 \r\nQ 2931 1769 2642 2001 \r\nQ 2353 2234 1838 2234 \r\nL 1294 2234 \r\nL 1294 2753 \r\nL 1863 2753 \r\nQ 2328 2753 2575 2939 \r\nQ 2822 3125 2822 3475 \r\nQ 2822 3834 2567 4026 \r\nQ 2313 4219 1838 4219 \r\nQ 1578 4219 1281 4162 \r\nQ 984 4106 628 3988 \r\nL 628 4550 \r\nQ 988 4650 1302 4700 \r\nQ 1616 4750 1894 4750 \r\nQ 2613 4750 3031 4423 \r\nQ 3450 4097 3450 3541 \r\nQ 3450 3153 3228 2886 \r\nQ 3006 2619 2597 2516 \r\nz\r\n\" id=\"DejaVuSans-33\" transform=\"scale(0.015625)\"/>\r\n       </defs>\r\n       <use xlink:href=\"#DejaVuSans-2212\"/>\r\n       <use x=\"83.789062\" xlink:href=\"#DejaVuSans-33\"/>\r\n       <use x=\"147.412109\" xlink:href=\"#DejaVuSans-30\"/>\r\n      </g>\r\n     </g>\r\n    </g>\r\n    <g id=\"xtick_3\">\r\n     <g id=\"line2d_3\">\r\n      <g>\r\n       <use style=\"stroke:#000000;stroke-width:0.8;\" x=\"307.949013\" xlink:href=\"#m502ab1ffb4\" y=\"456.7572\"/>\r\n      </g>\r\n     </g>\r\n     <g id=\"text_3\">\r\n      <!-- −20 -->\r\n      <g transform=\"translate(297.39667 471.355637)scale(0.1 -0.1)\">\r\n       <defs>\r\n        <path d=\"M 1228 531 \r\nL 3431 531 \r\nL 3431 0 \r\nL 469 0 \r\nL 469 531 \r\nQ 828 903 1448 1529 \r\nQ 2069 2156 2228 2338 \r\nQ 2531 2678 2651 2914 \r\nQ 2772 3150 2772 3378 \r\nQ 2772 3750 2511 3984 \r\nQ 2250 4219 1831 4219 \r\nQ 1534 4219 1204 4116 \r\nQ 875 4013 500 3803 \r\nL 500 4441 \r\nQ 881 4594 1212 4672 \r\nQ 1544 4750 1819 4750 \r\nQ 2544 4750 2975 4387 \r\nQ 3406 4025 3406 3419 \r\nQ 3406 3131 3298 2873 \r\nQ 3191 2616 2906 2266 \r\nQ 2828 2175 2409 1742 \r\nQ 1991 1309 1228 531 \r\nz\r\n\" id=\"DejaVuSans-32\" transform=\"scale(0.015625)\"/>\r\n       </defs>\r\n       <use xlink:href=\"#DejaVuSans-2212\"/>\r\n       <use x=\"83.789062\" xlink:href=\"#DejaVuSans-32\"/>\r\n       <use x=\"147.412109\" xlink:href=\"#DejaVuSans-30\"/>\r\n      </g>\r\n     </g>\r\n    </g>\r\n    <g id=\"xtick_4\">\r\n     <g id=\"line2d_4\">\r\n      <g>\r\n       <use style=\"stroke:#000000;stroke-width:0.8;\" x=\"407.80088\" xlink:href=\"#m502ab1ffb4\" y=\"456.7572\"/>\r\n      </g>\r\n     </g>\r\n     <g id=\"text_4\">\r\n      <!-- −10 -->\r\n      <g transform=\"translate(397.248536 471.355637)scale(0.1 -0.1)\">\r\n       <defs>\r\n        <path d=\"M 794 531 \r\nL 1825 531 \r\nL 1825 4091 \r\nL 703 3866 \r\nL 703 4441 \r\nL 1819 4666 \r\nL 2450 4666 \r\nL 2450 531 \r\nL 3481 531 \r\nL 3481 0 \r\nL 794 0 \r\nL 794 531 \r\nz\r\n\" id=\"DejaVuSans-31\" transform=\"scale(0.015625)\"/>\r\n       </defs>\r\n       <use xlink:href=\"#DejaVuSans-2212\"/>\r\n       <use x=\"83.789062\" xlink:href=\"#DejaVuSans-31\"/>\r\n       <use x=\"147.412109\" xlink:href=\"#DejaVuSans-30\"/>\r\n      </g>\r\n     </g>\r\n    </g>\r\n    <g id=\"xtick_5\">\r\n     <g id=\"line2d_5\">\r\n      <g>\r\n       <use style=\"stroke:#000000;stroke-width:0.8;\" x=\"507.652747\" xlink:href=\"#m502ab1ffb4\" y=\"456.7572\"/>\r\n      </g>\r\n     </g>\r\n     <g id=\"text_5\">\r\n      <!-- 0 -->\r\n      <g transform=\"translate(504.471497 471.355637)scale(0.1 -0.1)\">\r\n       <use xlink:href=\"#DejaVuSans-30\"/>\r\n      </g>\r\n     </g>\r\n    </g>\r\n    <g id=\"xtick_6\">\r\n     <g id=\"line2d_6\">\r\n      <g>\r\n       <use style=\"stroke:#000000;stroke-width:0.8;\" x=\"607.504613\" xlink:href=\"#m502ab1ffb4\" y=\"456.7572\"/>\r\n      </g>\r\n     </g>\r\n     <g id=\"text_6\">\r\n      <!-- 10 -->\r\n      <g transform=\"translate(601.142113 471.355637)scale(0.1 -0.1)\">\r\n       <use xlink:href=\"#DejaVuSans-31\"/>\r\n       <use x=\"63.623047\" xlink:href=\"#DejaVuSans-30\"/>\r\n      </g>\r\n     </g>\r\n    </g>\r\n    <g id=\"text_7\">\r\n     <!-- rate -->\r\n     <g transform=\"translate(363.5175 485.033762)scale(0.1 -0.1)\">\r\n      <defs>\r\n       <path d=\"M 2631 2963 \r\nQ 2534 3019 2420 3045 \r\nQ 2306 3072 2169 3072 \r\nQ 1681 3072 1420 2755 \r\nQ 1159 2438 1159 1844 \r\nL 1159 0 \r\nL 581 0 \r\nL 581 3500 \r\nL 1159 3500 \r\nL 1159 2956 \r\nQ 1341 3275 1631 3429 \r\nQ 1922 3584 2338 3584 \r\nQ 2397 3584 2469 3576 \r\nQ 2541 3569 2628 3553 \r\nL 2631 2963 \r\nz\r\n\" id=\"DejaVuSans-72\" transform=\"scale(0.015625)\"/>\r\n       <path d=\"M 2194 1759 \r\nQ 1497 1759 1228 1600 \r\nQ 959 1441 959 1056 \r\nQ 959 750 1161 570 \r\nQ 1363 391 1709 391 \r\nQ 2188 391 2477 730 \r\nQ 2766 1069 2766 1631 \r\nL 2766 1759 \r\nL 2194 1759 \r\nz\r\nM 3341 1997 \r\nL 3341 0 \r\nL 2766 0 \r\nL 2766 531 \r\nQ 2569 213 2275 61 \r\nQ 1981 -91 1556 -91 \r\nQ 1019 -91 701 211 \r\nQ 384 513 384 1019 \r\nQ 384 1609 779 1909 \r\nQ 1175 2209 1959 2209 \r\nL 2766 2209 \r\nL 2766 2266 \r\nQ 2766 2663 2505 2880 \r\nQ 2244 3097 1772 3097 \r\nQ 1472 3097 1187 3025 \r\nQ 903 2953 641 2809 \r\nL 641 3341 \r\nQ 956 3463 1253 3523 \r\nQ 1550 3584 1831 3584 \r\nQ 2591 3584 2966 3190 \r\nQ 3341 2797 3341 1997 \r\nz\r\n\" id=\"DejaVuSans-61\" transform=\"scale(0.015625)\"/>\r\n       <path d=\"M 1172 4494 \r\nL 1172 3500 \r\nL 2356 3500 \r\nL 2356 3053 \r\nL 1172 3053 \r\nL 1172 1153 \r\nQ 1172 725 1289 603 \r\nQ 1406 481 1766 481 \r\nL 2356 481 \r\nL 2356 0 \r\nL 1766 0 \r\nQ 1100 0 847 248 \r\nQ 594 497 594 1153 \r\nL 594 3053 \r\nL 172 3053 \r\nL 172 3500 \r\nL 594 3500 \r\nL 594 4494 \r\nL 1172 4494 \r\nz\r\n\" id=\"DejaVuSans-74\" transform=\"scale(0.015625)\"/>\r\n       <path d=\"M 3597 1894 \r\nL 3597 1613 \r\nL 953 1613 \r\nQ 991 1019 1311 708 \r\nQ 1631 397 2203 397 \r\nQ 2534 397 2845 478 \r\nQ 3156 559 3463 722 \r\nL 3463 178 \r\nQ 3153 47 2828 -22 \r\nQ 2503 -91 2169 -91 \r\nQ 1331 -91 842 396 \r\nQ 353 884 353 1716 \r\nQ 353 2575 817 3079 \r\nQ 1281 3584 2069 3584 \r\nQ 2775 3584 3186 3129 \r\nQ 3597 2675 3597 1894 \r\nz\r\nM 3022 2063 \r\nQ 3016 2534 2758 2815 \r\nQ 2500 3097 2075 3097 \r\nQ 1594 3097 1305 2825 \r\nQ 1016 2553 972 2059 \r\nL 3022 2063 \r\nz\r\n\" id=\"DejaVuSans-65\" transform=\"scale(0.015625)\"/>\r\n      </defs>\r\n      <use xlink:href=\"#DejaVuSans-72\"/>\r\n      <use x=\"41.113281\" xlink:href=\"#DejaVuSans-61\"/>\r\n      <use x=\"102.392578\" xlink:href=\"#DejaVuSans-74\"/>\r\n      <use x=\"141.601562\" xlink:href=\"#DejaVuSans-65\"/>\r\n     </g>\r\n    </g>\r\n   </g>\r\n   <g id=\"matplotlib.axis_2\">\r\n    <g id=\"ytick_1\">\r\n     <g id=\"line2d_7\">\r\n      <defs>\r\n       <path d=\"M 0 0 \r\nL -3.5 0 \r\n\" id=\"m91ed08a68d\" style=\"stroke:#000000;stroke-width:0.8;\"/>\r\n      </defs>\r\n      <g>\r\n       <use style=\"stroke:#000000;stroke-width:0.8;\" x=\"47.24375\" xlink:href=\"#m91ed08a68d\" y=\"437.373524\"/>\r\n      </g>\r\n     </g>\r\n     <g id=\"text_8\">\r\n      <!-- 0 -->\r\n      <g transform=\"translate(33.88125 441.172742)scale(0.1 -0.1)\">\r\n       <use xlink:href=\"#DejaVuSans-30\"/>\r\n      </g>\r\n     </g>\r\n    </g>\r\n    <g id=\"ytick_2\">\r\n     <g id=\"line2d_8\">\r\n      <g>\r\n       <use style=\"stroke:#000000;stroke-width:0.8;\" x=\"47.24375\" xlink:href=\"#m91ed08a68d\" y=\"371.818804\"/>\r\n      </g>\r\n     </g>\r\n     <g id=\"text_9\">\r\n      <!-- 20 -->\r\n      <g transform=\"translate(27.51875 375.618023)scale(0.1 -0.1)\">\r\n       <use xlink:href=\"#DejaVuSans-32\"/>\r\n       <use x=\"63.623047\" xlink:href=\"#DejaVuSans-30\"/>\r\n      </g>\r\n     </g>\r\n    </g>\r\n    <g id=\"ytick_3\">\r\n     <g id=\"line2d_9\">\r\n      <g>\r\n       <use style=\"stroke:#000000;stroke-width:0.8;\" x=\"47.24375\" xlink:href=\"#m91ed08a68d\" y=\"306.264085\"/>\r\n      </g>\r\n     </g>\r\n     <g id=\"text_10\">\r\n      <!-- 40 -->\r\n      <g transform=\"translate(27.51875 310.063304)scale(0.1 -0.1)\">\r\n       <use xlink:href=\"#DejaVuSans-34\"/>\r\n       <use x=\"63.623047\" xlink:href=\"#DejaVuSans-30\"/>\r\n      </g>\r\n     </g>\r\n    </g>\r\n    <g id=\"ytick_4\">\r\n     <g id=\"line2d_10\">\r\n      <g>\r\n       <use style=\"stroke:#000000;stroke-width:0.8;\" x=\"47.24375\" xlink:href=\"#m91ed08a68d\" y=\"240.709366\"/>\r\n      </g>\r\n     </g>\r\n     <g id=\"text_11\">\r\n      <!-- 60 -->\r\n      <g transform=\"translate(27.51875 244.508584)scale(0.1 -0.1)\">\r\n       <defs>\r\n        <path d=\"M 2113 2584 \r\nQ 1688 2584 1439 2293 \r\nQ 1191 2003 1191 1497 \r\nQ 1191 994 1439 701 \r\nQ 1688 409 2113 409 \r\nQ 2538 409 2786 701 \r\nQ 3034 994 3034 1497 \r\nQ 3034 2003 2786 2293 \r\nQ 2538 2584 2113 2584 \r\nz\r\nM 3366 4563 \r\nL 3366 3988 \r\nQ 3128 4100 2886 4159 \r\nQ 2644 4219 2406 4219 \r\nQ 1781 4219 1451 3797 \r\nQ 1122 3375 1075 2522 \r\nQ 1259 2794 1537 2939 \r\nQ 1816 3084 2150 3084 \r\nQ 2853 3084 3261 2657 \r\nQ 3669 2231 3669 1497 \r\nQ 3669 778 3244 343 \r\nQ 2819 -91 2113 -91 \r\nQ 1303 -91 875 529 \r\nQ 447 1150 447 2328 \r\nQ 447 3434 972 4092 \r\nQ 1497 4750 2381 4750 \r\nQ 2619 4750 2861 4703 \r\nQ 3103 4656 3366 4563 \r\nz\r\n\" id=\"DejaVuSans-36\" transform=\"scale(0.015625)\"/>\r\n       </defs>\r\n       <use xlink:href=\"#DejaVuSans-36\"/>\r\n       <use x=\"63.623047\" xlink:href=\"#DejaVuSans-30\"/>\r\n      </g>\r\n     </g>\r\n    </g>\r\n    <g id=\"ytick_5\">\r\n     <g id=\"line2d_11\">\r\n      <g>\r\n       <use style=\"stroke:#000000;stroke-width:0.8;\" x=\"47.24375\" xlink:href=\"#m91ed08a68d\" y=\"175.154646\"/>\r\n      </g>\r\n     </g>\r\n     <g id=\"text_12\">\r\n      <!-- 80 -->\r\n      <g transform=\"translate(27.51875 178.953865)scale(0.1 -0.1)\">\r\n       <defs>\r\n        <path d=\"M 2034 2216 \r\nQ 1584 2216 1326 1975 \r\nQ 1069 1734 1069 1313 \r\nQ 1069 891 1326 650 \r\nQ 1584 409 2034 409 \r\nQ 2484 409 2743 651 \r\nQ 3003 894 3003 1313 \r\nQ 3003 1734 2745 1975 \r\nQ 2488 2216 2034 2216 \r\nz\r\nM 1403 2484 \r\nQ 997 2584 770 2862 \r\nQ 544 3141 544 3541 \r\nQ 544 4100 942 4425 \r\nQ 1341 4750 2034 4750 \r\nQ 2731 4750 3128 4425 \r\nQ 3525 4100 3525 3541 \r\nQ 3525 3141 3298 2862 \r\nQ 3072 2584 2669 2484 \r\nQ 3125 2378 3379 2068 \r\nQ 3634 1759 3634 1313 \r\nQ 3634 634 3220 271 \r\nQ 2806 -91 2034 -91 \r\nQ 1263 -91 848 271 \r\nQ 434 634 434 1313 \r\nQ 434 1759 690 2068 \r\nQ 947 2378 1403 2484 \r\nz\r\nM 1172 3481 \r\nQ 1172 3119 1398 2916 \r\nQ 1625 2713 2034 2713 \r\nQ 2441 2713 2670 2916 \r\nQ 2900 3119 2900 3481 \r\nQ 2900 3844 2670 4047 \r\nQ 2441 4250 2034 4250 \r\nQ 1625 4250 1398 4047 \r\nQ 1172 3844 1172 3481 \r\nz\r\n\" id=\"DejaVuSans-38\" transform=\"scale(0.015625)\"/>\r\n       </defs>\r\n       <use xlink:href=\"#DejaVuSans-38\"/>\r\n       <use x=\"63.623047\" xlink:href=\"#DejaVuSans-30\"/>\r\n      </g>\r\n     </g>\r\n    </g>\r\n    <g id=\"ytick_6\">\r\n     <g id=\"line2d_12\">\r\n      <g>\r\n       <use style=\"stroke:#000000;stroke-width:0.8;\" x=\"47.24375\" xlink:href=\"#m91ed08a68d\" y=\"109.599927\"/>\r\n      </g>\r\n     </g>\r\n     <g id=\"text_13\">\r\n      <!-- 100 -->\r\n      <g transform=\"translate(21.15625 113.399146)scale(0.1 -0.1)\">\r\n       <use xlink:href=\"#DejaVuSans-31\"/>\r\n       <use x=\"63.623047\" xlink:href=\"#DejaVuSans-30\"/>\r\n       <use x=\"127.246094\" xlink:href=\"#DejaVuSans-30\"/>\r\n      </g>\r\n     </g>\r\n    </g>\r\n    <g id=\"ytick_7\">\r\n     <g id=\"line2d_13\">\r\n      <g>\r\n       <use style=\"stroke:#000000;stroke-width:0.8;\" x=\"47.24375\" xlink:href=\"#m91ed08a68d\" y=\"44.045208\"/>\r\n      </g>\r\n     </g>\r\n     <g id=\"text_14\">\r\n      <!-- 120 -->\r\n      <g transform=\"translate(21.15625 47.844427)scale(0.1 -0.1)\">\r\n       <use xlink:href=\"#DejaVuSans-31\"/>\r\n       <use x=\"63.623047\" xlink:href=\"#DejaVuSans-32\"/>\r\n       <use x=\"127.246094\" xlink:href=\"#DejaVuSans-30\"/>\r\n      </g>\r\n     </g>\r\n    </g>\r\n    <g id=\"text_15\">\r\n     <!-- trade_price -->\r\n     <g transform=\"translate(14.798438 260.2536)rotate(-90)scale(0.1 -0.1)\">\r\n      <defs>\r\n       <path d=\"M 2906 2969 \r\nL 2906 4863 \r\nL 3481 4863 \r\nL 3481 0 \r\nL 2906 0 \r\nL 2906 525 \r\nQ 2725 213 2448 61 \r\nQ 2172 -91 1784 -91 \r\nQ 1150 -91 751 415 \r\nQ 353 922 353 1747 \r\nQ 353 2572 751 3078 \r\nQ 1150 3584 1784 3584 \r\nQ 2172 3584 2448 3432 \r\nQ 2725 3281 2906 2969 \r\nz\r\nM 947 1747 \r\nQ 947 1113 1208 752 \r\nQ 1469 391 1925 391 \r\nQ 2381 391 2643 752 \r\nQ 2906 1113 2906 1747 \r\nQ 2906 2381 2643 2742 \r\nQ 2381 3103 1925 3103 \r\nQ 1469 3103 1208 2742 \r\nQ 947 2381 947 1747 \r\nz\r\n\" id=\"DejaVuSans-64\" transform=\"scale(0.015625)\"/>\r\n       <path d=\"M 3263 -1063 \r\nL 3263 -1509 \r\nL -63 -1509 \r\nL -63 -1063 \r\nL 3263 -1063 \r\nz\r\n\" id=\"DejaVuSans-5f\" transform=\"scale(0.015625)\"/>\r\n       <path d=\"M 1159 525 \r\nL 1159 -1331 \r\nL 581 -1331 \r\nL 581 3500 \r\nL 1159 3500 \r\nL 1159 2969 \r\nQ 1341 3281 1617 3432 \r\nQ 1894 3584 2278 3584 \r\nQ 2916 3584 3314 3078 \r\nQ 3713 2572 3713 1747 \r\nQ 3713 922 3314 415 \r\nQ 2916 -91 2278 -91 \r\nQ 1894 -91 1617 61 \r\nQ 1341 213 1159 525 \r\nz\r\nM 3116 1747 \r\nQ 3116 2381 2855 2742 \r\nQ 2594 3103 2138 3103 \r\nQ 1681 3103 1420 2742 \r\nQ 1159 2381 1159 1747 \r\nQ 1159 1113 1420 752 \r\nQ 1681 391 2138 391 \r\nQ 2594 391 2855 752 \r\nQ 3116 1113 3116 1747 \r\nz\r\n\" id=\"DejaVuSans-70\" transform=\"scale(0.015625)\"/>\r\n       <path d=\"M 603 3500 \r\nL 1178 3500 \r\nL 1178 0 \r\nL 603 0 \r\nL 603 3500 \r\nz\r\nM 603 4863 \r\nL 1178 4863 \r\nL 1178 4134 \r\nL 603 4134 \r\nL 603 4863 \r\nz\r\n\" id=\"DejaVuSans-69\" transform=\"scale(0.015625)\"/>\r\n       <path d=\"M 3122 3366 \r\nL 3122 2828 \r\nQ 2878 2963 2633 3030 \r\nQ 2388 3097 2138 3097 \r\nQ 1578 3097 1268 2742 \r\nQ 959 2388 959 1747 \r\nQ 959 1106 1268 751 \r\nQ 1578 397 2138 397 \r\nQ 2388 397 2633 464 \r\nQ 2878 531 3122 666 \r\nL 3122 134 \r\nQ 2881 22 2623 -34 \r\nQ 2366 -91 2075 -91 \r\nQ 1284 -91 818 406 \r\nQ 353 903 353 1747 \r\nQ 353 2603 823 3093 \r\nQ 1294 3584 2113 3584 \r\nQ 2378 3584 2631 3529 \r\nQ 2884 3475 3122 3366 \r\nz\r\n\" id=\"DejaVuSans-63\" transform=\"scale(0.015625)\"/>\r\n      </defs>\r\n      <use xlink:href=\"#DejaVuSans-74\"/>\r\n      <use x=\"39.208984\" xlink:href=\"#DejaVuSans-72\"/>\r\n      <use x=\"80.322266\" xlink:href=\"#DejaVuSans-61\"/>\r\n      <use x=\"141.601562\" xlink:href=\"#DejaVuSans-64\"/>\r\n      <use x=\"205.078125\" xlink:href=\"#DejaVuSans-65\"/>\r\n      <use x=\"266.601562\" xlink:href=\"#DejaVuSans-5f\"/>\r\n      <use x=\"316.601562\" xlink:href=\"#DejaVuSans-70\"/>\r\n      <use x=\"380.078125\" xlink:href=\"#DejaVuSans-72\"/>\r\n      <use x=\"421.191406\" xlink:href=\"#DejaVuSans-69\"/>\r\n      <use x=\"448.974609\" xlink:href=\"#DejaVuSans-63\"/>\r\n      <use x=\"503.955078\" xlink:href=\"#DejaVuSans-65\"/>\r\n     </g>\r\n    </g>\r\n   </g>\r\n   <g id=\"patch_3\">\r\n    <path d=\"M 47.24375 456.7572 \r\nL 47.24375 7.2 \r\n\" style=\"fill:none;stroke:#000000;stroke-linecap:square;stroke-linejoin:miter;stroke-width:0.8;\"/>\r\n   </g>\r\n   <g id=\"patch_4\">\r\n    <path d=\"M 700.10375 456.7572 \r\nL 700.10375 7.2 \r\n\" style=\"fill:none;stroke:#000000;stroke-linecap:square;stroke-linejoin:miter;stroke-width:0.8;\"/>\r\n   </g>\r\n   <g id=\"patch_5\">\r\n    <path d=\"M 47.24375 456.7572 \r\nL 700.10375 456.7572 \r\n\" style=\"fill:none;stroke:#000000;stroke-linecap:square;stroke-linejoin:miter;stroke-width:0.8;\"/>\r\n   </g>\r\n   <g id=\"patch_6\">\r\n    <path d=\"M 47.24375 7.2 \r\nL 700.10375 7.2 \r\n\" style=\"fill:none;stroke:#000000;stroke-linecap:square;stroke-linejoin:miter;stroke-width:0.8;\"/>\r\n   </g>\r\n   <g id=\"legend_1\">\r\n    <g id=\"patch_7\">\r\n     <path d=\"M 654.74125 176.659375 \r\nL 693.10375 176.659375 \r\nQ 695.10375 176.659375 695.10375 174.659375 \r\nL 695.10375 14.2 \r\nQ 695.10375 12.2 693.10375 12.2 \r\nL 654.74125 12.2 \r\nQ 652.74125 12.2 652.74125 14.2 \r\nL 652.74125 174.659375 \r\nQ 652.74125 176.659375 654.74125 176.659375 \r\nz\r\n\" style=\"fill:#ffffff;opacity:0.8;stroke:#cccccc;stroke-linejoin:miter;\"/>\r\n    </g>\r\n    <g id=\"text_16\">\r\n     <!-- tier -->\r\n     <g transform=\"translate(665.44125 23.798437)scale(0.1 -0.1)\">\r\n      <use xlink:href=\"#DejaVuSans-74\"/>\r\n      <use x=\"39.208984\" xlink:href=\"#DejaVuSans-69\"/>\r\n      <use x=\"66.992188\" xlink:href=\"#DejaVuSans-65\"/>\r\n      <use x=\"128.515625\" xlink:href=\"#DejaVuSans-72\"/>\r\n     </g>\r\n    </g>\r\n    <g id=\"PathCollection_12\">\r\n     <defs>\r\n      <path d=\"M 0 3 \r\nC 0.795609 3 1.55874 2.683901 2.12132 2.12132 \r\nC 2.683901 1.55874 3 0.795609 3 0 \r\nC 3 -0.795609 2.683901 -1.55874 2.12132 -2.12132 \r\nC 1.55874 -2.683901 0.795609 -3 0 -3 \r\nC -0.795609 -3 -1.55874 -2.683901 -2.12132 -2.12132 \r\nC -2.683901 -1.55874 -3 -0.795609 -3 0 \r\nC -3 0.795609 -2.683901 1.55874 -2.12132 2.12132 \r\nC -1.55874 2.683901 -0.795609 3 0 3 \r\nz\r\n\" id=\"m67f6442833\" style=\"stroke:#66c2a5;\"/>\r\n     </defs>\r\n     <g>\r\n      <use style=\"fill:#66c2a5;stroke:#66c2a5;\" x=\"666.74125\" xlink:href=\"#m67f6442833\" y=\"35.851562\"/>\r\n     </g>\r\n    </g>\r\n    <g id=\"text_17\">\r\n     <!-- 0 -->\r\n     <g transform=\"translate(684.74125 38.476562)scale(0.1 -0.1)\">\r\n      <use xlink:href=\"#DejaVuSans-30\"/>\r\n     </g>\r\n    </g>\r\n    <g id=\"PathCollection_13\">\r\n     <defs>\r\n      <path d=\"M 0 3 \r\nC 0.795609 3 1.55874 2.683901 2.12132 2.12132 \r\nC 2.683901 1.55874 3 0.795609 3 0 \r\nC 3 -0.795609 2.683901 -1.55874 2.12132 -2.12132 \r\nC 1.55874 -2.683901 0.795609 -3 0 -3 \r\nC -0.795609 -3 -1.55874 -2.683901 -2.12132 -2.12132 \r\nC -2.683901 -1.55874 -3 -0.795609 -3 0 \r\nC -3 0.795609 -2.683901 1.55874 -2.12132 2.12132 \r\nC -1.55874 2.683901 -0.795609 3 0 3 \r\nz\r\n\" id=\"m3b9ab260f3\" style=\"stroke:#fc8d62;\"/>\r\n     </defs>\r\n     <g>\r\n      <use style=\"fill:#fc8d62;stroke:#fc8d62;\" x=\"666.74125\" xlink:href=\"#m3b9ab260f3\" y=\"50.529687\"/>\r\n     </g>\r\n    </g>\r\n    <g id=\"text_18\">\r\n     <!-- 1 -->\r\n     <g transform=\"translate(684.74125 53.154687)scale(0.1 -0.1)\">\r\n      <use xlink:href=\"#DejaVuSans-31\"/>\r\n     </g>\r\n    </g>\r\n    <g id=\"PathCollection_14\">\r\n     <defs>\r\n      <path d=\"M 0 3 \r\nC 0.795609 3 1.55874 2.683901 2.12132 2.12132 \r\nC 2.683901 1.55874 3 0.795609 3 0 \r\nC 3 -0.795609 2.683901 -1.55874 2.12132 -2.12132 \r\nC 1.55874 -2.683901 0.795609 -3 0 -3 \r\nC -0.795609 -3 -1.55874 -2.683901 -2.12132 -2.12132 \r\nC -2.683901 -1.55874 -3 -0.795609 -3 0 \r\nC -3 0.795609 -2.683901 1.55874 -2.12132 2.12132 \r\nC -1.55874 2.683901 -0.795609 3 0 3 \r\nz\r\n\" id=\"mef21648ed0\" style=\"stroke:#8da0cb;\"/>\r\n     </defs>\r\n     <g>\r\n      <use style=\"fill:#8da0cb;stroke:#8da0cb;\" x=\"666.74125\" xlink:href=\"#mef21648ed0\" y=\"65.207812\"/>\r\n     </g>\r\n    </g>\r\n    <g id=\"text_19\">\r\n     <!-- 2 -->\r\n     <g transform=\"translate(684.74125 67.832812)scale(0.1 -0.1)\">\r\n      <use xlink:href=\"#DejaVuSans-32\"/>\r\n     </g>\r\n    </g>\r\n    <g id=\"PathCollection_15\">\r\n     <defs>\r\n      <path d=\"M 0 3 \r\nC 0.795609 3 1.55874 2.683901 2.12132 2.12132 \r\nC 2.683901 1.55874 3 0.795609 3 0 \r\nC 3 -0.795609 2.683901 -1.55874 2.12132 -2.12132 \r\nC 1.55874 -2.683901 0.795609 -3 0 -3 \r\nC -0.795609 -3 -1.55874 -2.683901 -2.12132 -2.12132 \r\nC -2.683901 -1.55874 -3 -0.795609 -3 0 \r\nC -3 0.795609 -2.683901 1.55874 -2.12132 2.12132 \r\nC -1.55874 2.683901 -0.795609 3 0 3 \r\nz\r\n\" id=\"m7c2555b820\" style=\"stroke:#e78ac3;\"/>\r\n     </defs>\r\n     <g>\r\n      <use style=\"fill:#e78ac3;stroke:#e78ac3;\" x=\"666.74125\" xlink:href=\"#m7c2555b820\" y=\"79.885937\"/>\r\n     </g>\r\n    </g>\r\n    <g id=\"text_20\">\r\n     <!-- 3 -->\r\n     <g transform=\"translate(684.74125 82.510937)scale(0.1 -0.1)\">\r\n      <use xlink:href=\"#DejaVuSans-33\"/>\r\n     </g>\r\n    </g>\r\n    <g id=\"PathCollection_16\">\r\n     <defs>\r\n      <path d=\"M 0 3 \r\nC 0.795609 3 1.55874 2.683901 2.12132 2.12132 \r\nC 2.683901 1.55874 3 0.795609 3 0 \r\nC 3 -0.795609 2.683901 -1.55874 2.12132 -2.12132 \r\nC 1.55874 -2.683901 0.795609 -3 0 -3 \r\nC -0.795609 -3 -1.55874 -2.683901 -2.12132 -2.12132 \r\nC -2.683901 -1.55874 -3 -0.795609 -3 0 \r\nC -3 0.795609 -2.683901 1.55874 -2.12132 2.12132 \r\nC -1.55874 2.683901 -0.795609 3 0 3 \r\nz\r\n\" id=\"mb5f26fd66b\" style=\"stroke:#a6d854;\"/>\r\n     </defs>\r\n     <g>\r\n      <use style=\"fill:#a6d854;stroke:#a6d854;\" x=\"666.74125\" xlink:href=\"#mb5f26fd66b\" y=\"94.564062\"/>\r\n     </g>\r\n    </g>\r\n    <g id=\"text_21\">\r\n     <!-- 4 -->\r\n     <g transform=\"translate(684.74125 97.189062)scale(0.1 -0.1)\">\r\n      <use xlink:href=\"#DejaVuSans-34\"/>\r\n     </g>\r\n    </g>\r\n    <g id=\"PathCollection_17\">\r\n     <defs>\r\n      <path d=\"M 0 3 \r\nC 0.795609 3 1.55874 2.683901 2.12132 2.12132 \r\nC 2.683901 1.55874 3 0.795609 3 0 \r\nC 3 -0.795609 2.683901 -1.55874 2.12132 -2.12132 \r\nC 1.55874 -2.683901 0.795609 -3 0 -3 \r\nC -0.795609 -3 -1.55874 -2.683901 -2.12132 -2.12132 \r\nC -2.683901 -1.55874 -3 -0.795609 -3 0 \r\nC -3 0.795609 -2.683901 1.55874 -2.12132 2.12132 \r\nC -1.55874 2.683901 -0.795609 3 0 3 \r\nz\r\n\" id=\"m291be30059\" style=\"stroke:#ffd92f;\"/>\r\n     </defs>\r\n     <g>\r\n      <use style=\"fill:#ffd92f;stroke:#ffd92f;\" x=\"666.74125\" xlink:href=\"#m291be30059\" y=\"109.242187\"/>\r\n     </g>\r\n    </g>\r\n    <g id=\"text_22\">\r\n     <!-- 5 -->\r\n     <g transform=\"translate(684.74125 111.867187)scale(0.1 -0.1)\">\r\n      <defs>\r\n       <path d=\"M 691 4666 \r\nL 3169 4666 \r\nL 3169 4134 \r\nL 1269 4134 \r\nL 1269 2991 \r\nQ 1406 3038 1543 3061 \r\nQ 1681 3084 1819 3084 \r\nQ 2600 3084 3056 2656 \r\nQ 3513 2228 3513 1497 \r\nQ 3513 744 3044 326 \r\nQ 2575 -91 1722 -91 \r\nQ 1428 -91 1123 -41 \r\nQ 819 9 494 109 \r\nL 494 744 \r\nQ 775 591 1075 516 \r\nQ 1375 441 1709 441 \r\nQ 2250 441 2565 725 \r\nQ 2881 1009 2881 1497 \r\nQ 2881 1984 2565 2268 \r\nQ 2250 2553 1709 2553 \r\nQ 1456 2553 1204 2497 \r\nQ 953 2441 691 2322 \r\nL 691 4666 \r\nz\r\n\" id=\"DejaVuSans-35\" transform=\"scale(0.015625)\"/>\r\n      </defs>\r\n      <use xlink:href=\"#DejaVuSans-35\"/>\r\n     </g>\r\n    </g>\r\n    <g id=\"PathCollection_18\">\r\n     <defs>\r\n      <path d=\"M 0 3 \r\nC 0.795609 3 1.55874 2.683901 2.12132 2.12132 \r\nC 2.683901 1.55874 3 0.795609 3 0 \r\nC 3 -0.795609 2.683901 -1.55874 2.12132 -2.12132 \r\nC 1.55874 -2.683901 0.795609 -3 0 -3 \r\nC -0.795609 -3 -1.55874 -2.683901 -2.12132 -2.12132 \r\nC -2.683901 -1.55874 -3 -0.795609 -3 0 \r\nC -3 0.795609 -2.683901 1.55874 -2.12132 2.12132 \r\nC -1.55874 2.683901 -0.795609 3 0 3 \r\nz\r\n\" id=\"m1ae242ea44\" style=\"stroke:#e5c494;\"/>\r\n     </defs>\r\n     <g>\r\n      <use style=\"fill:#e5c494;stroke:#e5c494;\" x=\"666.74125\" xlink:href=\"#m1ae242ea44\" y=\"123.920312\"/>\r\n     </g>\r\n    </g>\r\n    <g id=\"text_23\">\r\n     <!-- 6 -->\r\n     <g transform=\"translate(684.74125 126.545312)scale(0.1 -0.1)\">\r\n      <use xlink:href=\"#DejaVuSans-36\"/>\r\n     </g>\r\n    </g>\r\n    <g id=\"PathCollection_19\">\r\n     <defs>\r\n      <path d=\"M 0 3 \r\nC 0.795609 3 1.55874 2.683901 2.12132 2.12132 \r\nC 2.683901 1.55874 3 0.795609 3 0 \r\nC 3 -0.795609 2.683901 -1.55874 2.12132 -2.12132 \r\nC 1.55874 -2.683901 0.795609 -3 0 -3 \r\nC -0.795609 -3 -1.55874 -2.683901 -2.12132 -2.12132 \r\nC -2.683901 -1.55874 -3 -0.795609 -3 0 \r\nC -3 0.795609 -2.683901 1.55874 -2.12132 2.12132 \r\nC -1.55874 2.683901 -0.795609 3 0 3 \r\nz\r\n\" id=\"me2232dbfd6\" style=\"stroke:#b3b3b3;\"/>\r\n     </defs>\r\n     <g>\r\n      <use style=\"fill:#b3b3b3;stroke:#b3b3b3;\" x=\"666.74125\" xlink:href=\"#me2232dbfd6\" y=\"138.598437\"/>\r\n     </g>\r\n    </g>\r\n    <g id=\"text_24\">\r\n     <!-- 7 -->\r\n     <g transform=\"translate(684.74125 141.223437)scale(0.1 -0.1)\">\r\n      <defs>\r\n       <path d=\"M 525 4666 \r\nL 3525 4666 \r\nL 3525 4397 \r\nL 1831 0 \r\nL 1172 0 \r\nL 2766 4134 \r\nL 525 4134 \r\nL 525 4666 \r\nz\r\n\" id=\"DejaVuSans-37\" transform=\"scale(0.015625)\"/>\r\n      </defs>\r\n      <use xlink:href=\"#DejaVuSans-37\"/>\r\n     </g>\r\n    </g>\r\n    <g id=\"PathCollection_20\">\r\n     <g>\r\n      <use style=\"fill:#66c2a5;stroke:#66c2a5;\" x=\"666.74125\" xlink:href=\"#m67f6442833\" y=\"153.276562\"/>\r\n     </g>\r\n    </g>\r\n    <g id=\"text_25\">\r\n     <!-- 8 -->\r\n     <g transform=\"translate(684.74125 155.901562)scale(0.1 -0.1)\">\r\n      <use xlink:href=\"#DejaVuSans-38\"/>\r\n     </g>\r\n    </g>\r\n    <g id=\"PathCollection_21\">\r\n     <g>\r\n      <use style=\"fill:#fc8d62;stroke:#fc8d62;\" x=\"666.74125\" xlink:href=\"#m3b9ab260f3\" y=\"167.954687\"/>\r\n     </g>\r\n    </g>\r\n    <g id=\"text_26\">\r\n     <!-- 9 -->\r\n     <g transform=\"translate(684.74125 170.579687)scale(0.1 -0.1)\">\r\n      <defs>\r\n       <path d=\"M 703 97 \r\nL 703 672 \r\nQ 941 559 1184 500 \r\nQ 1428 441 1663 441 \r\nQ 2288 441 2617 861 \r\nQ 2947 1281 2994 2138 \r\nQ 2813 1869 2534 1725 \r\nQ 2256 1581 1919 1581 \r\nQ 1219 1581 811 2004 \r\nQ 403 2428 403 3163 \r\nQ 403 3881 828 4315 \r\nQ 1253 4750 1959 4750 \r\nQ 2769 4750 3195 4129 \r\nQ 3622 3509 3622 2328 \r\nQ 3622 1225 3098 567 \r\nQ 2575 -91 1691 -91 \r\nQ 1453 -91 1209 -44 \r\nQ 966 3 703 97 \r\nz\r\nM 1959 2075 \r\nQ 2384 2075 2632 2365 \r\nQ 2881 2656 2881 3163 \r\nQ 2881 3666 2632 3958 \r\nQ 2384 4250 1959 4250 \r\nQ 1534 4250 1286 3958 \r\nQ 1038 3666 1038 3163 \r\nQ 1038 2656 1286 2365 \r\nQ 1534 2075 1959 2075 \r\nz\r\n\" id=\"DejaVuSans-39\" transform=\"scale(0.015625)\"/>\r\n      </defs>\r\n      <use xlink:href=\"#DejaVuSans-39\"/>\r\n     </g>\r\n    </g>\r\n   </g>\r\n  </g>\r\n </g>\r\n <defs>\r\n  <clipPath id=\"pd145cd8170\">\r\n   <rect height=\"449.5572\" width=\"652.86\" x=\"47.24375\" y=\"7.2\"/>\r\n  </clipPath>\r\n </defs>\r\n</svg>\r\n",
      "image/png": "[encoded data removed]"
     },
     "metadata": {
      "needs_background": "light"
     }
    }
   ],
   "source": [
    "import seaborn as sns\n",
    "import matplotlib.pyplot as plt\n",
    "\n",
    "a4_dims = (11.7, 8.27)\n",
    "\n",
    "fig, ax = plt.subplots(figsize=a4_dims)\n",
    "\n",
    "sns.scatterplot(ax=ax,x='rate', y='trade_price', hue='tier', data=df_tier, palette=\"Set2\")"
   ]
  },
  {
   "cell_type": "code",
   "execution_count": 57,
   "metadata": {},
   "outputs": [],
   "source": [
    "from IPython.core.display import display, HTML\n",
    "from copy import deepcopy\n",
    "\n",
    "def makeTierMark(x):\n",
    "    return '<img src= ' + './image/icon-champtier-'+str(x)+'.png' + ' width=22 height=24>'\n",
    "\n",
    "def makeHTML(feature_df) :    \n",
    "    feature_df = deepcopy(feature_df)\n",
    "    feature_df=feature_df.astype(str)\n",
    "    #feature_df['img'] = 'https://ssl.pstatic.net/imgfinance/chart/mobile/candle/day/'+feature_df['단축코드']+'_end.png'\n",
    "    #feature_df['img'] = '<img src = \\'' + feature_df['img'] + '\\' weight=300 height=200>'\n",
    "    \n",
    "    feature_df['티어'] =feature_df['티어'].map(lambda x : makeTierMark(x))\n",
    "\n",
    "    for index,column in enumerate(feature_df.columns):\n",
    "        feature_df[column] = 'col'+str(index+1)+feature_df[column]\n",
    "    \n",
    "    feature_df.columns = ['1 코인','2 상승률','3 거래액(억)','4 티어']\n",
    "\n",
    "    f=open('./fixed-column-table/Table_Fixed_Column/header.txt', 'r')\n",
    "    header = f.read()\n",
    "\n",
    "    f=open('./fixed-column-table/Table_Fixed_Column/js.txt', 'r')\n",
    "    js = f.read()\n",
    "\n",
    "    df_html = feature_df.to_html(escape=False)\n",
    "\n",
    "    df_html = header + df_html + js\n",
    "\n",
    "    return df_html"
   ]
  },
  {
   "cell_type": "code",
   "execution_count": 58,
   "metadata": {},
   "outputs": [],
   "source": [
    "df_tier = df_tier.drop('tier_val',axis=1)\n",
    "df_tier = df_tier.reset_index()"
   ]
  },
  {
   "cell_type": "code",
   "execution_count": 59,
   "metadata": {},
   "outputs": [
    {
     "output_type": "execute_result",
     "data": {
      "text/plain": [
       "<IPython.core.display.HTML object>"
      ],
      "text/html": "<!DOCTYPE html>\n<html lang=\"en\">\n<head>\n\t<title>Table V05</title>\n\t<meta charset=\"UTF-8\">\n\t<meta name=\"viewport\" content=\"width=device-width, initial-scale=1\">\n<!--===============================================================================================-->\t\n\t<link rel=\"icon\" type=\"image/png\" href=\"images/icons/favicon.ico\"/>\n<!--===============================================================================================-->\n\t<link rel=\"stylesheet\" type=\"text/css\" href=\"vendor/bootstrap/css/bootstrap.min.css\">\n<!--===============================================================================================-->\n\t<link rel=\"stylesheet\" type=\"text/css\" href=\"fonts/font-awesome-4.7.0/css/font-awesome.min.css\">\n<!--===============================================================================================-->\n\t<link rel=\"stylesheet\" type=\"text/css\" href=\"vendor/animate/animate.css\">\n<!--===============================================================================================-->\n\t<link rel=\"stylesheet\" type=\"text/css\" href=\"vendor/select2/select2.min.css\">\n<!--===============================================================================================-->\n\t<link rel=\"stylesheet\" type=\"text/css\" href=\"vendor/perfect-scrollbar/perfect-scrollbar.css\">\n<!--===============================================================================================-->\n\t<link rel=\"stylesheet\" type=\"text/css\" href=\"css/util.css\">\n\t<link rel=\"stylesheet\" type=\"text/css\" href=\"css/main.css\">\n<!--===============================================================================================-->\n</head>\n\n<body>\n\t<div class=\"container-table100\">\n\t\t<div class=\"wrap-table100\">\n\t\t\t<div class=\"table100 ver1\">\n\t\t\t\t<div class=\"wrap-table100-nextcols js-pscroll\">\n\t\t\t\t\t<div class=\"table100-nextcols\"><table>\n  <thead>\n    <tr class=\"row100 body\" style=\"text-align: right;\">\n      <th></th>\n      <th class=\"cell100 column1\">코인</th>\n      <th class=\"cell100 column2\">상승률</th>\n      <th class=\"cell100 column3\">거래액(억)</th>\n      <th class=\"cell100 column4\">티어</th>\n    </tr>\n  </thead>\n  <tbody>\n    <tr class=\"row100 body\">\n      <th>0</th>\n      <td class=\"cell100 column1\">KRW-SXP</td>\n      <td class=\"cell100 column2\">16.3</td>\n      <td class=\"cell100 column3\">3.82</td>\n      <td class=\"cell100 column4\"><img src= ./image/icon-champtier-0.png width=22 height=24></td>\n    </tr>\n    <tr class=\"row100 body\">\n      <th>1</th>\n      <td class=\"cell100 column1\">KRW-WAVES</td>\n      <td class=\"cell100 column2\">8.44</td>\n      <td class=\"cell100 column3\">6.53</td>\n      <td class=\"cell100 column4\"><img src= ./image/icon-champtier-1.png width=22 height=24></td>\n    </tr>\n    <tr class=\"row100 body\">\n      <th>2</th>\n      <td class=\"cell100 column1\">KRW-TFUEL</td>\n      <td class=\"cell100 column2\">4.0</td>\n      <td class=\"cell100 column3\">48.15</td>\n      <td class=\"cell100 column4\"><img src= ./image/icon-champtier-1.png width=22 height=24></td>\n    </tr>\n    <tr class=\"row100 body\">\n      <th>3</th>\n      <td class=\"cell100 column1\">KRW-RFR</td>\n      <td class=\"cell100 column2\">4.41</td>\n      <td class=\"cell100 column3\">3.69</td>\n      <td class=\"cell100 column4\"><img src= ./image/icon-champtier-1.png width=22 height=24></td>\n    </tr>\n    <tr class=\"row100 body\">\n      <th>4</th>\n      <td class=\"cell100 column1\">KRW-BTC</td>\n      <td class=\"cell100 column2\">-8.05</td>\n      <td class=\"cell100 column3\">125.01</td>\n      <td class=\"cell100 column4\"><img src= ./image/icon-champtier-1.png width=22 height=24></td>\n    </tr>\n    <tr class=\"row100 body\">\n      <th>5</th>\n      <td class=\"cell100 column1\">KRW-UPP</td>\n      <td class=\"cell100 column2\">-7.25</td>\n      <td class=\"cell100 column3\">7.66</td>\n      <td class=\"cell100 column4\"><img src= ./image/icon-champtier-2.png width=22 height=24></td>\n    </tr>\n    <tr class=\"row100 body\">\n      <th>6</th>\n      <td class=\"cell100 column1\">KRW-AXS</td>\n      <td class=\"cell100 column2\">-4.25</td>\n      <td class=\"cell100 column3\">1.77</td>\n      <td class=\"cell100 column4\"><img src= ./image/icon-champtier-2.png width=22 height=24></td>\n    </tr>\n    <tr class=\"row100 body\">\n      <th>7</th>\n      <td class=\"cell100 column1\">KRW-KAVA</td>\n      <td class=\"cell100 column2\">-5.53</td>\n      <td class=\"cell100 column3\">1.89</td>\n      <td class=\"cell100 column4\"><img src= ./image/icon-champtier-2.png width=22 height=24></td>\n    </tr>\n    <tr class=\"row100 body\">\n      <th>8</th>\n      <td class=\"cell100 column1\">KRW-MVL</td>\n      <td class=\"cell100 column2\">-1.92</td>\n      <td class=\"cell100 column3\">9.6</td>\n      <td class=\"cell100 column4\"><img src= ./image/icon-champtier-2.png width=22 height=24></td>\n    </tr>\n    <tr class=\"row100 body\">\n      <th>9</th>\n      <td class=\"cell100 column1\">KRW-HBAR</td>\n      <td class=\"cell100 column2\">-4.17</td>\n      <td class=\"cell100 column3\">1.41</td>\n      <td class=\"cell100 column4\"><img src= ./image/icon-champtier-2.png width=22 height=24></td>\n    </tr>\n    <tr class=\"row100 body\">\n      <th>10</th>\n      <td class=\"cell100 column1\">KRW-GLM</td>\n      <td class=\"cell100 column2\">-10.62</td>\n      <td class=\"cell100 column3\">0.36</td>\n      <td class=\"cell100 column4\"><img src= ./image/icon-champtier-3.png width=22 height=24></td>\n    </tr>\n    <tr class=\"row100 body\">\n      <th>11</th>\n      <td class=\"cell100 column1\">KRW-SRM</td>\n      <td class=\"cell100 column2\">-12.85</td>\n      <td class=\"cell100 column3\">1.02</td>\n      <td class=\"cell100 column4\"><img src= ./image/icon-champtier-3.png width=22 height=24></td>\n    </tr>\n    <tr class=\"row100 body\">\n      <th>12</th>\n      <td class=\"cell100 column1\">KRW-ATOM</td>\n      <td class=\"cell100 column2\">-12.48</td>\n      <td class=\"cell100 column3\">0.91</td>\n      <td class=\"cell100 column4\"><img src= ./image/icon-champtier-3.png width=22 height=24></td>\n    </tr>\n    <tr class=\"row100 body\">\n      <th>13</th>\n      <td class=\"cell100 column1\">KRW-TRX</td>\n      <td class=\"cell100 column2\">-12.26</td>\n      <td class=\"cell100 column3\">3.03</td>\n      <td class=\"cell100 column4\"><img src= ./image/icon-champtier-3.png width=22 height=24></td>\n    </tr>\n    <tr class=\"row100 body\">\n      <th>14</th>\n      <td class=\"cell100 column1\">KRW-XTZ</td>\n      <td class=\"cell100 column2\">-11.92</td>\n      <td class=\"cell100 column3\">1.51</td>\n      <td class=\"cell100 column4\"><img src= ./image/icon-champtier-3.png width=22 height=24></td>\n    </tr>\n    <tr class=\"row100 body\">\n      <th>15</th>\n      <td class=\"cell100 column1\">KRW-ZIL</td>\n      <td class=\"cell100 column2\">-11.4</td>\n      <td class=\"cell100 column3\">1.54</td>\n      <td class=\"cell100 column4\"><img src= ./image/icon-champtier-3.png width=22 height=24></td>\n    </tr>\n    <tr class=\"row100 body\">\n      <th>16</th>\n      <td class=\"cell100 column1\">KRW-LINK</td>\n      <td class=\"cell100 column2\">-11.38</td>\n      <td class=\"cell100 column3\">7.2</td>\n      <td class=\"cell100 column4\"><img src= ./image/icon-champtier-3.png width=22 height=24></td>\n    </tr>\n    <tr class=\"row100 body\">\n      <th>17</th>\n      <td class=\"cell100 column1\">KRW-XRP</td>\n      <td class=\"cell100 column2\">-18.78</td>\n      <td class=\"cell100 column3\">82.22</td>\n      <td class=\"cell100 column4\"><img src= ./image/icon-champtier-3.png width=22 height=24></td>\n    </tr>\n    <tr class=\"row100 body\">\n      <th>18</th>\n      <td class=\"cell100 column1\">KRW-ENJ</td>\n      <td class=\"cell100 column2\">-13.06</td>\n      <td class=\"cell100 column3\">2.72</td>\n      <td class=\"cell100 column4\"><img src= ./image/icon-champtier-3.png width=22 height=24></td>\n    </tr>\n    <tr class=\"row100 body\">\n      <th>19</th>\n      <td class=\"cell100 column1\">KRW-WAXP</td>\n      <td class=\"cell100 column2\">-10.37</td>\n      <td class=\"cell100 column3\">0.68</td>\n      <td class=\"cell100 column4\"><img src= ./image/icon-champtier-3.png width=22 height=24></td>\n    </tr>\n  </tbody>\n</table></div>\n</div>\n</div>\n</div>\n</div>\n<!--===============================================================================================-->\t\n\t<script src=\"vendor/jquery/jquery-3.2.1.min.js\"></script>\n<!--===============================================================================================-->\n\t<script src=\"vendor/bootstrap/js/popper.js\"></script>\n\t<script src=\"vendor/bootstrap/js/bootstrap.min.js\"></script>\n<!--===============================================================================================-->\n\t<script src=\"vendor/select2/select2.min.js\"></script>\n<!--===============================================================================================-->\n\t<script src=\"vendor/perfect-scrollbar/perfect-scrollbar.min.js\"></script>\n\t<script>\n\t\t$('.js-pscroll').each(function(){\n\t\t\tvar ps = new PerfectScrollbar(this);\n\n\t\t\t$(window).on('resize', function(){\n\t\t\t\tps.update();\n\t\t\t})\n\n\t\t\t$(this).on('ps-x-reach-start', function(){\n\t\t\t\t$(this).parent().find('.table100-firstcol').removeClass('shadow-table100-firstcol');\n\t\t\t});\n\n\t\t\t$(this).on('ps-scroll-x', function(){\n\t\t\t\t$(this).parent().find('.table100-firstcol').addClass('shadow-table100-firstcol');\n\t\t\t});\n\n\t\t});\n\n\t\t\n\t\t\n\t\t\n\t</script>\n<!--===============================================================================================-->\n\t<script src=\"js/main.js\"></script>\n\n</body>\n</html>"
     },
     "metadata": {},
     "execution_count": 59
    }
   ],
   "source": [
    "df_tier['rate'] = df_tier['rate'].map(lambda x : round(x,2))\n",
    "df_tier['trade_price'] = df_tier['trade_price'].map(lambda x : round(x,2))\n",
    "df_tier.columns = ['코인','상승률','거래액(억)','티어']\n",
    "html = makeHTML(df_tier[:20])\n",
    "html = html.replace('<table border=\\\"1\\\" class=\\\"dataframe\\\">','<table>')\n",
    "html=html.replace('<tr','<tr class=\\\"row100 body\\\"')\n",
    "\n",
    "for index,column in enumerate(df_tier.columns):\n",
    "    html=html.replace('<td>col'+str(index+1),'<td class=\\\"cell100 column'+str(index+1)+'\\\">')\n",
    "    html=html.replace('<th>'+str(index+1)+' ','<th class=\\\"cell100 column'+str(index+1)+'\\\">')\n",
    "HTML(html)"
   ]
  },
  {
   "cell_type": "code",
   "execution_count": 60,
   "metadata": {},
   "outputs": [],
   "source": [
    "with open('./fixed-column-table/Table_Fixed_Column/html_file.html', 'w',encoding='utf-8') as f:\n",
    "    f.write(html)"
   ]
  }
 ]
}