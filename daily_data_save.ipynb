{
 "cells": [
  {
   "cell_type": "code",
   "execution_count": 8,
   "source": [
    "import json\n",
    "import pandas as pd\n",
    "import datetime\n",
    "\n",
    "with open('./tier_data/coin_tier.json', 'r') as f:\n",
    "        json_data = json.load(f)\n",
    "df = pd.DataFrame(json_data)\n",
    "df['date'] = str(datetime.datetime.today()).split()[0]\n",
    "df.to_csv('tier_data/dataframe/all.csv',mode='a',index=False)\n",
    "df"
   ],
   "outputs": [
    {
     "output_type": "execute_result",
     "data": {
      "text/plain": [
       "{'name': '엑시인피니티',\n",
       " 'alias': 'AXS',\n",
       " 'rise': 184.5747490755,\n",
       " 'volume': 366.2394335792,\n",
       " 'rank': 1,\n",
       " 'tier': 0}"
      ]
     },
     "metadata": {},
     "execution_count": 8
    }
   ],
   "metadata": {}
  }
 ],
 "metadata": {
  "orig_nbformat": 4,
  "language_info": {
   "name": "python",
   "version": "3.8.10",
   "mimetype": "text/x-python",
   "codemirror_mode": {
    "name": "ipython",
    "version": 3
   },
   "pygments_lexer": "ipython3",
   "nbconvert_exporter": "python",
   "file_extension": ".py"
  },
  "kernelspec": {
   "name": "python3",
   "display_name": "Python 3.8.10 64-bit ('tf24': conda)"
  },
  "interpreter": {
   "hash": "adae63af879de78e2281cafeec5929a759c067eb7ff65c363b66913ad52ce946"
  }
 },
 "nbformat": 4,
 "nbformat_minor": 2
}